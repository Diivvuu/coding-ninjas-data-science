{
 "cells": [
  {
   "cell_type": "code",
   "execution_count": 1,
   "id": "95092fe8",
   "metadata": {},
   "outputs": [],
   "source": [
    "from selenium import webdriver\n",
    "from datetime import datetime, timedelta\n",
    "from selenium.webdriver.common.by import By as by\n",
    "from selenium.webdriver.support import expected_conditions as EC\n",
    "from selenium.webdriver.support.ui import WebDriverWait\n",
    "from bs4 import BeautifulSoup as bs\n",
    "import matplotlib.pyplot as plt\n",
    "import time\n",
    "import seaborn as sns\n",
    "import pandas as pd\n",
    "import numpy as np"
   ]
  },
  {
   "cell_type": "code",
   "execution_count": 329,
   "id": "4718bd8e",
   "metadata": {},
   "outputs": [
    {
     "name": "stderr",
     "output_type": "stream",
     "text": [
      "C:\\Users\\smart\\AppData\\Local\\Temp/ipykernel_12104/2497200348.py:1: DeprecationWarning:\n",
      "\n",
      "executable_path has been deprecated, please pass in a Service object\n",
      "\n"
     ]
    }
   ],
   "source": [
    "driver = webdriver.Edge(executable_path=\"C:/Users/smart/Downloads/edgedriver_win64/msedgedriver.exe\")\n",
    "driver.get('https://www.instagram.com/accounts/login/')"
   ]
  },
  {
   "cell_type": "code",
   "execution_count": 330,
   "id": "44a5d6b6",
   "metadata": {},
   "outputs": [],
   "source": [
    "driver.maximize_window()\n",
    "wait = WebDriverWait(driver, 15)"
   ]
  },
  {
   "cell_type": "markdown",
   "id": "3275b283",
   "metadata": {},
   "source": [
    "##### Login function"
   ]
  },
  {
   "cell_type": "code",
   "execution_count": 4,
   "id": "5a709efb",
   "metadata": {},
   "outputs": [],
   "source": [
    "def LoginInstagram(username, password):\n",
    "#     try:\n",
    "        # It waits until condition becomes true in given 8 sec if page takes more than time to load it's thrown error\n",
    "        wait.until(EC.presence_of_element_located((by.NAME, 'username'))).send_keys(username)\n",
    "        # It waits until condition becomes true in given 8 sec if page takes more than time to load it's thrown error\n",
    "        wait.until(EC.presence_of_element_located((by.NAME, 'password'))).send_keys(password)\n",
    "        wait.until(EC.element_to_be_clickable((by.TAG_NAME, 'button'))).submit()\n",
    "        \n",
    "        # logging is taking time so that's why here give sleep time\n",
    "        time.sleep(6)\n",
    "        driver.find_element(by.CLASS_NAME, '_acan._acao._acas').click()\n",
    "        print('Logged In SuccessFully')\n",
    "#     except Exception:\n",
    "#         print('error')\n",
    "        "
   ]
  },
  {
   "cell_type": "code",
   "execution_count": 5,
   "id": "e109be50",
   "metadata": {},
   "outputs": [],
   "source": [
    "username = 'testAccountselenium'\n",
    "password = 'selenium123'"
   ]
  },
  {
   "cell_type": "code",
   "execution_count": 332,
   "id": "c3a2022b",
   "metadata": {},
   "outputs": [
    {
     "name": "stdout",
     "output_type": "stream",
     "text": [
      "Logged In SuccessFully\n"
     ]
    }
   ],
   "source": [
    "LoginInstagram(username, password)"
   ]
  },
  {
   "cell_type": "markdown",
   "id": "4f714655",
   "metadata": {},
   "source": [
    "#### search and open from previous project"
   ]
  },
  {
   "cell_type": "code",
   "execution_count": 10,
   "id": "b081e8b2",
   "metadata": {},
   "outputs": [],
   "source": [
    "def search_and_open(username):\n",
    "    try:\n",
    "        driver.find_element(by.LINK_TEXT, 'Search').click() #search button\n",
    "        wait.until(EC.presence_of_element_located((by.CLASS_NAME, '_aauy'))).send_keys(username) #search text enter\n",
    "        time.sleep(2)\n",
    "        wait.until(EC.presence_of_element_located((by.CLASS_NAME, '_abm4'))).click()\n",
    "        print(\"Opened Profile: \", username)\n",
    "    except Exception:\n",
    "        print(\"Something Went Wrong Try Again!\")"
   ]
  },
  {
   "cell_type": "code",
   "execution_count": 22,
   "id": "6cff0ca8",
   "metadata": {},
   "outputs": [
    {
     "name": "stdout",
     "output_type": "stream",
     "text": [
      "Opened Profile:  food\n"
     ]
    }
   ],
   "source": [
    "search_and_open('food')"
   ]
  },
  {
   "cell_type": "markdown",
   "id": "f5797f5e",
   "metadata": {},
   "source": [
    "#### search_getList from previous project"
   ]
  },
  {
   "cell_type": "code",
   "execution_count": 9,
   "id": "f5e776d3",
   "metadata": {},
   "outputs": [],
   "source": [
    "def search_getList(text): # it take text as input to search\n",
    "    try:\n",
    "        driver.find_element(by.LINK_TEXT, 'Search').click() #search button\n",
    "        driver.find_element(by.CLASS_NAME, '_aauy').send_keys(text) #search text enter\n",
    "\n",
    "        find_all = driver.find_element(by.CLASS_NAME, 'xhtitgo.xh8yej3.x1n2onr6.x5yr21d.xdt5ytf.x78zum5.x1wzhzgj.x6s0dn4') # retreive whole class of the profiles what we searched\n",
    "        time.sleep(8) #sleep for 8 seconds\n",
    "        profiles = []\n",
    "        data = bs(find_all.get_attribute('outerHTML'), 'html.parser') # loading into beautiful soup\n",
    "        a = data.find_all('a')[:10]\n",
    "        for i in a:\n",
    "            # checking the any hastags or location\n",
    "            if 'tags' in i['href'].strip('/').split('/') or 'locations' in i['href'].strip('/').split('/'):\n",
    "                continue\n",
    "            else:\n",
    "                # it will print only usernames\n",
    "                profiles.append(i['href'].strip('/'))\n",
    "        time.sleep(3)\n",
    "        driver.find_element(by.CLASS_NAME, 'x1n2onr6.x6s0dn4.x78zum5').click()\n",
    "        return profiles\n",
    "    except KeyboardInterrupt:\n",
    "        print(\"You Have Stopped..\")\n",
    "    except Exception:\n",
    "        print(\"Something Went Wrong!\")"
   ]
  },
  {
   "cell_type": "markdown",
   "id": "6330ebdd",
   "metadata": {},
   "source": [
    "#### 1.Now your friend has followed a lot of different food bloggers, he needs to analyse the habits of these bloggers."
   ]
  },
  {
   "cell_type": "code",
   "execution_count": 10,
   "id": "6faf0028",
   "metadata": {},
   "outputs": [],
   "source": [
    "list_food = search_getList('food') # extractiong top 10 from search list"
   ]
  },
  {
   "cell_type": "code",
   "execution_count": 11,
   "id": "3bb16214",
   "metadata": {},
   "outputs": [
    {
     "data": {
      "text/plain": [
       "['_foodovereverything',\n",
       " 'foodmonksofficial',\n",
       " 'foodies_ikkada',\n",
       " 'foodvineshyd',\n",
       " 'nom.nom.foodie',\n",
       " 'street_foods_hyderabad',\n",
       " 'food',\n",
       " 'foodies_in_hyderabad',\n",
       " 'maayabazar_food',\n",
       " 'foodtalkindia']"
      ]
     },
     "execution_count": 11,
     "metadata": {},
     "output_type": "execute_result"
    }
   ],
   "source": [
    "list_food # food blog names list"
   ]
  },
  {
   "cell_type": "markdown",
   "id": "7656bd57",
   "metadata": {},
   "source": [
    "#### finding the followers "
   ]
  },
  {
   "cell_type": "code",
   "execution_count": 327,
   "id": "48c5b1ff",
   "metadata": {},
   "outputs": [],
   "source": [
    "# finding the follower of the list\n",
    "def max_followers(list_food):\n",
    "    li = [] # it stores the followers\n",
    "    for i in list_food: # iterate all profiles\n",
    "        # it search and open profile\n",
    "        search_and_open(i)\n",
    "        time.sleep(3) # sleep to load the page\n",
    "        followers=driver.find_element(by.XPATH, '//*[@id=\"mount_0_0_pV\"]/div/div/div/div[1]/div/div/div/div[1]/div[2]/div[2]/section/main/div/header/section/ul/li[2]/a/div/span')\n",
    "        # printing the followers\n",
    "        print(followers.get_attribute('title'))\n",
    "        # appendting the followers into the list\n",
    "        li.append(followers.get_attribute('title'))\n",
    "        driver.back()\n",
    "        time.sleep(2)\n",
    "    return li # return the followers list"
   ]
  },
  {
   "cell_type": "code",
   "execution_count": 19,
   "id": "dc932d04",
   "metadata": {
    "scrolled": true
   },
   "outputs": [
    {
     "name": "stdout",
     "output_type": "stream",
     "text": [
      "Opened Profile:  _foodovereverything\n",
      "11,038\n",
      "Opened Profile:  foodmonksofficial\n",
      "4,409\n",
      "Opened Profile:  foodies_ikkada\n",
      "90,865\n",
      "Opened Profile:  foodvineshyd\n",
      "1,306\n",
      "Opened Profile:  nom.nom.foodie\n",
      "109,597\n",
      "Opened Profile:  street_foods_hyderabad\n",
      "1,130\n",
      "Opened Profile:  food\n",
      "11,144\n",
      "Opened Profile:  foodies_in_hyderabad\n",
      "11,144\n",
      "Opened Profile:  maayabazar_food\n",
      "38,831\n",
      "Opened Profile:  foodtalkindia\n",
      "308,802\n"
     ]
    }
   ],
   "source": [
    "followers = max_followers(list_food) # extracting followers list"
   ]
  },
  {
   "cell_type": "code",
   "execution_count": 20,
   "id": "e98deff6",
   "metadata": {
    "scrolled": true
   },
   "outputs": [
    {
     "data": {
      "text/plain": [
       "['11,038',\n",
       " '4,409',\n",
       " '90,865',\n",
       " '1,306',\n",
       " '109,597',\n",
       " '1,130',\n",
       " '11,144',\n",
       " '11,144',\n",
       " '38,831',\n",
       " '308,802']"
      ]
     },
     "execution_count": 20,
     "metadata": {},
     "output_type": "execute_result"
    }
   ],
   "source": [
    "li = followers.copy() # making copy to variable for future reference\n",
    "li"
   ]
  },
  {
   "cell_type": "markdown",
   "id": "465e0fd9",
   "metadata": {},
   "source": [
    "#### followers string to int converting function"
   ]
  },
  {
   "cell_type": "code",
   "execution_count": 21,
   "id": "01b0f1ef",
   "metadata": {},
   "outputs": [],
   "source": [
    "# the list returning the string with \",\" this function remove the , and convert into int\n",
    "def converttoINT(li):\n",
    "    followers = [] # follower in integers\n",
    "    for i in li:\n",
    "        f=''\n",
    "        li = i.split(',') # spliting bases on ','\n",
    "        f=li[0]+li[1] # concating the string \n",
    "        followers.append(int(f)) # converting into int\n",
    "    return followers # returning the list"
   ]
  },
  {
   "cell_type": "code",
   "execution_count": 22,
   "id": "a05285b7",
   "metadata": {},
   "outputs": [
    {
     "data": {
      "text/plain": [
       "[11038, 4409, 90865, 1306, 109597, 1130, 11144, 11144, 38831, 308802]"
      ]
     },
     "execution_count": 22,
     "metadata": {},
     "output_type": "execute_result"
    }
   ],
   "source": [
    "followers_int = converttoINT(li) \n",
    "followers_int #converted list"
   ]
  },
  {
   "cell_type": "code",
   "execution_count": 23,
   "id": "caaab263",
   "metadata": {},
   "outputs": [],
   "source": [
    "di = {'username':list_food, 'followers':followers_int} # converting into dictionary"
   ]
  },
  {
   "cell_type": "code",
   "execution_count": null,
   "id": "8e573d7d",
   "metadata": {},
   "outputs": [],
   "source": [
    "# we can sort and print dict only but i am usign dataframe."
   ]
  },
  {
   "cell_type": "code",
   "execution_count": 24,
   "id": "afa51f01",
   "metadata": {},
   "outputs": [],
   "source": [
    "df_followers = pd.DataFrame(di, index=None) # converting into dataframe"
   ]
  },
  {
   "cell_type": "code",
   "execution_count": 25,
   "id": "524abcbd",
   "metadata": {},
   "outputs": [],
   "source": [
    "# sorting values in descending order based on followers column\n",
    "df_followers = df_followers.sort_values(by='followers', ascending=False) "
   ]
  },
  {
   "cell_type": "markdown",
   "id": "88446516",
   "metadata": {},
   "source": [
    "##### 1.1 From the list of instagram handles you obtained when you searched ‘food’ in previous project. Open the first 10 handles and find the top 5 which have the highest number of followers"
   ]
  },
  {
   "cell_type": "code",
   "execution_count": 26,
   "id": "b45982a2",
   "metadata": {},
   "outputs": [
    {
     "name": "stdout",
     "output_type": "stream",
     "text": [
      "          username  followers\n",
      "9    foodtalkindia     308802\n",
      "4   nom.nom.foodie     109597\n",
      "2   foodies_ikkada      90865\n",
      "8  maayabazar_food      38831\n",
      "6             food      11144\n"
     ]
    }
   ],
   "source": [
    "print(df_followers.iloc[:5]) # printing the top 5 followers"
   ]
  },
  {
   "cell_type": "code",
   "execution_count": 235,
   "id": "0b047c19",
   "metadata": {},
   "outputs": [],
   "source": [
    "def Avg_likes(likes, posts):\n",
    "    avg = likes // posts\n",
    "    return avg"
   ]
  },
  {
   "cell_type": "code",
   "execution_count": 60,
   "id": "64d41d76",
   "metadata": {},
   "outputs": [
    {
     "data": {
      "application/vnd.plotly.v1+json": {
       "config": {
        "plotlyServerURL": "https://plot.ly"
       },
       "data": [
        {
         "domain": {
          "x": [
           0,
           1
          ],
          "y": [
           0,
           1
          ]
         },
         "hovertemplate": "label=%{label}<br>value=%{value}<extra></extra>",
         "labels": [
          "foodtalkindia",
          "nom.nom.foodie",
          "foodies_ikkada",
          "maayabazar_food",
          "food"
         ],
         "legendgroup": "",
         "name": "",
         "showlegend": true,
         "type": "pie",
         "values": [
          308802,
          109597,
          90865,
          38831,
          11144
         ]
        }
       ],
       "layout": {
        "height": 500,
        "legend": {
         "tracegroupgap": 0
        },
        "template": {
         "data": {
          "bar": [
           {
            "error_x": {
             "color": "#2a3f5f"
            },
            "error_y": {
             "color": "#2a3f5f"
            },
            "marker": {
             "line": {
              "color": "#E5ECF6",
              "width": 0.5
             },
             "pattern": {
              "fillmode": "overlay",
              "size": 10,
              "solidity": 0.2
             }
            },
            "type": "bar"
           }
          ],
          "barpolar": [
           {
            "marker": {
             "line": {
              "color": "#E5ECF6",
              "width": 0.5
             },
             "pattern": {
              "fillmode": "overlay",
              "size": 10,
              "solidity": 0.2
             }
            },
            "type": "barpolar"
           }
          ],
          "carpet": [
           {
            "aaxis": {
             "endlinecolor": "#2a3f5f",
             "gridcolor": "white",
             "linecolor": "white",
             "minorgridcolor": "white",
             "startlinecolor": "#2a3f5f"
            },
            "baxis": {
             "endlinecolor": "#2a3f5f",
             "gridcolor": "white",
             "linecolor": "white",
             "minorgridcolor": "white",
             "startlinecolor": "#2a3f5f"
            },
            "type": "carpet"
           }
          ],
          "choropleth": [
           {
            "colorbar": {
             "outlinewidth": 0,
             "ticks": ""
            },
            "type": "choropleth"
           }
          ],
          "contour": [
           {
            "colorbar": {
             "outlinewidth": 0,
             "ticks": ""
            },
            "colorscale": [
             [
              0,
              "#0d0887"
             ],
             [
              0.1111111111111111,
              "#46039f"
             ],
             [
              0.2222222222222222,
              "#7201a8"
             ],
             [
              0.3333333333333333,
              "#9c179e"
             ],
             [
              0.4444444444444444,
              "#bd3786"
             ],
             [
              0.5555555555555556,
              "#d8576b"
             ],
             [
              0.6666666666666666,
              "#ed7953"
             ],
             [
              0.7777777777777778,
              "#fb9f3a"
             ],
             [
              0.8888888888888888,
              "#fdca26"
             ],
             [
              1,
              "#f0f921"
             ]
            ],
            "type": "contour"
           }
          ],
          "contourcarpet": [
           {
            "colorbar": {
             "outlinewidth": 0,
             "ticks": ""
            },
            "type": "contourcarpet"
           }
          ],
          "heatmap": [
           {
            "colorbar": {
             "outlinewidth": 0,
             "ticks": ""
            },
            "colorscale": [
             [
              0,
              "#0d0887"
             ],
             [
              0.1111111111111111,
              "#46039f"
             ],
             [
              0.2222222222222222,
              "#7201a8"
             ],
             [
              0.3333333333333333,
              "#9c179e"
             ],
             [
              0.4444444444444444,
              "#bd3786"
             ],
             [
              0.5555555555555556,
              "#d8576b"
             ],
             [
              0.6666666666666666,
              "#ed7953"
             ],
             [
              0.7777777777777778,
              "#fb9f3a"
             ],
             [
              0.8888888888888888,
              "#fdca26"
             ],
             [
              1,
              "#f0f921"
             ]
            ],
            "type": "heatmap"
           }
          ],
          "heatmapgl": [
           {
            "colorbar": {
             "outlinewidth": 0,
             "ticks": ""
            },
            "colorscale": [
             [
              0,
              "#0d0887"
             ],
             [
              0.1111111111111111,
              "#46039f"
             ],
             [
              0.2222222222222222,
              "#7201a8"
             ],
             [
              0.3333333333333333,
              "#9c179e"
             ],
             [
              0.4444444444444444,
              "#bd3786"
             ],
             [
              0.5555555555555556,
              "#d8576b"
             ],
             [
              0.6666666666666666,
              "#ed7953"
             ],
             [
              0.7777777777777778,
              "#fb9f3a"
             ],
             [
              0.8888888888888888,
              "#fdca26"
             ],
             [
              1,
              "#f0f921"
             ]
            ],
            "type": "heatmapgl"
           }
          ],
          "histogram": [
           {
            "marker": {
             "pattern": {
              "fillmode": "overlay",
              "size": 10,
              "solidity": 0.2
             }
            },
            "type": "histogram"
           }
          ],
          "histogram2d": [
           {
            "colorbar": {
             "outlinewidth": 0,
             "ticks": ""
            },
            "colorscale": [
             [
              0,
              "#0d0887"
             ],
             [
              0.1111111111111111,
              "#46039f"
             ],
             [
              0.2222222222222222,
              "#7201a8"
             ],
             [
              0.3333333333333333,
              "#9c179e"
             ],
             [
              0.4444444444444444,
              "#bd3786"
             ],
             [
              0.5555555555555556,
              "#d8576b"
             ],
             [
              0.6666666666666666,
              "#ed7953"
             ],
             [
              0.7777777777777778,
              "#fb9f3a"
             ],
             [
              0.8888888888888888,
              "#fdca26"
             ],
             [
              1,
              "#f0f921"
             ]
            ],
            "type": "histogram2d"
           }
          ],
          "histogram2dcontour": [
           {
            "colorbar": {
             "outlinewidth": 0,
             "ticks": ""
            },
            "colorscale": [
             [
              0,
              "#0d0887"
             ],
             [
              0.1111111111111111,
              "#46039f"
             ],
             [
              0.2222222222222222,
              "#7201a8"
             ],
             [
              0.3333333333333333,
              "#9c179e"
             ],
             [
              0.4444444444444444,
              "#bd3786"
             ],
             [
              0.5555555555555556,
              "#d8576b"
             ],
             [
              0.6666666666666666,
              "#ed7953"
             ],
             [
              0.7777777777777778,
              "#fb9f3a"
             ],
             [
              0.8888888888888888,
              "#fdca26"
             ],
             [
              1,
              "#f0f921"
             ]
            ],
            "type": "histogram2dcontour"
           }
          ],
          "mesh3d": [
           {
            "colorbar": {
             "outlinewidth": 0,
             "ticks": ""
            },
            "type": "mesh3d"
           }
          ],
          "parcoords": [
           {
            "line": {
             "colorbar": {
              "outlinewidth": 0,
              "ticks": ""
             }
            },
            "type": "parcoords"
           }
          ],
          "pie": [
           {
            "automargin": true,
            "type": "pie"
           }
          ],
          "scatter": [
           {
            "marker": {
             "colorbar": {
              "outlinewidth": 0,
              "ticks": ""
             }
            },
            "type": "scatter"
           }
          ],
          "scatter3d": [
           {
            "line": {
             "colorbar": {
              "outlinewidth": 0,
              "ticks": ""
             }
            },
            "marker": {
             "colorbar": {
              "outlinewidth": 0,
              "ticks": ""
             }
            },
            "type": "scatter3d"
           }
          ],
          "scattercarpet": [
           {
            "marker": {
             "colorbar": {
              "outlinewidth": 0,
              "ticks": ""
             }
            },
            "type": "scattercarpet"
           }
          ],
          "scattergeo": [
           {
            "marker": {
             "colorbar": {
              "outlinewidth": 0,
              "ticks": ""
             }
            },
            "type": "scattergeo"
           }
          ],
          "scattergl": [
           {
            "marker": {
             "colorbar": {
              "outlinewidth": 0,
              "ticks": ""
             }
            },
            "type": "scattergl"
           }
          ],
          "scattermapbox": [
           {
            "marker": {
             "colorbar": {
              "outlinewidth": 0,
              "ticks": ""
             }
            },
            "type": "scattermapbox"
           }
          ],
          "scatterpolar": [
           {
            "marker": {
             "colorbar": {
              "outlinewidth": 0,
              "ticks": ""
             }
            },
            "type": "scatterpolar"
           }
          ],
          "scatterpolargl": [
           {
            "marker": {
             "colorbar": {
              "outlinewidth": 0,
              "ticks": ""
             }
            },
            "type": "scatterpolargl"
           }
          ],
          "scatterternary": [
           {
            "marker": {
             "colorbar": {
              "outlinewidth": 0,
              "ticks": ""
             }
            },
            "type": "scatterternary"
           }
          ],
          "surface": [
           {
            "colorbar": {
             "outlinewidth": 0,
             "ticks": ""
            },
            "colorscale": [
             [
              0,
              "#0d0887"
             ],
             [
              0.1111111111111111,
              "#46039f"
             ],
             [
              0.2222222222222222,
              "#7201a8"
             ],
             [
              0.3333333333333333,
              "#9c179e"
             ],
             [
              0.4444444444444444,
              "#bd3786"
             ],
             [
              0.5555555555555556,
              "#d8576b"
             ],
             [
              0.6666666666666666,
              "#ed7953"
             ],
             [
              0.7777777777777778,
              "#fb9f3a"
             ],
             [
              0.8888888888888888,
              "#fdca26"
             ],
             [
              1,
              "#f0f921"
             ]
            ],
            "type": "surface"
           }
          ],
          "table": [
           {
            "cells": {
             "fill": {
              "color": "#EBF0F8"
             },
             "line": {
              "color": "white"
             }
            },
            "header": {
             "fill": {
              "color": "#C8D4E3"
             },
             "line": {
              "color": "white"
             }
            },
            "type": "table"
           }
          ]
         },
         "layout": {
          "annotationdefaults": {
           "arrowcolor": "#2a3f5f",
           "arrowhead": 0,
           "arrowwidth": 1
          },
          "autotypenumbers": "strict",
          "coloraxis": {
           "colorbar": {
            "outlinewidth": 0,
            "ticks": ""
           }
          },
          "colorscale": {
           "diverging": [
            [
             0,
             "#8e0152"
            ],
            [
             0.1,
             "#c51b7d"
            ],
            [
             0.2,
             "#de77ae"
            ],
            [
             0.3,
             "#f1b6da"
            ],
            [
             0.4,
             "#fde0ef"
            ],
            [
             0.5,
             "#f7f7f7"
            ],
            [
             0.6,
             "#e6f5d0"
            ],
            [
             0.7,
             "#b8e186"
            ],
            [
             0.8,
             "#7fbc41"
            ],
            [
             0.9,
             "#4d9221"
            ],
            [
             1,
             "#276419"
            ]
           ],
           "sequential": [
            [
             0,
             "#0d0887"
            ],
            [
             0.1111111111111111,
             "#46039f"
            ],
            [
             0.2222222222222222,
             "#7201a8"
            ],
            [
             0.3333333333333333,
             "#9c179e"
            ],
            [
             0.4444444444444444,
             "#bd3786"
            ],
            [
             0.5555555555555556,
             "#d8576b"
            ],
            [
             0.6666666666666666,
             "#ed7953"
            ],
            [
             0.7777777777777778,
             "#fb9f3a"
            ],
            [
             0.8888888888888888,
             "#fdca26"
            ],
            [
             1,
             "#f0f921"
            ]
           ],
           "sequentialminus": [
            [
             0,
             "#0d0887"
            ],
            [
             0.1111111111111111,
             "#46039f"
            ],
            [
             0.2222222222222222,
             "#7201a8"
            ],
            [
             0.3333333333333333,
             "#9c179e"
            ],
            [
             0.4444444444444444,
             "#bd3786"
            ],
            [
             0.5555555555555556,
             "#d8576b"
            ],
            [
             0.6666666666666666,
             "#ed7953"
            ],
            [
             0.7777777777777778,
             "#fb9f3a"
            ],
            [
             0.8888888888888888,
             "#fdca26"
            ],
            [
             1,
             "#f0f921"
            ]
           ]
          },
          "colorway": [
           "#636efa",
           "#EF553B",
           "#00cc96",
           "#ab63fa",
           "#FFA15A",
           "#19d3f3",
           "#FF6692",
           "#B6E880",
           "#FF97FF",
           "#FECB52"
          ],
          "font": {
           "color": "#2a3f5f"
          },
          "geo": {
           "bgcolor": "white",
           "lakecolor": "white",
           "landcolor": "#E5ECF6",
           "showlakes": true,
           "showland": true,
           "subunitcolor": "white"
          },
          "hoverlabel": {
           "align": "left"
          },
          "hovermode": "closest",
          "mapbox": {
           "style": "light"
          },
          "paper_bgcolor": "white",
          "plot_bgcolor": "#E5ECF6",
          "polar": {
           "angularaxis": {
            "gridcolor": "white",
            "linecolor": "white",
            "ticks": ""
           },
           "bgcolor": "#E5ECF6",
           "radialaxis": {
            "gridcolor": "white",
            "linecolor": "white",
            "ticks": ""
           }
          },
          "scene": {
           "xaxis": {
            "backgroundcolor": "#E5ECF6",
            "gridcolor": "white",
            "gridwidth": 2,
            "linecolor": "white",
            "showbackground": true,
            "ticks": "",
            "zerolinecolor": "white"
           },
           "yaxis": {
            "backgroundcolor": "#E5ECF6",
            "gridcolor": "white",
            "gridwidth": 2,
            "linecolor": "white",
            "showbackground": true,
            "ticks": "",
            "zerolinecolor": "white"
           },
           "zaxis": {
            "backgroundcolor": "#E5ECF6",
            "gridcolor": "white",
            "gridwidth": 2,
            "linecolor": "white",
            "showbackground": true,
            "ticks": "",
            "zerolinecolor": "white"
           }
          },
          "shapedefaults": {
           "line": {
            "color": "#2a3f5f"
           }
          },
          "ternary": {
           "aaxis": {
            "gridcolor": "white",
            "linecolor": "white",
            "ticks": ""
           },
           "baxis": {
            "gridcolor": "white",
            "linecolor": "white",
            "ticks": ""
           },
           "bgcolor": "#E5ECF6",
           "caxis": {
            "gridcolor": "white",
            "linecolor": "white",
            "ticks": ""
           }
          },
          "title": {
           "x": 0.05
          },
          "xaxis": {
           "automargin": true,
           "gridcolor": "white",
           "linecolor": "white",
           "ticks": "",
           "title": {
            "standoff": 15
           },
           "zerolinecolor": "white",
           "zerolinewidth": 2
          },
          "yaxis": {
           "automargin": true,
           "gridcolor": "white",
           "linecolor": "white",
           "ticks": "",
           "title": {
            "standoff": 15
           },
           "zerolinecolor": "white",
           "zerolinewidth": 2
          }
         }
        },
        "title": {
         "text": "Top 5 Users which have high followers."
        },
        "width": 500
       }
      },
      "text/html": [
       "<div>                            <div id=\"f7f7b813-d1a6-485a-a804-17b2ddd53613\" class=\"plotly-graph-div\" style=\"height:500px; width:500px;\"></div>            <script type=\"text/javascript\">                require([\"plotly\"], function(Plotly) {                    window.PLOTLYENV=window.PLOTLYENV || {};                                    if (document.getElementById(\"f7f7b813-d1a6-485a-a804-17b2ddd53613\")) {                    Plotly.newPlot(                        \"f7f7b813-d1a6-485a-a804-17b2ddd53613\",                        [{\"domain\":{\"x\":[0.0,1.0],\"y\":[0.0,1.0]},\"hovertemplate\":\"label=%{label}<br>value=%{value}<extra></extra>\",\"labels\":[\"foodtalkindia\",\"nom.nom.foodie\",\"foodies_ikkada\",\"maayabazar_food\",\"food\"],\"legendgroup\":\"\",\"name\":\"\",\"showlegend\":true,\"values\":[308802,109597,90865,38831,11144],\"type\":\"pie\"}],                        {\"template\":{\"data\":{\"bar\":[{\"error_x\":{\"color\":\"#2a3f5f\"},\"error_y\":{\"color\":\"#2a3f5f\"},\"marker\":{\"line\":{\"color\":\"#E5ECF6\",\"width\":0.5},\"pattern\":{\"fillmode\":\"overlay\",\"size\":10,\"solidity\":0.2}},\"type\":\"bar\"}],\"barpolar\":[{\"marker\":{\"line\":{\"color\":\"#E5ECF6\",\"width\":0.5},\"pattern\":{\"fillmode\":\"overlay\",\"size\":10,\"solidity\":0.2}},\"type\":\"barpolar\"}],\"carpet\":[{\"aaxis\":{\"endlinecolor\":\"#2a3f5f\",\"gridcolor\":\"white\",\"linecolor\":\"white\",\"minorgridcolor\":\"white\",\"startlinecolor\":\"#2a3f5f\"},\"baxis\":{\"endlinecolor\":\"#2a3f5f\",\"gridcolor\":\"white\",\"linecolor\":\"white\",\"minorgridcolor\":\"white\",\"startlinecolor\":\"#2a3f5f\"},\"type\":\"carpet\"}],\"choropleth\":[{\"colorbar\":{\"outlinewidth\":0,\"ticks\":\"\"},\"type\":\"choropleth\"}],\"contour\":[{\"colorbar\":{\"outlinewidth\":0,\"ticks\":\"\"},\"colorscale\":[[0.0,\"#0d0887\"],[0.1111111111111111,\"#46039f\"],[0.2222222222222222,\"#7201a8\"],[0.3333333333333333,\"#9c179e\"],[0.4444444444444444,\"#bd3786\"],[0.5555555555555556,\"#d8576b\"],[0.6666666666666666,\"#ed7953\"],[0.7777777777777778,\"#fb9f3a\"],[0.8888888888888888,\"#fdca26\"],[1.0,\"#f0f921\"]],\"type\":\"contour\"}],\"contourcarpet\":[{\"colorbar\":{\"outlinewidth\":0,\"ticks\":\"\"},\"type\":\"contourcarpet\"}],\"heatmap\":[{\"colorbar\":{\"outlinewidth\":0,\"ticks\":\"\"},\"colorscale\":[[0.0,\"#0d0887\"],[0.1111111111111111,\"#46039f\"],[0.2222222222222222,\"#7201a8\"],[0.3333333333333333,\"#9c179e\"],[0.4444444444444444,\"#bd3786\"],[0.5555555555555556,\"#d8576b\"],[0.6666666666666666,\"#ed7953\"],[0.7777777777777778,\"#fb9f3a\"],[0.8888888888888888,\"#fdca26\"],[1.0,\"#f0f921\"]],\"type\":\"heatmap\"}],\"heatmapgl\":[{\"colorbar\":{\"outlinewidth\":0,\"ticks\":\"\"},\"colorscale\":[[0.0,\"#0d0887\"],[0.1111111111111111,\"#46039f\"],[0.2222222222222222,\"#7201a8\"],[0.3333333333333333,\"#9c179e\"],[0.4444444444444444,\"#bd3786\"],[0.5555555555555556,\"#d8576b\"],[0.6666666666666666,\"#ed7953\"],[0.7777777777777778,\"#fb9f3a\"],[0.8888888888888888,\"#fdca26\"],[1.0,\"#f0f921\"]],\"type\":\"heatmapgl\"}],\"histogram\":[{\"marker\":{\"pattern\":{\"fillmode\":\"overlay\",\"size\":10,\"solidity\":0.2}},\"type\":\"histogram\"}],\"histogram2d\":[{\"colorbar\":{\"outlinewidth\":0,\"ticks\":\"\"},\"colorscale\":[[0.0,\"#0d0887\"],[0.1111111111111111,\"#46039f\"],[0.2222222222222222,\"#7201a8\"],[0.3333333333333333,\"#9c179e\"],[0.4444444444444444,\"#bd3786\"],[0.5555555555555556,\"#d8576b\"],[0.6666666666666666,\"#ed7953\"],[0.7777777777777778,\"#fb9f3a\"],[0.8888888888888888,\"#fdca26\"],[1.0,\"#f0f921\"]],\"type\":\"histogram2d\"}],\"histogram2dcontour\":[{\"colorbar\":{\"outlinewidth\":0,\"ticks\":\"\"},\"colorscale\":[[0.0,\"#0d0887\"],[0.1111111111111111,\"#46039f\"],[0.2222222222222222,\"#7201a8\"],[0.3333333333333333,\"#9c179e\"],[0.4444444444444444,\"#bd3786\"],[0.5555555555555556,\"#d8576b\"],[0.6666666666666666,\"#ed7953\"],[0.7777777777777778,\"#fb9f3a\"],[0.8888888888888888,\"#fdca26\"],[1.0,\"#f0f921\"]],\"type\":\"histogram2dcontour\"}],\"mesh3d\":[{\"colorbar\":{\"outlinewidth\":0,\"ticks\":\"\"},\"type\":\"mesh3d\"}],\"parcoords\":[{\"line\":{\"colorbar\":{\"outlinewidth\":0,\"ticks\":\"\"}},\"type\":\"parcoords\"}],\"pie\":[{\"automargin\":true,\"type\":\"pie\"}],\"scatter\":[{\"marker\":{\"colorbar\":{\"outlinewidth\":0,\"ticks\":\"\"}},\"type\":\"scatter\"}],\"scatter3d\":[{\"line\":{\"colorbar\":{\"outlinewidth\":0,\"ticks\":\"\"}},\"marker\":{\"colorbar\":{\"outlinewidth\":0,\"ticks\":\"\"}},\"type\":\"scatter3d\"}],\"scattercarpet\":[{\"marker\":{\"colorbar\":{\"outlinewidth\":0,\"ticks\":\"\"}},\"type\":\"scattercarpet\"}],\"scattergeo\":[{\"marker\":{\"colorbar\":{\"outlinewidth\":0,\"ticks\":\"\"}},\"type\":\"scattergeo\"}],\"scattergl\":[{\"marker\":{\"colorbar\":{\"outlinewidth\":0,\"ticks\":\"\"}},\"type\":\"scattergl\"}],\"scattermapbox\":[{\"marker\":{\"colorbar\":{\"outlinewidth\":0,\"ticks\":\"\"}},\"type\":\"scattermapbox\"}],\"scatterpolar\":[{\"marker\":{\"colorbar\":{\"outlinewidth\":0,\"ticks\":\"\"}},\"type\":\"scatterpolar\"}],\"scatterpolargl\":[{\"marker\":{\"colorbar\":{\"outlinewidth\":0,\"ticks\":\"\"}},\"type\":\"scatterpolargl\"}],\"scatterternary\":[{\"marker\":{\"colorbar\":{\"outlinewidth\":0,\"ticks\":\"\"}},\"type\":\"scatterternary\"}],\"surface\":[{\"colorbar\":{\"outlinewidth\":0,\"ticks\":\"\"},\"colorscale\":[[0.0,\"#0d0887\"],[0.1111111111111111,\"#46039f\"],[0.2222222222222222,\"#7201a8\"],[0.3333333333333333,\"#9c179e\"],[0.4444444444444444,\"#bd3786\"],[0.5555555555555556,\"#d8576b\"],[0.6666666666666666,\"#ed7953\"],[0.7777777777777778,\"#fb9f3a\"],[0.8888888888888888,\"#fdca26\"],[1.0,\"#f0f921\"]],\"type\":\"surface\"}],\"table\":[{\"cells\":{\"fill\":{\"color\":\"#EBF0F8\"},\"line\":{\"color\":\"white\"}},\"header\":{\"fill\":{\"color\":\"#C8D4E3\"},\"line\":{\"color\":\"white\"}},\"type\":\"table\"}]},\"layout\":{\"annotationdefaults\":{\"arrowcolor\":\"#2a3f5f\",\"arrowhead\":0,\"arrowwidth\":1},\"autotypenumbers\":\"strict\",\"coloraxis\":{\"colorbar\":{\"outlinewidth\":0,\"ticks\":\"\"}},\"colorscale\":{\"diverging\":[[0,\"#8e0152\"],[0.1,\"#c51b7d\"],[0.2,\"#de77ae\"],[0.3,\"#f1b6da\"],[0.4,\"#fde0ef\"],[0.5,\"#f7f7f7\"],[0.6,\"#e6f5d0\"],[0.7,\"#b8e186\"],[0.8,\"#7fbc41\"],[0.9,\"#4d9221\"],[1,\"#276419\"]],\"sequential\":[[0.0,\"#0d0887\"],[0.1111111111111111,\"#46039f\"],[0.2222222222222222,\"#7201a8\"],[0.3333333333333333,\"#9c179e\"],[0.4444444444444444,\"#bd3786\"],[0.5555555555555556,\"#d8576b\"],[0.6666666666666666,\"#ed7953\"],[0.7777777777777778,\"#fb9f3a\"],[0.8888888888888888,\"#fdca26\"],[1.0,\"#f0f921\"]],\"sequentialminus\":[[0.0,\"#0d0887\"],[0.1111111111111111,\"#46039f\"],[0.2222222222222222,\"#7201a8\"],[0.3333333333333333,\"#9c179e\"],[0.4444444444444444,\"#bd3786\"],[0.5555555555555556,\"#d8576b\"],[0.6666666666666666,\"#ed7953\"],[0.7777777777777778,\"#fb9f3a\"],[0.8888888888888888,\"#fdca26\"],[1.0,\"#f0f921\"]]},\"colorway\":[\"#636efa\",\"#EF553B\",\"#00cc96\",\"#ab63fa\",\"#FFA15A\",\"#19d3f3\",\"#FF6692\",\"#B6E880\",\"#FF97FF\",\"#FECB52\"],\"font\":{\"color\":\"#2a3f5f\"},\"geo\":{\"bgcolor\":\"white\",\"lakecolor\":\"white\",\"landcolor\":\"#E5ECF6\",\"showlakes\":true,\"showland\":true,\"subunitcolor\":\"white\"},\"hoverlabel\":{\"align\":\"left\"},\"hovermode\":\"closest\",\"mapbox\":{\"style\":\"light\"},\"paper_bgcolor\":\"white\",\"plot_bgcolor\":\"#E5ECF6\",\"polar\":{\"angularaxis\":{\"gridcolor\":\"white\",\"linecolor\":\"white\",\"ticks\":\"\"},\"bgcolor\":\"#E5ECF6\",\"radialaxis\":{\"gridcolor\":\"white\",\"linecolor\":\"white\",\"ticks\":\"\"}},\"scene\":{\"xaxis\":{\"backgroundcolor\":\"#E5ECF6\",\"gridcolor\":\"white\",\"gridwidth\":2,\"linecolor\":\"white\",\"showbackground\":true,\"ticks\":\"\",\"zerolinecolor\":\"white\"},\"yaxis\":{\"backgroundcolor\":\"#E5ECF6\",\"gridcolor\":\"white\",\"gridwidth\":2,\"linecolor\":\"white\",\"showbackground\":true,\"ticks\":\"\",\"zerolinecolor\":\"white\"},\"zaxis\":{\"backgroundcolor\":\"#E5ECF6\",\"gridcolor\":\"white\",\"gridwidth\":2,\"linecolor\":\"white\",\"showbackground\":true,\"ticks\":\"\",\"zerolinecolor\":\"white\"}},\"shapedefaults\":{\"line\":{\"color\":\"#2a3f5f\"}},\"ternary\":{\"aaxis\":{\"gridcolor\":\"white\",\"linecolor\":\"white\",\"ticks\":\"\"},\"baxis\":{\"gridcolor\":\"white\",\"linecolor\":\"white\",\"ticks\":\"\"},\"bgcolor\":\"#E5ECF6\",\"caxis\":{\"gridcolor\":\"white\",\"linecolor\":\"white\",\"ticks\":\"\"}},\"title\":{\"x\":0.05},\"xaxis\":{\"automargin\":true,\"gridcolor\":\"white\",\"linecolor\":\"white\",\"ticks\":\"\",\"title\":{\"standoff\":15},\"zerolinecolor\":\"white\",\"zerolinewidth\":2},\"yaxis\":{\"automargin\":true,\"gridcolor\":\"white\",\"linecolor\":\"white\",\"ticks\":\"\",\"title\":{\"standoff\":15},\"zerolinecolor\":\"white\",\"zerolinewidth\":2}}},\"legend\":{\"tracegroupgap\":0},\"title\":{\"text\":\"Top 5 Users which have high followers.\"},\"height\":500,\"width\":500},                        {\"responsive\": true}                    ).then(function(){\n",
       "                            \n",
       "var gd = document.getElementById('f7f7b813-d1a6-485a-a804-17b2ddd53613');\n",
       "var x = new MutationObserver(function (mutations, observer) {{\n",
       "        var display = window.getComputedStyle(gd).display;\n",
       "        if (!display || display === 'none') {{\n",
       "            console.log([gd, 'removed!']);\n",
       "            Plotly.purge(gd);\n",
       "            observer.disconnect();\n",
       "        }}\n",
       "}});\n",
       "\n",
       "// Listen for the removal of the full notebook cells\n",
       "var notebookContainer = gd.closest('#notebook-container');\n",
       "if (notebookContainer) {{\n",
       "    x.observe(notebookContainer, {childList: true});\n",
       "}}\n",
       "\n",
       "// Listen for the clearing of the current output cell\n",
       "var outputEl = gd.closest('.output');\n",
       "if (outputEl) {{\n",
       "    x.observe(outputEl, {childList: true});\n",
       "}}\n",
       "\n",
       "                        })                };                });            </script>        </div>"
      ]
     },
     "metadata": {},
     "output_type": "display_data"
    }
   ],
   "source": [
    "x = df_followers['username'][:5]\n",
    "y = df_followers['followers'][:5]\n",
    "plotly.pie(df_followers, names=x, values=y, height=500, width=500, title='Top 5 Users which have high followers.')"
   ]
  },
  {
   "cell_type": "markdown",
   "id": "f98d4fb7",
   "metadata": {},
   "source": [
    "#### 1.2 Now Find the number of posts these handles have done in the previous 3 days."
   ]
  },
  {
   "cell_type": "code",
   "execution_count": 340,
   "id": "df860c63",
   "metadata": {},
   "outputs": [],
   "source": [
    "def Posts(username, no_of_days):\n",
    "        # clicking on the first post from profile\n",
    "        search_and_open(username)\n",
    "        wait.until(EC.presence_of_element_located((by.CLASS_NAME, '_aabd._aa8k._aanf'))).click()\n",
    "        posts = 0\n",
    "        while True:\n",
    "            time.sleep(2)\n",
    "            post_time = driver.find_element(by.XPATH, '//time[@class=\"_aaqe\"]').get_attribute('datetime')\n",
    "            date_of_post = datetime.strptime(post_time[0:19], \"%Y-%m-%dT%H:%M:%S\")\n",
    "            if (datetime.now() - date_of_post).days < no_of_days:\n",
    "                posts += 1\n",
    "                driver.find_element(by.CLASS_NAME, '_aaqg._aaqh').click()\n",
    "            else:\n",
    "                driver.find_element(by.CLASS_NAME, '_aaqg._aaqh').click()\n",
    "                break    \n",
    "        driver.back()\n",
    "        return posts"
   ]
  },
  {
   "cell_type": "code",
   "execution_count": 324,
   "id": "81eb2069",
   "metadata": {
    "scrolled": true
   },
   "outputs": [
    {
     "name": "stdout",
     "output_type": "stream",
     "text": [
      "Opened Profile:  foodies_ikkada\n"
     ]
    },
    {
     "data": {
      "text/plain": [
       "2"
      ]
     },
     "execution_count": 324,
     "metadata": {},
     "output_type": "execute_result"
    }
   ],
   "source": [
    "Posts('foodies_ikkada', 3)"
   ]
  },
  {
   "cell_type": "code",
   "execution_count": 118,
   "id": "eda3f299",
   "metadata": {},
   "outputs": [
    {
     "data": {
      "text/plain": [
       "['foodtalkindia',\n",
       " 'nom.nom.foodie',\n",
       " 'foodies_ikkada',\n",
       " 'maayabazar_food',\n",
       " 'food']"
      ]
     },
     "execution_count": 118,
     "metadata": {},
     "output_type": "execute_result"
    }
   ],
   "source": [
    "username = list(df_followers['username'][:5])\n",
    "username"
   ]
  },
  {
   "cell_type": "code",
   "execution_count": 342,
   "id": "40dc05dd",
   "metadata": {
    "scrolled": true
   },
   "outputs": [
    {
     "name": "stdout",
     "output_type": "stream",
     "text": [
      "Opened Profile:  foodtalkindia\n",
      "Opened Profile:  nom.nom.foodie\n",
      "Opened Profile:  foodies_ikkada\n",
      "Opened Profile:  maayabazar_food\n",
      "Opened Profile:  food\n"
     ]
    }
   ],
   "source": [
    "posts_dict = {}\n",
    "# using loop extracting posts count in last three days\n",
    "for i in li:\n",
    "    time.sleep(3) # wait for page load\n",
    "# this function take two argument username and no.of days and return the count of post in that days\n",
    "    post = Posts(i, 3)\n",
    "    posts_dict[i] = post\n",
    "    driver.back()"
   ]
  },
  {
   "cell_type": "markdown",
   "id": "352d8501",
   "metadata": {},
   "source": [
    "#### 1.2 Now Find the number of posts these handles have done in the previous 3 days."
   ]
  },
  {
   "cell_type": "code",
   "execution_count": 343,
   "id": "b4dd3d49",
   "metadata": {},
   "outputs": [
    {
     "name": "stdout",
     "output_type": "stream",
     "text": [
      "foodtalkindia -Posts-> 3 in last Three Days\n",
      "nom.nom.foodie -Posts-> 1 in last Three Days\n",
      "foodies_ikkada -Posts-> 2 in last Three Days\n",
      "maayabazar_food -Posts-> 0 in last Three Days\n",
      "food -Posts-> 0 in last Three Days\n"
     ]
    }
   ],
   "source": [
    "for i in posts_dict:\n",
    "    print(f'{i} -Posts-> {posts_dict[i]} in last Three Days')"
   ]
  },
  {
   "cell_type": "markdown",
   "id": "f340a303",
   "metadata": {},
   "source": [
    "#### 1.3 Depict this information using a suitable graph."
   ]
  },
  {
   "cell_type": "markdown",
   "id": "af740162",
   "metadata": {},
   "source": [
    "#### For better visualization I am using plotly"
   ]
  },
  {
   "cell_type": "code",
   "execution_count": 345,
   "id": "a1204c9b",
   "metadata": {},
   "outputs": [
    {
     "data": {
      "application/vnd.plotly.v1+json": {
       "config": {
        "plotlyServerURL": "https://plot.ly"
       },
       "data": [
        {
         "alignmentgroup": "True",
         "hovertemplate": "username=%{x}<br>recent_posts=%{y}<extra></extra>",
         "legendgroup": "foodtalkindia",
         "marker": {
          "color": "#636efa",
          "pattern": {
           "shape": ""
          }
         },
         "name": "foodtalkindia",
         "offsetgroup": "foodtalkindia",
         "orientation": "v",
         "showlegend": true,
         "textposition": "auto",
         "type": "bar",
         "x": [
          "foodtalkindia"
         ],
         "xaxis": "x",
         "y": [
          3
         ],
         "yaxis": "y"
        },
        {
         "alignmentgroup": "True",
         "hovertemplate": "username=%{x}<br>recent_posts=%{y}<extra></extra>",
         "legendgroup": "nom.nom.foodie",
         "marker": {
          "color": "#EF553B",
          "pattern": {
           "shape": ""
          }
         },
         "name": "nom.nom.foodie",
         "offsetgroup": "nom.nom.foodie",
         "orientation": "v",
         "showlegend": true,
         "textposition": "auto",
         "type": "bar",
         "x": [
          "nom.nom.foodie"
         ],
         "xaxis": "x",
         "y": [
          1
         ],
         "yaxis": "y"
        },
        {
         "alignmentgroup": "True",
         "hovertemplate": "username=%{x}<br>recent_posts=%{y}<extra></extra>",
         "legendgroup": "foodies_ikkada",
         "marker": {
          "color": "#00cc96",
          "pattern": {
           "shape": ""
          }
         },
         "name": "foodies_ikkada",
         "offsetgroup": "foodies_ikkada",
         "orientation": "v",
         "showlegend": true,
         "textposition": "auto",
         "type": "bar",
         "x": [
          "foodies_ikkada"
         ],
         "xaxis": "x",
         "y": [
          2
         ],
         "yaxis": "y"
        },
        {
         "alignmentgroup": "True",
         "hovertemplate": "username=%{x}<br>recent_posts=%{y}<extra></extra>",
         "legendgroup": "maayabazar_food",
         "marker": {
          "color": "#ab63fa",
          "pattern": {
           "shape": ""
          }
         },
         "name": "maayabazar_food",
         "offsetgroup": "maayabazar_food",
         "orientation": "v",
         "showlegend": true,
         "textposition": "auto",
         "type": "bar",
         "x": [
          "maayabazar_food"
         ],
         "xaxis": "x",
         "y": [
          0
         ],
         "yaxis": "y"
        },
        {
         "alignmentgroup": "True",
         "hovertemplate": "username=%{x}<br>recent_posts=%{y}<extra></extra>",
         "legendgroup": "food",
         "marker": {
          "color": "#FFA15A",
          "pattern": {
           "shape": ""
          }
         },
         "name": "food",
         "offsetgroup": "food",
         "orientation": "v",
         "showlegend": true,
         "textposition": "auto",
         "type": "bar",
         "x": [
          "food"
         ],
         "xaxis": "x",
         "y": [
          0
         ],
         "yaxis": "y"
        }
       ],
       "layout": {
        "barmode": "relative",
        "height": 400,
        "legend": {
         "title": {
          "text": "username"
         },
         "tracegroupgap": 0
        },
        "template": {
         "data": {
          "bar": [
           {
            "error_x": {
             "color": "#2a3f5f"
            },
            "error_y": {
             "color": "#2a3f5f"
            },
            "marker": {
             "line": {
              "color": "#E5ECF6",
              "width": 0.5
             },
             "pattern": {
              "fillmode": "overlay",
              "size": 10,
              "solidity": 0.2
             }
            },
            "type": "bar"
           }
          ],
          "barpolar": [
           {
            "marker": {
             "line": {
              "color": "#E5ECF6",
              "width": 0.5
             },
             "pattern": {
              "fillmode": "overlay",
              "size": 10,
              "solidity": 0.2
             }
            },
            "type": "barpolar"
           }
          ],
          "carpet": [
           {
            "aaxis": {
             "endlinecolor": "#2a3f5f",
             "gridcolor": "white",
             "linecolor": "white",
             "minorgridcolor": "white",
             "startlinecolor": "#2a3f5f"
            },
            "baxis": {
             "endlinecolor": "#2a3f5f",
             "gridcolor": "white",
             "linecolor": "white",
             "minorgridcolor": "white",
             "startlinecolor": "#2a3f5f"
            },
            "type": "carpet"
           }
          ],
          "choropleth": [
           {
            "colorbar": {
             "outlinewidth": 0,
             "ticks": ""
            },
            "type": "choropleth"
           }
          ],
          "contour": [
           {
            "colorbar": {
             "outlinewidth": 0,
             "ticks": ""
            },
            "colorscale": [
             [
              0,
              "#0d0887"
             ],
             [
              0.1111111111111111,
              "#46039f"
             ],
             [
              0.2222222222222222,
              "#7201a8"
             ],
             [
              0.3333333333333333,
              "#9c179e"
             ],
             [
              0.4444444444444444,
              "#bd3786"
             ],
             [
              0.5555555555555556,
              "#d8576b"
             ],
             [
              0.6666666666666666,
              "#ed7953"
             ],
             [
              0.7777777777777778,
              "#fb9f3a"
             ],
             [
              0.8888888888888888,
              "#fdca26"
             ],
             [
              1,
              "#f0f921"
             ]
            ],
            "type": "contour"
           }
          ],
          "contourcarpet": [
           {
            "colorbar": {
             "outlinewidth": 0,
             "ticks": ""
            },
            "type": "contourcarpet"
           }
          ],
          "heatmap": [
           {
            "colorbar": {
             "outlinewidth": 0,
             "ticks": ""
            },
            "colorscale": [
             [
              0,
              "#0d0887"
             ],
             [
              0.1111111111111111,
              "#46039f"
             ],
             [
              0.2222222222222222,
              "#7201a8"
             ],
             [
              0.3333333333333333,
              "#9c179e"
             ],
             [
              0.4444444444444444,
              "#bd3786"
             ],
             [
              0.5555555555555556,
              "#d8576b"
             ],
             [
              0.6666666666666666,
              "#ed7953"
             ],
             [
              0.7777777777777778,
              "#fb9f3a"
             ],
             [
              0.8888888888888888,
              "#fdca26"
             ],
             [
              1,
              "#f0f921"
             ]
            ],
            "type": "heatmap"
           }
          ],
          "heatmapgl": [
           {
            "colorbar": {
             "outlinewidth": 0,
             "ticks": ""
            },
            "colorscale": [
             [
              0,
              "#0d0887"
             ],
             [
              0.1111111111111111,
              "#46039f"
             ],
             [
              0.2222222222222222,
              "#7201a8"
             ],
             [
              0.3333333333333333,
              "#9c179e"
             ],
             [
              0.4444444444444444,
              "#bd3786"
             ],
             [
              0.5555555555555556,
              "#d8576b"
             ],
             [
              0.6666666666666666,
              "#ed7953"
             ],
             [
              0.7777777777777778,
              "#fb9f3a"
             ],
             [
              0.8888888888888888,
              "#fdca26"
             ],
             [
              1,
              "#f0f921"
             ]
            ],
            "type": "heatmapgl"
           }
          ],
          "histogram": [
           {
            "marker": {
             "pattern": {
              "fillmode": "overlay",
              "size": 10,
              "solidity": 0.2
             }
            },
            "type": "histogram"
           }
          ],
          "histogram2d": [
           {
            "colorbar": {
             "outlinewidth": 0,
             "ticks": ""
            },
            "colorscale": [
             [
              0,
              "#0d0887"
             ],
             [
              0.1111111111111111,
              "#46039f"
             ],
             [
              0.2222222222222222,
              "#7201a8"
             ],
             [
              0.3333333333333333,
              "#9c179e"
             ],
             [
              0.4444444444444444,
              "#bd3786"
             ],
             [
              0.5555555555555556,
              "#d8576b"
             ],
             [
              0.6666666666666666,
              "#ed7953"
             ],
             [
              0.7777777777777778,
              "#fb9f3a"
             ],
             [
              0.8888888888888888,
              "#fdca26"
             ],
             [
              1,
              "#f0f921"
             ]
            ],
            "type": "histogram2d"
           }
          ],
          "histogram2dcontour": [
           {
            "colorbar": {
             "outlinewidth": 0,
             "ticks": ""
            },
            "colorscale": [
             [
              0,
              "#0d0887"
             ],
             [
              0.1111111111111111,
              "#46039f"
             ],
             [
              0.2222222222222222,
              "#7201a8"
             ],
             [
              0.3333333333333333,
              "#9c179e"
             ],
             [
              0.4444444444444444,
              "#bd3786"
             ],
             [
              0.5555555555555556,
              "#d8576b"
             ],
             [
              0.6666666666666666,
              "#ed7953"
             ],
             [
              0.7777777777777778,
              "#fb9f3a"
             ],
             [
              0.8888888888888888,
              "#fdca26"
             ],
             [
              1,
              "#f0f921"
             ]
            ],
            "type": "histogram2dcontour"
           }
          ],
          "mesh3d": [
           {
            "colorbar": {
             "outlinewidth": 0,
             "ticks": ""
            },
            "type": "mesh3d"
           }
          ],
          "parcoords": [
           {
            "line": {
             "colorbar": {
              "outlinewidth": 0,
              "ticks": ""
             }
            },
            "type": "parcoords"
           }
          ],
          "pie": [
           {
            "automargin": true,
            "type": "pie"
           }
          ],
          "scatter": [
           {
            "marker": {
             "colorbar": {
              "outlinewidth": 0,
              "ticks": ""
             }
            },
            "type": "scatter"
           }
          ],
          "scatter3d": [
           {
            "line": {
             "colorbar": {
              "outlinewidth": 0,
              "ticks": ""
             }
            },
            "marker": {
             "colorbar": {
              "outlinewidth": 0,
              "ticks": ""
             }
            },
            "type": "scatter3d"
           }
          ],
          "scattercarpet": [
           {
            "marker": {
             "colorbar": {
              "outlinewidth": 0,
              "ticks": ""
             }
            },
            "type": "scattercarpet"
           }
          ],
          "scattergeo": [
           {
            "marker": {
             "colorbar": {
              "outlinewidth": 0,
              "ticks": ""
             }
            },
            "type": "scattergeo"
           }
          ],
          "scattergl": [
           {
            "marker": {
             "colorbar": {
              "outlinewidth": 0,
              "ticks": ""
             }
            },
            "type": "scattergl"
           }
          ],
          "scattermapbox": [
           {
            "marker": {
             "colorbar": {
              "outlinewidth": 0,
              "ticks": ""
             }
            },
            "type": "scattermapbox"
           }
          ],
          "scatterpolar": [
           {
            "marker": {
             "colorbar": {
              "outlinewidth": 0,
              "ticks": ""
             }
            },
            "type": "scatterpolar"
           }
          ],
          "scatterpolargl": [
           {
            "marker": {
             "colorbar": {
              "outlinewidth": 0,
              "ticks": ""
             }
            },
            "type": "scatterpolargl"
           }
          ],
          "scatterternary": [
           {
            "marker": {
             "colorbar": {
              "outlinewidth": 0,
              "ticks": ""
             }
            },
            "type": "scatterternary"
           }
          ],
          "surface": [
           {
            "colorbar": {
             "outlinewidth": 0,
             "ticks": ""
            },
            "colorscale": [
             [
              0,
              "#0d0887"
             ],
             [
              0.1111111111111111,
              "#46039f"
             ],
             [
              0.2222222222222222,
              "#7201a8"
             ],
             [
              0.3333333333333333,
              "#9c179e"
             ],
             [
              0.4444444444444444,
              "#bd3786"
             ],
             [
              0.5555555555555556,
              "#d8576b"
             ],
             [
              0.6666666666666666,
              "#ed7953"
             ],
             [
              0.7777777777777778,
              "#fb9f3a"
             ],
             [
              0.8888888888888888,
              "#fdca26"
             ],
             [
              1,
              "#f0f921"
             ]
            ],
            "type": "surface"
           }
          ],
          "table": [
           {
            "cells": {
             "fill": {
              "color": "#EBF0F8"
             },
             "line": {
              "color": "white"
             }
            },
            "header": {
             "fill": {
              "color": "#C8D4E3"
             },
             "line": {
              "color": "white"
             }
            },
            "type": "table"
           }
          ]
         },
         "layout": {
          "annotationdefaults": {
           "arrowcolor": "#2a3f5f",
           "arrowhead": 0,
           "arrowwidth": 1
          },
          "autotypenumbers": "strict",
          "coloraxis": {
           "colorbar": {
            "outlinewidth": 0,
            "ticks": ""
           }
          },
          "colorscale": {
           "diverging": [
            [
             0,
             "#8e0152"
            ],
            [
             0.1,
             "#c51b7d"
            ],
            [
             0.2,
             "#de77ae"
            ],
            [
             0.3,
             "#f1b6da"
            ],
            [
             0.4,
             "#fde0ef"
            ],
            [
             0.5,
             "#f7f7f7"
            ],
            [
             0.6,
             "#e6f5d0"
            ],
            [
             0.7,
             "#b8e186"
            ],
            [
             0.8,
             "#7fbc41"
            ],
            [
             0.9,
             "#4d9221"
            ],
            [
             1,
             "#276419"
            ]
           ],
           "sequential": [
            [
             0,
             "#0d0887"
            ],
            [
             0.1111111111111111,
             "#46039f"
            ],
            [
             0.2222222222222222,
             "#7201a8"
            ],
            [
             0.3333333333333333,
             "#9c179e"
            ],
            [
             0.4444444444444444,
             "#bd3786"
            ],
            [
             0.5555555555555556,
             "#d8576b"
            ],
            [
             0.6666666666666666,
             "#ed7953"
            ],
            [
             0.7777777777777778,
             "#fb9f3a"
            ],
            [
             0.8888888888888888,
             "#fdca26"
            ],
            [
             1,
             "#f0f921"
            ]
           ],
           "sequentialminus": [
            [
             0,
             "#0d0887"
            ],
            [
             0.1111111111111111,
             "#46039f"
            ],
            [
             0.2222222222222222,
             "#7201a8"
            ],
            [
             0.3333333333333333,
             "#9c179e"
            ],
            [
             0.4444444444444444,
             "#bd3786"
            ],
            [
             0.5555555555555556,
             "#d8576b"
            ],
            [
             0.6666666666666666,
             "#ed7953"
            ],
            [
             0.7777777777777778,
             "#fb9f3a"
            ],
            [
             0.8888888888888888,
             "#fdca26"
            ],
            [
             1,
             "#f0f921"
            ]
           ]
          },
          "colorway": [
           "#636efa",
           "#EF553B",
           "#00cc96",
           "#ab63fa",
           "#FFA15A",
           "#19d3f3",
           "#FF6692",
           "#B6E880",
           "#FF97FF",
           "#FECB52"
          ],
          "font": {
           "color": "#2a3f5f"
          },
          "geo": {
           "bgcolor": "white",
           "lakecolor": "white",
           "landcolor": "#E5ECF6",
           "showlakes": true,
           "showland": true,
           "subunitcolor": "white"
          },
          "hoverlabel": {
           "align": "left"
          },
          "hovermode": "closest",
          "mapbox": {
           "style": "light"
          },
          "paper_bgcolor": "white",
          "plot_bgcolor": "#E5ECF6",
          "polar": {
           "angularaxis": {
            "gridcolor": "white",
            "linecolor": "white",
            "ticks": ""
           },
           "bgcolor": "#E5ECF6",
           "radialaxis": {
            "gridcolor": "white",
            "linecolor": "white",
            "ticks": ""
           }
          },
          "scene": {
           "xaxis": {
            "backgroundcolor": "#E5ECF6",
            "gridcolor": "white",
            "gridwidth": 2,
            "linecolor": "white",
            "showbackground": true,
            "ticks": "",
            "zerolinecolor": "white"
           },
           "yaxis": {
            "backgroundcolor": "#E5ECF6",
            "gridcolor": "white",
            "gridwidth": 2,
            "linecolor": "white",
            "showbackground": true,
            "ticks": "",
            "zerolinecolor": "white"
           },
           "zaxis": {
            "backgroundcolor": "#E5ECF6",
            "gridcolor": "white",
            "gridwidth": 2,
            "linecolor": "white",
            "showbackground": true,
            "ticks": "",
            "zerolinecolor": "white"
           }
          },
          "shapedefaults": {
           "line": {
            "color": "#2a3f5f"
           }
          },
          "ternary": {
           "aaxis": {
            "gridcolor": "white",
            "linecolor": "white",
            "ticks": ""
           },
           "baxis": {
            "gridcolor": "white",
            "linecolor": "white",
            "ticks": ""
           },
           "bgcolor": "#E5ECF6",
           "caxis": {
            "gridcolor": "white",
            "linecolor": "white",
            "ticks": ""
           }
          },
          "title": {
           "x": 0.05
          },
          "xaxis": {
           "automargin": true,
           "gridcolor": "white",
           "linecolor": "white",
           "ticks": "",
           "title": {
            "standoff": 15
           },
           "zerolinecolor": "white",
           "zerolinewidth": 2
          },
          "yaxis": {
           "automargin": true,
           "gridcolor": "white",
           "linecolor": "white",
           "ticks": "",
           "title": {
            "standoff": 15
           },
           "zerolinecolor": "white",
           "zerolinewidth": 2
          }
         }
        },
        "title": {
         "text": "Top 5 Most Follwers Recent Posts Last 3 Days"
        },
        "xaxis": {
         "anchor": "y",
         "categoryarray": [
          "foodtalkindia",
          "nom.nom.foodie",
          "foodies_ikkada",
          "maayabazar_food",
          "food"
         ],
         "categoryorder": "array",
         "domain": [
          0,
          1
         ],
         "title": {
          "text": "username"
         }
        },
        "yaxis": {
         "anchor": "x",
         "domain": [
          0,
          1
         ],
         "range": [
          0,
          4
         ],
         "title": {
          "text": "recent_posts"
         }
        }
       }
      },
      "text/html": [
       "<div>                            <div id=\"65bf2bb4-f9da-4bc7-92b0-3ace8216762b\" class=\"plotly-graph-div\" style=\"height:400px; width:100%;\"></div>            <script type=\"text/javascript\">                require([\"plotly\"], function(Plotly) {                    window.PLOTLYENV=window.PLOTLYENV || {};                                    if (document.getElementById(\"65bf2bb4-f9da-4bc7-92b0-3ace8216762b\")) {                    Plotly.newPlot(                        \"65bf2bb4-f9da-4bc7-92b0-3ace8216762b\",                        [{\"alignmentgroup\":\"True\",\"hovertemplate\":\"username=%{x}<br>recent_posts=%{y}<extra></extra>\",\"legendgroup\":\"foodtalkindia\",\"marker\":{\"color\":\"#636efa\",\"pattern\":{\"shape\":\"\"}},\"name\":\"foodtalkindia\",\"offsetgroup\":\"foodtalkindia\",\"orientation\":\"v\",\"showlegend\":true,\"textposition\":\"auto\",\"x\":[\"foodtalkindia\"],\"xaxis\":\"x\",\"y\":[3],\"yaxis\":\"y\",\"type\":\"bar\"},{\"alignmentgroup\":\"True\",\"hovertemplate\":\"username=%{x}<br>recent_posts=%{y}<extra></extra>\",\"legendgroup\":\"nom.nom.foodie\",\"marker\":{\"color\":\"#EF553B\",\"pattern\":{\"shape\":\"\"}},\"name\":\"nom.nom.foodie\",\"offsetgroup\":\"nom.nom.foodie\",\"orientation\":\"v\",\"showlegend\":true,\"textposition\":\"auto\",\"x\":[\"nom.nom.foodie\"],\"xaxis\":\"x\",\"y\":[1],\"yaxis\":\"y\",\"type\":\"bar\"},{\"alignmentgroup\":\"True\",\"hovertemplate\":\"username=%{x}<br>recent_posts=%{y}<extra></extra>\",\"legendgroup\":\"foodies_ikkada\",\"marker\":{\"color\":\"#00cc96\",\"pattern\":{\"shape\":\"\"}},\"name\":\"foodies_ikkada\",\"offsetgroup\":\"foodies_ikkada\",\"orientation\":\"v\",\"showlegend\":true,\"textposition\":\"auto\",\"x\":[\"foodies_ikkada\"],\"xaxis\":\"x\",\"y\":[2],\"yaxis\":\"y\",\"type\":\"bar\"},{\"alignmentgroup\":\"True\",\"hovertemplate\":\"username=%{x}<br>recent_posts=%{y}<extra></extra>\",\"legendgroup\":\"maayabazar_food\",\"marker\":{\"color\":\"#ab63fa\",\"pattern\":{\"shape\":\"\"}},\"name\":\"maayabazar_food\",\"offsetgroup\":\"maayabazar_food\",\"orientation\":\"v\",\"showlegend\":true,\"textposition\":\"auto\",\"x\":[\"maayabazar_food\"],\"xaxis\":\"x\",\"y\":[0],\"yaxis\":\"y\",\"type\":\"bar\"},{\"alignmentgroup\":\"True\",\"hovertemplate\":\"username=%{x}<br>recent_posts=%{y}<extra></extra>\",\"legendgroup\":\"food\",\"marker\":{\"color\":\"#FFA15A\",\"pattern\":{\"shape\":\"\"}},\"name\":\"food\",\"offsetgroup\":\"food\",\"orientation\":\"v\",\"showlegend\":true,\"textposition\":\"auto\",\"x\":[\"food\"],\"xaxis\":\"x\",\"y\":[0],\"yaxis\":\"y\",\"type\":\"bar\"}],                        {\"template\":{\"data\":{\"bar\":[{\"error_x\":{\"color\":\"#2a3f5f\"},\"error_y\":{\"color\":\"#2a3f5f\"},\"marker\":{\"line\":{\"color\":\"#E5ECF6\",\"width\":0.5},\"pattern\":{\"fillmode\":\"overlay\",\"size\":10,\"solidity\":0.2}},\"type\":\"bar\"}],\"barpolar\":[{\"marker\":{\"line\":{\"color\":\"#E5ECF6\",\"width\":0.5},\"pattern\":{\"fillmode\":\"overlay\",\"size\":10,\"solidity\":0.2}},\"type\":\"barpolar\"}],\"carpet\":[{\"aaxis\":{\"endlinecolor\":\"#2a3f5f\",\"gridcolor\":\"white\",\"linecolor\":\"white\",\"minorgridcolor\":\"white\",\"startlinecolor\":\"#2a3f5f\"},\"baxis\":{\"endlinecolor\":\"#2a3f5f\",\"gridcolor\":\"white\",\"linecolor\":\"white\",\"minorgridcolor\":\"white\",\"startlinecolor\":\"#2a3f5f\"},\"type\":\"carpet\"}],\"choropleth\":[{\"colorbar\":{\"outlinewidth\":0,\"ticks\":\"\"},\"type\":\"choropleth\"}],\"contour\":[{\"colorbar\":{\"outlinewidth\":0,\"ticks\":\"\"},\"colorscale\":[[0.0,\"#0d0887\"],[0.1111111111111111,\"#46039f\"],[0.2222222222222222,\"#7201a8\"],[0.3333333333333333,\"#9c179e\"],[0.4444444444444444,\"#bd3786\"],[0.5555555555555556,\"#d8576b\"],[0.6666666666666666,\"#ed7953\"],[0.7777777777777778,\"#fb9f3a\"],[0.8888888888888888,\"#fdca26\"],[1.0,\"#f0f921\"]],\"type\":\"contour\"}],\"contourcarpet\":[{\"colorbar\":{\"outlinewidth\":0,\"ticks\":\"\"},\"type\":\"contourcarpet\"}],\"heatmap\":[{\"colorbar\":{\"outlinewidth\":0,\"ticks\":\"\"},\"colorscale\":[[0.0,\"#0d0887\"],[0.1111111111111111,\"#46039f\"],[0.2222222222222222,\"#7201a8\"],[0.3333333333333333,\"#9c179e\"],[0.4444444444444444,\"#bd3786\"],[0.5555555555555556,\"#d8576b\"],[0.6666666666666666,\"#ed7953\"],[0.7777777777777778,\"#fb9f3a\"],[0.8888888888888888,\"#fdca26\"],[1.0,\"#f0f921\"]],\"type\":\"heatmap\"}],\"heatmapgl\":[{\"colorbar\":{\"outlinewidth\":0,\"ticks\":\"\"},\"colorscale\":[[0.0,\"#0d0887\"],[0.1111111111111111,\"#46039f\"],[0.2222222222222222,\"#7201a8\"],[0.3333333333333333,\"#9c179e\"],[0.4444444444444444,\"#bd3786\"],[0.5555555555555556,\"#d8576b\"],[0.6666666666666666,\"#ed7953\"],[0.7777777777777778,\"#fb9f3a\"],[0.8888888888888888,\"#fdca26\"],[1.0,\"#f0f921\"]],\"type\":\"heatmapgl\"}],\"histogram\":[{\"marker\":{\"pattern\":{\"fillmode\":\"overlay\",\"size\":10,\"solidity\":0.2}},\"type\":\"histogram\"}],\"histogram2d\":[{\"colorbar\":{\"outlinewidth\":0,\"ticks\":\"\"},\"colorscale\":[[0.0,\"#0d0887\"],[0.1111111111111111,\"#46039f\"],[0.2222222222222222,\"#7201a8\"],[0.3333333333333333,\"#9c179e\"],[0.4444444444444444,\"#bd3786\"],[0.5555555555555556,\"#d8576b\"],[0.6666666666666666,\"#ed7953\"],[0.7777777777777778,\"#fb9f3a\"],[0.8888888888888888,\"#fdca26\"],[1.0,\"#f0f921\"]],\"type\":\"histogram2d\"}],\"histogram2dcontour\":[{\"colorbar\":{\"outlinewidth\":0,\"ticks\":\"\"},\"colorscale\":[[0.0,\"#0d0887\"],[0.1111111111111111,\"#46039f\"],[0.2222222222222222,\"#7201a8\"],[0.3333333333333333,\"#9c179e\"],[0.4444444444444444,\"#bd3786\"],[0.5555555555555556,\"#d8576b\"],[0.6666666666666666,\"#ed7953\"],[0.7777777777777778,\"#fb9f3a\"],[0.8888888888888888,\"#fdca26\"],[1.0,\"#f0f921\"]],\"type\":\"histogram2dcontour\"}],\"mesh3d\":[{\"colorbar\":{\"outlinewidth\":0,\"ticks\":\"\"},\"type\":\"mesh3d\"}],\"parcoords\":[{\"line\":{\"colorbar\":{\"outlinewidth\":0,\"ticks\":\"\"}},\"type\":\"parcoords\"}],\"pie\":[{\"automargin\":true,\"type\":\"pie\"}],\"scatter\":[{\"marker\":{\"colorbar\":{\"outlinewidth\":0,\"ticks\":\"\"}},\"type\":\"scatter\"}],\"scatter3d\":[{\"line\":{\"colorbar\":{\"outlinewidth\":0,\"ticks\":\"\"}},\"marker\":{\"colorbar\":{\"outlinewidth\":0,\"ticks\":\"\"}},\"type\":\"scatter3d\"}],\"scattercarpet\":[{\"marker\":{\"colorbar\":{\"outlinewidth\":0,\"ticks\":\"\"}},\"type\":\"scattercarpet\"}],\"scattergeo\":[{\"marker\":{\"colorbar\":{\"outlinewidth\":0,\"ticks\":\"\"}},\"type\":\"scattergeo\"}],\"scattergl\":[{\"marker\":{\"colorbar\":{\"outlinewidth\":0,\"ticks\":\"\"}},\"type\":\"scattergl\"}],\"scattermapbox\":[{\"marker\":{\"colorbar\":{\"outlinewidth\":0,\"ticks\":\"\"}},\"type\":\"scattermapbox\"}],\"scatterpolar\":[{\"marker\":{\"colorbar\":{\"outlinewidth\":0,\"ticks\":\"\"}},\"type\":\"scatterpolar\"}],\"scatterpolargl\":[{\"marker\":{\"colorbar\":{\"outlinewidth\":0,\"ticks\":\"\"}},\"type\":\"scatterpolargl\"}],\"scatterternary\":[{\"marker\":{\"colorbar\":{\"outlinewidth\":0,\"ticks\":\"\"}},\"type\":\"scatterternary\"}],\"surface\":[{\"colorbar\":{\"outlinewidth\":0,\"ticks\":\"\"},\"colorscale\":[[0.0,\"#0d0887\"],[0.1111111111111111,\"#46039f\"],[0.2222222222222222,\"#7201a8\"],[0.3333333333333333,\"#9c179e\"],[0.4444444444444444,\"#bd3786\"],[0.5555555555555556,\"#d8576b\"],[0.6666666666666666,\"#ed7953\"],[0.7777777777777778,\"#fb9f3a\"],[0.8888888888888888,\"#fdca26\"],[1.0,\"#f0f921\"]],\"type\":\"surface\"}],\"table\":[{\"cells\":{\"fill\":{\"color\":\"#EBF0F8\"},\"line\":{\"color\":\"white\"}},\"header\":{\"fill\":{\"color\":\"#C8D4E3\"},\"line\":{\"color\":\"white\"}},\"type\":\"table\"}]},\"layout\":{\"annotationdefaults\":{\"arrowcolor\":\"#2a3f5f\",\"arrowhead\":0,\"arrowwidth\":1},\"autotypenumbers\":\"strict\",\"coloraxis\":{\"colorbar\":{\"outlinewidth\":0,\"ticks\":\"\"}},\"colorscale\":{\"diverging\":[[0,\"#8e0152\"],[0.1,\"#c51b7d\"],[0.2,\"#de77ae\"],[0.3,\"#f1b6da\"],[0.4,\"#fde0ef\"],[0.5,\"#f7f7f7\"],[0.6,\"#e6f5d0\"],[0.7,\"#b8e186\"],[0.8,\"#7fbc41\"],[0.9,\"#4d9221\"],[1,\"#276419\"]],\"sequential\":[[0.0,\"#0d0887\"],[0.1111111111111111,\"#46039f\"],[0.2222222222222222,\"#7201a8\"],[0.3333333333333333,\"#9c179e\"],[0.4444444444444444,\"#bd3786\"],[0.5555555555555556,\"#d8576b\"],[0.6666666666666666,\"#ed7953\"],[0.7777777777777778,\"#fb9f3a\"],[0.8888888888888888,\"#fdca26\"],[1.0,\"#f0f921\"]],\"sequentialminus\":[[0.0,\"#0d0887\"],[0.1111111111111111,\"#46039f\"],[0.2222222222222222,\"#7201a8\"],[0.3333333333333333,\"#9c179e\"],[0.4444444444444444,\"#bd3786\"],[0.5555555555555556,\"#d8576b\"],[0.6666666666666666,\"#ed7953\"],[0.7777777777777778,\"#fb9f3a\"],[0.8888888888888888,\"#fdca26\"],[1.0,\"#f0f921\"]]},\"colorway\":[\"#636efa\",\"#EF553B\",\"#00cc96\",\"#ab63fa\",\"#FFA15A\",\"#19d3f3\",\"#FF6692\",\"#B6E880\",\"#FF97FF\",\"#FECB52\"],\"font\":{\"color\":\"#2a3f5f\"},\"geo\":{\"bgcolor\":\"white\",\"lakecolor\":\"white\",\"landcolor\":\"#E5ECF6\",\"showlakes\":true,\"showland\":true,\"subunitcolor\":\"white\"},\"hoverlabel\":{\"align\":\"left\"},\"hovermode\":\"closest\",\"mapbox\":{\"style\":\"light\"},\"paper_bgcolor\":\"white\",\"plot_bgcolor\":\"#E5ECF6\",\"polar\":{\"angularaxis\":{\"gridcolor\":\"white\",\"linecolor\":\"white\",\"ticks\":\"\"},\"bgcolor\":\"#E5ECF6\",\"radialaxis\":{\"gridcolor\":\"white\",\"linecolor\":\"white\",\"ticks\":\"\"}},\"scene\":{\"xaxis\":{\"backgroundcolor\":\"#E5ECF6\",\"gridcolor\":\"white\",\"gridwidth\":2,\"linecolor\":\"white\",\"showbackground\":true,\"ticks\":\"\",\"zerolinecolor\":\"white\"},\"yaxis\":{\"backgroundcolor\":\"#E5ECF6\",\"gridcolor\":\"white\",\"gridwidth\":2,\"linecolor\":\"white\",\"showbackground\":true,\"ticks\":\"\",\"zerolinecolor\":\"white\"},\"zaxis\":{\"backgroundcolor\":\"#E5ECF6\",\"gridcolor\":\"white\",\"gridwidth\":2,\"linecolor\":\"white\",\"showbackground\":true,\"ticks\":\"\",\"zerolinecolor\":\"white\"}},\"shapedefaults\":{\"line\":{\"color\":\"#2a3f5f\"}},\"ternary\":{\"aaxis\":{\"gridcolor\":\"white\",\"linecolor\":\"white\",\"ticks\":\"\"},\"baxis\":{\"gridcolor\":\"white\",\"linecolor\":\"white\",\"ticks\":\"\"},\"bgcolor\":\"#E5ECF6\",\"caxis\":{\"gridcolor\":\"white\",\"linecolor\":\"white\",\"ticks\":\"\"}},\"title\":{\"x\":0.05},\"xaxis\":{\"automargin\":true,\"gridcolor\":\"white\",\"linecolor\":\"white\",\"ticks\":\"\",\"title\":{\"standoff\":15},\"zerolinecolor\":\"white\",\"zerolinewidth\":2},\"yaxis\":{\"automargin\":true,\"gridcolor\":\"white\",\"linecolor\":\"white\",\"ticks\":\"\",\"title\":{\"standoff\":15},\"zerolinecolor\":\"white\",\"zerolinewidth\":2}}},\"xaxis\":{\"anchor\":\"y\",\"domain\":[0.0,1.0],\"title\":{\"text\":\"username\"},\"categoryorder\":\"array\",\"categoryarray\":[\"foodtalkindia\",\"nom.nom.foodie\",\"foodies_ikkada\",\"maayabazar_food\",\"food\"]},\"yaxis\":{\"anchor\":\"x\",\"domain\":[0.0,1.0],\"title\":{\"text\":\"recent_posts\"},\"range\":[0,4]},\"legend\":{\"title\":{\"text\":\"username\"},\"tracegroupgap\":0},\"title\":{\"text\":\"Top 5 Most Follwers Recent Posts Last 3 Days\"},\"barmode\":\"relative\",\"height\":400},                        {\"responsive\": true}                    ).then(function(){\n",
       "                            \n",
       "var gd = document.getElementById('65bf2bb4-f9da-4bc7-92b0-3ace8216762b');\n",
       "var x = new MutationObserver(function (mutations, observer) {{\n",
       "        var display = window.getComputedStyle(gd).display;\n",
       "        if (!display || display === 'none') {{\n",
       "            console.log([gd, 'removed!']);\n",
       "            Plotly.purge(gd);\n",
       "            observer.disconnect();\n",
       "        }}\n",
       "}});\n",
       "\n",
       "// Listen for the removal of the full notebook cells\n",
       "var notebookContainer = gd.closest('#notebook-container');\n",
       "if (notebookContainer) {{\n",
       "    x.observe(notebookContainer, {childList: true});\n",
       "}}\n",
       "\n",
       "// Listen for the clearing of the current output cell\n",
       "var outputEl = gd.closest('.output');\n",
       "if (outputEl) {{\n",
       "    x.observe(outputEl, {childList: true});\n",
       "}}\n",
       "\n",
       "                        })                };                });            </script>        </div>"
      ]
     },
     "metadata": {},
     "output_type": "display_data"
    }
   ],
   "source": [
    "# for using plotly we need to convert data into dataframe\n",
    "username = list(posts_dict.keys())\n",
    "y=list(posts_dict.values())\n",
    "di = {'username': username, 'recent_posts': y}\n",
    "df_posts = pd.DataFrame(di)\n",
    "plotly.bar(df_posts,x='username', y='recent_posts', range_y=[0, 4], height=400, color='username', title='Top 5 Most Follwers Recent Posts Last 3 Days')"
   ]
  },
  {
   "attachments": {
    "newplot%20%282%29.png": {
     "image/png": "[encoded data removed]"
    }
   },
   "cell_type": "markdown",
   "id": "e9344cb8",
   "metadata": {},
   "source": [
    "![newplot%20%282%29.png](attachment:newplot%20%282%29.png)"
   ]
  },
  {
   "cell_type": "markdown",
   "id": "457b00f8",
   "metadata": {},
   "source": [
    "#### 2. Your friend also needs a list of hashtags that he should use in his posts.\n"
   ]
  },
  {
   "cell_type": "code",
   "execution_count": 271,
   "id": "cffb2e5a",
   "metadata": {},
   "outputs": [],
   "source": [
    "def hastags(username, n):\n",
    "        time.sleep(2)\n",
    "        search_and_open(username)\n",
    "        wait.until(EC.presence_of_element_located((by.CLASS_NAME, '_aabd._aa8k._aanf'))).click()\n",
    "        hashtag = []\n",
    "        for i in range(1, n+1):\n",
    "            time.sleep(3)\n",
    "            h = driver.find_element(by.CLASS_NAME, '_aacl._aaco._aacu._aacx._aad7._aade').get_attribute('innerHTML')\n",
    "            data = bs(h, 'html.parser')\n",
    "            data_s = data.find_all('a') \n",
    "            for i in data_s:\n",
    "                a = i.string\n",
    "                if a[0] != '#':\n",
    "                    continue\n",
    "                else:\n",
    "                    hashtag.append(a)\n",
    "            time.sleep(3)\n",
    "            driver.find_element(by.CLASS_NAME, '_aaqg._aaqh').click()\n",
    "        driver.back()\n",
    "        return hashtag\n",
    "    "
   ]
  },
  {
   "cell_type": "markdown",
   "id": "1ceb67b2",
   "metadata": {},
   "source": [
    "#### 2.1 Open the 5 handles you obtained in the last question, and scrape the content of the first 10 posts of each handle."
   ]
  },
  {
   "cell_type": "code",
   "execution_count": 258,
   "id": "714ffa3f",
   "metadata": {
    "scrolled": true
   },
   "outputs": [
    {
     "name": "stdout",
     "output_type": "stream",
     "text": [
      "Opened Profile:  foodtalkiinda\n"
     ]
    }
   ],
   "source": [
    "# testing the code and extracted hastags success\n",
    "data = hastags('foodtalkiindia', 10)"
   ]
  },
  {
   "cell_type": "code",
   "execution_count": 274,
   "id": "462b065b",
   "metadata": {},
   "outputs": [
    {
     "data": {
      "text/plain": [
       "['foodtalkindia',\n",
       " 'nom.nom.foodie',\n",
       " 'foodies_ikkada',\n",
       " 'maayabazar_food',\n",
       " 'food']"
      ]
     },
     "execution_count": 274,
     "metadata": {},
     "output_type": "execute_result"
    }
   ],
   "source": [
    "username"
   ]
  },
  {
   "cell_type": "code",
   "execution_count": 272,
   "id": "f3667e6c",
   "metadata": {},
   "outputs": [
    {
     "name": "stdout",
     "output_type": "stream",
     "text": [
      "Opened Profile:  foodies_ikkada\n",
      "Opened Profile:  maayabazar_food\n",
      "Opened Profile:  food\n"
     ]
    }
   ],
   "source": [
    "hashtag_dict={'foodtalkindia': data}\n",
    "'''while testing the code i extracted 2 profiles foodtalkindia this you can see above this, \n",
    "nom.nom.foodie, hastags , I extracted nom.nom.foodie testing the code it's success but \n",
    "for the next profile thown error well i fixed it and running from 2 index of the list'''\n",
    "for i in username[2:]:\n",
    "    time.sleep(2)\n",
    "    h = hastags(i, 10)\n",
    "    hashtag_dict[i] = h\n",
    "    driver.back()"
   ]
  },
  {
   "cell_type": "code",
   "execution_count": 283,
   "id": "ee3193e9",
   "metadata": {},
   "outputs": [
    {
     "data": {
      "text/plain": [
       "{'foodtalkindia': ['#ginexplorersclub',\n",
       "  '#burgers',\n",
       "  '#rudys',\n",
       "  '#bengaluru',\n",
       "  '#mythicaledition',\n",
       "  '#foodtalkindia',\n",
       "  '#foodtalk',\n",
       "  '#drinks',\n",
       "  '#fti',\n",
       "  '#food',\n",
       "  '#foodie',\n",
       "  '#foodies',\n",
       "  '#foodgram',\n",
       "  '#foodgasm',\n",
       "  '#foodiesofindia',\n",
       "  '#foodblogger',\n",
       "  '#foodfeed',\n",
       "  '#delicious',\n",
       "  '#yummy',\n",
       "  '#instagood',\n",
       "  '#instafood',\n",
       "  '#instagram',\n",
       "  '#discover',\n",
       "  '#burgers',\n",
       "  '#burgerama',\n",
       "  '#ginexplorersclub',\n",
       "  '#GinOClock',\n",
       "  '#bengaluru',\n",
       "  '#gin',\n",
       "  '#drinks',\n",
       "  '#mythicaledition',\n",
       "  '#foodtalkindia',\n",
       "  '#foodtalk',\n",
       "  '#fti',\n",
       "  '#food',\n",
       "  '#foodie',\n",
       "  '#foodies',\n",
       "  '#foodgram',\n",
       "  '#foodgasm',\n",
       "  '#foodiesofindia',\n",
       "  '#foodblogger',\n",
       "  '#foodfeed',\n",
       "  '#delicious',\n",
       "  '#yummy',\n",
       "  '#instagood',\n",
       "  '#instafood',\n",
       "  '#instagram',\n",
       "  '#discover',\n",
       "  '#NewInTown',\n",
       "  '#gorillazpizzeria',\n",
       "  '#pizza',\n",
       "  '#mignightcravings',\n",
       "  '#midnightsnacks',\n",
       "  '#gourmet',\n",
       "  '#delivery',\n",
       "  '#neapolitan',\n",
       "  '#foodtalkindia',\n",
       "  '#foodtalk',\n",
       "  '#fti',\n",
       "  '#food',\n",
       "  '#foodie',\n",
       "  '#foodies',\n",
       "  '#foodgram',\n",
       "  '#foodgasm',\n",
       "  '#foodiesofindia',\n",
       "  '#foodblogger',\n",
       "  '#foodfeed',\n",
       "  '#delicious',\n",
       "  '#yummy',\n",
       "  '#instagood',\n",
       "  '#instafood',\n",
       "  '#instagram',\n",
       "  '#discover',\n",
       "  '#mithai',\n",
       "  '#sweets',\n",
       "  '#diwali',\n",
       "  '#festive',\n",
       "  '#diwaliparty',\n",
       "  '#festiveseason',\n",
       "  '#horoscope',\n",
       "  '#zodiacsigns',\n",
       "  '#foodtalkindia',\n",
       "  '#foodtalk',\n",
       "  '#fti',\n",
       "  '#food',\n",
       "  '#foodie',\n",
       "  '#foodies',\n",
       "  '#foodgram',\n",
       "  '#foodgasm',\n",
       "  '#foodiesofindia',\n",
       "  '#foodblogger',\n",
       "  '#foodfeed',\n",
       "  '#delicious',\n",
       "  '#yummy',\n",
       "  '#instagood',\n",
       "  '#instafood',\n",
       "  '#instagram',\n",
       "  '#discover',\n",
       "  '#NewInTown',\n",
       "  '#tsukipune',\n",
       "  '#japanese',\n",
       "  '#cantonese',\n",
       "  '#thai',\n",
       "  '#cuisine',\n",
       "  '#rooftop',\n",
       "  '#restaurant',\n",
       "  '#foodtalkindia',\n",
       "  '#foodtalk',\n",
       "  '#fti',\n",
       "  '#food',\n",
       "  '#foodie',\n",
       "  '#foodies',\n",
       "  '#foodgram',\n",
       "  '#foodgasm',\n",
       "  '#foodiesofindia',\n",
       "  '#foodblogger',\n",
       "  '#foodfeed',\n",
       "  '#delicious',\n",
       "  '#yummy',\n",
       "  '#instagood',\n",
       "  '#instafood',\n",
       "  '#instagram',\n",
       "  '#discover',\n",
       "  '#barcarts',\n",
       "  '#happyhours',\n",
       "  '#bar',\n",
       "  '#trolley',\n",
       "  '#ikea',\n",
       "  '#speedx',\n",
       "  '#foodtalkindia',\n",
       "  '#foodtalk',\n",
       "  '#fti',\n",
       "  '#food',\n",
       "  '#foodie',\n",
       "  '#foodies',\n",
       "  '#foodgram',\n",
       "  '#foodgasm',\n",
       "  '#foodiesofindia',\n",
       "  '#foodblogger',\n",
       "  '#foodfeed',\n",
       "  '#delicious',\n",
       "  '#yummy',\n",
       "  '#instagood',\n",
       "  '#instafood',\n",
       "  '#instagram',\n",
       "  '#discover',\n",
       "  '#rum',\n",
       "  '#homegrown',\n",
       "  '#wintertime',\n",
       "  '#warmrum',\n",
       "  '#foodtalkindia',\n",
       "  '#foodtalk',\n",
       "  '#fti',\n",
       "  '#food',\n",
       "  '#foodie',\n",
       "  '#foodies',\n",
       "  '#foodgram',\n",
       "  '#foodgasm',\n",
       "  '#foodiesofindia',\n",
       "  '#foodblogger',\n",
       "  '#foodfeed',\n",
       "  '#delicious',\n",
       "  '#yummy',\n",
       "  '#instagood',\n",
       "  '#instafood',\n",
       "  '#instagram',\n",
       "  '#discover',\n",
       "  '#GiveawayAlert',\n",
       "  '#coffee',\n",
       "  '#coldbrew',\n",
       "  '#cocktails',\n",
       "  '#festive',\n",
       "  '#wokecoldbrew',\n",
       "  '#foodtalkindia',\n",
       "  '#foodtalk',\n",
       "  '#fti',\n",
       "  '#food',\n",
       "  '#foodie',\n",
       "  '#foodies',\n",
       "  '#foodgram',\n",
       "  '#foodgasm',\n",
       "  '#foodiesofindia',\n",
       "  '#foodblogger',\n",
       "  '#foodfeed',\n",
       "  '#delicious',\n",
       "  '#yummy',\n",
       "  '#instagood',\n",
       "  '#instafood',\n",
       "  '#instagram',\n",
       "  '#discover',\n",
       "  '#NewInTown',\n",
       "  '#starbucks',\n",
       "  '#starbucksindia',\n",
       "  '#starbuckscoffee',\n",
       "  '#reservestore',\n",
       "  '#mumbai',\n",
       "  '#foodtalkindia',\n",
       "  '#foodtalk',\n",
       "  '#fti',\n",
       "  '#food',\n",
       "  '#foodie',\n",
       "  '#foodies',\n",
       "  '#foodgram',\n",
       "  '#foodgasm',\n",
       "  '#foodiesofindia',\n",
       "  '#foodblogger',\n",
       "  '#foodfeed',\n",
       "  '#delicious',\n",
       "  '#yummy',\n",
       "  '#instagood',\n",
       "  '#instafood',\n",
       "  '#instagram',\n",
       "  '#discover',\n",
       "  '#party',\n",
       "  '#host',\n",
       "  '#vibes',\n",
       "  '#horoscope',\n",
       "  '#zodiacsigns',\n",
       "  '#foodtalkindia',\n",
       "  '#foodtalk',\n",
       "  '#fti',\n",
       "  '#food',\n",
       "  '#foodie',\n",
       "  '#foodies',\n",
       "  '#foodgram',\n",
       "  '#foodgasm',\n",
       "  '#foodiesofindia',\n",
       "  '#foodblogger',\n",
       "  '#foodfeed',\n",
       "  '#delicious',\n",
       "  '#yummy',\n",
       "  '#instagood',\n",
       "  '#instafood',\n",
       "  '#instagram',\n",
       "  '#discover'],\n",
       " 'foodies_ikkada': ['#foodies_ikkada',\n",
       "  '#entertainmentikkada',\n",
       "  '#food',\n",
       "  '#dussehra',\n",
       "  '#instafood',\n",
       "  '#hyderabadi',\n",
       "  '#prabhas',\n",
       "  '#foodblogger',\n",
       "  '#pawankalyan',\n",
       "  '#maheshbabu',\n",
       "  '#streetfood',\n",
       "  '#ntr',\n",
       "  '#vijaydevarakonda',\n",
       "  '#salaar',\n",
       "  '#healthyfood',\n",
       "  '#nightlife',\n",
       "  '#biryani',\n",
       "  '#alluarjun',\n",
       "  '#foodiesofinstagram',\n",
       "  '#rashmikamandanna',\n",
       "  '#dulquersalmaan',\n",
       "  '#mrunalthakur',\n",
       "  '#seetharamam',\n",
       "  '#hyderabadblogger',\n",
       "  '#hyderabadfoodie',\n",
       "  '#likeforlike',\n",
       "  '#reelsinstagram',\n",
       "  '#hyderabadfoodblogger',\n",
       "  '#adipurush',\n",
       "  '#foodies_ikkada',\n",
       "  '#entertainmentikkada',\n",
       "  '#food',\n",
       "  '#dussehra',\n",
       "  '#instafood',\n",
       "  '#hyderabadi',\n",
       "  '#prabhas',\n",
       "  '#foodblogger',\n",
       "  '#pawankalyan',\n",
       "  '#maheshbabu',\n",
       "  '#streetfood',\n",
       "  '#ntr',\n",
       "  '#vijaydevarakonda',\n",
       "  '#salaar',\n",
       "  '#healthyfood',\n",
       "  '#nightlife',\n",
       "  '#biryani',\n",
       "  '#alluarjun',\n",
       "  '#foodiesofinstagram',\n",
       "  '#rashmikamandanna',\n",
       "  '#dulquersalmaan',\n",
       "  '#mrunalthakur',\n",
       "  '#seetharamam',\n",
       "  '#hyderabadblogger',\n",
       "  '#hyderabadfoodie',\n",
       "  '#likeforlike',\n",
       "  '#reelsinstagram',\n",
       "  '#hyderabadfoodblogger',\n",
       "  '#adipurush',\n",
       "  '#foodies_ikkada',\n",
       "  '#entertainmentikkada',\n",
       "  '#food',\n",
       "  '#dussehra',\n",
       "  '#instafood',\n",
       "  '#hyderabadi',\n",
       "  '#prabhas',\n",
       "  '#foodblogger',\n",
       "  '#pawankalyan',\n",
       "  '#maheshbabu',\n",
       "  '#streetfood',\n",
       "  '#ntr',\n",
       "  '#vijaydevarakonda',\n",
       "  '#salaar',\n",
       "  '#healthyfood',\n",
       "  '#nightlife',\n",
       "  '#biryani',\n",
       "  '#alluarjun',\n",
       "  '#foodiesofinstagram',\n",
       "  '#rashmikamandanna',\n",
       "  '#dulquersalmaan',\n",
       "  '#mrunalthakur',\n",
       "  '#seetharamam',\n",
       "  '#hyderabadblogger',\n",
       "  '#hyderabadfoodie',\n",
       "  '#likeforlike',\n",
       "  '#reelsinstagram',\n",
       "  '#hyderabadfoodblogger',\n",
       "  '#adipurush',\n",
       "  '#foodies_ikkada',\n",
       "  '#entertainmentikkada',\n",
       "  '#food',\n",
       "  '#dussehra',\n",
       "  '#instafood',\n",
       "  '#hyderabadi',\n",
       "  '#prabhas',\n",
       "  '#foodblogger',\n",
       "  '#pawankalyan',\n",
       "  '#maheshbabu',\n",
       "  '#streetfood',\n",
       "  '#ntr',\n",
       "  '#vijaydevarakonda',\n",
       "  '#salaar',\n",
       "  '#healthyfood',\n",
       "  '#nightlife',\n",
       "  '#biryani',\n",
       "  '#alluarjun',\n",
       "  '#foodiesofinstagram',\n",
       "  '#rashmikamandanna',\n",
       "  '#dulquersalmaan',\n",
       "  '#mrunalthakur',\n",
       "  '#seetharamam',\n",
       "  '#hyderabadblogger',\n",
       "  '#hyderabadfoodie',\n",
       "  '#likeforlike',\n",
       "  '#reelsinstagram',\n",
       "  '#hyderabadfoodblogger',\n",
       "  '#adipurush',\n",
       "  '#foodies_ikkada',\n",
       "  '#entertainmentikkada',\n",
       "  '#food',\n",
       "  '#dussehra',\n",
       "  '#instafood',\n",
       "  '#hyderabadi',\n",
       "  '#prabhas',\n",
       "  '#foodblogger',\n",
       "  '#pawankalyan',\n",
       "  '#maheshbabu',\n",
       "  '#streetfood',\n",
       "  '#ntr',\n",
       "  '#vijaydevarakonda',\n",
       "  '#salaar',\n",
       "  '#healthyfood',\n",
       "  '#nightlife',\n",
       "  '#biryani',\n",
       "  '#alluarjun',\n",
       "  '#foodiesofinstagram',\n",
       "  '#rashmikamandanna',\n",
       "  '#dulquersalmaan',\n",
       "  '#mrunalthakur',\n",
       "  '#seetharamam',\n",
       "  '#hyderabadblogger',\n",
       "  '#hyderabadfoodie',\n",
       "  '#likeforlike',\n",
       "  '#reelsinstagram',\n",
       "  '#hyderabadfoodblogger',\n",
       "  '#adipurush',\n",
       "  '#foodies_ikkada',\n",
       "  '#entertainmentikkada',\n",
       "  '#food',\n",
       "  '#dussehra',\n",
       "  '#instafood',\n",
       "  '#hyderabadi',\n",
       "  '#prabhas',\n",
       "  '#foodblogger',\n",
       "  '#pawankalyan',\n",
       "  '#maheshbabu',\n",
       "  '#streetfood',\n",
       "  '#ntr',\n",
       "  '#vijaydevarakonda',\n",
       "  '#salaar',\n",
       "  '#healthyfood',\n",
       "  '#nightlife',\n",
       "  '#biryani',\n",
       "  '#alluarjun',\n",
       "  '#foodiesofinstagram',\n",
       "  '#rashmikamandanna',\n",
       "  '#dulquersalmaan',\n",
       "  '#mrunalthakur',\n",
       "  '#seetharamam',\n",
       "  '#hyderabadblogger',\n",
       "  '#hyderabadfoodie',\n",
       "  '#likeforlike',\n",
       "  '#reelsinstagram',\n",
       "  '#hyderabadfoodblogger',\n",
       "  '#adipurush',\n",
       "  '#foodies_ikkada',\n",
       "  '#entertainmentikkada',\n",
       "  '#food',\n",
       "  '#dussehra',\n",
       "  '#instafood',\n",
       "  '#hyderabadi',\n",
       "  '#prabhas',\n",
       "  '#foodblogger',\n",
       "  '#pawankalyan',\n",
       "  '#maheshbabu',\n",
       "  '#streetfood',\n",
       "  '#ntr',\n",
       "  '#vijaydevarakonda',\n",
       "  '#salaar',\n",
       "  '#healthyfood',\n",
       "  '#nightlife',\n",
       "  '#biryani',\n",
       "  '#alluarjun',\n",
       "  '#foodiesofinstagram',\n",
       "  '#rashmikamandanna',\n",
       "  '#dulquersalmaan',\n",
       "  '#mrunalthakur',\n",
       "  '#seetharamam',\n",
       "  '#hyderabadblogger',\n",
       "  '#hyderabadfoodie',\n",
       "  '#likeforlike',\n",
       "  '#reelsinstagram',\n",
       "  '#hyderabadfoodblogger',\n",
       "  '#adipurush',\n",
       "  '#foodies_ikkada',\n",
       "  '#entertainmentikkada',\n",
       "  '#food',\n",
       "  '#dussehra',\n",
       "  '#instafood',\n",
       "  '#hyderabadi',\n",
       "  '#prabhas',\n",
       "  '#foodblogger',\n",
       "  '#pawankalyan',\n",
       "  '#maheshbabu',\n",
       "  '#streetfood',\n",
       "  '#ntr',\n",
       "  '#vijaydevarakonda',\n",
       "  '#salaar',\n",
       "  '#healthyfood',\n",
       "  '#nightlife',\n",
       "  '#biryani',\n",
       "  '#alluarjun',\n",
       "  '#foodiesofinstagram',\n",
       "  '#rashmikamandanna',\n",
       "  '#dulquersalmaan',\n",
       "  '#mrunalthakur',\n",
       "  '#seetharamam',\n",
       "  '#hyderabadblogger',\n",
       "  '#hyderabadfoodie',\n",
       "  '#likeforlike',\n",
       "  '#reelsinstagram',\n",
       "  '#hyderabadfoodblogger',\n",
       "  '#adipurush',\n",
       "  '#foodies_ikkada',\n",
       "  '#entertainmentikkada',\n",
       "  '#food',\n",
       "  '#dussehra',\n",
       "  '#instafood',\n",
       "  '#hyderabadi',\n",
       "  '#prabhas',\n",
       "  '#foodblogger',\n",
       "  '#pawankalyan',\n",
       "  '#maheshbabu',\n",
       "  '#streetfood',\n",
       "  '#ntr',\n",
       "  '#vijaydevarakonda',\n",
       "  '#salaar',\n",
       "  '#healthyfood',\n",
       "  '#nightlife',\n",
       "  '#biryani',\n",
       "  '#alluarjun',\n",
       "  '#foodiesofinstagram',\n",
       "  '#rashmikamandanna',\n",
       "  '#dulquersalmaan',\n",
       "  '#mrunalthakur',\n",
       "  '#seetharamam',\n",
       "  '#hyderabadblogger',\n",
       "  '#hyderabadfoodie',\n",
       "  '#likeforlike',\n",
       "  '#reelsinstagram',\n",
       "  '#hyderabadfoodblogger',\n",
       "  '#adipurush',\n",
       "  '#foodies_ikkada',\n",
       "  '#entertainmentikkada',\n",
       "  '#food',\n",
       "  '#dussehra',\n",
       "  '#instafood',\n",
       "  '#hyderabadi',\n",
       "  '#prabhas',\n",
       "  '#foodblogger',\n",
       "  '#pawankalyan',\n",
       "  '#maheshbabu',\n",
       "  '#streetfood',\n",
       "  '#ntr',\n",
       "  '#vijaydevarakonda',\n",
       "  '#salaar',\n",
       "  '#healthyfood',\n",
       "  '#nightlife',\n",
       "  '#biryani',\n",
       "  '#alluarjun',\n",
       "  '#foodiesofinstagram',\n",
       "  '#rashmikamandanna',\n",
       "  '#dulquersalmaan',\n",
       "  '#mrunalthakur',\n",
       "  '#seetharamam',\n",
       "  '#hyderabadblogger',\n",
       "  '#hyderabadfoodie',\n",
       "  '#likeforlike',\n",
       "  '#reelsinstagram',\n",
       "  '#hyderabadfoodblogger',\n",
       "  '#adipurush'],\n",
       " 'maayabazar_food': ['#biryani',\n",
       "  '#biryanilovers',\n",
       "  '#biryanilove',\n",
       "  '#warangal',\n",
       "  '#warangaldiaries',\n",
       "  '#warangalfood',\n",
       "  '#maayabazar',\n",
       "  '#trendingreels',\n",
       "  '#trending',\n",
       "  '#trendingsongs',\n",
       "  '#trendingnow',\n",
       "  '#reels',\n",
       "  '#reelsinstagram',\n",
       "  '#foodporn',\n",
       "  '#foodiesofhyderabad',\n",
       "  '#hyderabadfood',\n",
       "  '#warangalfood',\n",
       "  '#trendingreels',\n",
       "  '#viralreels',\n",
       "  '#foodiesofhyderabad',\n",
       "  '#reelsinstagram',\n",
       "  '#trendingaudio',\n",
       "  '#maayabazarfood',\n",
       "  '#food',\n",
       "  '#foodporn',\n",
       "  '#foodblogger',\n",
       "  '#foodphotography',\n",
       "  '#viral',\n",
       "  '#viralreels',\n",
       "  '#warangal',\n",
       "  '#warangaldiaries',\n",
       "  '#warangalvandana',\n",
       "  '#warangaladda',\n",
       "  '#trendingreels',\n",
       "  '#trending',\n",
       "  '#trendingnow',\n",
       "  '#trendingaudio',\n",
       "  '#food',\n",
       "  '#foodporn',\n",
       "  '#foodie',\n",
       "  '#foodblogger',\n",
       "  '#foodphotography',\n",
       "  '#foodies',\n",
       "  '#trendingreels',\n",
       "  '#sweet',\n",
       "  '#sweets',\n",
       "  '#sweethouse',\n",
       "  '#viral',\n",
       "  '#trending',\n",
       "  '#trendingsongs',\n",
       "  '#trendingnow',\n",
       "  '#warangal',\n",
       "  '#warangaldiaries',\n",
       "  '#warangalvandana',\n",
       "  '#panipuri',\n",
       "  '#streetfood',\n",
       "  '#streetfoodreels',\n",
       "  '#reelsinstagram',\n",
       "  '#panipurireels',\n",
       "  '#viralreels',\n",
       "  '#trendingreels',\n",
       "  '#warangalfood',\n",
       "  '#warangalstreetfood',\n",
       "  '#foodiesofwarangal',\n",
       "  '#foodporn',\n",
       "  '#maayabazarfood',\n",
       "  '#food',\n",
       "  '#foodporn',\n",
       "  '#foodblogger',\n",
       "  '#foodie',\n",
       "  '#foodphotography',\n",
       "  '#foodies',\n",
       "  '#trendingreels',\n",
       "  '#trend',\n",
       "  '#trendingsongs',\n",
       "  '#trendingaudio',\n",
       "  '#viral',\n",
       "  '#viralreels',\n",
       "  '#hyderabad',\n",
       "  '#hyderabadfoodie',\n",
       "  '#veganfood',\n",
       "  '#vegetarian',\n",
       "  '#hyderabaddiaries',\n",
       "  '#reelsinstagram',\n",
       "  '#trendingreels',\n",
       "  '#foodporn',\n",
       "  '#viralreels',\n",
       "  '#chickenwings',\n",
       "  '#foodiesofhyderabad',\n",
       "  '#warangalfood',\n",
       "  '#foodreels',\n",
       "  '#maayabazarfood',\n",
       "  '#food',\n",
       "  '#foodporn',\n",
       "  '#foodblogger',\n",
       "  '#foodphotography',\n",
       "  '#foodstagram',\n",
       "  '#trendingreels',\n",
       "  '#trend',\n",
       "  '#trending',\n",
       "  '#trendingsongs',\n",
       "  '#viral',\n",
       "  '#viralreels',\n",
       "  '#hyderabad',\n",
       "  '#hyderabadfoodie',\n",
       "  '#hyderabaddiaries',\n",
       "  '#food',\n",
       "  '#foodporn',\n",
       "  '#foodblogger',\n",
       "  '#foodie',\n",
       "  '#foodstagram',\n",
       "  '#viral',\n",
       "  '#trendingreels',\n",
       "  '#warangal',\n",
       "  '#warangaldiaries',\n",
       "  '#warangalvandana',\n",
       "  '#warangaladda',\n",
       "  '#warangalthugs',\n",
       "  '#maayabazarfood',\n",
       "  '#murghmusallam',\n",
       "  '#jaatiratnalu',\n",
       "  '#warangalfood',\n",
       "  '#foodporn',\n",
       "  '#viralreels',\n",
       "  '#trendingreels',\n",
       "  '#foodiesofwarangal',\n",
       "  '#warangalfood',\n",
       "  '#foodgram',\n",
       "  '#reelsinstagram',\n",
       "  '#dailygram',\n",
       "  '#maayabazarfood'],\n",
       " 'food': ['#eatwithsalik',\n",
       "  '#biryani',\n",
       "  '#kebabs',\n",
       "  '#chicken',\n",
       "  '#food',\n",
       "  '#mutton',\n",
       "  '#dessert',\n",
       "  '#foodblog',\n",
       "  '#reelsofinstagram',\n",
       "  '#reelsindia',\n",
       "  '#eatwithsalik',\n",
       "  '#dessert',\n",
       "  '#white',\n",
       "  '#chocolate',\n",
       "  '#foodiesofinstagram',\n",
       "  '#presentation',\n",
       "  '#newplace',\n",
       "  '#roast',\n",
       "  '#instagram',\n",
       "  '#explore',\n",
       "  '#eatwithsalik',\n",
       "  '#xora',\n",
       "  '#chicken',\n",
       "  '#annam',\n",
       "  '#foodiesofinstagram',\n",
       "  '#presentation',\n",
       "  '#newplace',\n",
       "  '#newmenu',\n",
       "  '#instagram',\n",
       "  '#explore',\n",
       "  '#eatwithsalik',\n",
       "  '#fonce',\n",
       "  '#coffee',\n",
       "  '#iced',\n",
       "  '#foodiesofinstagram',\n",
       "  '#presentation',\n",
       "  '#americano',\n",
       "  '#newmenu',\n",
       "  '#instagram',\n",
       "  '#explore',\n",
       "  '#eatwithsalik',\n",
       "  '#hazelnut',\n",
       "  '#cheesecake',\n",
       "  '#dessert',\n",
       "  '#foodiesofinstagram',\n",
       "  '#presentation',\n",
       "  '#sweettooth',\n",
       "  '#newplace',\n",
       "  '#instagram',\n",
       "  '#explore',\n",
       "  '#eatwithsalik',\n",
       "  '#pizza',\n",
       "  '#jamies',\n",
       "  '#jamieoliver',\n",
       "  '#foodiesofinstagram',\n",
       "  '#presentation',\n",
       "  '#cheese',\n",
       "  '#newmenu',\n",
       "  '#instagram',\n",
       "  '#explore',\n",
       "  '#eatwithsalik',\n",
       "  '#hot',\n",
       "  '#chocolate',\n",
       "  '#wheather',\n",
       "  '#foodiesofinstagram',\n",
       "  '#presentation',\n",
       "  '#concu',\n",
       "  '#newmenu',\n",
       "  '#instagram',\n",
       "  '#explore',\n",
       "  '#eatwithsalik',\n",
       "  '#kunafa',\n",
       "  '#dessert',\n",
       "  '#mango',\n",
       "  '#foodiesofinstagram',\n",
       "  '#presentation',\n",
       "  '#captiankunafa',\n",
       "  '#newmenu',\n",
       "  '#instagram',\n",
       "  '#explore',\n",
       "  '#eatwithsalik',\n",
       "  '#chole',\n",
       "  '#samosa',\n",
       "  '#chat',\n",
       "  '#foodiesofinstagram',\n",
       "  '#presentation',\n",
       "  '#gappevappe',\n",
       "  '#newmenu',\n",
       "  '#instagram',\n",
       "  '#explore',\n",
       "  '#eatwithsalik',\n",
       "  '#coffee',\n",
       "  '#caffine',\n",
       "  '#cappuccino',\n",
       "  '#foodiesofinstagram',\n",
       "  '#presentation',\n",
       "  '#roastery',\n",
       "  '#newmenu',\n",
       "  '#instagram',\n",
       "  '#explore']}"
      ]
     },
     "execution_count": 283,
     "metadata": {},
     "output_type": "execute_result"
    }
   ],
   "source": [
    "hashtag_dict"
   ]
  },
  {
   "cell_type": "markdown",
   "id": "213a0f5b",
   "metadata": {},
   "source": [
    "#### 2.2 Prepare a list of all words used in all the scraped posts and calculate the frequency of each word."
   ]
  },
  {
   "cell_type": "code",
   "execution_count": 288,
   "id": "f48b06ad",
   "metadata": {},
   "outputs": [],
   "source": [
    "# creating frequency dictionay\n",
    "freq = {}\n",
    "# accessing the key\n",
    "for i in hashtag_dict:\n",
    "    # accessing the list\n",
    "    val = hashtag_dict[i]\n",
    "    for j in val: # itereating through list\n",
    "        if j in freq: # checking if hashtag is present\n",
    "            freq[j] += 1 # if hastag present in dict it increace frequency with 1\n",
    "        else:\n",
    "            freq[j] = 0  # else it create key and assing 0 as value\n",
    "        "
   ]
  },
  {
   "cell_type": "code",
   "execution_count": 291,
   "id": "6f45c10d",
   "metadata": {},
   "outputs": [
    {
     "data": {
      "text/plain": [
       "{'#ginexplorersclub': 1,\n",
       " '#burgers': 1,\n",
       " '#rudys': 0,\n",
       " '#bengaluru': 1,\n",
       " '#mythicaledition': 1,\n",
       " '#foodtalkindia': 9,\n",
       " '#foodtalk': 9,\n",
       " '#drinks': 1,\n",
       " '#fti': 9,\n",
       " '#food': 25,\n",
       " '#foodie': 12,\n",
       " '#foodies': 11,\n",
       " '#foodgram': 10,\n",
       " '#foodgasm': 9,\n",
       " '#foodiesofindia': 9,\n",
       " '#foodblogger': 24,\n",
       " '#foodfeed': 9,\n",
       " '#delicious': 9,\n",
       " '#yummy': 9,\n",
       " '#instagood': 9,\n",
       " '#instafood': 19,\n",
       " '#instagram': 18,\n",
       " '#discover': 9,\n",
       " '#burgerama': 0,\n",
       " '#GinOClock': 0,\n",
       " '#gin': 0,\n",
       " '#NewInTown': 2,\n",
       " '#gorillazpizzeria': 0,\n",
       " '#pizza': 1,\n",
       " '#mignightcravings': 0,\n",
       " '#midnightsnacks': 0,\n",
       " '#gourmet': 0,\n",
       " '#delivery': 0,\n",
       " '#neapolitan': 0,\n",
       " '#mithai': 0,\n",
       " '#sweets': 1,\n",
       " '#diwali': 0,\n",
       " '#festive': 1,\n",
       " '#diwaliparty': 0,\n",
       " '#festiveseason': 0,\n",
       " '#horoscope': 1,\n",
       " '#zodiacsigns': 1,\n",
       " '#tsukipune': 0,\n",
       " '#japanese': 0,\n",
       " '#cantonese': 0,\n",
       " '#thai': 0,\n",
       " '#cuisine': 0,\n",
       " '#rooftop': 0,\n",
       " '#restaurant': 0,\n",
       " '#barcarts': 0,\n",
       " '#happyhours': 0,\n",
       " '#bar': 0,\n",
       " '#trolley': 0,\n",
       " '#ikea': 0,\n",
       " '#speedx': 0,\n",
       " '#rum': 0,\n",
       " '#homegrown': 0,\n",
       " '#wintertime': 0,\n",
       " '#warmrum': 0,\n",
       " '#GiveawayAlert': 0,\n",
       " '#coffee': 2,\n",
       " '#coldbrew': 0,\n",
       " '#cocktails': 0,\n",
       " '#wokecoldbrew': 0,\n",
       " '#starbucks': 0,\n",
       " '#starbucksindia': 0,\n",
       " '#starbuckscoffee': 0,\n",
       " '#reservestore': 0,\n",
       " '#mumbai': 0,\n",
       " '#party': 0,\n",
       " '#host': 0,\n",
       " '#vibes': 0,\n",
       " '#foodies_ikkada': 9,\n",
       " '#entertainmentikkada': 9,\n",
       " '#dussehra': 9,\n",
       " '#hyderabadi': 9,\n",
       " '#prabhas': 9,\n",
       " '#pawankalyan': 9,\n",
       " '#maheshbabu': 9,\n",
       " '#streetfood': 10,\n",
       " '#ntr': 9,\n",
       " '#vijaydevarakonda': 9,\n",
       " '#salaar': 9,\n",
       " '#healthyfood': 9,\n",
       " '#nightlife': 9,\n",
       " '#biryani': 11,\n",
       " '#alluarjun': 9,\n",
       " '#foodiesofinstagram': 18,\n",
       " '#rashmikamandanna': 9,\n",
       " '#dulquersalmaan': 9,\n",
       " '#mrunalthakur': 9,\n",
       " '#seetharamam': 9,\n",
       " '#hyderabadblogger': 9,\n",
       " '#hyderabadfoodie': 11,\n",
       " '#likeforlike': 9,\n",
       " '#reelsinstagram': 14,\n",
       " '#hyderabadfoodblogger': 9,\n",
       " '#adipurush': 9,\n",
       " '#biryanilovers': 0,\n",
       " '#biryanilove': 0,\n",
       " '#warangal': 3,\n",
       " '#warangaldiaries': 3,\n",
       " '#warangalfood': 5,\n",
       " '#maayabazar': 0,\n",
       " '#trendingreels': 9,\n",
       " '#trending': 3,\n",
       " '#trendingsongs': 3,\n",
       " '#trendingnow': 2,\n",
       " '#reels': 0,\n",
       " '#foodporn': 8,\n",
       " '#foodiesofhyderabad': 2,\n",
       " '#hyderabadfood': 0,\n",
       " '#viralreels': 6,\n",
       " '#trendingaudio': 2,\n",
       " '#maayabazarfood': 4,\n",
       " '#foodphotography': 3,\n",
       " '#viral': 4,\n",
       " '#warangalvandana': 2,\n",
       " '#warangaladda': 1,\n",
       " '#sweet': 0,\n",
       " '#sweethouse': 0,\n",
       " '#panipuri': 0,\n",
       " '#streetfoodreels': 0,\n",
       " '#panipurireels': 0,\n",
       " '#warangalstreetfood': 0,\n",
       " '#foodiesofwarangal': 1,\n",
       " '#trend': 1,\n",
       " '#hyderabad': 1,\n",
       " '#veganfood': 0,\n",
       " '#vegetarian': 0,\n",
       " '#hyderabaddiaries': 1,\n",
       " '#chickenwings': 0,\n",
       " '#foodreels': 0,\n",
       " '#foodstagram': 1,\n",
       " '#warangalthugs': 0,\n",
       " '#murghmusallam': 0,\n",
       " '#jaatiratnalu': 0,\n",
       " '#dailygram': 0,\n",
       " '#eatwithsalik': 9,\n",
       " '#kebabs': 0,\n",
       " '#chicken': 1,\n",
       " '#mutton': 0,\n",
       " '#dessert': 3,\n",
       " '#foodblog': 0,\n",
       " '#reelsofinstagram': 0,\n",
       " '#reelsindia': 0,\n",
       " '#white': 0,\n",
       " '#chocolate': 1,\n",
       " '#presentation': 8,\n",
       " '#newplace': 2,\n",
       " '#roast': 0,\n",
       " '#explore': 8,\n",
       " '#xora': 0,\n",
       " '#annam': 0,\n",
       " '#newmenu': 6,\n",
       " '#fonce': 0,\n",
       " '#iced': 0,\n",
       " '#americano': 0,\n",
       " '#hazelnut': 0,\n",
       " '#cheesecake': 0,\n",
       " '#sweettooth': 0,\n",
       " '#jamies': 0,\n",
       " '#jamieoliver': 0,\n",
       " '#cheese': 0,\n",
       " '#hot': 0,\n",
       " '#wheather': 0,\n",
       " '#concu': 0,\n",
       " '#kunafa': 0,\n",
       " '#mango': 0,\n",
       " '#captiankunafa': 0,\n",
       " '#chole': 0,\n",
       " '#samosa': 0,\n",
       " '#chat': 0,\n",
       " '#gappevappe': 0,\n",
       " '#caffine': 0,\n",
       " '#cappuccino': 0,\n",
       " '#roastery': 0}"
      ]
     },
     "execution_count": 291,
     "metadata": {},
     "output_type": "execute_result"
    }
   ],
   "source": [
    "freq"
   ]
  },
  {
   "cell_type": "code",
   "execution_count": 302,
   "id": "75b47054",
   "metadata": {},
   "outputs": [
    {
     "data": {
      "text/html": [
       "<div>\n",
       "<style scoped>\n",
       "    .dataframe tbody tr th:only-of-type {\n",
       "        vertical-align: middle;\n",
       "    }\n",
       "\n",
       "    .dataframe tbody tr th {\n",
       "        vertical-align: top;\n",
       "    }\n",
       "\n",
       "    .dataframe thead th {\n",
       "        text-align: right;\n",
       "    }\n",
       "</style>\n",
       "<table border=\"1\" class=\"dataframe\">\n",
       "  <thead>\n",
       "    <tr style=\"text-align: right;\">\n",
       "      <th></th>\n",
       "      <th>Hashtags</th>\n",
       "      <th>Frequency</th>\n",
       "    </tr>\n",
       "  </thead>\n",
       "  <tbody>\n",
       "    <tr>\n",
       "      <th>0</th>\n",
       "      <td>#ginexplorersclub</td>\n",
       "      <td>1</td>\n",
       "    </tr>\n",
       "    <tr>\n",
       "      <th>1</th>\n",
       "      <td>#burgers</td>\n",
       "      <td>1</td>\n",
       "    </tr>\n",
       "    <tr>\n",
       "      <th>2</th>\n",
       "      <td>#rudys</td>\n",
       "      <td>0</td>\n",
       "    </tr>\n",
       "    <tr>\n",
       "      <th>3</th>\n",
       "      <td>#bengaluru</td>\n",
       "      <td>1</td>\n",
       "    </tr>\n",
       "    <tr>\n",
       "      <th>4</th>\n",
       "      <td>#mythicaledition</td>\n",
       "      <td>1</td>\n",
       "    </tr>\n",
       "    <tr>\n",
       "      <th>...</th>\n",
       "      <td>...</td>\n",
       "      <td>...</td>\n",
       "    </tr>\n",
       "    <tr>\n",
       "      <th>172</th>\n",
       "      <td>#chat</td>\n",
       "      <td>0</td>\n",
       "    </tr>\n",
       "    <tr>\n",
       "      <th>173</th>\n",
       "      <td>#gappevappe</td>\n",
       "      <td>0</td>\n",
       "    </tr>\n",
       "    <tr>\n",
       "      <th>174</th>\n",
       "      <td>#caffine</td>\n",
       "      <td>0</td>\n",
       "    </tr>\n",
       "    <tr>\n",
       "      <th>175</th>\n",
       "      <td>#cappuccino</td>\n",
       "      <td>0</td>\n",
       "    </tr>\n",
       "    <tr>\n",
       "      <th>176</th>\n",
       "      <td>#roastery</td>\n",
       "      <td>0</td>\n",
       "    </tr>\n",
       "  </tbody>\n",
       "</table>\n",
       "<p>177 rows × 2 columns</p>\n",
       "</div>"
      ],
      "text/plain": [
       "              Hashtags  Frequency\n",
       "0    #ginexplorersclub          1\n",
       "1             #burgers          1\n",
       "2               #rudys          0\n",
       "3           #bengaluru          1\n",
       "4     #mythicaledition          1\n",
       "..                 ...        ...\n",
       "172              #chat          0\n",
       "173        #gappevappe          0\n",
       "174           #caffine          0\n",
       "175        #cappuccino          0\n",
       "176          #roastery          0\n",
       "\n",
       "[177 rows x 2 columns]"
      ]
     },
     "execution_count": 302,
     "metadata": {},
     "output_type": "execute_result"
    }
   ],
   "source": [
    "h = list(freq.keys())\n",
    "f = list(freq.values())\n",
    "di = {'Hashtags': h, 'Frequency':f}\n",
    "df_hashtags = pd.DataFrame(di)\n",
    "df_hashtags"
   ]
  },
  {
   "cell_type": "markdown",
   "id": "27e847a0",
   "metadata": {},
   "source": [
    "#### 2.3 Create a csv file with two columns : the word and its frequency"
   ]
  },
  {
   "cell_type": "code",
   "execution_count": 303,
   "id": "16e0bba7",
   "metadata": {},
   "outputs": [],
   "source": [
    "df_hashtags.to_csv('hashtag_frequency.csv', index=False) # it converts into csv and dropping index"
   ]
  },
  {
   "cell_type": "markdown",
   "id": "b1f47f4c",
   "metadata": {},
   "source": [
    "#### 2.4 Now, find the hashtags that were most popular among these bloggers"
   ]
  },
  {
   "cell_type": "code",
   "execution_count": 346,
   "id": "1eede5d4",
   "metadata": {
    "scrolled": true
   },
   "outputs": [
    {
     "data": {
      "text/html": [
       "<div>\n",
       "<style scoped>\n",
       "    .dataframe tbody tr th:only-of-type {\n",
       "        vertical-align: middle;\n",
       "    }\n",
       "\n",
       "    .dataframe tbody tr th {\n",
       "        vertical-align: top;\n",
       "    }\n",
       "\n",
       "    .dataframe thead th {\n",
       "        text-align: right;\n",
       "    }\n",
       "</style>\n",
       "<table border=\"1\" class=\"dataframe\">\n",
       "  <thead>\n",
       "    <tr style=\"text-align: right;\">\n",
       "      <th></th>\n",
       "      <th>Hashtags</th>\n",
       "      <th>Frequency</th>\n",
       "    </tr>\n",
       "  </thead>\n",
       "  <tbody>\n",
       "    <tr>\n",
       "      <th>0</th>\n",
       "      <td>#food</td>\n",
       "      <td>25</td>\n",
       "    </tr>\n",
       "    <tr>\n",
       "      <th>1</th>\n",
       "      <td>#foodblogger</td>\n",
       "      <td>24</td>\n",
       "    </tr>\n",
       "    <tr>\n",
       "      <th>2</th>\n",
       "      <td>#instafood</td>\n",
       "      <td>19</td>\n",
       "    </tr>\n",
       "    <tr>\n",
       "      <th>3</th>\n",
       "      <td>#instagram</td>\n",
       "      <td>18</td>\n",
       "    </tr>\n",
       "    <tr>\n",
       "      <th>4</th>\n",
       "      <td>#foodiesofinstagram</td>\n",
       "      <td>18</td>\n",
       "    </tr>\n",
       "    <tr>\n",
       "      <th>5</th>\n",
       "      <td>#reelsinstagram</td>\n",
       "      <td>14</td>\n",
       "    </tr>\n",
       "    <tr>\n",
       "      <th>6</th>\n",
       "      <td>#foodie</td>\n",
       "      <td>12</td>\n",
       "    </tr>\n",
       "    <tr>\n",
       "      <th>7</th>\n",
       "      <td>#hyderabadfoodie</td>\n",
       "      <td>11</td>\n",
       "    </tr>\n",
       "    <tr>\n",
       "      <th>8</th>\n",
       "      <td>#foodies</td>\n",
       "      <td>11</td>\n",
       "    </tr>\n",
       "    <tr>\n",
       "      <th>9</th>\n",
       "      <td>#biryani</td>\n",
       "      <td>11</td>\n",
       "    </tr>\n",
       "  </tbody>\n",
       "</table>\n",
       "</div>"
      ],
      "text/plain": [
       "              Hashtags  Frequency\n",
       "0                #food         25\n",
       "1         #foodblogger         24\n",
       "2           #instafood         19\n",
       "3           #instagram         18\n",
       "4  #foodiesofinstagram         18\n",
       "5      #reelsinstagram         14\n",
       "6              #foodie         12\n",
       "7     #hyderabadfoodie         11\n",
       "8             #foodies         11\n",
       "9             #biryani         11"
      ]
     },
     "execution_count": 346,
     "metadata": {},
     "output_type": "execute_result"
    }
   ],
   "source": [
    "df_hashtags = df_hashtags.sort_values('Frequency', ascending=False)\n",
    "# top 10 popular hashtags with it's frequencies\n",
    "df_hashtags.reset_index(drop=True, inplace=True) # resetting index after sorting \n",
    "df_hashtags.head(10)\n",
    "# food is most popular among these its frequency is high"
   ]
  },
  {
   "cell_type": "markdown",
   "id": "4ea2ef78",
   "metadata": {},
   "source": [
    "#### 2.5 Plot a Pie Chart of the top 5 hashtags obtained and the number of times they were used by these bloggers in the scraped posts."
   ]
  },
  {
   "cell_type": "code",
   "execution_count": 356,
   "id": "a99695db",
   "metadata": {},
   "outputs": [
    {
     "data": {
      "application/vnd.plotly.v1+json": {
       "config": {
        "plotlyServerURL": "https://plot.ly"
       },
       "data": [
        {
         "domain": {
          "x": [
           0,
           1
          ],
          "y": [
           0,
           1
          ]
         },
         "hovertemplate": "label=%{label}<br>value=%{value}<extra></extra>",
         "labels": [
          "#food",
          "#foodblogger",
          "#instafood",
          "#instagram",
          "#foodiesofinstagram"
         ],
         "legendgroup": "",
         "name": "",
         "showlegend": true,
         "type": "pie",
         "values": [
          25,
          24,
          19,
          18,
          18
         ]
        }
       ],
       "layout": {
        "height": 500,
        "legend": {
         "tracegroupgap": 0
        },
        "template": {
         "data": {
          "bar": [
           {
            "error_x": {
             "color": "#2a3f5f"
            },
            "error_y": {
             "color": "#2a3f5f"
            },
            "marker": {
             "line": {
              "color": "#E5ECF6",
              "width": 0.5
             },
             "pattern": {
              "fillmode": "overlay",
              "size": 10,
              "solidity": 0.2
             }
            },
            "type": "bar"
           }
          ],
          "barpolar": [
           {
            "marker": {
             "line": {
              "color": "#E5ECF6",
              "width": 0.5
             },
             "pattern": {
              "fillmode": "overlay",
              "size": 10,
              "solidity": 0.2
             }
            },
            "type": "barpolar"
           }
          ],
          "carpet": [
           {
            "aaxis": {
             "endlinecolor": "#2a3f5f",
             "gridcolor": "white",
             "linecolor": "white",
             "minorgridcolor": "white",
             "startlinecolor": "#2a3f5f"
            },
            "baxis": {
             "endlinecolor": "#2a3f5f",
             "gridcolor": "white",
             "linecolor": "white",
             "minorgridcolor": "white",
             "startlinecolor": "#2a3f5f"
            },
            "type": "carpet"
           }
          ],
          "choropleth": [
           {
            "colorbar": {
             "outlinewidth": 0,
             "ticks": ""
            },
            "type": "choropleth"
           }
          ],
          "contour": [
           {
            "colorbar": {
             "outlinewidth": 0,
             "ticks": ""
            },
            "colorscale": [
             [
              0,
              "#0d0887"
             ],
             [
              0.1111111111111111,
              "#46039f"
             ],
             [
              0.2222222222222222,
              "#7201a8"
             ],
             [
              0.3333333333333333,
              "#9c179e"
             ],
             [
              0.4444444444444444,
              "#bd3786"
             ],
             [
              0.5555555555555556,
              "#d8576b"
             ],
             [
              0.6666666666666666,
              "#ed7953"
             ],
             [
              0.7777777777777778,
              "#fb9f3a"
             ],
             [
              0.8888888888888888,
              "#fdca26"
             ],
             [
              1,
              "#f0f921"
             ]
            ],
            "type": "contour"
           }
          ],
          "contourcarpet": [
           {
            "colorbar": {
             "outlinewidth": 0,
             "ticks": ""
            },
            "type": "contourcarpet"
           }
          ],
          "heatmap": [
           {
            "colorbar": {
             "outlinewidth": 0,
             "ticks": ""
            },
            "colorscale": [
             [
              0,
              "#0d0887"
             ],
             [
              0.1111111111111111,
              "#46039f"
             ],
             [
              0.2222222222222222,
              "#7201a8"
             ],
             [
              0.3333333333333333,
              "#9c179e"
             ],
             [
              0.4444444444444444,
              "#bd3786"
             ],
             [
              0.5555555555555556,
              "#d8576b"
             ],
             [
              0.6666666666666666,
              "#ed7953"
             ],
             [
              0.7777777777777778,
              "#fb9f3a"
             ],
             [
              0.8888888888888888,
              "#fdca26"
             ],
             [
              1,
              "#f0f921"
             ]
            ],
            "type": "heatmap"
           }
          ],
          "heatmapgl": [
           {
            "colorbar": {
             "outlinewidth": 0,
             "ticks": ""
            },
            "colorscale": [
             [
              0,
              "#0d0887"
             ],
             [
              0.1111111111111111,
              "#46039f"
             ],
             [
              0.2222222222222222,
              "#7201a8"
             ],
             [
              0.3333333333333333,
              "#9c179e"
             ],
             [
              0.4444444444444444,
              "#bd3786"
             ],
             [
              0.5555555555555556,
              "#d8576b"
             ],
             [
              0.6666666666666666,
              "#ed7953"
             ],
             [
              0.7777777777777778,
              "#fb9f3a"
             ],
             [
              0.8888888888888888,
              "#fdca26"
             ],
             [
              1,
              "#f0f921"
             ]
            ],
            "type": "heatmapgl"
           }
          ],
          "histogram": [
           {
            "marker": {
             "pattern": {
              "fillmode": "overlay",
              "size": 10,
              "solidity": 0.2
             }
            },
            "type": "histogram"
           }
          ],
          "histogram2d": [
           {
            "colorbar": {
             "outlinewidth": 0,
             "ticks": ""
            },
            "colorscale": [
             [
              0,
              "#0d0887"
             ],
             [
              0.1111111111111111,
              "#46039f"
             ],
             [
              0.2222222222222222,
              "#7201a8"
             ],
             [
              0.3333333333333333,
              "#9c179e"
             ],
             [
              0.4444444444444444,
              "#bd3786"
             ],
             [
              0.5555555555555556,
              "#d8576b"
             ],
             [
              0.6666666666666666,
              "#ed7953"
             ],
             [
              0.7777777777777778,
              "#fb9f3a"
             ],
             [
              0.8888888888888888,
              "#fdca26"
             ],
             [
              1,
              "#f0f921"
             ]
            ],
            "type": "histogram2d"
           }
          ],
          "histogram2dcontour": [
           {
            "colorbar": {
             "outlinewidth": 0,
             "ticks": ""
            },
            "colorscale": [
             [
              0,
              "#0d0887"
             ],
             [
              0.1111111111111111,
              "#46039f"
             ],
             [
              0.2222222222222222,
              "#7201a8"
             ],
             [
              0.3333333333333333,
              "#9c179e"
             ],
             [
              0.4444444444444444,
              "#bd3786"
             ],
             [
              0.5555555555555556,
              "#d8576b"
             ],
             [
              0.6666666666666666,
              "#ed7953"
             ],
             [
              0.7777777777777778,
              "#fb9f3a"
             ],
             [
              0.8888888888888888,
              "#fdca26"
             ],
             [
              1,
              "#f0f921"
             ]
            ],
            "type": "histogram2dcontour"
           }
          ],
          "mesh3d": [
           {
            "colorbar": {
             "outlinewidth": 0,
             "ticks": ""
            },
            "type": "mesh3d"
           }
          ],
          "parcoords": [
           {
            "line": {
             "colorbar": {
              "outlinewidth": 0,
              "ticks": ""
             }
            },
            "type": "parcoords"
           }
          ],
          "pie": [
           {
            "automargin": true,
            "type": "pie"
           }
          ],
          "scatter": [
           {
            "marker": {
             "colorbar": {
              "outlinewidth": 0,
              "ticks": ""
             }
            },
            "type": "scatter"
           }
          ],
          "scatter3d": [
           {
            "line": {
             "colorbar": {
              "outlinewidth": 0,
              "ticks": ""
             }
            },
            "marker": {
             "colorbar": {
              "outlinewidth": 0,
              "ticks": ""
             }
            },
            "type": "scatter3d"
           }
          ],
          "scattercarpet": [
           {
            "marker": {
             "colorbar": {
              "outlinewidth": 0,
              "ticks": ""
             }
            },
            "type": "scattercarpet"
           }
          ],
          "scattergeo": [
           {
            "marker": {
             "colorbar": {
              "outlinewidth": 0,
              "ticks": ""
             }
            },
            "type": "scattergeo"
           }
          ],
          "scattergl": [
           {
            "marker": {
             "colorbar": {
              "outlinewidth": 0,
              "ticks": ""
             }
            },
            "type": "scattergl"
           }
          ],
          "scattermapbox": [
           {
            "marker": {
             "colorbar": {
              "outlinewidth": 0,
              "ticks": ""
             }
            },
            "type": "scattermapbox"
           }
          ],
          "scatterpolar": [
           {
            "marker": {
             "colorbar": {
              "outlinewidth": 0,
              "ticks": ""
             }
            },
            "type": "scatterpolar"
           }
          ],
          "scatterpolargl": [
           {
            "marker": {
             "colorbar": {
              "outlinewidth": 0,
              "ticks": ""
             }
            },
            "type": "scatterpolargl"
           }
          ],
          "scatterternary": [
           {
            "marker": {
             "colorbar": {
              "outlinewidth": 0,
              "ticks": ""
             }
            },
            "type": "scatterternary"
           }
          ],
          "surface": [
           {
            "colorbar": {
             "outlinewidth": 0,
             "ticks": ""
            },
            "colorscale": [
             [
              0,
              "#0d0887"
             ],
             [
              0.1111111111111111,
              "#46039f"
             ],
             [
              0.2222222222222222,
              "#7201a8"
             ],
             [
              0.3333333333333333,
              "#9c179e"
             ],
             [
              0.4444444444444444,
              "#bd3786"
             ],
             [
              0.5555555555555556,
              "#d8576b"
             ],
             [
              0.6666666666666666,
              "#ed7953"
             ],
             [
              0.7777777777777778,
              "#fb9f3a"
             ],
             [
              0.8888888888888888,
              "#fdca26"
             ],
             [
              1,
              "#f0f921"
             ]
            ],
            "type": "surface"
           }
          ],
          "table": [
           {
            "cells": {
             "fill": {
              "color": "#EBF0F8"
             },
             "line": {
              "color": "white"
             }
            },
            "header": {
             "fill": {
              "color": "#C8D4E3"
             },
             "line": {
              "color": "white"
             }
            },
            "type": "table"
           }
          ]
         },
         "layout": {
          "annotationdefaults": {
           "arrowcolor": "#2a3f5f",
           "arrowhead": 0,
           "arrowwidth": 1
          },
          "autotypenumbers": "strict",
          "coloraxis": {
           "colorbar": {
            "outlinewidth": 0,
            "ticks": ""
           }
          },
          "colorscale": {
           "diverging": [
            [
             0,
             "#8e0152"
            ],
            [
             0.1,
             "#c51b7d"
            ],
            [
             0.2,
             "#de77ae"
            ],
            [
             0.3,
             "#f1b6da"
            ],
            [
             0.4,
             "#fde0ef"
            ],
            [
             0.5,
             "#f7f7f7"
            ],
            [
             0.6,
             "#e6f5d0"
            ],
            [
             0.7,
             "#b8e186"
            ],
            [
             0.8,
             "#7fbc41"
            ],
            [
             0.9,
             "#4d9221"
            ],
            [
             1,
             "#276419"
            ]
           ],
           "sequential": [
            [
             0,
             "#0d0887"
            ],
            [
             0.1111111111111111,
             "#46039f"
            ],
            [
             0.2222222222222222,
             "#7201a8"
            ],
            [
             0.3333333333333333,
             "#9c179e"
            ],
            [
             0.4444444444444444,
             "#bd3786"
            ],
            [
             0.5555555555555556,
             "#d8576b"
            ],
            [
             0.6666666666666666,
             "#ed7953"
            ],
            [
             0.7777777777777778,
             "#fb9f3a"
            ],
            [
             0.8888888888888888,
             "#fdca26"
            ],
            [
             1,
             "#f0f921"
            ]
           ],
           "sequentialminus": [
            [
             0,
             "#0d0887"
            ],
            [
             0.1111111111111111,
             "#46039f"
            ],
            [
             0.2222222222222222,
             "#7201a8"
            ],
            [
             0.3333333333333333,
             "#9c179e"
            ],
            [
             0.4444444444444444,
             "#bd3786"
            ],
            [
             0.5555555555555556,
             "#d8576b"
            ],
            [
             0.6666666666666666,
             "#ed7953"
            ],
            [
             0.7777777777777778,
             "#fb9f3a"
            ],
            [
             0.8888888888888888,
             "#fdca26"
            ],
            [
             1,
             "#f0f921"
            ]
           ]
          },
          "colorway": [
           "#636efa",
           "#EF553B",
           "#00cc96",
           "#ab63fa",
           "#FFA15A",
           "#19d3f3",
           "#FF6692",
           "#B6E880",
           "#FF97FF",
           "#FECB52"
          ],
          "font": {
           "color": "#2a3f5f"
          },
          "geo": {
           "bgcolor": "white",
           "lakecolor": "white",
           "landcolor": "#E5ECF6",
           "showlakes": true,
           "showland": true,
           "subunitcolor": "white"
          },
          "hoverlabel": {
           "align": "left"
          },
          "hovermode": "closest",
          "mapbox": {
           "style": "light"
          },
          "paper_bgcolor": "white",
          "plot_bgcolor": "#E5ECF6",
          "polar": {
           "angularaxis": {
            "gridcolor": "white",
            "linecolor": "white",
            "ticks": ""
           },
           "bgcolor": "#E5ECF6",
           "radialaxis": {
            "gridcolor": "white",
            "linecolor": "white",
            "ticks": ""
           }
          },
          "scene": {
           "xaxis": {
            "backgroundcolor": "#E5ECF6",
            "gridcolor": "white",
            "gridwidth": 2,
            "linecolor": "white",
            "showbackground": true,
            "ticks": "",
            "zerolinecolor": "white"
           },
           "yaxis": {
            "backgroundcolor": "#E5ECF6",
            "gridcolor": "white",
            "gridwidth": 2,
            "linecolor": "white",
            "showbackground": true,
            "ticks": "",
            "zerolinecolor": "white"
           },
           "zaxis": {
            "backgroundcolor": "#E5ECF6",
            "gridcolor": "white",
            "gridwidth": 2,
            "linecolor": "white",
            "showbackground": true,
            "ticks": "",
            "zerolinecolor": "white"
           }
          },
          "shapedefaults": {
           "line": {
            "color": "#2a3f5f"
           }
          },
          "ternary": {
           "aaxis": {
            "gridcolor": "white",
            "linecolor": "white",
            "ticks": ""
           },
           "baxis": {
            "gridcolor": "white",
            "linecolor": "white",
            "ticks": ""
           },
           "bgcolor": "#E5ECF6",
           "caxis": {
            "gridcolor": "white",
            "linecolor": "white",
            "ticks": ""
           }
          },
          "title": {
           "x": 0.05
          },
          "xaxis": {
           "automargin": true,
           "gridcolor": "white",
           "linecolor": "white",
           "ticks": "",
           "title": {
            "standoff": 15
           },
           "zerolinecolor": "white",
           "zerolinewidth": 2
          },
          "yaxis": {
           "automargin": true,
           "gridcolor": "white",
           "linecolor": "white",
           "ticks": "",
           "title": {
            "standoff": 15
           },
           "zerolinecolor": "white",
           "zerolinewidth": 2
          }
         }
        },
        "title": {
         "text": "Top 5 Hashtags"
        },
        "width": 500
       }
      },
      "text/html": [
       "<div>                            <div id=\"e1ad8727-c95b-4c9e-8798-067ceea6fecd\" class=\"plotly-graph-div\" style=\"height:500px; width:500px;\"></div>            <script type=\"text/javascript\">                require([\"plotly\"], function(Plotly) {                    window.PLOTLYENV=window.PLOTLYENV || {};                                    if (document.getElementById(\"e1ad8727-c95b-4c9e-8798-067ceea6fecd\")) {                    Plotly.newPlot(                        \"e1ad8727-c95b-4c9e-8798-067ceea6fecd\",                        [{\"domain\":{\"x\":[0.0,1.0],\"y\":[0.0,1.0]},\"hovertemplate\":\"label=%{label}<br>value=%{value}<extra></extra>\",\"labels\":[\"#food\",\"#foodblogger\",\"#instafood\",\"#instagram\",\"#foodiesofinstagram\"],\"legendgroup\":\"\",\"name\":\"\",\"showlegend\":true,\"values\":[25,24,19,18,18],\"type\":\"pie\"}],                        {\"template\":{\"data\":{\"bar\":[{\"error_x\":{\"color\":\"#2a3f5f\"},\"error_y\":{\"color\":\"#2a3f5f\"},\"marker\":{\"line\":{\"color\":\"#E5ECF6\",\"width\":0.5},\"pattern\":{\"fillmode\":\"overlay\",\"size\":10,\"solidity\":0.2}},\"type\":\"bar\"}],\"barpolar\":[{\"marker\":{\"line\":{\"color\":\"#E5ECF6\",\"width\":0.5},\"pattern\":{\"fillmode\":\"overlay\",\"size\":10,\"solidity\":0.2}},\"type\":\"barpolar\"}],\"carpet\":[{\"aaxis\":{\"endlinecolor\":\"#2a3f5f\",\"gridcolor\":\"white\",\"linecolor\":\"white\",\"minorgridcolor\":\"white\",\"startlinecolor\":\"#2a3f5f\"},\"baxis\":{\"endlinecolor\":\"#2a3f5f\",\"gridcolor\":\"white\",\"linecolor\":\"white\",\"minorgridcolor\":\"white\",\"startlinecolor\":\"#2a3f5f\"},\"type\":\"carpet\"}],\"choropleth\":[{\"colorbar\":{\"outlinewidth\":0,\"ticks\":\"\"},\"type\":\"choropleth\"}],\"contour\":[{\"colorbar\":{\"outlinewidth\":0,\"ticks\":\"\"},\"colorscale\":[[0.0,\"#0d0887\"],[0.1111111111111111,\"#46039f\"],[0.2222222222222222,\"#7201a8\"],[0.3333333333333333,\"#9c179e\"],[0.4444444444444444,\"#bd3786\"],[0.5555555555555556,\"#d8576b\"],[0.6666666666666666,\"#ed7953\"],[0.7777777777777778,\"#fb9f3a\"],[0.8888888888888888,\"#fdca26\"],[1.0,\"#f0f921\"]],\"type\":\"contour\"}],\"contourcarpet\":[{\"colorbar\":{\"outlinewidth\":0,\"ticks\":\"\"},\"type\":\"contourcarpet\"}],\"heatmap\":[{\"colorbar\":{\"outlinewidth\":0,\"ticks\":\"\"},\"colorscale\":[[0.0,\"#0d0887\"],[0.1111111111111111,\"#46039f\"],[0.2222222222222222,\"#7201a8\"],[0.3333333333333333,\"#9c179e\"],[0.4444444444444444,\"#bd3786\"],[0.5555555555555556,\"#d8576b\"],[0.6666666666666666,\"#ed7953\"],[0.7777777777777778,\"#fb9f3a\"],[0.8888888888888888,\"#fdca26\"],[1.0,\"#f0f921\"]],\"type\":\"heatmap\"}],\"heatmapgl\":[{\"colorbar\":{\"outlinewidth\":0,\"ticks\":\"\"},\"colorscale\":[[0.0,\"#0d0887\"],[0.1111111111111111,\"#46039f\"],[0.2222222222222222,\"#7201a8\"],[0.3333333333333333,\"#9c179e\"],[0.4444444444444444,\"#bd3786\"],[0.5555555555555556,\"#d8576b\"],[0.6666666666666666,\"#ed7953\"],[0.7777777777777778,\"#fb9f3a\"],[0.8888888888888888,\"#fdca26\"],[1.0,\"#f0f921\"]],\"type\":\"heatmapgl\"}],\"histogram\":[{\"marker\":{\"pattern\":{\"fillmode\":\"overlay\",\"size\":10,\"solidity\":0.2}},\"type\":\"histogram\"}],\"histogram2d\":[{\"colorbar\":{\"outlinewidth\":0,\"ticks\":\"\"},\"colorscale\":[[0.0,\"#0d0887\"],[0.1111111111111111,\"#46039f\"],[0.2222222222222222,\"#7201a8\"],[0.3333333333333333,\"#9c179e\"],[0.4444444444444444,\"#bd3786\"],[0.5555555555555556,\"#d8576b\"],[0.6666666666666666,\"#ed7953\"],[0.7777777777777778,\"#fb9f3a\"],[0.8888888888888888,\"#fdca26\"],[1.0,\"#f0f921\"]],\"type\":\"histogram2d\"}],\"histogram2dcontour\":[{\"colorbar\":{\"outlinewidth\":0,\"ticks\":\"\"},\"colorscale\":[[0.0,\"#0d0887\"],[0.1111111111111111,\"#46039f\"],[0.2222222222222222,\"#7201a8\"],[0.3333333333333333,\"#9c179e\"],[0.4444444444444444,\"#bd3786\"],[0.5555555555555556,\"#d8576b\"],[0.6666666666666666,\"#ed7953\"],[0.7777777777777778,\"#fb9f3a\"],[0.8888888888888888,\"#fdca26\"],[1.0,\"#f0f921\"]],\"type\":\"histogram2dcontour\"}],\"mesh3d\":[{\"colorbar\":{\"outlinewidth\":0,\"ticks\":\"\"},\"type\":\"mesh3d\"}],\"parcoords\":[{\"line\":{\"colorbar\":{\"outlinewidth\":0,\"ticks\":\"\"}},\"type\":\"parcoords\"}],\"pie\":[{\"automargin\":true,\"type\":\"pie\"}],\"scatter\":[{\"marker\":{\"colorbar\":{\"outlinewidth\":0,\"ticks\":\"\"}},\"type\":\"scatter\"}],\"scatter3d\":[{\"line\":{\"colorbar\":{\"outlinewidth\":0,\"ticks\":\"\"}},\"marker\":{\"colorbar\":{\"outlinewidth\":0,\"ticks\":\"\"}},\"type\":\"scatter3d\"}],\"scattercarpet\":[{\"marker\":{\"colorbar\":{\"outlinewidth\":0,\"ticks\":\"\"}},\"type\":\"scattercarpet\"}],\"scattergeo\":[{\"marker\":{\"colorbar\":{\"outlinewidth\":0,\"ticks\":\"\"}},\"type\":\"scattergeo\"}],\"scattergl\":[{\"marker\":{\"colorbar\":{\"outlinewidth\":0,\"ticks\":\"\"}},\"type\":\"scattergl\"}],\"scattermapbox\":[{\"marker\":{\"colorbar\":{\"outlinewidth\":0,\"ticks\":\"\"}},\"type\":\"scattermapbox\"}],\"scatterpolar\":[{\"marker\":{\"colorbar\":{\"outlinewidth\":0,\"ticks\":\"\"}},\"type\":\"scatterpolar\"}],\"scatterpolargl\":[{\"marker\":{\"colorbar\":{\"outlinewidth\":0,\"ticks\":\"\"}},\"type\":\"scatterpolargl\"}],\"scatterternary\":[{\"marker\":{\"colorbar\":{\"outlinewidth\":0,\"ticks\":\"\"}},\"type\":\"scatterternary\"}],\"surface\":[{\"colorbar\":{\"outlinewidth\":0,\"ticks\":\"\"},\"colorscale\":[[0.0,\"#0d0887\"],[0.1111111111111111,\"#46039f\"],[0.2222222222222222,\"#7201a8\"],[0.3333333333333333,\"#9c179e\"],[0.4444444444444444,\"#bd3786\"],[0.5555555555555556,\"#d8576b\"],[0.6666666666666666,\"#ed7953\"],[0.7777777777777778,\"#fb9f3a\"],[0.8888888888888888,\"#fdca26\"],[1.0,\"#f0f921\"]],\"type\":\"surface\"}],\"table\":[{\"cells\":{\"fill\":{\"color\":\"#EBF0F8\"},\"line\":{\"color\":\"white\"}},\"header\":{\"fill\":{\"color\":\"#C8D4E3\"},\"line\":{\"color\":\"white\"}},\"type\":\"table\"}]},\"layout\":{\"annotationdefaults\":{\"arrowcolor\":\"#2a3f5f\",\"arrowhead\":0,\"arrowwidth\":1},\"autotypenumbers\":\"strict\",\"coloraxis\":{\"colorbar\":{\"outlinewidth\":0,\"ticks\":\"\"}},\"colorscale\":{\"diverging\":[[0,\"#8e0152\"],[0.1,\"#c51b7d\"],[0.2,\"#de77ae\"],[0.3,\"#f1b6da\"],[0.4,\"#fde0ef\"],[0.5,\"#f7f7f7\"],[0.6,\"#e6f5d0\"],[0.7,\"#b8e186\"],[0.8,\"#7fbc41\"],[0.9,\"#4d9221\"],[1,\"#276419\"]],\"sequential\":[[0.0,\"#0d0887\"],[0.1111111111111111,\"#46039f\"],[0.2222222222222222,\"#7201a8\"],[0.3333333333333333,\"#9c179e\"],[0.4444444444444444,\"#bd3786\"],[0.5555555555555556,\"#d8576b\"],[0.6666666666666666,\"#ed7953\"],[0.7777777777777778,\"#fb9f3a\"],[0.8888888888888888,\"#fdca26\"],[1.0,\"#f0f921\"]],\"sequentialminus\":[[0.0,\"#0d0887\"],[0.1111111111111111,\"#46039f\"],[0.2222222222222222,\"#7201a8\"],[0.3333333333333333,\"#9c179e\"],[0.4444444444444444,\"#bd3786\"],[0.5555555555555556,\"#d8576b\"],[0.6666666666666666,\"#ed7953\"],[0.7777777777777778,\"#fb9f3a\"],[0.8888888888888888,\"#fdca26\"],[1.0,\"#f0f921\"]]},\"colorway\":[\"#636efa\",\"#EF553B\",\"#00cc96\",\"#ab63fa\",\"#FFA15A\",\"#19d3f3\",\"#FF6692\",\"#B6E880\",\"#FF97FF\",\"#FECB52\"],\"font\":{\"color\":\"#2a3f5f\"},\"geo\":{\"bgcolor\":\"white\",\"lakecolor\":\"white\",\"landcolor\":\"#E5ECF6\",\"showlakes\":true,\"showland\":true,\"subunitcolor\":\"white\"},\"hoverlabel\":{\"align\":\"left\"},\"hovermode\":\"closest\",\"mapbox\":{\"style\":\"light\"},\"paper_bgcolor\":\"white\",\"plot_bgcolor\":\"#E5ECF6\",\"polar\":{\"angularaxis\":{\"gridcolor\":\"white\",\"linecolor\":\"white\",\"ticks\":\"\"},\"bgcolor\":\"#E5ECF6\",\"radialaxis\":{\"gridcolor\":\"white\",\"linecolor\":\"white\",\"ticks\":\"\"}},\"scene\":{\"xaxis\":{\"backgroundcolor\":\"#E5ECF6\",\"gridcolor\":\"white\",\"gridwidth\":2,\"linecolor\":\"white\",\"showbackground\":true,\"ticks\":\"\",\"zerolinecolor\":\"white\"},\"yaxis\":{\"backgroundcolor\":\"#E5ECF6\",\"gridcolor\":\"white\",\"gridwidth\":2,\"linecolor\":\"white\",\"showbackground\":true,\"ticks\":\"\",\"zerolinecolor\":\"white\"},\"zaxis\":{\"backgroundcolor\":\"#E5ECF6\",\"gridcolor\":\"white\",\"gridwidth\":2,\"linecolor\":\"white\",\"showbackground\":true,\"ticks\":\"\",\"zerolinecolor\":\"white\"}},\"shapedefaults\":{\"line\":{\"color\":\"#2a3f5f\"}},\"ternary\":{\"aaxis\":{\"gridcolor\":\"white\",\"linecolor\":\"white\",\"ticks\":\"\"},\"baxis\":{\"gridcolor\":\"white\",\"linecolor\":\"white\",\"ticks\":\"\"},\"bgcolor\":\"#E5ECF6\",\"caxis\":{\"gridcolor\":\"white\",\"linecolor\":\"white\",\"ticks\":\"\"}},\"title\":{\"x\":0.05},\"xaxis\":{\"automargin\":true,\"gridcolor\":\"white\",\"linecolor\":\"white\",\"ticks\":\"\",\"title\":{\"standoff\":15},\"zerolinecolor\":\"white\",\"zerolinewidth\":2},\"yaxis\":{\"automargin\":true,\"gridcolor\":\"white\",\"linecolor\":\"white\",\"ticks\":\"\",\"title\":{\"standoff\":15},\"zerolinecolor\":\"white\",\"zerolinewidth\":2}}},\"legend\":{\"tracegroupgap\":0},\"title\":{\"text\":\"Top 5 Hashtags\"},\"height\":500,\"width\":500},                        {\"responsive\": true}                    ).then(function(){\n",
       "                            \n",
       "var gd = document.getElementById('e1ad8727-c95b-4c9e-8798-067ceea6fecd');\n",
       "var x = new MutationObserver(function (mutations, observer) {{\n",
       "        var display = window.getComputedStyle(gd).display;\n",
       "        if (!display || display === 'none') {{\n",
       "            console.log([gd, 'removed!']);\n",
       "            Plotly.purge(gd);\n",
       "            observer.disconnect();\n",
       "        }}\n",
       "}});\n",
       "\n",
       "// Listen for the removal of the full notebook cells\n",
       "var notebookContainer = gd.closest('#notebook-container');\n",
       "if (notebookContainer) {{\n",
       "    x.observe(notebookContainer, {childList: true});\n",
       "}}\n",
       "\n",
       "// Listen for the clearing of the current output cell\n",
       "var outputEl = gd.closest('.output');\n",
       "if (outputEl) {{\n",
       "    x.observe(outputEl, {childList: true});\n",
       "}}\n",
       "\n",
       "                        })                };                });            </script>        </div>"
      ]
     },
     "metadata": {},
     "output_type": "display_data"
    }
   ],
   "source": [
    "# for better visual experince i am using the plotly\n",
    "x = df_hashtags['Hashtags'][:5] # Top 5 Hastags Names\n",
    "y = df_hashtags['Frequency'][:5] # Top 5 Hastags Frequencies\n",
    "\n",
    "#note: I don't know that\n",
    "plotly.pie(df_hashtags, names=x, values=y, height=500, width=500, title='Top 5 Hashtags')"
   ]
  },
  {
   "attachments": {
    "newplot%20%283%29.png": {
     "image/png": "[encoded data removed]"
    }
   },
   "cell_type": "markdown",
   "id": "8cbd2952",
   "metadata": {},
   "source": [
    "![newplot%20%283%29.png](attachment:newplot%20%283%29.png)"
   ]
  },
  {
   "cell_type": "markdown",
   "id": "b60a349b",
   "metadata": {},
   "source": [
    "#### 3You need to also calculate average followers : likes ratio for the obtained handles. Followers : Likes ratio is calculated as follows:"
   ]
  },
  {
   "cell_type": "code",
   "execution_count": 368,
   "id": "336608ee",
   "metadata": {},
   "outputs": [
    {
     "data": {
      "text/plain": [
       "['foodtalkindia',\n",
       " 'nom.nom.foodie',\n",
       " 'foodies_ikkada',\n",
       " 'maayabazar_food',\n",
       " 'food']"
      ]
     },
     "execution_count": 368,
     "metadata": {},
     "output_type": "execute_result"
    }
   ],
   "source": [
    "username"
   ]
  },
  {
   "cell_type": "code",
   "execution_count": 159,
   "id": "4a123124",
   "metadata": {},
   "outputs": [],
   "source": [
    "li = ['foodtalkindia',\n",
    " 'nom.nom.foodie',\n",
    " 'foodies_ikkada',\n",
    " 'maayabazar_food',\n",
    " 'food']"
   ]
  },
  {
   "cell_type": "code",
   "execution_count": 318,
   "id": "12cc31f3",
   "metadata": {},
   "outputs": [],
   "source": [
    "def likes_of_posts(username):\n",
    "    search_and_open(username)\n",
    "    Total = 0\n",
    "    wait.until(EC.presence_of_element_located((by.CLASS_NAME, '_aabd._aa8k._aanf'))).click()\n",
    "    time.sleep(2)\n",
    "    time.sleep(3)\n",
    "    for i in range(1, 11):\n",
    "        wait.until(EC.presence_of_element_located((by.LINK_TEXT, 'others'))).click()\n",
    "        frame = wait.until(EC.presence_of_element_located((by.XPATH,'//*[@id=\"mount_0_0_pV\"]/div/div/div/div[2]/div/div/div[2]/div/div/div[1]/div/div[2]/div/div/div/div/div[2]/div/div[3]/div')))\n",
    "        for i in range(50):\n",
    "            time.sleep(2)\n",
    "            li = driver.find_elements(by.CLASS_NAME, '_ab8y._ab94._ab97._ab9f._ab9k._ab9p._abcm')\n",
    "            Total += len(li)\n",
    "            driver.execute_script('arguments[0].scrollTop=arguments[0].scrollHeight',frame)\n",
    "        driver.find_element(by.CLASS_NAME, '_ac7b._ac7d').click()\n",
    "        wait.until(EC.presence_of_element_located((by.CLASS_NAME, '_aaqg._aaqh'))).click()\n",
    "\n",
    "        return Total"
   ]
  },
  {
   "cell_type": "markdown",
   "id": "07f976f5",
   "metadata": {},
   "source": [
    "#### due to some instagram privacy features\n",
    "#### user only can see the total number of people who liked this post. but I extracted maximum"
   ]
  },
  {
   "cell_type": "markdown",
   "id": "0e718bbe",
   "metadata": {},
   "source": [
    "#### 3.1 Find out the likes of the top 10 posts of the 5 handles obtained earlier."
   ]
  },
  {
   "cell_type": "code",
   "execution_count": 170,
   "id": "c33c815b",
   "metadata": {},
   "outputs": [
    {
     "data": {
      "text/plain": [
       "['foodtalkindia',\n",
       " 'nom.nom.foodie',\n",
       " 'foodies_ikkada',\n",
       " 'maayabazar_food',\n",
       " 'food']"
      ]
     },
     "execution_count": 170,
     "metadata": {},
     "output_type": "execute_result"
    }
   ],
   "source": [
    "li"
   ]
  },
  {
   "cell_type": "code",
   "execution_count": 201,
   "id": "218983c5",
   "metadata": {},
   "outputs": [
    {
     "name": "stdout",
     "output_type": "stream",
     "text": [
      "Opened Profile:  foodtalkindia\n"
     ]
    }
   ],
   "source": [
    "foodtalkindia_likes = likes_of_posts('foodtalkindia')"
   ]
  },
  {
   "cell_type": "code",
   "execution_count": 202,
   "id": "7b043eb5",
   "metadata": {
    "scrolled": true
   },
   "outputs": [
    {
     "data": {
      "text/plain": [
       "6409"
      ]
     },
     "execution_count": 202,
     "metadata": {},
     "output_type": "execute_result"
    }
   ],
   "source": [
    "foodtalkindia_likes"
   ]
  },
  {
   "cell_type": "code",
   "execution_count": 218,
   "id": "61918e7a",
   "metadata": {},
   "outputs": [
    {
     "name": "stdout",
     "output_type": "stream",
     "text": [
      "Opened Profile:  nom.nom.foodie\n"
     ]
    }
   ],
   "source": [
    "nom_likes = likes_of_posts('nom.nom.foodie')"
   ]
  },
  {
   "cell_type": "code",
   "execution_count": 219,
   "id": "6ba49897",
   "metadata": {},
   "outputs": [
    {
     "data": {
      "text/plain": [
       "7290"
      ]
     },
     "execution_count": 219,
     "metadata": {},
     "output_type": "execute_result"
    }
   ],
   "source": [
    "nom_likes"
   ]
  },
  {
   "cell_type": "code",
   "execution_count": 214,
   "id": "c71a71f0",
   "metadata": {},
   "outputs": [
    {
     "name": "stdout",
     "output_type": "stream",
     "text": [
      "Opened Profile:  foodies_ikkada\n"
     ]
    }
   ],
   "source": [
    "foodies_likes = likes_of_posts('foodies_ikkada')"
   ]
  },
  {
   "cell_type": "code",
   "execution_count": 215,
   "id": "099d6e56",
   "metadata": {},
   "outputs": [
    {
     "data": {
      "text/plain": [
       "4710"
      ]
     },
     "execution_count": 215,
     "metadata": {},
     "output_type": "execute_result"
    }
   ],
   "source": [
    "foodies_likes"
   ]
  },
  {
   "cell_type": "code",
   "execution_count": 207,
   "id": "ba4f7182",
   "metadata": {},
   "outputs": [
    {
     "name": "stdout",
     "output_type": "stream",
     "text": [
      "Opened Profile:  maayabazar_food\n"
     ]
    }
   ],
   "source": [
    "maayabazarfood_likes = likes_of_posts('maayabazar_food')"
   ]
  },
  {
   "cell_type": "code",
   "execution_count": 208,
   "id": "4ea2ab21",
   "metadata": {},
   "outputs": [
    {
     "data": {
      "text/plain": [
       "6526"
      ]
     },
     "execution_count": 208,
     "metadata": {},
     "output_type": "execute_result"
    }
   ],
   "source": [
    "maayabazarfood_likes"
   ]
  },
  {
   "cell_type": "code",
   "execution_count": 210,
   "id": "3a31ce39",
   "metadata": {},
   "outputs": [
    {
     "name": "stdout",
     "output_type": "stream",
     "text": [
      "Opened Profile:  food\n"
     ]
    }
   ],
   "source": [
    "food_likes = likes_of_posts('food')"
   ]
  },
  {
   "cell_type": "code",
   "execution_count": 217,
   "id": "458b5de1",
   "metadata": {},
   "outputs": [
    {
     "data": {
      "text/plain": [
       "6119"
      ]
     },
     "execution_count": 217,
     "metadata": {},
     "output_type": "execute_result"
    }
   ],
   "source": [
    "food_likes"
   ]
  },
  {
   "cell_type": "code",
   "execution_count": 220,
   "id": "56ce94f6",
   "metadata": {},
   "outputs": [],
   "source": [
    "likes = [foodtalkindia_likes, nom_likes, foodies_likes, maayabazarfood_likes, food_likes]"
   ]
  },
  {
   "cell_type": "code",
   "execution_count": 224,
   "id": "873b4ac7",
   "metadata": {},
   "outputs": [
    {
     "name": "stdout",
     "output_type": "stream",
     "text": [
      "foodtalkindia ---> 6409\n",
      "nom.nom.foodie ---> 7290\n",
      "foodies_ikkada ---> 4710\n",
      "maayabazar_food ---> 6526\n",
      "food ---> 6119\n"
     ]
    }
   ],
   "source": [
    "for i in range(len(likes)):\n",
    "    print(li[i], '--->', likes[i])"
   ]
  },
  {
   "cell_type": "code",
   "execution_count": 235,
   "id": "aaf60ff7",
   "metadata": {},
   "outputs": [],
   "source": [
    "def Avg_likes(likes, posts):\n",
    "    avg = likes // posts\n",
    "    return avg"
   ]
  },
  {
   "cell_type": "markdown",
   "id": "edd78cbf",
   "metadata": {},
   "source": [
    "#### 3.2 Calculate the average likes for a handle."
   ]
  },
  {
   "cell_type": "code",
   "execution_count": 246,
   "id": "a6cf6e8e",
   "metadata": {},
   "outputs": [],
   "source": [
    "followers = [308802, 109597, 90865, 38831, 11144] #this data is taken already extracted you can find above"
   ]
  },
  {
   "cell_type": "code",
   "execution_count": 255,
   "id": "3f8cbd5e",
   "metadata": {},
   "outputs": [],
   "source": [
    "avg_likes_dict={}\n",
    "followers_dict={}\n",
    "for i in range(len(followers)):\n",
    "    followers_dict[li[i]]=followers[i]"
   ]
  },
  {
   "cell_type": "code",
   "execution_count": 265,
   "id": "99378e9d",
   "metadata": {},
   "outputs": [
    {
     "name": "stdout",
     "output_type": "stream",
     "text": [
      "foodtalkindia -------> 640\n",
      "nom.nom.foodie -------> 729\n",
      "foodies_ikkada -------> 471\n",
      "maayabazar_food -------> 652\n",
      "food -------> 611\n"
     ]
    }
   ],
   "source": [
    "for i in range(len(likes)):\n",
    "    avg = likes[i]//10\n",
    "    avg_likes_dict[li[i]] = avg\n",
    "    print(li[i], '------->',avg)"
   ]
  },
  {
   "cell_type": "markdown",
   "id": "e4c93be9",
   "metadata": {},
   "source": [
    "#### 3.3 Divide the average likes obtained from the number of followers of the handle to get the average followers:like ratio of each handle."
   ]
  },
  {
   "cell_type": "code",
   "execution_count": 297,
   "id": "e62b12a5",
   "metadata": {},
   "outputs": [
    {
     "name": "stdout",
     "output_type": "stream",
     "text": [
      "foodtalkindia ----> 482 : 640\n",
      "nom.nom.foodie ----> 150 : 729\n",
      "foodies_ikkada ----> 192 : 471\n",
      "maayabazar_food ----> 59 : 652\n",
      "food ----> 18 : 611\n"
     ]
    }
   ],
   "source": [
    "avg_like_followers ={}\n",
    "for i in li:\n",
    "    avg_followers_count = int(followers_dict[i]/avg_likes_dict[i])\n",
    "    avg_like_followers[i]=avg_followers_count\n",
    "    print(i,'---->',avg_followers_count,':',int(avg_likes_dict[i]))"
   ]
  },
  {
   "cell_type": "markdown",
   "id": "0b61a760",
   "metadata": {},
   "source": [
    "#### 3.4 Create a bar graph to depict the above obtained information."
   ]
  },
  {
   "cell_type": "code",
   "execution_count": 286,
   "id": "4ac8c4ec",
   "metadata": {},
   "outputs": [],
   "source": [
    "likes_dict = {'usernames': li, \"likes\": avg_likes_dict.values()}"
   ]
  },
  {
   "cell_type": "code",
   "execution_count": 287,
   "id": "8fe95d6c",
   "metadata": {},
   "outputs": [
    {
     "data": {
      "text/html": [
       "<div>\n",
       "<style scoped>\n",
       "    .dataframe tbody tr th:only-of-type {\n",
       "        vertical-align: middle;\n",
       "    }\n",
       "\n",
       "    .dataframe tbody tr th {\n",
       "        vertical-align: top;\n",
       "    }\n",
       "\n",
       "    .dataframe thead th {\n",
       "        text-align: right;\n",
       "    }\n",
       "</style>\n",
       "<table border=\"1\" class=\"dataframe\">\n",
       "  <thead>\n",
       "    <tr style=\"text-align: right;\">\n",
       "      <th></th>\n",
       "      <th>usernames</th>\n",
       "      <th>likes</th>\n",
       "    </tr>\n",
       "  </thead>\n",
       "  <tbody>\n",
       "    <tr>\n",
       "      <th>0</th>\n",
       "      <td>foodtalkindia</td>\n",
       "      <td>640</td>\n",
       "    </tr>\n",
       "    <tr>\n",
       "      <th>1</th>\n",
       "      <td>nom.nom.foodie</td>\n",
       "      <td>729</td>\n",
       "    </tr>\n",
       "    <tr>\n",
       "      <th>2</th>\n",
       "      <td>foodies_ikkada</td>\n",
       "      <td>471</td>\n",
       "    </tr>\n",
       "    <tr>\n",
       "      <th>3</th>\n",
       "      <td>maayabazar_food</td>\n",
       "      <td>652</td>\n",
       "    </tr>\n",
       "    <tr>\n",
       "      <th>4</th>\n",
       "      <td>food</td>\n",
       "      <td>611</td>\n",
       "    </tr>\n",
       "  </tbody>\n",
       "</table>\n",
       "</div>"
      ],
      "text/plain": [
       "         usernames  likes\n",
       "0    foodtalkindia    640\n",
       "1   nom.nom.foodie    729\n",
       "2   foodies_ikkada    471\n",
       "3  maayabazar_food    652\n",
       "4             food    611"
      ]
     },
     "execution_count": 287,
     "metadata": {},
     "output_type": "execute_result"
    }
   ],
   "source": [
    "df_avg_likes = pd.DataFrame(likes_dict)\n",
    "df_avg_likes"
   ]
  },
  {
   "cell_type": "code",
   "execution_count": 312,
   "id": "60eab774",
   "metadata": {},
   "outputs": [
    {
     "data": {
      "application/vnd.plotly.v1+json": {
       "config": {
        "plotlyServerURL": "https://plot.ly"
       },
       "data": [
        {
         "alignmentgroup": "True",
         "hovertemplate": "usernames=%{x}<br>likes=%{y}<extra></extra>",
         "legendgroup": "foodtalkindia",
         "marker": {
          "color": "#636efa",
          "pattern": {
           "shape": ""
          }
         },
         "name": "foodtalkindia",
         "offsetgroup": "foodtalkindia",
         "orientation": "v",
         "showlegend": true,
         "textposition": "auto",
         "type": "bar",
         "x": [
          "foodtalkindia"
         ],
         "xaxis": "x",
         "y": [
          640
         ],
         "yaxis": "y"
        },
        {
         "alignmentgroup": "True",
         "hovertemplate": "usernames=%{x}<br>likes=%{y}<extra></extra>",
         "legendgroup": "nom.nom.foodie",
         "marker": {
          "color": "#EF553B",
          "pattern": {
           "shape": ""
          }
         },
         "name": "nom.nom.foodie",
         "offsetgroup": "nom.nom.foodie",
         "orientation": "v",
         "showlegend": true,
         "textposition": "auto",
         "type": "bar",
         "x": [
          "nom.nom.foodie"
         ],
         "xaxis": "x",
         "y": [
          729
         ],
         "yaxis": "y"
        },
        {
         "alignmentgroup": "True",
         "hovertemplate": "usernames=%{x}<br>likes=%{y}<extra></extra>",
         "legendgroup": "foodies_ikkada",
         "marker": {
          "color": "#00cc96",
          "pattern": {
           "shape": ""
          }
         },
         "name": "foodies_ikkada",
         "offsetgroup": "foodies_ikkada",
         "orientation": "v",
         "showlegend": true,
         "textposition": "auto",
         "type": "bar",
         "x": [
          "foodies_ikkada"
         ],
         "xaxis": "x",
         "y": [
          471
         ],
         "yaxis": "y"
        },
        {
         "alignmentgroup": "True",
         "hovertemplate": "usernames=%{x}<br>likes=%{y}<extra></extra>",
         "legendgroup": "maayabazar_food",
         "marker": {
          "color": "#ab63fa",
          "pattern": {
           "shape": ""
          }
         },
         "name": "maayabazar_food",
         "offsetgroup": "maayabazar_food",
         "orientation": "v",
         "showlegend": true,
         "textposition": "auto",
         "type": "bar",
         "x": [
          "maayabazar_food"
         ],
         "xaxis": "x",
         "y": [
          652
         ],
         "yaxis": "y"
        },
        {
         "alignmentgroup": "True",
         "hovertemplate": "usernames=%{x}<br>likes=%{y}<extra></extra>",
         "legendgroup": "food",
         "marker": {
          "color": "#FFA15A",
          "pattern": {
           "shape": ""
          }
         },
         "name": "food",
         "offsetgroup": "food",
         "orientation": "v",
         "showlegend": true,
         "textposition": "auto",
         "type": "bar",
         "x": [
          "food"
         ],
         "xaxis": "x",
         "y": [
          611
         ],
         "yaxis": "y"
        }
       ],
       "layout": {
        "barmode": "relative",
        "legend": {
         "title": {
          "text": "usernames"
         },
         "tracegroupgap": 0
        },
        "template": {
         "data": {
          "bar": [
           {
            "error_x": {
             "color": "#2a3f5f"
            },
            "error_y": {
             "color": "#2a3f5f"
            },
            "marker": {
             "line": {
              "color": "#E5ECF6",
              "width": 0.5
             },
             "pattern": {
              "fillmode": "overlay",
              "size": 10,
              "solidity": 0.2
             }
            },
            "type": "bar"
           }
          ],
          "barpolar": [
           {
            "marker": {
             "line": {
              "color": "#E5ECF6",
              "width": 0.5
             },
             "pattern": {
              "fillmode": "overlay",
              "size": 10,
              "solidity": 0.2
             }
            },
            "type": "barpolar"
           }
          ],
          "carpet": [
           {
            "aaxis": {
             "endlinecolor": "#2a3f5f",
             "gridcolor": "white",
             "linecolor": "white",
             "minorgridcolor": "white",
             "startlinecolor": "#2a3f5f"
            },
            "baxis": {
             "endlinecolor": "#2a3f5f",
             "gridcolor": "white",
             "linecolor": "white",
             "minorgridcolor": "white",
             "startlinecolor": "#2a3f5f"
            },
            "type": "carpet"
           }
          ],
          "choropleth": [
           {
            "colorbar": {
             "outlinewidth": 0,
             "ticks": ""
            },
            "type": "choropleth"
           }
          ],
          "contour": [
           {
            "colorbar": {
             "outlinewidth": 0,
             "ticks": ""
            },
            "colorscale": [
             [
              0,
              "#0d0887"
             ],
             [
              0.1111111111111111,
              "#46039f"
             ],
             [
              0.2222222222222222,
              "#7201a8"
             ],
             [
              0.3333333333333333,
              "#9c179e"
             ],
             [
              0.4444444444444444,
              "#bd3786"
             ],
             [
              0.5555555555555556,
              "#d8576b"
             ],
             [
              0.6666666666666666,
              "#ed7953"
             ],
             [
              0.7777777777777778,
              "#fb9f3a"
             ],
             [
              0.8888888888888888,
              "#fdca26"
             ],
             [
              1,
              "#f0f921"
             ]
            ],
            "type": "contour"
           }
          ],
          "contourcarpet": [
           {
            "colorbar": {
             "outlinewidth": 0,
             "ticks": ""
            },
            "type": "contourcarpet"
           }
          ],
          "heatmap": [
           {
            "colorbar": {
             "outlinewidth": 0,
             "ticks": ""
            },
            "colorscale": [
             [
              0,
              "#0d0887"
             ],
             [
              0.1111111111111111,
              "#46039f"
             ],
             [
              0.2222222222222222,
              "#7201a8"
             ],
             [
              0.3333333333333333,
              "#9c179e"
             ],
             [
              0.4444444444444444,
              "#bd3786"
             ],
             [
              0.5555555555555556,
              "#d8576b"
             ],
             [
              0.6666666666666666,
              "#ed7953"
             ],
             [
              0.7777777777777778,
              "#fb9f3a"
             ],
             [
              0.8888888888888888,
              "#fdca26"
             ],
             [
              1,
              "#f0f921"
             ]
            ],
            "type": "heatmap"
           }
          ],
          "heatmapgl": [
           {
            "colorbar": {
             "outlinewidth": 0,
             "ticks": ""
            },
            "colorscale": [
             [
              0,
              "#0d0887"
             ],
             [
              0.1111111111111111,
              "#46039f"
             ],
             [
              0.2222222222222222,
              "#7201a8"
             ],
             [
              0.3333333333333333,
              "#9c179e"
             ],
             [
              0.4444444444444444,
              "#bd3786"
             ],
             [
              0.5555555555555556,
              "#d8576b"
             ],
             [
              0.6666666666666666,
              "#ed7953"
             ],
             [
              0.7777777777777778,
              "#fb9f3a"
             ],
             [
              0.8888888888888888,
              "#fdca26"
             ],
             [
              1,
              "#f0f921"
             ]
            ],
            "type": "heatmapgl"
           }
          ],
          "histogram": [
           {
            "marker": {
             "pattern": {
              "fillmode": "overlay",
              "size": 10,
              "solidity": 0.2
             }
            },
            "type": "histogram"
           }
          ],
          "histogram2d": [
           {
            "colorbar": {
             "outlinewidth": 0,
             "ticks": ""
            },
            "colorscale": [
             [
              0,
              "#0d0887"
             ],
             [
              0.1111111111111111,
              "#46039f"
             ],
             [
              0.2222222222222222,
              "#7201a8"
             ],
             [
              0.3333333333333333,
              "#9c179e"
             ],
             [
              0.4444444444444444,
              "#bd3786"
             ],
             [
              0.5555555555555556,
              "#d8576b"
             ],
             [
              0.6666666666666666,
              "#ed7953"
             ],
             [
              0.7777777777777778,
              "#fb9f3a"
             ],
             [
              0.8888888888888888,
              "#fdca26"
             ],
             [
              1,
              "#f0f921"
             ]
            ],
            "type": "histogram2d"
           }
          ],
          "histogram2dcontour": [
           {
            "colorbar": {
             "outlinewidth": 0,
             "ticks": ""
            },
            "colorscale": [
             [
              0,
              "#0d0887"
             ],
             [
              0.1111111111111111,
              "#46039f"
             ],
             [
              0.2222222222222222,
              "#7201a8"
             ],
             [
              0.3333333333333333,
              "#9c179e"
             ],
             [
              0.4444444444444444,
              "#bd3786"
             ],
             [
              0.5555555555555556,
              "#d8576b"
             ],
             [
              0.6666666666666666,
              "#ed7953"
             ],
             [
              0.7777777777777778,
              "#fb9f3a"
             ],
             [
              0.8888888888888888,
              "#fdca26"
             ],
             [
              1,
              "#f0f921"
             ]
            ],
            "type": "histogram2dcontour"
           }
          ],
          "mesh3d": [
           {
            "colorbar": {
             "outlinewidth": 0,
             "ticks": ""
            },
            "type": "mesh3d"
           }
          ],
          "parcoords": [
           {
            "line": {
             "colorbar": {
              "outlinewidth": 0,
              "ticks": ""
             }
            },
            "type": "parcoords"
           }
          ],
          "pie": [
           {
            "automargin": true,
            "type": "pie"
           }
          ],
          "scatter": [
           {
            "marker": {
             "colorbar": {
              "outlinewidth": 0,
              "ticks": ""
             }
            },
            "type": "scatter"
           }
          ],
          "scatter3d": [
           {
            "line": {
             "colorbar": {
              "outlinewidth": 0,
              "ticks": ""
             }
            },
            "marker": {
             "colorbar": {
              "outlinewidth": 0,
              "ticks": ""
             }
            },
            "type": "scatter3d"
           }
          ],
          "scattercarpet": [
           {
            "marker": {
             "colorbar": {
              "outlinewidth": 0,
              "ticks": ""
             }
            },
            "type": "scattercarpet"
           }
          ],
          "scattergeo": [
           {
            "marker": {
             "colorbar": {
              "outlinewidth": 0,
              "ticks": ""
             }
            },
            "type": "scattergeo"
           }
          ],
          "scattergl": [
           {
            "marker": {
             "colorbar": {
              "outlinewidth": 0,
              "ticks": ""
             }
            },
            "type": "scattergl"
           }
          ],
          "scattermapbox": [
           {
            "marker": {
             "colorbar": {
              "outlinewidth": 0,
              "ticks": ""
             }
            },
            "type": "scattermapbox"
           }
          ],
          "scatterpolar": [
           {
            "marker": {
             "colorbar": {
              "outlinewidth": 0,
              "ticks": ""
             }
            },
            "type": "scatterpolar"
           }
          ],
          "scatterpolargl": [
           {
            "marker": {
             "colorbar": {
              "outlinewidth": 0,
              "ticks": ""
             }
            },
            "type": "scatterpolargl"
           }
          ],
          "scatterternary": [
           {
            "marker": {
             "colorbar": {
              "outlinewidth": 0,
              "ticks": ""
             }
            },
            "type": "scatterternary"
           }
          ],
          "surface": [
           {
            "colorbar": {
             "outlinewidth": 0,
             "ticks": ""
            },
            "colorscale": [
             [
              0,
              "#0d0887"
             ],
             [
              0.1111111111111111,
              "#46039f"
             ],
             [
              0.2222222222222222,
              "#7201a8"
             ],
             [
              0.3333333333333333,
              "#9c179e"
             ],
             [
              0.4444444444444444,
              "#bd3786"
             ],
             [
              0.5555555555555556,
              "#d8576b"
             ],
             [
              0.6666666666666666,
              "#ed7953"
             ],
             [
              0.7777777777777778,
              "#fb9f3a"
             ],
             [
              0.8888888888888888,
              "#fdca26"
             ],
             [
              1,
              "#f0f921"
             ]
            ],
            "type": "surface"
           }
          ],
          "table": [
           {
            "cells": {
             "fill": {
              "color": "#EBF0F8"
             },
             "line": {
              "color": "white"
             }
            },
            "header": {
             "fill": {
              "color": "#C8D4E3"
             },
             "line": {
              "color": "white"
             }
            },
            "type": "table"
           }
          ]
         },
         "layout": {
          "annotationdefaults": {
           "arrowcolor": "#2a3f5f",
           "arrowhead": 0,
           "arrowwidth": 1
          },
          "autotypenumbers": "strict",
          "coloraxis": {
           "colorbar": {
            "outlinewidth": 0,
            "ticks": ""
           }
          },
          "colorscale": {
           "diverging": [
            [
             0,
             "#8e0152"
            ],
            [
             0.1,
             "#c51b7d"
            ],
            [
             0.2,
             "#de77ae"
            ],
            [
             0.3,
             "#f1b6da"
            ],
            [
             0.4,
             "#fde0ef"
            ],
            [
             0.5,
             "#f7f7f7"
            ],
            [
             0.6,
             "#e6f5d0"
            ],
            [
             0.7,
             "#b8e186"
            ],
            [
             0.8,
             "#7fbc41"
            ],
            [
             0.9,
             "#4d9221"
            ],
            [
             1,
             "#276419"
            ]
           ],
           "sequential": [
            [
             0,
             "#0d0887"
            ],
            [
             0.1111111111111111,
             "#46039f"
            ],
            [
             0.2222222222222222,
             "#7201a8"
            ],
            [
             0.3333333333333333,
             "#9c179e"
            ],
            [
             0.4444444444444444,
             "#bd3786"
            ],
            [
             0.5555555555555556,
             "#d8576b"
            ],
            [
             0.6666666666666666,
             "#ed7953"
            ],
            [
             0.7777777777777778,
             "#fb9f3a"
            ],
            [
             0.8888888888888888,
             "#fdca26"
            ],
            [
             1,
             "#f0f921"
            ]
           ],
           "sequentialminus": [
            [
             0,
             "#0d0887"
            ],
            [
             0.1111111111111111,
             "#46039f"
            ],
            [
             0.2222222222222222,
             "#7201a8"
            ],
            [
             0.3333333333333333,
             "#9c179e"
            ],
            [
             0.4444444444444444,
             "#bd3786"
            ],
            [
             0.5555555555555556,
             "#d8576b"
            ],
            [
             0.6666666666666666,
             "#ed7953"
            ],
            [
             0.7777777777777778,
             "#fb9f3a"
            ],
            [
             0.8888888888888888,
             "#fdca26"
            ],
            [
             1,
             "#f0f921"
            ]
           ]
          },
          "colorway": [
           "#636efa",
           "#EF553B",
           "#00cc96",
           "#ab63fa",
           "#FFA15A",
           "#19d3f3",
           "#FF6692",
           "#B6E880",
           "#FF97FF",
           "#FECB52"
          ],
          "font": {
           "color": "#2a3f5f"
          },
          "geo": {
           "bgcolor": "white",
           "lakecolor": "white",
           "landcolor": "#E5ECF6",
           "showlakes": true,
           "showland": true,
           "subunitcolor": "white"
          },
          "hoverlabel": {
           "align": "left"
          },
          "hovermode": "closest",
          "mapbox": {
           "style": "light"
          },
          "paper_bgcolor": "white",
          "plot_bgcolor": "#E5ECF6",
          "polar": {
           "angularaxis": {
            "gridcolor": "white",
            "linecolor": "white",
            "ticks": ""
           },
           "bgcolor": "#E5ECF6",
           "radialaxis": {
            "gridcolor": "white",
            "linecolor": "white",
            "ticks": ""
           }
          },
          "scene": {
           "xaxis": {
            "backgroundcolor": "#E5ECF6",
            "gridcolor": "white",
            "gridwidth": 2,
            "linecolor": "white",
            "showbackground": true,
            "ticks": "",
            "zerolinecolor": "white"
           },
           "yaxis": {
            "backgroundcolor": "#E5ECF6",
            "gridcolor": "white",
            "gridwidth": 2,
            "linecolor": "white",
            "showbackground": true,
            "ticks": "",
            "zerolinecolor": "white"
           },
           "zaxis": {
            "backgroundcolor": "#E5ECF6",
            "gridcolor": "white",
            "gridwidth": 2,
            "linecolor": "white",
            "showbackground": true,
            "ticks": "",
            "zerolinecolor": "white"
           }
          },
          "shapedefaults": {
           "line": {
            "color": "#2a3f5f"
           }
          },
          "ternary": {
           "aaxis": {
            "gridcolor": "white",
            "linecolor": "white",
            "ticks": ""
           },
           "baxis": {
            "gridcolor": "white",
            "linecolor": "white",
            "ticks": ""
           },
           "bgcolor": "#E5ECF6",
           "caxis": {
            "gridcolor": "white",
            "linecolor": "white",
            "ticks": ""
           }
          },
          "title": {
           "x": 0.05
          },
          "xaxis": {
           "automargin": true,
           "gridcolor": "white",
           "linecolor": "white",
           "ticks": "",
           "title": {
            "standoff": 15
           },
           "zerolinecolor": "white",
           "zerolinewidth": 2
          },
          "yaxis": {
           "automargin": true,
           "gridcolor": "white",
           "linecolor": "white",
           "ticks": "",
           "title": {
            "standoff": 15
           },
           "zerolinecolor": "white",
           "zerolinewidth": 2
          }
         }
        },
        "title": {
         "text": "AVERAGE LIKES FOR EACH HANDLE"
        },
        "xaxis": {
         "anchor": "y",
         "categoryarray": [
          "foodtalkindia",
          "nom.nom.foodie",
          "foodies_ikkada",
          "maayabazar_food",
          "food"
         ],
         "categoryorder": "array",
         "domain": [
          0,
          1
         ],
         "title": {
          "text": "usernames"
         }
        },
        "yaxis": {
         "anchor": "x",
         "domain": [
          0,
          1
         ],
         "range": [
          0,
          1000
         ],
         "title": {
          "text": "likes"
         }
        }
       }
      },
      "text/html": [
       "<div>                            <div id=\"76416776-4076-4146-9129-57e7ddc41d7a\" class=\"plotly-graph-div\" style=\"height:525px; width:100%;\"></div>            <script type=\"text/javascript\">                require([\"plotly\"], function(Plotly) {                    window.PLOTLYENV=window.PLOTLYENV || {};                                    if (document.getElementById(\"76416776-4076-4146-9129-57e7ddc41d7a\")) {                    Plotly.newPlot(                        \"76416776-4076-4146-9129-57e7ddc41d7a\",                        [{\"alignmentgroup\":\"True\",\"hovertemplate\":\"usernames=%{x}<br>likes=%{y}<extra></extra>\",\"legendgroup\":\"foodtalkindia\",\"marker\":{\"color\":\"#636efa\",\"pattern\":{\"shape\":\"\"}},\"name\":\"foodtalkindia\",\"offsetgroup\":\"foodtalkindia\",\"orientation\":\"v\",\"showlegend\":true,\"textposition\":\"auto\",\"x\":[\"foodtalkindia\"],\"xaxis\":\"x\",\"y\":[640],\"yaxis\":\"y\",\"type\":\"bar\"},{\"alignmentgroup\":\"True\",\"hovertemplate\":\"usernames=%{x}<br>likes=%{y}<extra></extra>\",\"legendgroup\":\"nom.nom.foodie\",\"marker\":{\"color\":\"#EF553B\",\"pattern\":{\"shape\":\"\"}},\"name\":\"nom.nom.foodie\",\"offsetgroup\":\"nom.nom.foodie\",\"orientation\":\"v\",\"showlegend\":true,\"textposition\":\"auto\",\"x\":[\"nom.nom.foodie\"],\"xaxis\":\"x\",\"y\":[729],\"yaxis\":\"y\",\"type\":\"bar\"},{\"alignmentgroup\":\"True\",\"hovertemplate\":\"usernames=%{x}<br>likes=%{y}<extra></extra>\",\"legendgroup\":\"foodies_ikkada\",\"marker\":{\"color\":\"#00cc96\",\"pattern\":{\"shape\":\"\"}},\"name\":\"foodies_ikkada\",\"offsetgroup\":\"foodies_ikkada\",\"orientation\":\"v\",\"showlegend\":true,\"textposition\":\"auto\",\"x\":[\"foodies_ikkada\"],\"xaxis\":\"x\",\"y\":[471],\"yaxis\":\"y\",\"type\":\"bar\"},{\"alignmentgroup\":\"True\",\"hovertemplate\":\"usernames=%{x}<br>likes=%{y}<extra></extra>\",\"legendgroup\":\"maayabazar_food\",\"marker\":{\"color\":\"#ab63fa\",\"pattern\":{\"shape\":\"\"}},\"name\":\"maayabazar_food\",\"offsetgroup\":\"maayabazar_food\",\"orientation\":\"v\",\"showlegend\":true,\"textposition\":\"auto\",\"x\":[\"maayabazar_food\"],\"xaxis\":\"x\",\"y\":[652],\"yaxis\":\"y\",\"type\":\"bar\"},{\"alignmentgroup\":\"True\",\"hovertemplate\":\"usernames=%{x}<br>likes=%{y}<extra></extra>\",\"legendgroup\":\"food\",\"marker\":{\"color\":\"#FFA15A\",\"pattern\":{\"shape\":\"\"}},\"name\":\"food\",\"offsetgroup\":\"food\",\"orientation\":\"v\",\"showlegend\":true,\"textposition\":\"auto\",\"x\":[\"food\"],\"xaxis\":\"x\",\"y\":[611],\"yaxis\":\"y\",\"type\":\"bar\"}],                        {\"template\":{\"data\":{\"bar\":[{\"error_x\":{\"color\":\"#2a3f5f\"},\"error_y\":{\"color\":\"#2a3f5f\"},\"marker\":{\"line\":{\"color\":\"#E5ECF6\",\"width\":0.5},\"pattern\":{\"fillmode\":\"overlay\",\"size\":10,\"solidity\":0.2}},\"type\":\"bar\"}],\"barpolar\":[{\"marker\":{\"line\":{\"color\":\"#E5ECF6\",\"width\":0.5},\"pattern\":{\"fillmode\":\"overlay\",\"size\":10,\"solidity\":0.2}},\"type\":\"barpolar\"}],\"carpet\":[{\"aaxis\":{\"endlinecolor\":\"#2a3f5f\",\"gridcolor\":\"white\",\"linecolor\":\"white\",\"minorgridcolor\":\"white\",\"startlinecolor\":\"#2a3f5f\"},\"baxis\":{\"endlinecolor\":\"#2a3f5f\",\"gridcolor\":\"white\",\"linecolor\":\"white\",\"minorgridcolor\":\"white\",\"startlinecolor\":\"#2a3f5f\"},\"type\":\"carpet\"}],\"choropleth\":[{\"colorbar\":{\"outlinewidth\":0,\"ticks\":\"\"},\"type\":\"choropleth\"}],\"contour\":[{\"colorbar\":{\"outlinewidth\":0,\"ticks\":\"\"},\"colorscale\":[[0.0,\"#0d0887\"],[0.1111111111111111,\"#46039f\"],[0.2222222222222222,\"#7201a8\"],[0.3333333333333333,\"#9c179e\"],[0.4444444444444444,\"#bd3786\"],[0.5555555555555556,\"#d8576b\"],[0.6666666666666666,\"#ed7953\"],[0.7777777777777778,\"#fb9f3a\"],[0.8888888888888888,\"#fdca26\"],[1.0,\"#f0f921\"]],\"type\":\"contour\"}],\"contourcarpet\":[{\"colorbar\":{\"outlinewidth\":0,\"ticks\":\"\"},\"type\":\"contourcarpet\"}],\"heatmap\":[{\"colorbar\":{\"outlinewidth\":0,\"ticks\":\"\"},\"colorscale\":[[0.0,\"#0d0887\"],[0.1111111111111111,\"#46039f\"],[0.2222222222222222,\"#7201a8\"],[0.3333333333333333,\"#9c179e\"],[0.4444444444444444,\"#bd3786\"],[0.5555555555555556,\"#d8576b\"],[0.6666666666666666,\"#ed7953\"],[0.7777777777777778,\"#fb9f3a\"],[0.8888888888888888,\"#fdca26\"],[1.0,\"#f0f921\"]],\"type\":\"heatmap\"}],\"heatmapgl\":[{\"colorbar\":{\"outlinewidth\":0,\"ticks\":\"\"},\"colorscale\":[[0.0,\"#0d0887\"],[0.1111111111111111,\"#46039f\"],[0.2222222222222222,\"#7201a8\"],[0.3333333333333333,\"#9c179e\"],[0.4444444444444444,\"#bd3786\"],[0.5555555555555556,\"#d8576b\"],[0.6666666666666666,\"#ed7953\"],[0.7777777777777778,\"#fb9f3a\"],[0.8888888888888888,\"#fdca26\"],[1.0,\"#f0f921\"]],\"type\":\"heatmapgl\"}],\"histogram\":[{\"marker\":{\"pattern\":{\"fillmode\":\"overlay\",\"size\":10,\"solidity\":0.2}},\"type\":\"histogram\"}],\"histogram2d\":[{\"colorbar\":{\"outlinewidth\":0,\"ticks\":\"\"},\"colorscale\":[[0.0,\"#0d0887\"],[0.1111111111111111,\"#46039f\"],[0.2222222222222222,\"#7201a8\"],[0.3333333333333333,\"#9c179e\"],[0.4444444444444444,\"#bd3786\"],[0.5555555555555556,\"#d8576b\"],[0.6666666666666666,\"#ed7953\"],[0.7777777777777778,\"#fb9f3a\"],[0.8888888888888888,\"#fdca26\"],[1.0,\"#f0f921\"]],\"type\":\"histogram2d\"}],\"histogram2dcontour\":[{\"colorbar\":{\"outlinewidth\":0,\"ticks\":\"\"},\"colorscale\":[[0.0,\"#0d0887\"],[0.1111111111111111,\"#46039f\"],[0.2222222222222222,\"#7201a8\"],[0.3333333333333333,\"#9c179e\"],[0.4444444444444444,\"#bd3786\"],[0.5555555555555556,\"#d8576b\"],[0.6666666666666666,\"#ed7953\"],[0.7777777777777778,\"#fb9f3a\"],[0.8888888888888888,\"#fdca26\"],[1.0,\"#f0f921\"]],\"type\":\"histogram2dcontour\"}],\"mesh3d\":[{\"colorbar\":{\"outlinewidth\":0,\"ticks\":\"\"},\"type\":\"mesh3d\"}],\"parcoords\":[{\"line\":{\"colorbar\":{\"outlinewidth\":0,\"ticks\":\"\"}},\"type\":\"parcoords\"}],\"pie\":[{\"automargin\":true,\"type\":\"pie\"}],\"scatter\":[{\"marker\":{\"colorbar\":{\"outlinewidth\":0,\"ticks\":\"\"}},\"type\":\"scatter\"}],\"scatter3d\":[{\"line\":{\"colorbar\":{\"outlinewidth\":0,\"ticks\":\"\"}},\"marker\":{\"colorbar\":{\"outlinewidth\":0,\"ticks\":\"\"}},\"type\":\"scatter3d\"}],\"scattercarpet\":[{\"marker\":{\"colorbar\":{\"outlinewidth\":0,\"ticks\":\"\"}},\"type\":\"scattercarpet\"}],\"scattergeo\":[{\"marker\":{\"colorbar\":{\"outlinewidth\":0,\"ticks\":\"\"}},\"type\":\"scattergeo\"}],\"scattergl\":[{\"marker\":{\"colorbar\":{\"outlinewidth\":0,\"ticks\":\"\"}},\"type\":\"scattergl\"}],\"scattermapbox\":[{\"marker\":{\"colorbar\":{\"outlinewidth\":0,\"ticks\":\"\"}},\"type\":\"scattermapbox\"}],\"scatterpolar\":[{\"marker\":{\"colorbar\":{\"outlinewidth\":0,\"ticks\":\"\"}},\"type\":\"scatterpolar\"}],\"scatterpolargl\":[{\"marker\":{\"colorbar\":{\"outlinewidth\":0,\"ticks\":\"\"}},\"type\":\"scatterpolargl\"}],\"scatterternary\":[{\"marker\":{\"colorbar\":{\"outlinewidth\":0,\"ticks\":\"\"}},\"type\":\"scatterternary\"}],\"surface\":[{\"colorbar\":{\"outlinewidth\":0,\"ticks\":\"\"},\"colorscale\":[[0.0,\"#0d0887\"],[0.1111111111111111,\"#46039f\"],[0.2222222222222222,\"#7201a8\"],[0.3333333333333333,\"#9c179e\"],[0.4444444444444444,\"#bd3786\"],[0.5555555555555556,\"#d8576b\"],[0.6666666666666666,\"#ed7953\"],[0.7777777777777778,\"#fb9f3a\"],[0.8888888888888888,\"#fdca26\"],[1.0,\"#f0f921\"]],\"type\":\"surface\"}],\"table\":[{\"cells\":{\"fill\":{\"color\":\"#EBF0F8\"},\"line\":{\"color\":\"white\"}},\"header\":{\"fill\":{\"color\":\"#C8D4E3\"},\"line\":{\"color\":\"white\"}},\"type\":\"table\"}]},\"layout\":{\"annotationdefaults\":{\"arrowcolor\":\"#2a3f5f\",\"arrowhead\":0,\"arrowwidth\":1},\"autotypenumbers\":\"strict\",\"coloraxis\":{\"colorbar\":{\"outlinewidth\":0,\"ticks\":\"\"}},\"colorscale\":{\"diverging\":[[0,\"#8e0152\"],[0.1,\"#c51b7d\"],[0.2,\"#de77ae\"],[0.3,\"#f1b6da\"],[0.4,\"#fde0ef\"],[0.5,\"#f7f7f7\"],[0.6,\"#e6f5d0\"],[0.7,\"#b8e186\"],[0.8,\"#7fbc41\"],[0.9,\"#4d9221\"],[1,\"#276419\"]],\"sequential\":[[0.0,\"#0d0887\"],[0.1111111111111111,\"#46039f\"],[0.2222222222222222,\"#7201a8\"],[0.3333333333333333,\"#9c179e\"],[0.4444444444444444,\"#bd3786\"],[0.5555555555555556,\"#d8576b\"],[0.6666666666666666,\"#ed7953\"],[0.7777777777777778,\"#fb9f3a\"],[0.8888888888888888,\"#fdca26\"],[1.0,\"#f0f921\"]],\"sequentialminus\":[[0.0,\"#0d0887\"],[0.1111111111111111,\"#46039f\"],[0.2222222222222222,\"#7201a8\"],[0.3333333333333333,\"#9c179e\"],[0.4444444444444444,\"#bd3786\"],[0.5555555555555556,\"#d8576b\"],[0.6666666666666666,\"#ed7953\"],[0.7777777777777778,\"#fb9f3a\"],[0.8888888888888888,\"#fdca26\"],[1.0,\"#f0f921\"]]},\"colorway\":[\"#636efa\",\"#EF553B\",\"#00cc96\",\"#ab63fa\",\"#FFA15A\",\"#19d3f3\",\"#FF6692\",\"#B6E880\",\"#FF97FF\",\"#FECB52\"],\"font\":{\"color\":\"#2a3f5f\"},\"geo\":{\"bgcolor\":\"white\",\"lakecolor\":\"white\",\"landcolor\":\"#E5ECF6\",\"showlakes\":true,\"showland\":true,\"subunitcolor\":\"white\"},\"hoverlabel\":{\"align\":\"left\"},\"hovermode\":\"closest\",\"mapbox\":{\"style\":\"light\"},\"paper_bgcolor\":\"white\",\"plot_bgcolor\":\"#E5ECF6\",\"polar\":{\"angularaxis\":{\"gridcolor\":\"white\",\"linecolor\":\"white\",\"ticks\":\"\"},\"bgcolor\":\"#E5ECF6\",\"radialaxis\":{\"gridcolor\":\"white\",\"linecolor\":\"white\",\"ticks\":\"\"}},\"scene\":{\"xaxis\":{\"backgroundcolor\":\"#E5ECF6\",\"gridcolor\":\"white\",\"gridwidth\":2,\"linecolor\":\"white\",\"showbackground\":true,\"ticks\":\"\",\"zerolinecolor\":\"white\"},\"yaxis\":{\"backgroundcolor\":\"#E5ECF6\",\"gridcolor\":\"white\",\"gridwidth\":2,\"linecolor\":\"white\",\"showbackground\":true,\"ticks\":\"\",\"zerolinecolor\":\"white\"},\"zaxis\":{\"backgroundcolor\":\"#E5ECF6\",\"gridcolor\":\"white\",\"gridwidth\":2,\"linecolor\":\"white\",\"showbackground\":true,\"ticks\":\"\",\"zerolinecolor\":\"white\"}},\"shapedefaults\":{\"line\":{\"color\":\"#2a3f5f\"}},\"ternary\":{\"aaxis\":{\"gridcolor\":\"white\",\"linecolor\":\"white\",\"ticks\":\"\"},\"baxis\":{\"gridcolor\":\"white\",\"linecolor\":\"white\",\"ticks\":\"\"},\"bgcolor\":\"#E5ECF6\",\"caxis\":{\"gridcolor\":\"white\",\"linecolor\":\"white\",\"ticks\":\"\"}},\"title\":{\"x\":0.05},\"xaxis\":{\"automargin\":true,\"gridcolor\":\"white\",\"linecolor\":\"white\",\"ticks\":\"\",\"title\":{\"standoff\":15},\"zerolinecolor\":\"white\",\"zerolinewidth\":2},\"yaxis\":{\"automargin\":true,\"gridcolor\":\"white\",\"linecolor\":\"white\",\"ticks\":\"\",\"title\":{\"standoff\":15},\"zerolinecolor\":\"white\",\"zerolinewidth\":2}}},\"xaxis\":{\"anchor\":\"y\",\"domain\":[0.0,1.0],\"title\":{\"text\":\"usernames\"},\"categoryorder\":\"array\",\"categoryarray\":[\"foodtalkindia\",\"nom.nom.foodie\",\"foodies_ikkada\",\"maayabazar_food\",\"food\"]},\"yaxis\":{\"anchor\":\"x\",\"domain\":[0.0,1.0],\"title\":{\"text\":\"likes\"},\"range\":[0,1000]},\"legend\":{\"title\":{\"text\":\"usernames\"},\"tracegroupgap\":0},\"title\":{\"text\":\"AVERAGE LIKES FOR EACH HANDLE\"},\"barmode\":\"relative\"},                        {\"responsive\": true}                    ).then(function(){\n",
       "                            \n",
       "var gd = document.getElementById('76416776-4076-4146-9129-57e7ddc41d7a');\n",
       "var x = new MutationObserver(function (mutations, observer) {{\n",
       "        var display = window.getComputedStyle(gd).display;\n",
       "        if (!display || display === 'none') {{\n",
       "            console.log([gd, 'removed!']);\n",
       "            Plotly.purge(gd);\n",
       "            observer.disconnect();\n",
       "        }}\n",
       "}});\n",
       "\n",
       "// Listen for the removal of the full notebook cells\n",
       "var notebookContainer = gd.closest('#notebook-container');\n",
       "if (notebookContainer) {{\n",
       "    x.observe(notebookContainer, {childList: true});\n",
       "}}\n",
       "\n",
       "// Listen for the clearing of the current output cell\n",
       "var outputEl = gd.closest('.output');\n",
       "if (outputEl) {{\n",
       "    x.observe(outputEl, {childList: true});\n",
       "}}\n",
       "\n",
       "                        })                };                });            </script>        </div>"
      ]
     },
     "metadata": {},
     "output_type": "display_data"
    }
   ],
   "source": [
    "plotly.bar(df_avg_likes, x='usernames', y='likes', range_y=[0, 1000], title='AVERAGE LIKES FOR EACH HANDLE', color='usernames')"
   ]
  },
  {
   "attachments": {
    "newplot%20%281%29.png": {
     "image/png": "[encoded data removed]"
    }
   },
   "cell_type": "markdown",
   "id": "a006fbbd",
   "metadata": {},
   "source": [
    "![newplot%20%281%29.png](attachment:newplot%20%281%29.png)"
   ]
  },
  {
   "cell_type": "code",
   "execution_count": 306,
   "id": "aaca7cf5",
   "metadata": {},
   "outputs": [
    {
     "data": {
      "text/html": [
       "<div>\n",
       "<style scoped>\n",
       "    .dataframe tbody tr th:only-of-type {\n",
       "        vertical-align: middle;\n",
       "    }\n",
       "\n",
       "    .dataframe tbody tr th {\n",
       "        vertical-align: top;\n",
       "    }\n",
       "\n",
       "    .dataframe thead th {\n",
       "        text-align: right;\n",
       "    }\n",
       "</style>\n",
       "<table border=\"1\" class=\"dataframe\">\n",
       "  <thead>\n",
       "    <tr style=\"text-align: right;\">\n",
       "      <th></th>\n",
       "      <th>usernames</th>\n",
       "      <th>likes</th>\n",
       "    </tr>\n",
       "  </thead>\n",
       "  <tbody>\n",
       "    <tr>\n",
       "      <th>0</th>\n",
       "      <td>foodtalkindia</td>\n",
       "      <td>482</td>\n",
       "    </tr>\n",
       "    <tr>\n",
       "      <th>1</th>\n",
       "      <td>nom.nom.foodie</td>\n",
       "      <td>150</td>\n",
       "    </tr>\n",
       "    <tr>\n",
       "      <th>2</th>\n",
       "      <td>foodies_ikkada</td>\n",
       "      <td>192</td>\n",
       "    </tr>\n",
       "    <tr>\n",
       "      <th>3</th>\n",
       "      <td>maayabazar_food</td>\n",
       "      <td>59</td>\n",
       "    </tr>\n",
       "    <tr>\n",
       "      <th>4</th>\n",
       "      <td>food</td>\n",
       "      <td>18</td>\n",
       "    </tr>\n",
       "  </tbody>\n",
       "</table>\n",
       "</div>"
      ],
      "text/plain": [
       "         usernames  likes\n",
       "0    foodtalkindia    482\n",
       "1   nom.nom.foodie    150\n",
       "2   foodies_ikkada    192\n",
       "3  maayabazar_food     59\n",
       "4             food     18"
      ]
     },
     "execution_count": 306,
     "metadata": {},
     "output_type": "execute_result"
    }
   ],
   "source": [
    "likes_dict = {'usernames': li, \"likes\": avg_like_followers.values()}\n",
    "df_avg_follow_likes = pd.DataFrame(likes_dict)\n",
    "df_avg_follow_likes"
   ]
  },
  {
   "cell_type": "code",
   "execution_count": 348,
   "id": "ee7dfa02",
   "metadata": {},
   "outputs": [
    {
     "data": {
      "application/vnd.plotly.v1+json": {
       "config": {
        "plotlyServerURL": "https://plot.ly"
       },
       "data": [
        {
         "alignmentgroup": "True",
         "hovertemplate": "usernames=%{x}<br>likes=%{y}<extra></extra>",
         "legendgroup": "",
         "marker": {
          "color": "#636efa",
          "pattern": {
           "shape": ""
          }
         },
         "name": "",
         "offsetgroup": "",
         "orientation": "v",
         "showlegend": false,
         "textposition": "auto",
         "type": "bar",
         "x": [
          "foodtalkindia",
          "nom.nom.foodie",
          "foodies_ikkada",
          "maayabazar_food",
          "food"
         ],
         "xaxis": "x",
         "y": [
          482,
          150,
          192,
          59,
          18
         ],
         "yaxis": "y"
        }
       ],
       "layout": {
        "barmode": "relative",
        "legend": {
         "tracegroupgap": 0
        },
        "template": {
         "data": {
          "bar": [
           {
            "error_x": {
             "color": "#2a3f5f"
            },
            "error_y": {
             "color": "#2a3f5f"
            },
            "marker": {
             "line": {
              "color": "#E5ECF6",
              "width": 0.5
             },
             "pattern": {
              "fillmode": "overlay",
              "size": 10,
              "solidity": 0.2
             }
            },
            "type": "bar"
           }
          ],
          "barpolar": [
           {
            "marker": {
             "line": {
              "color": "#E5ECF6",
              "width": 0.5
             },
             "pattern": {
              "fillmode": "overlay",
              "size": 10,
              "solidity": 0.2
             }
            },
            "type": "barpolar"
           }
          ],
          "carpet": [
           {
            "aaxis": {
             "endlinecolor": "#2a3f5f",
             "gridcolor": "white",
             "linecolor": "white",
             "minorgridcolor": "white",
             "startlinecolor": "#2a3f5f"
            },
            "baxis": {
             "endlinecolor": "#2a3f5f",
             "gridcolor": "white",
             "linecolor": "white",
             "minorgridcolor": "white",
             "startlinecolor": "#2a3f5f"
            },
            "type": "carpet"
           }
          ],
          "choropleth": [
           {
            "colorbar": {
             "outlinewidth": 0,
             "ticks": ""
            },
            "type": "choropleth"
           }
          ],
          "contour": [
           {
            "colorbar": {
             "outlinewidth": 0,
             "ticks": ""
            },
            "colorscale": [
             [
              0,
              "#0d0887"
             ],
             [
              0.1111111111111111,
              "#46039f"
             ],
             [
              0.2222222222222222,
              "#7201a8"
             ],
             [
              0.3333333333333333,
              "#9c179e"
             ],
             [
              0.4444444444444444,
              "#bd3786"
             ],
             [
              0.5555555555555556,
              "#d8576b"
             ],
             [
              0.6666666666666666,
              "#ed7953"
             ],
             [
              0.7777777777777778,
              "#fb9f3a"
             ],
             [
              0.8888888888888888,
              "#fdca26"
             ],
             [
              1,
              "#f0f921"
             ]
            ],
            "type": "contour"
           }
          ],
          "contourcarpet": [
           {
            "colorbar": {
             "outlinewidth": 0,
             "ticks": ""
            },
            "type": "contourcarpet"
           }
          ],
          "heatmap": [
           {
            "colorbar": {
             "outlinewidth": 0,
             "ticks": ""
            },
            "colorscale": [
             [
              0,
              "#0d0887"
             ],
             [
              0.1111111111111111,
              "#46039f"
             ],
             [
              0.2222222222222222,
              "#7201a8"
             ],
             [
              0.3333333333333333,
              "#9c179e"
             ],
             [
              0.4444444444444444,
              "#bd3786"
             ],
             [
              0.5555555555555556,
              "#d8576b"
             ],
             [
              0.6666666666666666,
              "#ed7953"
             ],
             [
              0.7777777777777778,
              "#fb9f3a"
             ],
             [
              0.8888888888888888,
              "#fdca26"
             ],
             [
              1,
              "#f0f921"
             ]
            ],
            "type": "heatmap"
           }
          ],
          "heatmapgl": [
           {
            "colorbar": {
             "outlinewidth": 0,
             "ticks": ""
            },
            "colorscale": [
             [
              0,
              "#0d0887"
             ],
             [
              0.1111111111111111,
              "#46039f"
             ],
             [
              0.2222222222222222,
              "#7201a8"
             ],
             [
              0.3333333333333333,
              "#9c179e"
             ],
             [
              0.4444444444444444,
              "#bd3786"
             ],
             [
              0.5555555555555556,
              "#d8576b"
             ],
             [
              0.6666666666666666,
              "#ed7953"
             ],
             [
              0.7777777777777778,
              "#fb9f3a"
             ],
             [
              0.8888888888888888,
              "#fdca26"
             ],
             [
              1,
              "#f0f921"
             ]
            ],
            "type": "heatmapgl"
           }
          ],
          "histogram": [
           {
            "marker": {
             "pattern": {
              "fillmode": "overlay",
              "size": 10,
              "solidity": 0.2
             }
            },
            "type": "histogram"
           }
          ],
          "histogram2d": [
           {
            "colorbar": {
             "outlinewidth": 0,
             "ticks": ""
            },
            "colorscale": [
             [
              0,
              "#0d0887"
             ],
             [
              0.1111111111111111,
              "#46039f"
             ],
             [
              0.2222222222222222,
              "#7201a8"
             ],
             [
              0.3333333333333333,
              "#9c179e"
             ],
             [
              0.4444444444444444,
              "#bd3786"
             ],
             [
              0.5555555555555556,
              "#d8576b"
             ],
             [
              0.6666666666666666,
              "#ed7953"
             ],
             [
              0.7777777777777778,
              "#fb9f3a"
             ],
             [
              0.8888888888888888,
              "#fdca26"
             ],
             [
              1,
              "#f0f921"
             ]
            ],
            "type": "histogram2d"
           }
          ],
          "histogram2dcontour": [
           {
            "colorbar": {
             "outlinewidth": 0,
             "ticks": ""
            },
            "colorscale": [
             [
              0,
              "#0d0887"
             ],
             [
              0.1111111111111111,
              "#46039f"
             ],
             [
              0.2222222222222222,
              "#7201a8"
             ],
             [
              0.3333333333333333,
              "#9c179e"
             ],
             [
              0.4444444444444444,
              "#bd3786"
             ],
             [
              0.5555555555555556,
              "#d8576b"
             ],
             [
              0.6666666666666666,
              "#ed7953"
             ],
             [
              0.7777777777777778,
              "#fb9f3a"
             ],
             [
              0.8888888888888888,
              "#fdca26"
             ],
             [
              1,
              "#f0f921"
             ]
            ],
            "type": "histogram2dcontour"
           }
          ],
          "mesh3d": [
           {
            "colorbar": {
             "outlinewidth": 0,
             "ticks": ""
            },
            "type": "mesh3d"
           }
          ],
          "parcoords": [
           {
            "line": {
             "colorbar": {
              "outlinewidth": 0,
              "ticks": ""
             }
            },
            "type": "parcoords"
           }
          ],
          "pie": [
           {
            "automargin": true,
            "type": "pie"
           }
          ],
          "scatter": [
           {
            "marker": {
             "colorbar": {
              "outlinewidth": 0,
              "ticks": ""
             }
            },
            "type": "scatter"
           }
          ],
          "scatter3d": [
           {
            "line": {
             "colorbar": {
              "outlinewidth": 0,
              "ticks": ""
             }
            },
            "marker": {
             "colorbar": {
              "outlinewidth": 0,
              "ticks": ""
             }
            },
            "type": "scatter3d"
           }
          ],
          "scattercarpet": [
           {
            "marker": {
             "colorbar": {
              "outlinewidth": 0,
              "ticks": ""
             }
            },
            "type": "scattercarpet"
           }
          ],
          "scattergeo": [
           {
            "marker": {
             "colorbar": {
              "outlinewidth": 0,
              "ticks": ""
             }
            },
            "type": "scattergeo"
           }
          ],
          "scattergl": [
           {
            "marker": {
             "colorbar": {
              "outlinewidth": 0,
              "ticks": ""
             }
            },
            "type": "scattergl"
           }
          ],
          "scattermapbox": [
           {
            "marker": {
             "colorbar": {
              "outlinewidth": 0,
              "ticks": ""
             }
            },
            "type": "scattermapbox"
           }
          ],
          "scatterpolar": [
           {
            "marker": {
             "colorbar": {
              "outlinewidth": 0,
              "ticks": ""
             }
            },
            "type": "scatterpolar"
           }
          ],
          "scatterpolargl": [
           {
            "marker": {
             "colorbar": {
              "outlinewidth": 0,
              "ticks": ""
             }
            },
            "type": "scatterpolargl"
           }
          ],
          "scatterternary": [
           {
            "marker": {
             "colorbar": {
              "outlinewidth": 0,
              "ticks": ""
             }
            },
            "type": "scatterternary"
           }
          ],
          "surface": [
           {
            "colorbar": {
             "outlinewidth": 0,
             "ticks": ""
            },
            "colorscale": [
             [
              0,
              "#0d0887"
             ],
             [
              0.1111111111111111,
              "#46039f"
             ],
             [
              0.2222222222222222,
              "#7201a8"
             ],
             [
              0.3333333333333333,
              "#9c179e"
             ],
             [
              0.4444444444444444,
              "#bd3786"
             ],
             [
              0.5555555555555556,
              "#d8576b"
             ],
             [
              0.6666666666666666,
              "#ed7953"
             ],
             [
              0.7777777777777778,
              "#fb9f3a"
             ],
             [
              0.8888888888888888,
              "#fdca26"
             ],
             [
              1,
              "#f0f921"
             ]
            ],
            "type": "surface"
           }
          ],
          "table": [
           {
            "cells": {
             "fill": {
              "color": "#EBF0F8"
             },
             "line": {
              "color": "white"
             }
            },
            "header": {
             "fill": {
              "color": "#C8D4E3"
             },
             "line": {
              "color": "white"
             }
            },
            "type": "table"
           }
          ]
         },
         "layout": {
          "annotationdefaults": {
           "arrowcolor": "#2a3f5f",
           "arrowhead": 0,
           "arrowwidth": 1
          },
          "autotypenumbers": "strict",
          "coloraxis": {
           "colorbar": {
            "outlinewidth": 0,
            "ticks": ""
           }
          },
          "colorscale": {
           "diverging": [
            [
             0,
             "#8e0152"
            ],
            [
             0.1,
             "#c51b7d"
            ],
            [
             0.2,
             "#de77ae"
            ],
            [
             0.3,
             "#f1b6da"
            ],
            [
             0.4,
             "#fde0ef"
            ],
            [
             0.5,
             "#f7f7f7"
            ],
            [
             0.6,
             "#e6f5d0"
            ],
            [
             0.7,
             "#b8e186"
            ],
            [
             0.8,
             "#7fbc41"
            ],
            [
             0.9,
             "#4d9221"
            ],
            [
             1,
             "#276419"
            ]
           ],
           "sequential": [
            [
             0,
             "#0d0887"
            ],
            [
             0.1111111111111111,
             "#46039f"
            ],
            [
             0.2222222222222222,
             "#7201a8"
            ],
            [
             0.3333333333333333,
             "#9c179e"
            ],
            [
             0.4444444444444444,
             "#bd3786"
            ],
            [
             0.5555555555555556,
             "#d8576b"
            ],
            [
             0.6666666666666666,
             "#ed7953"
            ],
            [
             0.7777777777777778,
             "#fb9f3a"
            ],
            [
             0.8888888888888888,
             "#fdca26"
            ],
            [
             1,
             "#f0f921"
            ]
           ],
           "sequentialminus": [
            [
             0,
             "#0d0887"
            ],
            [
             0.1111111111111111,
             "#46039f"
            ],
            [
             0.2222222222222222,
             "#7201a8"
            ],
            [
             0.3333333333333333,
             "#9c179e"
            ],
            [
             0.4444444444444444,
             "#bd3786"
            ],
            [
             0.5555555555555556,
             "#d8576b"
            ],
            [
             0.6666666666666666,
             "#ed7953"
            ],
            [
             0.7777777777777778,
             "#fb9f3a"
            ],
            [
             0.8888888888888888,
             "#fdca26"
            ],
            [
             1,
             "#f0f921"
            ]
           ]
          },
          "colorway": [
           "#636efa",
           "#EF553B",
           "#00cc96",
           "#ab63fa",
           "#FFA15A",
           "#19d3f3",
           "#FF6692",
           "#B6E880",
           "#FF97FF",
           "#FECB52"
          ],
          "font": {
           "color": "#2a3f5f"
          },
          "geo": {
           "bgcolor": "white",
           "lakecolor": "white",
           "landcolor": "#E5ECF6",
           "showlakes": true,
           "showland": true,
           "subunitcolor": "white"
          },
          "hoverlabel": {
           "align": "left"
          },
          "hovermode": "closest",
          "mapbox": {
           "style": "light"
          },
          "paper_bgcolor": "white",
          "plot_bgcolor": "#E5ECF6",
          "polar": {
           "angularaxis": {
            "gridcolor": "white",
            "linecolor": "white",
            "ticks": ""
           },
           "bgcolor": "#E5ECF6",
           "radialaxis": {
            "gridcolor": "white",
            "linecolor": "white",
            "ticks": ""
           }
          },
          "scene": {
           "xaxis": {
            "backgroundcolor": "#E5ECF6",
            "gridcolor": "white",
            "gridwidth": 2,
            "linecolor": "white",
            "showbackground": true,
            "ticks": "",
            "zerolinecolor": "white"
           },
           "yaxis": {
            "backgroundcolor": "#E5ECF6",
            "gridcolor": "white",
            "gridwidth": 2,
            "linecolor": "white",
            "showbackground": true,
            "ticks": "",
            "zerolinecolor": "white"
           },
           "zaxis": {
            "backgroundcolor": "#E5ECF6",
            "gridcolor": "white",
            "gridwidth": 2,
            "linecolor": "white",
            "showbackground": true,
            "ticks": "",
            "zerolinecolor": "white"
           }
          },
          "shapedefaults": {
           "line": {
            "color": "#2a3f5f"
           }
          },
          "ternary": {
           "aaxis": {
            "gridcolor": "white",
            "linecolor": "white",
            "ticks": ""
           },
           "baxis": {
            "gridcolor": "white",
            "linecolor": "white",
            "ticks": ""
           },
           "bgcolor": "#E5ECF6",
           "caxis": {
            "gridcolor": "white",
            "linecolor": "white",
            "ticks": ""
           }
          },
          "title": {
           "x": 0.05
          },
          "xaxis": {
           "automargin": true,
           "gridcolor": "white",
           "linecolor": "white",
           "ticks": "",
           "title": {
            "standoff": 15
           },
           "zerolinecolor": "white",
           "zerolinewidth": 2
          },
          "yaxis": {
           "automargin": true,
           "gridcolor": "white",
           "linecolor": "white",
           "ticks": "",
           "title": {
            "standoff": 15
           },
           "zerolinecolor": "white",
           "zerolinewidth": 2
          }
         }
        },
        "title": {
         "text": "AVERAGE LIKES FOR EACH HANDLE"
        },
        "xaxis": {
         "anchor": "y",
         "domain": [
          0,
          1
         ],
         "title": {
          "text": "usernames"
         }
        },
        "yaxis": {
         "anchor": "x",
         "domain": [
          0,
          1
         ],
         "range": [
          0,
          700
         ],
         "title": {
          "text": "likes"
         }
        }
       }
      },
      "text/html": [
       "<div>                            <div id=\"29270761-a5e8-4582-a1c7-259a63e1d300\" class=\"plotly-graph-div\" style=\"height:525px; width:100%;\"></div>            <script type=\"text/javascript\">                require([\"plotly\"], function(Plotly) {                    window.PLOTLYENV=window.PLOTLYENV || {};                                    if (document.getElementById(\"29270761-a5e8-4582-a1c7-259a63e1d300\")) {                    Plotly.newPlot(                        \"29270761-a5e8-4582-a1c7-259a63e1d300\",                        [{\"alignmentgroup\":\"True\",\"hovertemplate\":\"usernames=%{x}<br>likes=%{y}<extra></extra>\",\"legendgroup\":\"\",\"marker\":{\"color\":\"#636efa\",\"pattern\":{\"shape\":\"\"}},\"name\":\"\",\"offsetgroup\":\"\",\"orientation\":\"v\",\"showlegend\":false,\"textposition\":\"auto\",\"x\":[\"foodtalkindia\",\"nom.nom.foodie\",\"foodies_ikkada\",\"maayabazar_food\",\"food\"],\"xaxis\":\"x\",\"y\":[482,150,192,59,18],\"yaxis\":\"y\",\"type\":\"bar\"}],                        {\"template\":{\"data\":{\"bar\":[{\"error_x\":{\"color\":\"#2a3f5f\"},\"error_y\":{\"color\":\"#2a3f5f\"},\"marker\":{\"line\":{\"color\":\"#E5ECF6\",\"width\":0.5},\"pattern\":{\"fillmode\":\"overlay\",\"size\":10,\"solidity\":0.2}},\"type\":\"bar\"}],\"barpolar\":[{\"marker\":{\"line\":{\"color\":\"#E5ECF6\",\"width\":0.5},\"pattern\":{\"fillmode\":\"overlay\",\"size\":10,\"solidity\":0.2}},\"type\":\"barpolar\"}],\"carpet\":[{\"aaxis\":{\"endlinecolor\":\"#2a3f5f\",\"gridcolor\":\"white\",\"linecolor\":\"white\",\"minorgridcolor\":\"white\",\"startlinecolor\":\"#2a3f5f\"},\"baxis\":{\"endlinecolor\":\"#2a3f5f\",\"gridcolor\":\"white\",\"linecolor\":\"white\",\"minorgridcolor\":\"white\",\"startlinecolor\":\"#2a3f5f\"},\"type\":\"carpet\"}],\"choropleth\":[{\"colorbar\":{\"outlinewidth\":0,\"ticks\":\"\"},\"type\":\"choropleth\"}],\"contour\":[{\"colorbar\":{\"outlinewidth\":0,\"ticks\":\"\"},\"colorscale\":[[0.0,\"#0d0887\"],[0.1111111111111111,\"#46039f\"],[0.2222222222222222,\"#7201a8\"],[0.3333333333333333,\"#9c179e\"],[0.4444444444444444,\"#bd3786\"],[0.5555555555555556,\"#d8576b\"],[0.6666666666666666,\"#ed7953\"],[0.7777777777777778,\"#fb9f3a\"],[0.8888888888888888,\"#fdca26\"],[1.0,\"#f0f921\"]],\"type\":\"contour\"}],\"contourcarpet\":[{\"colorbar\":{\"outlinewidth\":0,\"ticks\":\"\"},\"type\":\"contourcarpet\"}],\"heatmap\":[{\"colorbar\":{\"outlinewidth\":0,\"ticks\":\"\"},\"colorscale\":[[0.0,\"#0d0887\"],[0.1111111111111111,\"#46039f\"],[0.2222222222222222,\"#7201a8\"],[0.3333333333333333,\"#9c179e\"],[0.4444444444444444,\"#bd3786\"],[0.5555555555555556,\"#d8576b\"],[0.6666666666666666,\"#ed7953\"],[0.7777777777777778,\"#fb9f3a\"],[0.8888888888888888,\"#fdca26\"],[1.0,\"#f0f921\"]],\"type\":\"heatmap\"}],\"heatmapgl\":[{\"colorbar\":{\"outlinewidth\":0,\"ticks\":\"\"},\"colorscale\":[[0.0,\"#0d0887\"],[0.1111111111111111,\"#46039f\"],[0.2222222222222222,\"#7201a8\"],[0.3333333333333333,\"#9c179e\"],[0.4444444444444444,\"#bd3786\"],[0.5555555555555556,\"#d8576b\"],[0.6666666666666666,\"#ed7953\"],[0.7777777777777778,\"#fb9f3a\"],[0.8888888888888888,\"#fdca26\"],[1.0,\"#f0f921\"]],\"type\":\"heatmapgl\"}],\"histogram\":[{\"marker\":{\"pattern\":{\"fillmode\":\"overlay\",\"size\":10,\"solidity\":0.2}},\"type\":\"histogram\"}],\"histogram2d\":[{\"colorbar\":{\"outlinewidth\":0,\"ticks\":\"\"},\"colorscale\":[[0.0,\"#0d0887\"],[0.1111111111111111,\"#46039f\"],[0.2222222222222222,\"#7201a8\"],[0.3333333333333333,\"#9c179e\"],[0.4444444444444444,\"#bd3786\"],[0.5555555555555556,\"#d8576b\"],[0.6666666666666666,\"#ed7953\"],[0.7777777777777778,\"#fb9f3a\"],[0.8888888888888888,\"#fdca26\"],[1.0,\"#f0f921\"]],\"type\":\"histogram2d\"}],\"histogram2dcontour\":[{\"colorbar\":{\"outlinewidth\":0,\"ticks\":\"\"},\"colorscale\":[[0.0,\"#0d0887\"],[0.1111111111111111,\"#46039f\"],[0.2222222222222222,\"#7201a8\"],[0.3333333333333333,\"#9c179e\"],[0.4444444444444444,\"#bd3786\"],[0.5555555555555556,\"#d8576b\"],[0.6666666666666666,\"#ed7953\"],[0.7777777777777778,\"#fb9f3a\"],[0.8888888888888888,\"#fdca26\"],[1.0,\"#f0f921\"]],\"type\":\"histogram2dcontour\"}],\"mesh3d\":[{\"colorbar\":{\"outlinewidth\":0,\"ticks\":\"\"},\"type\":\"mesh3d\"}],\"parcoords\":[{\"line\":{\"colorbar\":{\"outlinewidth\":0,\"ticks\":\"\"}},\"type\":\"parcoords\"}],\"pie\":[{\"automargin\":true,\"type\":\"pie\"}],\"scatter\":[{\"marker\":{\"colorbar\":{\"outlinewidth\":0,\"ticks\":\"\"}},\"type\":\"scatter\"}],\"scatter3d\":[{\"line\":{\"colorbar\":{\"outlinewidth\":0,\"ticks\":\"\"}},\"marker\":{\"colorbar\":{\"outlinewidth\":0,\"ticks\":\"\"}},\"type\":\"scatter3d\"}],\"scattercarpet\":[{\"marker\":{\"colorbar\":{\"outlinewidth\":0,\"ticks\":\"\"}},\"type\":\"scattercarpet\"}],\"scattergeo\":[{\"marker\":{\"colorbar\":{\"outlinewidth\":0,\"ticks\":\"\"}},\"type\":\"scattergeo\"}],\"scattergl\":[{\"marker\":{\"colorbar\":{\"outlinewidth\":0,\"ticks\":\"\"}},\"type\":\"scattergl\"}],\"scattermapbox\":[{\"marker\":{\"colorbar\":{\"outlinewidth\":0,\"ticks\":\"\"}},\"type\":\"scattermapbox\"}],\"scatterpolar\":[{\"marker\":{\"colorbar\":{\"outlinewidth\":0,\"ticks\":\"\"}},\"type\":\"scatterpolar\"}],\"scatterpolargl\":[{\"marker\":{\"colorbar\":{\"outlinewidth\":0,\"ticks\":\"\"}},\"type\":\"scatterpolargl\"}],\"scatterternary\":[{\"marker\":{\"colorbar\":{\"outlinewidth\":0,\"ticks\":\"\"}},\"type\":\"scatterternary\"}],\"surface\":[{\"colorbar\":{\"outlinewidth\":0,\"ticks\":\"\"},\"colorscale\":[[0.0,\"#0d0887\"],[0.1111111111111111,\"#46039f\"],[0.2222222222222222,\"#7201a8\"],[0.3333333333333333,\"#9c179e\"],[0.4444444444444444,\"#bd3786\"],[0.5555555555555556,\"#d8576b\"],[0.6666666666666666,\"#ed7953\"],[0.7777777777777778,\"#fb9f3a\"],[0.8888888888888888,\"#fdca26\"],[1.0,\"#f0f921\"]],\"type\":\"surface\"}],\"table\":[{\"cells\":{\"fill\":{\"color\":\"#EBF0F8\"},\"line\":{\"color\":\"white\"}},\"header\":{\"fill\":{\"color\":\"#C8D4E3\"},\"line\":{\"color\":\"white\"}},\"type\":\"table\"}]},\"layout\":{\"annotationdefaults\":{\"arrowcolor\":\"#2a3f5f\",\"arrowhead\":0,\"arrowwidth\":1},\"autotypenumbers\":\"strict\",\"coloraxis\":{\"colorbar\":{\"outlinewidth\":0,\"ticks\":\"\"}},\"colorscale\":{\"diverging\":[[0,\"#8e0152\"],[0.1,\"#c51b7d\"],[0.2,\"#de77ae\"],[0.3,\"#f1b6da\"],[0.4,\"#fde0ef\"],[0.5,\"#f7f7f7\"],[0.6,\"#e6f5d0\"],[0.7,\"#b8e186\"],[0.8,\"#7fbc41\"],[0.9,\"#4d9221\"],[1,\"#276419\"]],\"sequential\":[[0.0,\"#0d0887\"],[0.1111111111111111,\"#46039f\"],[0.2222222222222222,\"#7201a8\"],[0.3333333333333333,\"#9c179e\"],[0.4444444444444444,\"#bd3786\"],[0.5555555555555556,\"#d8576b\"],[0.6666666666666666,\"#ed7953\"],[0.7777777777777778,\"#fb9f3a\"],[0.8888888888888888,\"#fdca26\"],[1.0,\"#f0f921\"]],\"sequentialminus\":[[0.0,\"#0d0887\"],[0.1111111111111111,\"#46039f\"],[0.2222222222222222,\"#7201a8\"],[0.3333333333333333,\"#9c179e\"],[0.4444444444444444,\"#bd3786\"],[0.5555555555555556,\"#d8576b\"],[0.6666666666666666,\"#ed7953\"],[0.7777777777777778,\"#fb9f3a\"],[0.8888888888888888,\"#fdca26\"],[1.0,\"#f0f921\"]]},\"colorway\":[\"#636efa\",\"#EF553B\",\"#00cc96\",\"#ab63fa\",\"#FFA15A\",\"#19d3f3\",\"#FF6692\",\"#B6E880\",\"#FF97FF\",\"#FECB52\"],\"font\":{\"color\":\"#2a3f5f\"},\"geo\":{\"bgcolor\":\"white\",\"lakecolor\":\"white\",\"landcolor\":\"#E5ECF6\",\"showlakes\":true,\"showland\":true,\"subunitcolor\":\"white\"},\"hoverlabel\":{\"align\":\"left\"},\"hovermode\":\"closest\",\"mapbox\":{\"style\":\"light\"},\"paper_bgcolor\":\"white\",\"plot_bgcolor\":\"#E5ECF6\",\"polar\":{\"angularaxis\":{\"gridcolor\":\"white\",\"linecolor\":\"white\",\"ticks\":\"\"},\"bgcolor\":\"#E5ECF6\",\"radialaxis\":{\"gridcolor\":\"white\",\"linecolor\":\"white\",\"ticks\":\"\"}},\"scene\":{\"xaxis\":{\"backgroundcolor\":\"#E5ECF6\",\"gridcolor\":\"white\",\"gridwidth\":2,\"linecolor\":\"white\",\"showbackground\":true,\"ticks\":\"\",\"zerolinecolor\":\"white\"},\"yaxis\":{\"backgroundcolor\":\"#E5ECF6\",\"gridcolor\":\"white\",\"gridwidth\":2,\"linecolor\":\"white\",\"showbackground\":true,\"ticks\":\"\",\"zerolinecolor\":\"white\"},\"zaxis\":{\"backgroundcolor\":\"#E5ECF6\",\"gridcolor\":\"white\",\"gridwidth\":2,\"linecolor\":\"white\",\"showbackground\":true,\"ticks\":\"\",\"zerolinecolor\":\"white\"}},\"shapedefaults\":{\"line\":{\"color\":\"#2a3f5f\"}},\"ternary\":{\"aaxis\":{\"gridcolor\":\"white\",\"linecolor\":\"white\",\"ticks\":\"\"},\"baxis\":{\"gridcolor\":\"white\",\"linecolor\":\"white\",\"ticks\":\"\"},\"bgcolor\":\"#E5ECF6\",\"caxis\":{\"gridcolor\":\"white\",\"linecolor\":\"white\",\"ticks\":\"\"}},\"title\":{\"x\":0.05},\"xaxis\":{\"automargin\":true,\"gridcolor\":\"white\",\"linecolor\":\"white\",\"ticks\":\"\",\"title\":{\"standoff\":15},\"zerolinecolor\":\"white\",\"zerolinewidth\":2},\"yaxis\":{\"automargin\":true,\"gridcolor\":\"white\",\"linecolor\":\"white\",\"ticks\":\"\",\"title\":{\"standoff\":15},\"zerolinecolor\":\"white\",\"zerolinewidth\":2}}},\"xaxis\":{\"anchor\":\"y\",\"domain\":[0.0,1.0],\"title\":{\"text\":\"usernames\"}},\"yaxis\":{\"anchor\":\"x\",\"domain\":[0.0,1.0],\"title\":{\"text\":\"likes\"},\"range\":[0,700]},\"legend\":{\"tracegroupgap\":0},\"title\":{\"text\":\"AVERAGE LIKES FOR EACH HANDLE\"},\"barmode\":\"relative\"},                        {\"responsive\": true}                    ).then(function(){\n",
       "                            \n",
       "var gd = document.getElementById('29270761-a5e8-4582-a1c7-259a63e1d300');\n",
       "var x = new MutationObserver(function (mutations, observer) {{\n",
       "        var display = window.getComputedStyle(gd).display;\n",
       "        if (!display || display === 'none') {{\n",
       "            console.log([gd, 'removed!']);\n",
       "            Plotly.purge(gd);\n",
       "            observer.disconnect();\n",
       "        }}\n",
       "}});\n",
       "\n",
       "// Listen for the removal of the full notebook cells\n",
       "var notebookContainer = gd.closest('#notebook-container');\n",
       "if (notebookContainer) {{\n",
       "    x.observe(notebookContainer, {childList: true});\n",
       "}}\n",
       "\n",
       "// Listen for the clearing of the current output cell\n",
       "var outputEl = gd.closest('.output');\n",
       "if (outputEl) {{\n",
       "    x.observe(outputEl, {childList: true});\n",
       "}}\n",
       "\n",
       "                        })                };                });            </script>        </div>"
      ]
     },
     "metadata": {},
     "output_type": "display_data"
    }
   ],
   "source": [
    "plotly.bar(df_avg_follow_likes, x='usernames', y='likes', range_y=[0, 700], title='AVERAGE LIKES FOR EACH HANDLE')"
   ]
  },
  {
   "attachments": {
    "newplot.png": {
     "image/png": "[encoded data removed]"
    }
   },
   "cell_type": "markdown",
   "id": "358e90a7",
   "metadata": {},
   "source": [
    "![newplot.png](attachment:newplot.png)"
   ]
  }
 ],
 "metadata": {
  "kernelspec": {
   "display_name": "Python 3",
   "language": "python",
   "name": "python3"
  },
  "language_info": {
   "codemirror_mode": {
    "name": "ipython",
    "version": 3
   },
   "file_extension": ".py",
   "mimetype": "text/x-python",
   "name": "python",
   "nbconvert_exporter": "python",
   "pygments_lexer": "ipython3",
   "version": "3.10.5 (tags/v3.10.5:f377153, Jun  6 2022, 16:14:13) [MSC v.1929 64 bit (AMD64)]"
  },
  "vscode": {
   "interpreter": {
    "hash": "26de051ba29f2982a8de78e945f0abaf191376122a1563185a90213a26c5da77"
   }
  }
 },
 "nbformat": 4,
 "nbformat_minor": 5
}
