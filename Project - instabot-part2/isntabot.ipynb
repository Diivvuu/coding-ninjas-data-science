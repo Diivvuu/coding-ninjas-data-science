{
 "cells": [
  {
   "cell_type": "markdown",
   "metadata": {},
   "source": [
    "# Importing Libraries"
   ]
  },
  {
   "cell_type": "code",
   "execution_count": 1,
   "metadata": {},
   "outputs": [],
   "source": [
    "import time\n",
    "from selenium import webdriver\n",
    "from webdriver_manager.chrome import ChromeDriverManager\n",
    "from bs4 import BeautifulSoup\n",
    "from selenium.webdriver.common.by import By\n",
    "from selenium.webdriver.support.ui import WebDriverWait\n",
    "from selenium.webdriver.support import expected_conditions as EC\n",
    "from selenium.webdriver.chrome.service import Service"
   ]
  },
  {
   "cell_type": "code",
   "execution_count": 2,
   "metadata": {},
   "outputs": [
    {
     "name": "stderr",
     "output_type": "stream",
     "text": [
      "[WDM] - Downloading: 100%|██████████| 6.79M/6.79M [00:00<00:00, 9.92MB/s]\n",
      "C:\\Users\\WELCOME\\AppData\\Local\\Temp\\ipykernel_17236\\365059496.py:1: DeprecationWarning: executable_path has been deprecated, please pass in a Service object\n",
      "  driver=webdriver.Chrome(ChromeDriverManager().install())\n"
     ]
    }
   ],
   "source": [
    "driver=webdriver.Chrome(ChromeDriverManager().install())"
   ]
  },
  {
   "attachments": {},
   "cell_type": "markdown",
   "metadata": {},
   "source": [
    "## Login to your Instagram Handle\n",
    "#### Submit with sample username and password"
   ]
  },
  {
   "cell_type": "code",
   "execution_count": 3,
   "metadata": {},
   "outputs": [],
   "source": [
    "driver.get('https://www.instagram.com/')\n",
    "driver.maximize_window()\n",
    "driver.implicitly_wait(5)\n",
    "# waiter=WebDriverWait(driver, 10).until(EC.presence_of_element_located((By.LINK_TEXT, \"Log in\")))"
   ]
  },
  {
   "cell_type": "markdown",
   "metadata": {},
   "source": [
    "#### Logging in instagram"
   ]
  },
  {
   "cell_type": "code",
   "execution_count": 4,
   "metadata": {},
   "outputs": [],
   "source": [
    "SAMPLE_USERNAME = 'testAccountselenium' #divyanshu_bawa_\n",
    "SAMPLE_PASSWORD =  'selenium123' #'B@w@zz786'\n",
    "username = driver.find_element(By.NAME, 'username')\n",
    "username.send_keys(SAMPLE_USERNAME)\n",
    "password = driver.find_element(By.NAME, 'password')\n",
    "password.send_keys(SAMPLE_PASSWORD)\n",
    "driver.implicitly_wait(5)"
   ]
  },
  {
   "cell_type": "code",
   "execution_count": 5,
   "metadata": {},
   "outputs": [
    {
     "data": {
      "text/plain": [
       "<selenium.webdriver.remote.webelement.WebElement (session=\"f921b68245991810b2140eaf3c9a183e\", element=\"e3aa6246-329f-4a9a-9b51-6561693874a8\")>"
      ]
     },
     "execution_count": 5,
     "metadata": {},
     "output_type": "execute_result"
    }
   ],
   "source": [
    "login_btn = driver.find_element(By.XPATH, '//button[contains(@class, \"_acap\")]/div')\n",
    "login_btn.click()\n",
    "\n",
    "WebDriverWait(driver, 5).until(EC.presence_of_element_located((By.CLASS_NAME, '_ac8f')))"
   ]
  },
  {
   "cell_type": "markdown",
   "metadata": {},
   "source": [
    "##### Clicking on save info button(for saving username and password)\n"
   ]
  },
  {
   "cell_type": "code",
   "execution_count": 6,
   "metadata": {},
   "outputs": [
    {
     "data": {
      "text/plain": [
       "<selenium.webdriver.remote.webelement.WebElement (session=\"f921b68245991810b2140eaf3c9a183e\", element=\"51624a2b-dc5e-47e1-be8b-55ffa8ec20d0\")>"
      ]
     },
     "execution_count": 6,
     "metadata": {},
     "output_type": "execute_result"
    }
   ],
   "source": [
    "save_info = driver.find_element(By.CLASS_NAME, \"_ac8f\")\n",
    "save_info.click()\n",
    "WebDriverWait(driver, 5).until(EC.presence_of_element_located((By.CLASS_NAME, '_a9-z')))"
   ]
  },
  {
   "cell_type": "markdown",
   "metadata": {},
   "source": [
    "#### Clicking on turn on notifications\n",
    "\n"
   ]
  },
  {
   "cell_type": "code",
   "execution_count": 7,
   "metadata": {},
   "outputs": [],
   "source": [
    "notif=driver.find_element(By.CLASS_NAME, '_a9-z').click()"
   ]
  },
  {
   "attachments": {},
   "cell_type": "markdown",
   "metadata": {},
   "source": [
    "Now your friend has followed a lot of different food bloggers, he needs to analyse the habits of these bloggers.\n",
    "\n",
    "From the list of instagram handles you obtained when you searched ‘food’ in previous project. Open the first 10 handles and find the top 5 which have the highest number of followers\n",
    "\n",
    "Now Find the number of posts these handles have done in the previous 3 days.\n",
    "\n",
    "Depict this information using a suitable graph."
   ]
  },
  {
   "cell_type": "code",
   "execution_count": 8,
   "metadata": {},
   "outputs": [],
   "source": [
    "search_box = driver.find_element(By.XPATH, '//div[starts-with(@class, \"xh8yej3 x1iyjqo2\")]/div[2]')\n",
    "search_box.click()\n",
    "wait = WebDriverWait(driver, 10).until(EC.presence_of_element_located((By.CLASS_NAME, '_aauy')))"
   ]
  },
  {
   "cell_type": "code",
   "execution_count": 9,
   "metadata": {},
   "outputs": [],
   "source": [
    "search_text = driver.find_element(By.CLASS_NAME, '_aauy')\n",
    "search_text.send_keys('food')\n",
    "# food_list = driver.find_elements(By.XPATH, '//div[starts-with(@class, \"_aac1\")]/div/div')\n",
    "# food_list = driver.find_elements(By.XPATH, '//div[starts-with(@class, \"_abm4\")]/a/div/div[2]/div/div/div/div')"
   ]
  },
  {
   "cell_type": "code",
   "execution_count": 10,
   "metadata": {},
   "outputs": [],
   "source": [
    "count=0\n",
    "users = []\n",
    "for i in driver.find_elements(By.XPATH, '//div[starts-with(@class, \"_abm4\")]/a/div/div[2]/div/div/div/div'):\n",
    "    users_s = i.get_attribute('innerHTML')\n",
    "    if users_s[0] != '#' or count < 10 or users_s != 'foodgod':\n",
    "        users.append(i.text)\n",
    "        count+=1\n",
    "driver.find_element(By.XPATH, '/html/body/div[2]/div/div/div/div[1]/div/div/div/div[1]/div[1]/div[1]/div/div/div[1]/div/div[2]/div[2]/div/a').click()"
   ]
  },
  {
   "cell_type": "code",
   "execution_count": 11,
   "metadata": {},
   "outputs": [
    {
     "data": {
      "text/plain": [
       "['ghar.kaa.khana',\n",
       " 'lucknowfoodblogger',\n",
       " 'delhi_streets_food',\n",
       " 'foodgod',\n",
       " '',\n",
       " 'foods_of_lucknow',\n",
       " 'food__diaries____',\n",
       " 'food',\n",
       " 'foodgotwings',\n",
       " 'foodrooaster',\n",
       " 'streetfoodrecipe',\n",
       " 'foodlover_lyf',\n",
       " '',\n",
       " 'food.darzee',\n",
       " '',\n",
       " 'lucknow_foodie',\n",
       " 'foodporn',\n",
       " '',\n",
       " 'foodhunter_sabu',\n",
       " '',\n",
       " 'streetfoodmania1',\n",
       " '_food_grill',\n",
       " 'chai_ke_aashik',\n",
       " 'innovative_food_2.0',\n",
       " 'foodieburst',\n",
       " 'tasty_foodtrunk_bareilly',\n",
       " 'foodiecouple_us',\n",
       " 'foodaddictiontv',\n",
       " 'foodie_hangover_girl',\n",
       " 'foodie_para_dise',\n",
       " 'streetfood_0fficial',\n",
       " 'food._.pride',\n",
       " 'foodfactory_27',\n",
       " 'canada.explores',\n",
       " '',\n",
       " 'food_is_life166',\n",
       " 'foodtussigreatho',\n",
       " 'meghnasfoodmagic',\n",
       " '',\n",
       " 'hungrytrip90',\n",
       " 'foodie.bobby',\n",
       " 'food_and_thems',\n",
       " 'foodbyswag',\n",
       " 'bareillyfoody',\n",
       " 'foodiesdelhite',\n",
       " 'food__wonders',\n",
       " 'runaway_foodies',\n",
       " 'food_trek_03',\n",
       " 'punchoftwist',\n",
       " 'foodo_therapy',\n",
       " 'foodi_ehimanshi',\n",
       " 'food_flavours94',\n",
       " 'foodismoodforever',\n",
       " 'lucknowi_vlogger_parul',\n",
       " 'foodiee_fitso_',\n",
       " 'food_zayka',\n",
       " 'healthyfood.addiction']"
      ]
     },
     "execution_count": 11,
     "metadata": {},
     "output_type": "execute_result"
    }
   ],
   "source": [
    "users"
   ]
  },
  {
   "cell_type": "code",
   "execution_count": 12,
   "metadata": {},
   "outputs": [],
   "source": [
    "for i in users:\n",
    "    if i == 'foodgod' or i == '':\n",
    "        users.remove(i)"
   ]
  },
  {
   "cell_type": "code",
   "execution_count": 13,
   "metadata": {},
   "outputs": [
    {
     "ename": "StaleElementReferenceException",
     "evalue": "Message: stale element reference: element is not attached to the page document\n  (Session info: chrome=109.0.5414.75)\nStacktrace:\nBacktrace:\n\t(No symbol) [0x00CC6643]\n\t(No symbol) [0x00C5BE21]\n\t(No symbol) [0x00B5DA9D]\n\t(No symbol) [0x00B609E4]\n\t(No symbol) [0x00B608AD]\n\t(No symbol) [0x00B60B30]\n\t(No symbol) [0x00B93150]\n\t(No symbol) [0x00B869AD]\n\t(No symbol) [0x00BAFD7C]\n\t(No symbol) [0x00B8641F]\n\t(No symbol) [0x00BB00D4]\n\t(No symbol) [0x00BC6B09]\n\t(No symbol) [0x00BAFB76]\n\t(No symbol) [0x00B849C1]\n\t(No symbol) [0x00B85E5D]\n\tGetHandleVerifier [0x00F3A142+2497106]\n\tGetHandleVerifier [0x00F685D3+2686691]\n\tGetHandleVerifier [0x00F6BB9C+2700460]\n\tGetHandleVerifier [0x00D73B10+635936]\n\t(No symbol) [0x00C64A1F]\n\t(No symbol) [0x00C6A418]\n\t(No symbol) [0x00C6A505]\n\t(No symbol) [0x00C7508B]\n\tBaseThreadInitThunk [0x752500F9+25]\n\tRtlGetAppContainerNamedObjectPath [0x76F97BBE+286]\n\tRtlGetAppContainerNamedObjectPath [0x76F97B8E+238]\n",
     "output_type": "error",
     "traceback": [
      "\u001b[1;31m---------------------------------------------------------------------------\u001b[0m",
      "\u001b[1;31mStaleElementReferenceException\u001b[0m            Traceback (most recent call last)",
      "Cell \u001b[1;32mIn [13], line 7\u001b[0m\n\u001b[0;32m      5\u001b[0m driver\u001b[39m.\u001b[39mfind_element(By\u001b[39m.\u001b[39mXPATH, \u001b[39m'\u001b[39m\u001b[39m/html/body/div[2]/div/div/div/div[1]/div/div/div/div[1]/div[1]/div[1]/div/div/div[2]/div/div/div[2]/div[1]/div/input\u001b[39m\u001b[39m'\u001b[39m)\u001b[39m.\u001b[39msend_keys(i)\n\u001b[0;32m      6\u001b[0m WebDriverWait(driver, \u001b[39m10\u001b[39m)\u001b[39m.\u001b[39muntil(EC\u001b[39m.\u001b[39mpresence_of_element_located((By\u001b[39m.\u001b[39mCLASS_NAME, \u001b[39m\"\u001b[39m\u001b[39m_abm4\u001b[39m\u001b[39m\"\u001b[39m)))\n\u001b[1;32m----> 7\u001b[0m driver\u001b[39m.\u001b[39;49mfind_element(By\u001b[39m.\u001b[39;49mCLASS_NAME, \u001b[39m\"\u001b[39;49m\u001b[39m_abm4\u001b[39;49m\u001b[39m\"\u001b[39;49m)\u001b[39m.\u001b[39;49mclick()\n\u001b[0;32m      8\u001b[0m WebDriverWait(driver, \u001b[39m10\u001b[39m)\u001b[39m.\u001b[39muntil(EC\u001b[39m.\u001b[39mpresence_of_element_located((By\u001b[39m.\u001b[39mXPATH, \u001b[39m'\u001b[39m\u001b[39m/html/body/div[2]/div/div/div/div[1]/div/div/div/div[1]/div[1]/div[2]/section/main/div/header/section/ul/li[2]/a/div\u001b[39m\u001b[39m'\u001b[39m)))\n\u001b[0;32m      9\u001b[0m \u001b[39m# driver.find_element(By.XPATH, '/html/body/div[2]/div/div/div/div[1]/div/div/div/div[1]/div[1]/div[1]/div/div/div[1]/div/div[2]/div[2]/div/a/div').click()\u001b[39;00m\n",
      "File \u001b[1;32m~\\AppData\\Roaming\\Python\\Python310\\site-packages\\selenium\\webdriver\\remote\\webelement.py:93\u001b[0m, in \u001b[0;36mWebElement.click\u001b[1;34m(self)\u001b[0m\n\u001b[0;32m     91\u001b[0m \u001b[39mdef\u001b[39;00m \u001b[39mclick\u001b[39m(\u001b[39mself\u001b[39m) \u001b[39m-\u001b[39m\u001b[39m>\u001b[39m \u001b[39mNone\u001b[39;00m:\n\u001b[0;32m     92\u001b[0m     \u001b[39m\"\"\"Clicks the element.\"\"\"\u001b[39;00m\n\u001b[1;32m---> 93\u001b[0m     \u001b[39mself\u001b[39;49m\u001b[39m.\u001b[39;49m_execute(Command\u001b[39m.\u001b[39;49mCLICK_ELEMENT)\n",
      "File \u001b[1;32m~\\AppData\\Roaming\\Python\\Python310\\site-packages\\selenium\\webdriver\\remote\\webelement.py:410\u001b[0m, in \u001b[0;36mWebElement._execute\u001b[1;34m(self, command, params)\u001b[0m\n\u001b[0;32m    408\u001b[0m     params \u001b[39m=\u001b[39m {}\n\u001b[0;32m    409\u001b[0m params[\u001b[39m\"\u001b[39m\u001b[39mid\u001b[39m\u001b[39m\"\u001b[39m] \u001b[39m=\u001b[39m \u001b[39mself\u001b[39m\u001b[39m.\u001b[39m_id\n\u001b[1;32m--> 410\u001b[0m \u001b[39mreturn\u001b[39;00m \u001b[39mself\u001b[39;49m\u001b[39m.\u001b[39;49m_parent\u001b[39m.\u001b[39;49mexecute(command, params)\n",
      "File \u001b[1;32m~\\AppData\\Roaming\\Python\\Python310\\site-packages\\selenium\\webdriver\\remote\\webdriver.py:444\u001b[0m, in \u001b[0;36mWebDriver.execute\u001b[1;34m(self, driver_command, params)\u001b[0m\n\u001b[0;32m    442\u001b[0m response \u001b[39m=\u001b[39m \u001b[39mself\u001b[39m\u001b[39m.\u001b[39mcommand_executor\u001b[39m.\u001b[39mexecute(driver_command, params)\n\u001b[0;32m    443\u001b[0m \u001b[39mif\u001b[39;00m response:\n\u001b[1;32m--> 444\u001b[0m     \u001b[39mself\u001b[39;49m\u001b[39m.\u001b[39;49merror_handler\u001b[39m.\u001b[39;49mcheck_response(response)\n\u001b[0;32m    445\u001b[0m     response[\u001b[39m\"\u001b[39m\u001b[39mvalue\u001b[39m\u001b[39m\"\u001b[39m] \u001b[39m=\u001b[39m \u001b[39mself\u001b[39m\u001b[39m.\u001b[39m_unwrap_value(response\u001b[39m.\u001b[39mget(\u001b[39m\"\u001b[39m\u001b[39mvalue\u001b[39m\u001b[39m\"\u001b[39m, \u001b[39mNone\u001b[39;00m))\n\u001b[0;32m    446\u001b[0m     \u001b[39mreturn\u001b[39;00m response\n",
      "File \u001b[1;32m~\\AppData\\Roaming\\Python\\Python310\\site-packages\\selenium\\webdriver\\remote\\errorhandler.py:249\u001b[0m, in \u001b[0;36mErrorHandler.check_response\u001b[1;34m(self, response)\u001b[0m\n\u001b[0;32m    247\u001b[0m         alert_text \u001b[39m=\u001b[39m value[\u001b[39m\"\u001b[39m\u001b[39malert\u001b[39m\u001b[39m\"\u001b[39m]\u001b[39m.\u001b[39mget(\u001b[39m\"\u001b[39m\u001b[39mtext\u001b[39m\u001b[39m\"\u001b[39m)\n\u001b[0;32m    248\u001b[0m     \u001b[39mraise\u001b[39;00m exception_class(message, screen, stacktrace, alert_text)  \u001b[39m# type: ignore[call-arg]  # mypy is not smart enough here\u001b[39;00m\n\u001b[1;32m--> 249\u001b[0m \u001b[39mraise\u001b[39;00m exception_class(message, screen, stacktrace)\n",
      "\u001b[1;31mStaleElementReferenceException\u001b[0m: Message: stale element reference: element is not attached to the page document\n  (Session info: chrome=109.0.5414.75)\nStacktrace:\nBacktrace:\n\t(No symbol) [0x00CC6643]\n\t(No symbol) [0x00C5BE21]\n\t(No symbol) [0x00B5DA9D]\n\t(No symbol) [0x00B609E4]\n\t(No symbol) [0x00B608AD]\n\t(No symbol) [0x00B60B30]\n\t(No symbol) [0x00B93150]\n\t(No symbol) [0x00B869AD]\n\t(No symbol) [0x00BAFD7C]\n\t(No symbol) [0x00B8641F]\n\t(No symbol) [0x00BB00D4]\n\t(No symbol) [0x00BC6B09]\n\t(No symbol) [0x00BAFB76]\n\t(No symbol) [0x00B849C1]\n\t(No symbol) [0x00B85E5D]\n\tGetHandleVerifier [0x00F3A142+2497106]\n\tGetHandleVerifier [0x00F685D3+2686691]\n\tGetHandleVerifier [0x00F6BB9C+2700460]\n\tGetHandleVerifier [0x00D73B10+635936]\n\t(No symbol) [0x00C64A1F]\n\t(No symbol) [0x00C6A418]\n\t(No symbol) [0x00C6A505]\n\t(No symbol) [0x00C7508B]\n\tBaseThreadInitThunk [0x752500F9+25]\n\tRtlGetAppContainerNamedObjectPath [0x76F97BBE+286]\n\tRtlGetAppContainerNamedObjectPath [0x76F97B8E+238]\n"
     ]
    }
   ],
   "source": [
    "followers=[]\n",
    "for i in users:\n",
    "    driver.find_element(By.XPATH, '/html/body/div[2]/div/div/div/div[1]/div/div/div/div[1]/div[1]/div[1]/div/div/div[1]/div/div[2]/div[2]/div/a').click()\n",
    "    # WebDriverWait(driver, 5).until(EC.presence_of_element_located((By.XPATH, '/html/body/div[2]/div/div/div/div[1]/div/div/div/div[1]/div[1]/div[1]/div/div/div[2]/div/div/div[2]/div[1]/div/input')))\n",
    "    driver.find_element(By.XPATH, '/html/body/div[2]/div/div/div/div[1]/div/div/div/div[1]/div[1]/div[1]/div/div/div[2]/div/div/div[2]/div[1]/div/input').send_keys(i)\n",
    "    WebDriverWait(driver, 10).until(EC.presence_of_element_located((By.CLASS_NAME, \"_abm4\")))\n",
    "    driver.find_element(By.CLASS_NAME, \"_abm4\").click()\n",
    "    WebDriverWait(driver, 10).until(EC.presence_of_element_located((By.XPATH, '/html/body/div[2]/div/div/div/div[1]/div/div/div/div[1]/div[1]/div[2]/section/main/div/header/section/ul/li[2]/a/div')))\n",
    "    # driver.find_element(By.XPATH, '/html/body/div[2]/div/div/div/div[1]/div/div/div/div[1]/div[1]/div[1]/div/div/div[1]/div/div[2]/div[2]/div/a/div').click()\n",
    "    followers.append(driver.find_element(By.XPATH, '/html/body/div[2]/div/div/div/div[1]/div/div/div/div[1]/div[1]/div[2]/section/main/div/header/section/ul/li[2]/a/div').text)  \n",
    "    time.sleep(3.2)"
   ]
  },
  {
   "cell_type": "code",
   "execution_count": null,
   "metadata": {},
   "outputs": [
    {
     "data": {
      "text/plain": [
       "[]"
      ]
     },
     "execution_count": 132,
     "metadata": {},
     "output_type": "execute_result"
    }
   ],
   "source": [
    "followers"
   ]
  },
  {
   "cell_type": "code",
   "execution_count": null,
   "metadata": {},
   "outputs": [],
   "source": []
  },
  {
   "cell_type": "code",
   "execution_count": null,
   "metadata": {},
   "outputs": [],
   "source": []
  }
 ],
 "metadata": {
  "kernelspec": {
   "display_name": "Python 3",
   "language": "python",
   "name": "python3"
  },
  "language_info": {
   "codemirror_mode": {
    "name": "ipython",
    "version": 3
   },
   "file_extension": ".py",
   "mimetype": "text/x-python",
   "name": "python",
   "nbconvert_exporter": "python",
   "pygments_lexer": "ipython3",
   "version": "3.10.5"
  },
  "orig_nbformat": 4,
  "vscode": {
   "interpreter": {
    "hash": "26de051ba29f2982a8de78e945f0abaf191376122a1563185a90213a26c5da77"
   }
  }
 },
 "nbformat": 4,
 "nbformat_minor": 2
}
