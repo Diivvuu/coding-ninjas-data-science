{
 "cells": [
  {
   "cell_type": "code",
   "execution_count": 21,
   "metadata": {},
   "outputs": [],
   "source": [
    "from selenium import webdriver\n",
    "from datetime import datetime, timedelta\n",
    "# import plotly.express as plotly\n",
    "from selenium.webdriver.common.by import By as by\n",
    "from selenium.webdriver.support import expected_conditions as EC\n",
    "from selenium.webdriver.support.ui import WebDriverWait\n",
    "from bs4 import BeautifulSoup as bs\n",
    "import matplotlib.pyplot as plt\n",
    "import time\n",
    "import seaborn as sns\n",
    "import pandas as pd\n",
    "import numpy as np"
   ]
  },
  {
   "cell_type": "code",
   "execution_count": 22,
   "metadata": {},
   "outputs": [],
   "source": [
    "import time\n",
    "from selenium import webdriver\n",
    "from webdriver_manager.chrome import ChromeDriverManager\n",
    "from bs4 import BeautifulSoup\n",
    "from selenium.webdriver.common.by import By\n",
    "from selenium.webdriver.support.ui import WebDriverWait\n",
    "from selenium.webdriver.support import expected_conditions as EC\n",
    "from selenium.webdriver.chrome.service import Service"
   ]
  },
  {
   "cell_type": "code",
   "execution_count": 23,
   "metadata": {},
   "outputs": [
    {
     "name": "stderr",
     "output_type": "stream",
     "text": [
      "C:\\Users\\WELCOME\\AppData\\Local\\Temp\\ipykernel_35036\\1910054604.py:1: DeprecationWarning: executable_path has been deprecated, please pass in a Service object\n",
      "  driver=webdriver.Chrome(ChromeDriverManager().install())\n"
     ]
    }
   ],
   "source": [
    "driver=webdriver.Chrome(ChromeDriverManager().install())\n",
    "driver.get('https://www.instagram.com/')\n",
    "driver.maximize_window()\n",
    "driver.implicitly_wait(5)"
   ]
  },
  {
   "cell_type": "code",
   "execution_count": 24,
   "metadata": {},
   "outputs": [],
   "source": [
    "wait = WebDriverWait(driver, 15)"
   ]
  },
  {
   "cell_type": "code",
   "execution_count": 25,
   "metadata": {},
   "outputs": [],
   "source": [
    "def LoginInstagram(username, password):\n",
    "#     try:\n",
    "        # It waits until condition becomes true in given 8 sec if page takes more than time to load it's thrown error\n",
    "        wait.until(EC.presence_of_element_located((by.NAME, 'username'))).send_keys(username)\n",
    "        # It waits until condition becomes true in given 8 sec if page takes more than time to load it's thrown error\n",
    "        wait.until(EC.presence_of_element_located((by.NAME, 'password'))).send_keys(password)\n",
    "        wait.until(EC.element_to_be_clickable((by.TAG_NAME, 'button'))).submit()\n",
    "        \n",
    "        # logging is taking time so that's why here give sleep time\n",
    "        time.sleep(6)\n",
    "        # driver.find_element(by.CLASS_NAME, '_acan._acao._acas').click()\n",
    "        print('Logged In SuccessFully')\n",
    "#     except Exception:\n",
    "#         print('error')"
   ]
  },
  {
   "cell_type": "code",
   "execution_count": 26,
   "metadata": {},
   "outputs": [],
   "source": [
    "username = 'testAccountselenium'\n",
    "password = 'selenium123'"
   ]
  },
  {
   "cell_type": "code",
   "execution_count": 27,
   "metadata": {},
   "outputs": [
    {
     "name": "stdout",
     "output_type": "stream",
     "text": [
      "Logged In SuccessFully\n"
     ]
    }
   ],
   "source": [
    "LoginInstagram(username, password)"
   ]
  },
  {
   "cell_type": "code",
   "execution_count": 28,
   "metadata": {},
   "outputs": [
    {
     "data": {
      "text/plain": [
       "<selenium.webdriver.remote.webelement.WebElement (session=\"163a61de9d3b56772201c47e4dd2d430\", element=\"ae6ad850-36dd-439d-b764-ee3d647b402d\")>"
      ]
     },
     "execution_count": 28,
     "metadata": {},
     "output_type": "execute_result"
    }
   ],
   "source": [
    "save_info = driver.find_element(By.CLASS_NAME, \"_ac8f\")\n",
    "save_info.click()\n",
    "WebDriverWait(driver, 5).until(EC.presence_of_element_located((By.CLASS_NAME, '_a9-z')))"
   ]
  },
  {
   "cell_type": "code",
   "execution_count": 29,
   "metadata": {},
   "outputs": [],
   "source": [
    "notif=driver.find_element(By.CLASS_NAME, '_a9-z').click()"
   ]
  },
  {
   "attachments": {},
   "cell_type": "markdown",
   "metadata": {},
   "source": [
    "Now your friend has followed a lot of different food bloggers, he needs to analyse the habits of these bloggers.\n",
    "\n",
    "From the list of instagram handles you obtained when you searched ‘food’ in previous project. Open the first 10 handles and find the top 5 which have the highest number of followers\n",
    "\n",
    "Now Find the number of posts these handles have done in the previous 3 days.\n",
    "\n",
    "Depict this information using a suitable graph."
   ]
  },
  {
   "cell_type": "code",
   "execution_count": 30,
   "metadata": {},
   "outputs": [],
   "source": [
    "def search_and_open(username):\n",
    "    try:\n",
    "        driver.find_element(by.LINK_TEXT, 'Search').click() #search button\n",
    "        wait.until(EC.presence_of_element_located((by.CLASS_NAME, '_aauy'))).send_keys(username) #search text enter\n",
    "        time.sleep(2)\n",
    "        wait.until(EC.presence_of_element_located((by.CLASS_NAME, '_abm4'))).click()\n",
    "        print(\"Opened Profile: \", username)\n",
    "    except Exception:\n",
    "        print(\"Something Went Wrong Try Again!\")"
   ]
  },
  {
   "cell_type": "code",
   "execution_count": 31,
   "metadata": {},
   "outputs": [
    {
     "name": "stdout",
     "output_type": "stream",
     "text": [
      "Opened Profile:  food\n"
     ]
    }
   ],
   "source": [
    "search_and_open('food')"
   ]
  },
  {
   "cell_type": "code",
   "execution_count": 32,
   "metadata": {},
   "outputs": [],
   "source": [
    "def search_getList(text): # it take text as input to search\n",
    "    try:\n",
    "        driver.find_element(by.LINK_TEXT, 'Search').click() #search button\n",
    "        driver.find_element(by.CLASS_NAME, '_aauy').send_keys(text) #search text enter\n",
    "\n",
    "        find_all = driver.find_element(by.CLASS_NAME, 'xhtitgo.xh8yej3.x1n2onr6.x5yr21d.xdt5ytf.x78zum5.x1wzhzgj.x6s0dn4') # retreive whole class of the profiles what we searched\n",
    "        time.sleep(8) #sleep for 8 seconds\n",
    "        profiles = []\n",
    "        data = bs(find_all.get_attribute('outerHTML'), 'html.parser') # loading into beautiful soup\n",
    "        a = data.find_all('a')[:10]\n",
    "        for i in a:\n",
    "            # checking the any hastags or location\n",
    "            if 'tags' in i['href'].strip('/').split('/') or 'locations' in i['href'].strip('/').split('/'):\n",
    "                continue\n",
    "            else:\n",
    "                # it will print only usernames\n",
    "                profiles.append(i['href'].strip('/'))\n",
    "        time.sleep(3)\n",
    "        driver.find_element(by.CLASS_NAME, 'x1n2onr6.x6s0dn4.x78zum5').click()\n",
    "        return profiles\n",
    "    except KeyboardInterrupt:\n",
    "        print(\"You Have Stopped..\")\n",
    "    except Exception:\n",
    "        print(\"Something Went Wrong!\")"
   ]
  },
  {
   "cell_type": "code",
   "execution_count": 33,
   "metadata": {},
   "outputs": [
    {
     "data": {
      "text/plain": [
       "['foodgod',\n",
       " 'punjabi_food_factory',\n",
       " 'foodzeee',\n",
       " 'foodsandflavorsbyshilpi',\n",
       " 'punjabi_foodofficial',\n",
       " 'ludhiana_foodiess',\n",
       " 'food',\n",
       " 'amritsarfood',\n",
       " 'garimaspridefood']"
      ]
     },
     "execution_count": 33,
     "metadata": {},
     "output_type": "execute_result"
    }
   ],
   "source": [
    "list_food = search_getList('food') # extractiong top 10 from search list\n",
    "list_food # food blog names list"
   ]
  },
  {
   "cell_type": "code",
   "execution_count": 35,
   "metadata": {},
   "outputs": [],
   "source": [
    "def max_followers(list_food):\n",
    "    li = [] # it stores the followers\n",
    "    for i in list_food: # iterate all profiles\n",
    "        # it search and open profile\n",
    "        search_and_open(i)\n",
    "        time.sleep(3) # sleep to load the page\n",
    "        followers=driver.find_element(by.XPATH, '//*[@id=\"mount_0_0_pV\"]/div/div/div/div[1]/div/div/div/div[1]/div[2]/div[2]/section/main/div/header/section/ul/li[2]/a/div/span')\n",
    "        # printing the followers\n",
    "        print(followers.get_attribute('title'))\n",
    "        # appendting the followers into the list\n",
    "        li.append(followers.get_attribute('title'))\n",
    "        driver.back()\n",
    "        time.sleep(2)\n",
    "    return li # return the followers list"
   ]
  },
  {
   "cell_type": "code",
   "execution_count": 36,
   "metadata": {},
   "outputs": [
    {
     "name": "stdout",
     "output_type": "stream",
     "text": [
      "Opened Profile:  foodgod\n"
     ]
    },
    {
     "ename": "NoSuchElementException",
     "evalue": "Message: no such element: Unable to locate element: {\"method\":\"xpath\",\"selector\":\"//*[@id=\"mount_0_0_pV\"]/div/div/div/div[1]/div/div/div/div[1]/div[2]/div[2]/section/main/div/header/section/ul/li[2]/a/div/span\"}\n  (Session info: chrome=109.0.5414.120)\nStacktrace:\nBacktrace:\n\t(No symbol) [0x011B6643]\n\t(No symbol) [0x0114BE21]\n\t(No symbol) [0x0104DA9D]\n\t(No symbol) [0x01081342]\n\t(No symbol) [0x0108147B]\n\t(No symbol) [0x010B8DC2]\n\t(No symbol) [0x0109FDC4]\n\t(No symbol) [0x010B6B09]\n\t(No symbol) [0x0109FB76]\n\t(No symbol) [0x010749C1]\n\t(No symbol) [0x01075E5D]\n\tGetHandleVerifier [0x0142A142+2497106]\n\tGetHandleVerifier [0x014585D3+2686691]\n\tGetHandleVerifier [0x0145BB9C+2700460]\n\tGetHandleVerifier [0x01263B10+635936]\n\t(No symbol) [0x01154A1F]\n\t(No symbol) [0x0115A418]\n\t(No symbol) [0x0115A505]\n\t(No symbol) [0x0116508B]\n\tBaseThreadInitThunk [0x752500F9+25]\n\tRtlGetAppContainerNamedObjectPath [0x76F97BBE+286]\n\tRtlGetAppContainerNamedObjectPath [0x76F97B8E+238]\n",
     "output_type": "error",
     "traceback": [
      "\u001b[1;31m---------------------------------------------------------------------------\u001b[0m",
      "\u001b[1;31mNoSuchElementException\u001b[0m                    Traceback (most recent call last)",
      "Cell \u001b[1;32mIn [36], line 1\u001b[0m\n\u001b[1;32m----> 1\u001b[0m followers \u001b[39m=\u001b[39m max_followers(list_food)\n",
      "Cell \u001b[1;32mIn [35], line 7\u001b[0m, in \u001b[0;36mmax_followers\u001b[1;34m(list_food)\u001b[0m\n\u001b[0;32m      5\u001b[0m search_and_open(i)\n\u001b[0;32m      6\u001b[0m time\u001b[39m.\u001b[39msleep(\u001b[39m3\u001b[39m) \u001b[39m# sleep to load the page\u001b[39;00m\n\u001b[1;32m----> 7\u001b[0m followers\u001b[39m=\u001b[39mdriver\u001b[39m.\u001b[39;49mfind_element(by\u001b[39m.\u001b[39;49mXPATH, \u001b[39m'\u001b[39;49m\u001b[39m//*[@id=\u001b[39;49m\u001b[39m\"\u001b[39;49m\u001b[39mmount_0_0_pV\u001b[39;49m\u001b[39m\"\u001b[39;49m\u001b[39m]/div/div/div/div[1]/div/div/div/div[1]/div[2]/div[2]/section/main/div/header/section/ul/li[2]/a/div/span\u001b[39;49m\u001b[39m'\u001b[39;49m)\n\u001b[0;32m      8\u001b[0m \u001b[39m# printing the followers\u001b[39;00m\n\u001b[0;32m      9\u001b[0m \u001b[39mprint\u001b[39m(followers\u001b[39m.\u001b[39mget_attribute(\u001b[39m'\u001b[39m\u001b[39mtitle\u001b[39m\u001b[39m'\u001b[39m))\n",
      "File \u001b[1;32m~\\AppData\\Roaming\\Python\\Python310\\site-packages\\selenium\\webdriver\\remote\\webdriver.py:861\u001b[0m, in \u001b[0;36mWebDriver.find_element\u001b[1;34m(self, by, value)\u001b[0m\n\u001b[0;32m    858\u001b[0m     by \u001b[39m=\u001b[39m By\u001b[39m.\u001b[39mCSS_SELECTOR\n\u001b[0;32m    859\u001b[0m     value \u001b[39m=\u001b[39m \u001b[39m'\u001b[39m\u001b[39m[name=\u001b[39m\u001b[39m\"\u001b[39m\u001b[39m%s\u001b[39;00m\u001b[39m\"\u001b[39m\u001b[39m]\u001b[39m\u001b[39m'\u001b[39m \u001b[39m%\u001b[39m value\n\u001b[1;32m--> 861\u001b[0m \u001b[39mreturn\u001b[39;00m \u001b[39mself\u001b[39;49m\u001b[39m.\u001b[39;49mexecute(Command\u001b[39m.\u001b[39;49mFIND_ELEMENT, {\u001b[39m\"\u001b[39;49m\u001b[39musing\u001b[39;49m\u001b[39m\"\u001b[39;49m: by, \u001b[39m\"\u001b[39;49m\u001b[39mvalue\u001b[39;49m\u001b[39m\"\u001b[39;49m: value})[\u001b[39m\"\u001b[39m\u001b[39mvalue\u001b[39m\u001b[39m\"\u001b[39m]\n",
      "File \u001b[1;32m~\\AppData\\Roaming\\Python\\Python310\\site-packages\\selenium\\webdriver\\remote\\webdriver.py:444\u001b[0m, in \u001b[0;36mWebDriver.execute\u001b[1;34m(self, driver_command, params)\u001b[0m\n\u001b[0;32m    442\u001b[0m response \u001b[39m=\u001b[39m \u001b[39mself\u001b[39m\u001b[39m.\u001b[39mcommand_executor\u001b[39m.\u001b[39mexecute(driver_command, params)\n\u001b[0;32m    443\u001b[0m \u001b[39mif\u001b[39;00m response:\n\u001b[1;32m--> 444\u001b[0m     \u001b[39mself\u001b[39;49m\u001b[39m.\u001b[39;49merror_handler\u001b[39m.\u001b[39;49mcheck_response(response)\n\u001b[0;32m    445\u001b[0m     response[\u001b[39m\"\u001b[39m\u001b[39mvalue\u001b[39m\u001b[39m\"\u001b[39m] \u001b[39m=\u001b[39m \u001b[39mself\u001b[39m\u001b[39m.\u001b[39m_unwrap_value(response\u001b[39m.\u001b[39mget(\u001b[39m\"\u001b[39m\u001b[39mvalue\u001b[39m\u001b[39m\"\u001b[39m, \u001b[39mNone\u001b[39;00m))\n\u001b[0;32m    446\u001b[0m     \u001b[39mreturn\u001b[39;00m response\n",
      "File \u001b[1;32m~\\AppData\\Roaming\\Python\\Python310\\site-packages\\selenium\\webdriver\\remote\\errorhandler.py:249\u001b[0m, in \u001b[0;36mErrorHandler.check_response\u001b[1;34m(self, response)\u001b[0m\n\u001b[0;32m    247\u001b[0m         alert_text \u001b[39m=\u001b[39m value[\u001b[39m\"\u001b[39m\u001b[39malert\u001b[39m\u001b[39m\"\u001b[39m]\u001b[39m.\u001b[39mget(\u001b[39m\"\u001b[39m\u001b[39mtext\u001b[39m\u001b[39m\"\u001b[39m)\n\u001b[0;32m    248\u001b[0m     \u001b[39mraise\u001b[39;00m exception_class(message, screen, stacktrace, alert_text)  \u001b[39m# type: ignore[call-arg]  # mypy is not smart enough here\u001b[39;00m\n\u001b[1;32m--> 249\u001b[0m \u001b[39mraise\u001b[39;00m exception_class(message, screen, stacktrace)\n",
      "\u001b[1;31mNoSuchElementException\u001b[0m: Message: no such element: Unable to locate element: {\"method\":\"xpath\",\"selector\":\"//*[@id=\"mount_0_0_pV\"]/div/div/div/div[1]/div/div/div/div[1]/div[2]/div[2]/section/main/div/header/section/ul/li[2]/a/div/span\"}\n  (Session info: chrome=109.0.5414.120)\nStacktrace:\nBacktrace:\n\t(No symbol) [0x011B6643]\n\t(No symbol) [0x0114BE21]\n\t(No symbol) [0x0104DA9D]\n\t(No symbol) [0x01081342]\n\t(No symbol) [0x0108147B]\n\t(No symbol) [0x010B8DC2]\n\t(No symbol) [0x0109FDC4]\n\t(No symbol) [0x010B6B09]\n\t(No symbol) [0x0109FB76]\n\t(No symbol) [0x010749C1]\n\t(No symbol) [0x01075E5D]\n\tGetHandleVerifier [0x0142A142+2497106]\n\tGetHandleVerifier [0x014585D3+2686691]\n\tGetHandleVerifier [0x0145BB9C+2700460]\n\tGetHandleVerifier [0x01263B10+635936]\n\t(No symbol) [0x01154A1F]\n\t(No symbol) [0x0115A418]\n\t(No symbol) [0x0115A505]\n\t(No symbol) [0x0116508B]\n\tBaseThreadInitThunk [0x752500F9+25]\n\tRtlGetAppContainerNamedObjectPath [0x76F97BBE+286]\n\tRtlGetAppContainerNamedObjectPath [0x76F97B8E+238]\n"
     ]
    }
   ],
   "source": [
    "followers = max_followers(list_food) # extracting followers list"
   ]
  },
  {
   "cell_type": "code",
   "execution_count": null,
   "metadata": {},
   "outputs": [],
   "source": []
  }
 ],
 "metadata": {
  "kernelspec": {
   "display_name": "Python 3",
   "language": "python",
   "name": "python3"
  },
  "language_info": {
   "codemirror_mode": {
    "name": "ipython",
    "version": 3
   },
   "file_extension": ".py",
   "mimetype": "text/x-python",
   "name": "python",
   "nbconvert_exporter": "python",
   "pygments_lexer": "ipython3",
   "version": "3.10.5"
  },
  "orig_nbformat": 4,
  "vscode": {
   "interpreter": {
    "hash": "26de051ba29f2982a8de78e945f0abaf191376122a1563185a90213a26c5da77"
   }
  }
 },
 "nbformat": 4,
 "nbformat_minor": 2
}
