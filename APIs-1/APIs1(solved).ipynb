{
 "cells": [
  {
   "cell_type": "markdown",
   "id": "df18eef8",
   "metadata": {},
   "source": [
    "# Content - type"
   ]
  },
  {
   "cell_type": "code",
   "execution_count": 1,
   "id": "a6f707d9",
   "metadata": {},
   "outputs": [
    {
     "data": {
      "text/plain": [
       "'application/json'"
      ]
     },
     "execution_count": 1,
     "metadata": {},
     "output_type": "execute_result"
    }
   ],
   "source": [
    "#http://api.open-notify.org/iss-pass.\n",
    "import requests\n",
    "response = requests.get('https://codingninjas.in/api/v3/events')\n",
    "response.headers['content-type']"
   ]
  },
  {
   "cell_type": "markdown",
   "id": "d9d4758d",
   "metadata": {},
   "source": [
    "# Hound sub-breeds"
   ]
  },
  {
   "cell_type": "code",
   "execution_count": 2,
   "id": "bb3ff01a",
   "metadata": {},
   "outputs": [
    {
     "name": "stdout",
     "output_type": "stream",
     "text": [
      "afghan\n",
      "basset\n",
      "blood\n",
      "english\n",
      "ibizan\n",
      "plott\n",
      "walker\n"
     ]
    }
   ],
   "source": [
    "import requests\n",
    "response = requests.get('https://dog.ceo/api/breeds/list/all')\n",
    "data = response.json()\n",
    "for i in data['message']['hound']:\n",
    "    print(i)"
   ]
  },
  {
   "cell_type": "markdown",
   "id": "a26a630f",
   "metadata": {},
   "source": [
    "# Poodle sub breeds count"
   ]
  },
  {
   "cell_type": "code",
   "execution_count": 3,
   "id": "7d4e9da2",
   "metadata": {},
   "outputs": [
    {
     "name": "stdout",
     "output_type": "stream",
     "text": [
      "4\n"
     ]
    }
   ],
   "source": [
    "import requests\n",
    "response = requests.get('https://dog.ceo/api/breeds/list/all')\n",
    "data = response.json()\n",
    "print(len(data['message']['poodle']))\n",
    "\n",
    "# count = 0\n",
    "# for i in data['message']['poodle']:\n",
    "    # count += 1\n",
    "# print(count)"
   ]
  },
  {
   "cell_type": "markdown",
   "id": "5d00bad1",
   "metadata": {},
   "source": [
    "# CN Online Courses"
   ]
  },
  {
   "cell_type": "code",
   "execution_count": 4,
   "id": "ee3977ec",
   "metadata": {},
   "outputs": [
    {
     "name": "stdout",
     "output_type": "stream",
     "text": [
      "C++ Foundation with Data Structures\n",
      "Premium Android App Development\n",
      "Premium Data structures and Algorithms [C++/Java/Python]\n",
      "Premium Machine Learning Course\n",
      "Premium Data Science Course\n",
      "Advanced  Front-End Web Development with React\n",
      "Ninja Competitive Programmer Track\n",
      "Premium Competitive Programming Course\n",
      "Premium Full Stack Web Development\n",
      "System Design Course\n",
      "Machine Learning & Deep Learning Course\n",
      "JAVA Foundation with Data Structures\n",
      "Full Stack Web Development\n",
      "Ninja Android Developer Career Track \n",
      "Interview Preparation Course\n",
      "Ninja  Web Developer Career Track - NodeJS & ReactJs\n",
      "Grokking the Operating Systems Interview\n",
      "Data Science & Machine Learning Complete\n",
      "Ninja  Web Developer Career Track - NodeJS\n",
      "Competitive Programming Course\n",
      "Android Development with Kotlin\n",
      "Ninja Data Scientist Career Track\n",
      "Python Foundation with Data Structures\n",
      "Aptitude Preparation Course\n",
      "Ninja Machine Learning Engineer Career Track\n"
     ]
    }
   ],
   "source": [
    "import requests\n",
    "response = requests.get('https://api.codingninjas.com/api/v3/courses')\n",
    "data = response.json()\n",
    "all_courses = data['data']['courses']\n",
    "for i in all_courses:\n",
    "        print(i['name'])"
   ]
  },
  {
   "cell_type": "markdown",
   "id": "542c7928",
   "metadata": {},
   "source": [
    "# Workshop Events"
   ]
  },
  {
   "cell_type": "code",
   "execution_count": 5,
   "id": "775930cd",
   "metadata": {},
   "outputs": [
    {
     "name": "stdout",
     "output_type": "stream",
     "text": [
      "Ready to solve fun, challenging problems?\n"
     ]
    }
   ],
   "source": [
    "import requests\n",
    "response = requests.get('https://api.codingninjas.com/api/v3/events?event_category=ALL_EVENTS&event_sub_category=All%20Time%20Favorites&tag_list=&offset=0')\n",
    "data = response.json()\n",
    "print(data['data']['events'][0]['short_desc'])"
   ]
  },
  {
   "cell_type": "markdown",
   "id": "dc069d29",
   "metadata": {},
   "source": [
    "# Title of course"
   ]
  },
  {
   "cell_type": "code",
   "execution_count": 6,
   "id": "bfd2f6a5",
   "metadata": {},
   "outputs": [
    {
     "name": "stdout",
     "output_type": "stream",
     "text": [
      "Machine Learning\n"
     ]
    }
   ],
   "source": [
    "import requests\n",
    "a = requests.get('http://api.codingninjas.com/api/v3/courses', params={\"id\":19})\n",
    "data = a.json()\n",
    "for i in data['data']['courses']:\n",
    "    if i[\"id\"] == 19:\n",
    "        print(i['title'])\n",
    "# response.status_code"
   ]
  },
  {
   "cell_type": "markdown",
   "id": "a8416380",
   "metadata": {},
   "source": [
    "# Total number of cities"
   ]
  },
  {
   "cell_type": "code",
   "execution_count": 7,
   "id": "b391dc43",
   "metadata": {},
   "outputs": [
    {
     "name": "stdout",
     "output_type": "stream",
     "text": [
      "80\n"
     ]
    }
   ],
   "source": [
    "import requests\n",
    "a = requests.get('https://api.openaq.org/v2/cities', params = {'country' : 'AU'})\n",
    "data = a.json()\n",
    "print(len(data['results']))"
   ]
  },
  {
   "cell_type": "markdown",
   "id": "55829a1a",
   "metadata": {},
   "source": [
    "# Cities from BE"
   ]
  },
  {
   "cell_type": "code",
   "execution_count": 8,
   "id": "abe17936",
   "metadata": {},
   "outputs": [
    {
     "name": "stdout",
     "output_type": "stream",
     "text": [
      "Antwerpen\n",
      "Brabant wallon\n",
      "Brussels-Capital Region\n",
      "Flanders\n",
      "Hainaut\n"
     ]
    }
   ],
   "source": [
    "import requests\n",
    "a = requests.get('https://api.openaq.org/v1/cities', params={\"country\" : \"BE\", \"limit\" : 5})\n",
    "data = a.json()\n",
    "for i in data['results']:\n",
    "    print(i['name'])"
   ]
  },
  {
   "cell_type": "markdown",
   "id": "a0cc7cf3",
   "metadata": {},
   "source": [
    "# USA WOEID"
   ]
  },
  {
   "cell_type": "code",
   "execution_count": 36,
   "id": "670e167e",
   "metadata": {},
   "outputs": [
    {
     "name": "stdout",
     "output_type": "stream",
     "text": [
      "Hyderabad\n",
      "Temperature:  299.38\n",
      "Weather Report:  haze\n"
     ]
    },
    {
     "data": {
      "text/plain": [
       "200"
      ]
     },
     "execution_count": 36,
     "metadata": {},
     "output_type": "execute_result"
    }
   ],
   "source": [
    "import requests\n",
    "a = requests.get('https://api.openweathermap.org/data/2.5/weather',params={'q':'Hyderabad','appid':'4f37d81d3d6a55228b7a9c8b5fc77d78'})\n",
    "data=a.json()\n",
    "print(data['name'])\n",
    "print(\"Temperature: \", data['main']['temp'])\n",
    "print(\"Weather Report: \", data['weather'][0]['description'])"
   ]
  },
  {
   "cell_type": "markdown",
   "id": "d0f2f422",
   "metadata": {},
   "source": [
    "# Holiday"
   ]
  },
  {
   "cell_type": "code",
   "execution_count": 47,
   "id": "a86aaacc",
   "metadata": {},
   "outputs": [
    {
     "name": "stdout",
     "output_type": "stream",
     "text": [
      "Mahatma Gandhi's Birthday\n"
     ]
    }
   ],
   "source": [
    "import requests\n",
    "response = requests.get('https://holidayapi.com/v1/holidays', params={\"key\" : \"2632af60-8870-461b-a4a3-6eacc8ae1c6b\", \"country\": \"IN\", \"year\":2021})\n",
    "# response.status_code\n",
    "# response.url\n",
    "data = response.json()\n",
    "a = data['holidays']\n",
    "for i in a:\n",
    "    if i['date'] ==  '2021-10-02':\n",
    "        print(i['name'])"
   ]
  },
  {
   "cell_type": "markdown",
   "id": "46206281",
   "metadata": {},
   "source": []
  }
 ],
 "metadata": {
  "kernelspec": {
   "display_name": "Python 3.10.5 64-bit",
   "language": "python",
   "name": "python3"
  },
  "language_info": {
   "codemirror_mode": {
    "name": "ipython",
    "version": 3
   },
   "file_extension": ".py",
   "mimetype": "text/x-python",
   "name": "python",
   "nbconvert_exporter": "python",
   "pygments_lexer": "ipython3",
   "version": "3.10.5"
  },
  "vscode": {
   "interpreter": {
    "hash": "26de051ba29f2982a8de78e945f0abaf191376122a1563185a90213a26c5da77"
   }
  }
 },
 "nbformat": 4,
 "nbformat_minor": 5
}
