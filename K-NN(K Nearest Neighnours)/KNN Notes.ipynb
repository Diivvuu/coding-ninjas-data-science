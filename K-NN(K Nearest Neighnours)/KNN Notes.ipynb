{
  "nbformat": 4,
  "nbformat_minor": 0,
  "metadata": {
    "colab": {
      "name": "Copy of KNN Notes.ipynb",
      "provenance": [],
      "collapsed_sections": []
    },
    "kernelspec": {
      "name": "python3",
      "display_name": "Python 3"
    }
  },
  "cells": [
    {
      "cell_type": "markdown",
      "metadata": {
        "id": "SXI1Y97SQcNl"
      },
      "source": [
        "**What will we learn?**\r\n",
        "1. **Introduction**: What is KNN\r\n",
        "2. **Correct value of K**: Finding the number of nearest neighbours\r\n",
        "3. **Distance Metric**: Understanding various Distance Metrices\r\n",
        "4. **Variations in KNN**: Uniform or weighted voting\r\n",
        "5. **Feature Scaling**\r\n",
        "6. **Scikit-learn Implementation**\r\n",
        "7. **Cross Validation**: Dividing the training data into k folds.\r\n",
        "8. **Self-implementation of KNN**: Code for KNN\r\n",
        "9. **Data preparation for KNN**\r\n",
        "10. **Curse of Dimensionality**: Removing irrelevant features\r\n",
        "11. **Other algorithms for KNN**: KDTree, BallTree\r\n",
        "12. **Advantages and Disadvantages of KNN**: Pros and cons of using KNN classifier"
      ]
    },
    {
      "cell_type": "markdown",
      "metadata": {
        "id": "QuQ6mvoeQcJ6"
      },
      "source": [
        "##**KNN**"
      ]
    },
    {
      "cell_type": "markdown",
      "metadata": {
        "id": "nQKs47pSQcQZ"
      },
      "source": [
        "KNN stands for K-Nearest Neighbours. KNN is simple classification algorithm and it is generally used for datasets in which data points are separated into several classes and we have to predict the class for the new sample point.\r\n",
        "KNN is <b>non-parametric</b> and <b>lazy</b> learning algorithm.\r\n",
        "\r\n",
        "<b>Non-parametric</b> means that the algorithm does not make any assumptions on the given data distribution. Non-parametric covers technique that do not rely on data belonging to particular distribution and do not assume the structure of model to be fixed. So, KNN is used as classification algorithm in cases where we do not have much information about the distribution of the data.\r\n",
        "\r\n",
        "KNN is referred to as <b>Lazy</b> algorithm since is does not use training points to do any generalization, which means that there is no separate training phase. KNN keeps all the training data and uses most of the training data during the testing phase. Thus, KNN does not learn any model, it make predictions on the fly, computing similarity between testing point and each training data point."
      ]
    },
    {
      "cell_type": "markdown",
      "metadata": {
        "id": "IMk87WnjQcTB"
      },
      "source": [
        "KNN algorithm is  based on <b>feature similarity</b>. We can classify the testing data point on the basis of resemblance of its features with that of the training data set."
      ]
    },
    {
      "cell_type": "markdown",
      "metadata": {
        "id": "Q7sVl62SQcVi"
      },
      "source": [
        "<img src=\"https://files.codingninjas.in/knn_intro-7470.png\" width=\"700\">"
      ]
    },
    {
      "cell_type": "markdown",
      "metadata": {
        "id": "vNQyr6KTSJnP"
      },
      "source": [
        "The test sample (green circle) should either be classified into Class 1(blue squares) or Class 2 (red triangles). The class for the sample testing point is decided on the basis of majority vote-out.\r\n"
      ]
    },
    {
      "cell_type": "markdown",
      "metadata": {
        "id": "krzBqlSRUduj"
      },
      "source": [
        "##**How to choose the correct value of 'K'?**\r\n"
      ]
    },
    {
      "cell_type": "markdown",
      "metadata": {
        "id": "e11HG3-sUU-o"
      },
      "source": [
        "'K' in KNN is a parameter that refers to the number of nearest neighbours to include in the majority of the voting process.\r\n",
        "\r\n",
        "If value of K is 1, the nearest training point belongs to Class 1, so we will say that the testing sample belongs to Class 1. Now, take the value of K to be 3, again using the methodology of majority vote, we will say that testing sample belongs to Class 2 (red traingles), since out of three nearest training data points, two belongs to Class 2 and one belong to Class 1.\r\n",
        "\r\n",
        "1. A very low value for K such as K = 1 or K = 2, can be noisy and lead to the effects of outliers in the model.\r\n",
        "2. Inversely, as we increase the value of K, our predictions become more stable due to majority voting / averaging, and thus, more likely to make more accurate predictions (up to a certain point). Eventually, we begin to witness an increasing number of errors. It is at this point we know we have pushed the value of K too far.\r\n",
        "3. In cases where we are taking a majority vote (e.g. picking the mode in a classification problem) among labels, we usually make K an odd number to have a tiebreaker."
      ]
    },
    {
      "cell_type": "markdown",
      "metadata": {
        "id": "fLIrBfNZSJg-"
      },
      "source": [
        "KNN can be used for Classification as well as Regression.\r\n",
        "\r\n",
        "While using KNN for classification - output is a class membership, we will classify the sample point using the technique of majority vote among its neighbors and the most common class among its K nearest neighbours is assigned to the testing point. In regression, output is the property value of object, this value is average or median of the value of its K nearest neighbors.\r\n",
        "\r\n",
        "In classification, KNN is used to predict a class which is a discrete value whereas in regression, KNN predicts continuous values"
      ]
    },
    {
      "cell_type": "markdown",
      "metadata": {
        "id": "Jr23pYV7SJcR"
      },
      "source": [
        "###**Why don't we choose value value of K to be 1 ?**"
      ]
    },
    {
      "cell_type": "markdown",
      "metadata": {
        "id": "F14fhzC3SJYG"
      },
      "source": [
        "Choosing the value of K to be 1 makes our model more prone to outliers and overfitting. Value of 1 means that we will consider only the closest (or nearest) neighbor to predict the class for our testing sample, and in majority of the cases it will lead to overfitting"
      ]
    },
    {
      "cell_type": "markdown",
      "metadata": {
        "id": "usnTxG-6SJSz"
      },
      "source": [
        "<img src=\"https://files.codingninjas.in/knn-1-7479.jpg\" width=\"550\">"
      ]
    },
    {
      "cell_type": "markdown",
      "metadata": {
        "id": "XTSdRYv5SJKE"
      },
      "source": [
        "Consider the case here, if we choose value of K to be 1, the given training sample will get classified as dot (Class 2), instead of being classified as a cross (Class 1). So, in such cases certain optimal value of K should be chosen to get good results. Choosing the value of K to be 1, leads to formation of complex decision boundaries and hence will lead to overfitting.\r\n",
        "\r\n",
        "Since we will be using the majority vote technique, so value of K is taken to be odd, to obtain clear result about the class of the testing data sample."
      ]
    },
    {
      "cell_type": "markdown",
      "metadata": {
        "id": "dKkyugO7Z0RW"
      },
      "source": [
        "##**Distance Metric for KNN**"
      ]
    },
    {
      "cell_type": "markdown",
      "metadata": {
        "id": "3fVQY25pZ0NS"
      },
      "source": [
        "There are various distance metrices that can be chosen such as Manhattan Distance, Euclidian Distance, etc.\r\n",
        "\r\n",
        "$$Manhattan \\;Distance = |\\sum_{i=1}^n X_1^i - X_2^i|$$\r\n",
        "$$Euclidian\\; Distance = \\sqrt{(\\sum_{i=1}^n (X_1^i-X_2^i)^2)} $$"
      ]
    },
    {
      "cell_type": "markdown",
      "metadata": {
        "id": "AvQ5cWfiZ0JT"
      },
      "source": [
        "Where $X_1$ and $X_2$ are two different data points and $i$ traverses over all the features in the given dataset."
      ]
    },
    {
      "cell_type": "markdown",
      "metadata": {
        "id": "A2MTqTyEZ0Fk"
      },
      "source": [
        "##**Variations in KNN**"
      ]
    },
    {
      "cell_type": "markdown",
      "metadata": {
        "id": "QQwNeYfsZz-t"
      },
      "source": [
        "Variations in KNN are possible on the basis of how neighbouring points are going to vote. The weight of the vote of the testing point(s) is inversely proportional to its distance from the testing point. We can go either with uniform voting or with weighted voting. In case of weighted voting, the point nearer to the testing sample will have a larger say in the vote as compared to the point which is farther away from the testing point"
      ]
    },
    {
      "cell_type": "markdown",
      "metadata": {
        "id": "3riFHG7ZZzz0"
      },
      "source": [
        "##**Feature Scaling before KNN**"
      ]
    },
    {
      "cell_type": "markdown",
      "metadata": {
        "id": "6QI5AhGCdv3M"
      },
      "source": [
        "In KNN, we are looking for points which are closest to the testing point. In case we do not perform feature scaling, if we have value of one feature in thousands and value of other feature in smaller units, then the effect of first feature will completely overpower and dominate over the effect of second feature in the final output. So, it is of utmost importance to apply feature scaling before applying KNN so that all the features have equal contribution in the final predicted output for the given testing point."
      ]
    },
    {
      "cell_type": "markdown",
      "metadata": {
        "id": "qmZnqefvdvz8"
      },
      "source": [
        "##**KNN in Sklearn**"
      ]
    },
    {
      "cell_type": "markdown",
      "metadata": {
        "id": "DlPpe__Ddvvy"
      },
      "source": [
        "We will be applying KNN on Breast Cancer Dataset and use inbuilt KNN Classifier inside sklearn."
      ]
    },
    {
      "cell_type": "code",
      "metadata": {
        "id": "wq8pLV-tZtyI"
      },
      "source": [
        "from sklearn import datasets\r\n",
        "from sklearn.model_selection import train_test_split\r\n",
        "from sklearn.neighbors import KNeighborsClassifier\r\n",
        "from sklearn.model_selection import cross_val_score\r\n",
        "import matplotlib.pyplot as plt"
      ],
      "execution_count": null,
      "outputs": []
    },
    {
      "cell_type": "code",
      "metadata": {
        "id": "vP-qJWagd-Un"
      },
      "source": [
        "cancer = datasets.load_breast_cancer()"
      ],
      "execution_count": null,
      "outputs": []
    },
    {
      "cell_type": "code",
      "metadata": {
        "colab": {
          "base_uri": "https://localhost:8080/"
        },
        "id": "_QIgDOpqeAbg",
        "outputId": "32851e8b-1285-48c8-a39b-53c55f4edcf6"
      },
      "source": [
        "cancer.feature_names"
      ],
      "execution_count": null,
      "outputs": [
        {
          "output_type": "execute_result",
          "data": {
            "text/plain": [
              "array(['mean radius', 'mean texture', 'mean perimeter', 'mean area',\n",
              "       'mean smoothness', 'mean compactness', 'mean concavity',\n",
              "       'mean concave points', 'mean symmetry', 'mean fractal dimension',\n",
              "       'radius error', 'texture error', 'perimeter error', 'area error',\n",
              "       'smoothness error', 'compactness error', 'concavity error',\n",
              "       'concave points error', 'symmetry error',\n",
              "       'fractal dimension error', 'worst radius', 'worst texture',\n",
              "       'worst perimeter', 'worst area', 'worst smoothness',\n",
              "       'worst compactness', 'worst concavity', 'worst concave points',\n",
              "       'worst symmetry', 'worst fractal dimension'], dtype='<U23')"
            ]
          },
          "metadata": {
            "tags": []
          },
          "execution_count": 3
        }
      ]
    },
    {
      "cell_type": "code",
      "metadata": {
        "colab": {
          "base_uri": "https://localhost:8080/"
        },
        "id": "p555DU_peCkk",
        "outputId": "574cf949-587e-4b81-ef4e-f06566bb5ecc"
      },
      "source": [
        "cancer.target"
      ],
      "execution_count": null,
      "outputs": [
        {
          "output_type": "execute_result",
          "data": {
            "text/plain": [
              "array([0, 0, 0, 0, 0, 0, 0, 0, 0, 0, 0, 0, 0, 0, 0, 0, 0, 0, 0, 1, 1, 1,\n",
              "       0, 0, 0, 0, 0, 0, 0, 0, 0, 0, 0, 0, 0, 0, 0, 1, 0, 0, 0, 0, 0, 0,\n",
              "       0, 0, 1, 0, 1, 1, 1, 1, 1, 0, 0, 1, 0, 0, 1, 1, 1, 1, 0, 1, 0, 0,\n",
              "       1, 1, 1, 1, 0, 1, 0, 0, 1, 0, 1, 0, 0, 1, 1, 1, 0, 0, 1, 0, 0, 0,\n",
              "       1, 1, 1, 0, 1, 1, 0, 0, 1, 1, 1, 0, 0, 1, 1, 1, 1, 0, 1, 1, 0, 1,\n",
              "       1, 1, 1, 1, 1, 1, 1, 0, 0, 0, 1, 0, 0, 1, 1, 1, 0, 0, 1, 0, 1, 0,\n",
              "       0, 1, 0, 0, 1, 1, 0, 1, 1, 0, 1, 1, 1, 1, 0, 1, 1, 1, 1, 1, 1, 1,\n",
              "       1, 1, 0, 1, 1, 1, 1, 0, 0, 1, 0, 1, 1, 0, 0, 1, 1, 0, 0, 1, 1, 1,\n",
              "       1, 0, 1, 1, 0, 0, 0, 1, 0, 1, 0, 1, 1, 1, 0, 1, 1, 0, 0, 1, 0, 0,\n",
              "       0, 0, 1, 0, 0, 0, 1, 0, 1, 0, 1, 1, 0, 1, 0, 0, 0, 0, 1, 1, 0, 0,\n",
              "       1, 1, 1, 0, 1, 1, 1, 1, 1, 0, 0, 1, 1, 0, 1, 1, 0, 0, 1, 0, 1, 1,\n",
              "       1, 1, 0, 1, 1, 1, 1, 1, 0, 1, 0, 0, 0, 0, 0, 0, 0, 0, 0, 0, 0, 0,\n",
              "       0, 0, 1, 1, 1, 1, 1, 1, 0, 1, 0, 1, 1, 0, 1, 1, 0, 1, 0, 0, 1, 1,\n",
              "       1, 1, 1, 1, 1, 1, 1, 1, 1, 1, 1, 0, 1, 1, 0, 1, 0, 1, 1, 1, 1, 1,\n",
              "       1, 1, 1, 1, 1, 1, 1, 1, 1, 0, 1, 1, 1, 0, 1, 0, 1, 1, 1, 1, 0, 0,\n",
              "       0, 1, 1, 1, 1, 0, 1, 0, 1, 0, 1, 1, 1, 0, 1, 1, 1, 1, 1, 1, 1, 0,\n",
              "       0, 0, 1, 1, 1, 1, 1, 1, 1, 1, 1, 1, 1, 0, 0, 1, 0, 0, 0, 1, 0, 0,\n",
              "       1, 1, 1, 1, 1, 0, 1, 1, 1, 1, 1, 0, 1, 1, 1, 0, 1, 1, 0, 0, 1, 1,\n",
              "       1, 1, 1, 1, 0, 1, 1, 1, 1, 1, 1, 1, 0, 1, 1, 1, 1, 1, 0, 1, 1, 0,\n",
              "       1, 1, 1, 1, 1, 1, 1, 1, 1, 1, 1, 1, 0, 1, 0, 0, 1, 0, 1, 1, 1, 1,\n",
              "       1, 0, 1, 1, 0, 1, 0, 1, 1, 0, 1, 0, 1, 1, 1, 1, 1, 1, 1, 1, 0, 0,\n",
              "       1, 1, 1, 1, 1, 1, 0, 1, 1, 1, 1, 1, 1, 1, 1, 1, 1, 0, 1, 1, 1, 1,\n",
              "       1, 1, 1, 0, 1, 0, 1, 1, 0, 1, 1, 1, 1, 1, 0, 0, 1, 0, 1, 0, 1, 1,\n",
              "       1, 1, 1, 0, 1, 1, 0, 1, 0, 1, 0, 0, 1, 1, 1, 0, 1, 1, 1, 1, 1, 1,\n",
              "       1, 1, 1, 1, 1, 0, 1, 0, 0, 1, 1, 1, 1, 1, 1, 1, 1, 1, 1, 1, 1, 1,\n",
              "       1, 1, 1, 1, 1, 1, 1, 1, 1, 1, 1, 1, 0, 0, 0, 0, 0, 0, 1])"
            ]
          },
          "metadata": {
            "tags": []
          },
          "execution_count": 4
        }
      ]
    },
    {
      "cell_type": "code",
      "metadata": {
        "id": "oaohvZl9eEi4"
      },
      "source": [
        "x_train, x_test, y_train, y_test = train_test_split(cancer.data, cancer.target, test_size = 0.2, random_state = 0)"
      ],
      "execution_count": null,
      "outputs": []
    },
    {
      "cell_type": "code",
      "metadata": {
        "colab": {
          "base_uri": "https://localhost:8080/"
        },
        "id": "dPVgIETHeObJ",
        "outputId": "207403d2-4c7f-47f5-af39-0ec3376ddb55"
      },
      "source": [
        "clf = KNeighborsClassifier()\r\n",
        "clf.fit(x_train, y_train)"
      ],
      "execution_count": null,
      "outputs": [
        {
          "output_type": "execute_result",
          "data": {
            "text/plain": [
              "KNeighborsClassifier(algorithm='auto', leaf_size=30, metric='minkowski',\n",
              "                     metric_params=None, n_jobs=None, n_neighbors=5, p=2,\n",
              "                     weights='uniform')"
            ]
          },
          "metadata": {
            "tags": []
          },
          "execution_count": 6
        }
      ]
    },
    {
      "cell_type": "code",
      "metadata": {
        "colab": {
          "base_uri": "https://localhost:8080/"
        },
        "id": "nrOp4RHLeQDR",
        "outputId": "a753e26b-fc58-4ab0-a4b1-90a7f7a7d203"
      },
      "source": [
        "clf.score(x_test, y_test)"
      ],
      "execution_count": null,
      "outputs": [
        {
          "output_type": "execute_result",
          "data": {
            "text/plain": [
              "0.9385964912280702"
            ]
          },
          "metadata": {
            "tags": []
          },
          "execution_count": 7
        }
      ]
    },
    {
      "cell_type": "markdown",
      "metadata": {
        "id": "XKVyJNPfeW-p"
      },
      "source": [
        "Default value of K (number of neighbors) is equal to 5 in Sklearn. By default, Sklearn implements Minkowski distance metric. General form of Minkowski distance is :\r\n",
        "$$Minkowski \\;Distance = |\\sum_{i=1}^n (X_1^i - X_2^i)^p|^{\\frac{1}{p}}$$\r\n",
        "If p = 1, that means we are using Manhattan Distance and if p = 2, that means we are using Euclidian Distance"
      ]
    },
    {
      "cell_type": "markdown",
      "metadata": {
        "id": "naYDmskViw6v"
      },
      "source": [
        "##**Cross Validation**"
      ]
    },
    {
      "cell_type": "markdown",
      "metadata": {
        "id": "Kd9vNjIsi0oF"
      },
      "source": [
        "The best value of K is the one for which we get lowest error on testing data. So, what we can do is to repeatedly train our model using both training and testing data, for different values of parameter K and then finally choose value of K which results in minimum error. But in this process, we are using the testing data as a part of our training process to obtain the optimal value of K. Hence, this process is not to be used. On the other hand if we use only training data and tune the value of parameter K, it will lead to overfitting. This will result in lower value of error on training data, but comparatively higher value of error on the testing data.\r\n",
        "\r\n",
        "So, to obtain the optimal value of K, we use a method known as CROSS VALIDATION. Cross Validation basically means taking out the subset from the training data and not using this subset in the training process. This subset of training data is called the 'validation set'. There are various techniques available for cross validation, we will be using the most general one, known as K-fold cross validation."
      ]
    },
    {
      "cell_type": "markdown",
      "metadata": {
        "id": "L84s62zci0mm"
      },
      "source": [
        "<img src=\"https://files.codingninjas.in/knn_crossval-7474.png\" width=\"700\">"
      ]
    },
    {
      "cell_type": "markdown",
      "metadata": {
        "id": "OCbEfOaGi0je"
      },
      "source": [
        "In K-fold cross validation, the training data is randomly split into K different samples (or folds). One of the sample is taken to be the validation set and the model is fitted on the remaining (K - 1) samples. The accuracy of the model is then computed. The same process is repeated K times, each time taking a different sample of points to be in the validation set. This results in K values for test error and these values are averaged out to obtain the overall result.\r\n",
        "\r\n",
        "Cross Validation is used to estimate the test error and generate more robust models"
      ]
    },
    {
      "cell_type": "markdown",
      "metadata": {
        "id": "if94xFGwi0hs"
      },
      "source": [
        "###**Cross Validation in Sklearn**\r\n",
        "\r\n",
        "The simplest way to use cross-validation is to call the cross_val_score helper function on the estimator and the dataset."
      ]
    },
    {
      "cell_type": "code",
      "metadata": {
        "colab": {
          "base_uri": "https://localhost:8080/"
        },
        "id": "WCnQ5NOaizsS",
        "outputId": "43e62262-6e6a-4dab-e322-f5d4c29025ed"
      },
      "source": [
        "x_axis = []\r\n",
        "k_scores = []\r\n",
        "for k in range(1,50, 2):\r\n",
        "    x_axis.append(k)\r\n",
        "    clf = KNeighborsClassifier(n_neighbors=k)\r\n",
        "    scores = cross_val_score(clf, x_train, y_train, cv=10, scoring='accuracy')\r\n",
        "    k_scores.append(scores.mean())\r\n",
        "    \r\n",
        "    #Printing values\r\n",
        "    print(\"K = \",k)\r\n",
        "    print(\"Scores : \")\r\n",
        "    print(scores)\r\n",
        "    print(\"Mean Score = \",scores.mean())\r\n",
        "    print()"
      ],
      "execution_count": null,
      "outputs": [
        {
          "output_type": "stream",
          "text": [
            "K =  1\n",
            "Scores : \n",
            "[0.93478261 0.95652174 0.91304348 0.84782609 0.86956522 0.93333333\n",
            " 0.97777778 0.91111111 0.93333333 0.93333333]\n",
            "Mean Score =  0.9210628019323671\n",
            "\n",
            "K =  3\n",
            "Scores : \n",
            "[0.91304348 0.95652174 0.86956522 0.93478261 0.89130435 0.95555556\n",
            " 0.95555556 0.88888889 0.95555556 0.95555556]\n",
            "Mean Score =  0.927632850241546\n",
            "\n",
            "K =  5\n",
            "Scores : \n",
            "[0.95652174 0.97826087 0.86956522 0.91304348 0.91304348 0.93333333\n",
            " 0.97777778 0.86666667 0.95555556 0.91111111]\n",
            "Mean Score =  0.9274879227053141\n",
            "\n",
            "K =  7\n",
            "Scores : \n",
            "[0.95652174 0.95652174 0.89130435 0.91304348 0.89130435 0.97777778\n",
            " 0.97777778 0.86666667 0.95555556 0.93333333]\n",
            "Mean Score =  0.9319806763285025\n",
            "\n",
            "K =  9\n",
            "Scores : \n",
            "[0.95652174 0.95652174 0.89130435 0.91304348 0.86956522 0.97777778\n",
            " 0.97777778 0.86666667 0.95555556 0.95555556]\n",
            "Mean Score =  0.9320289855072463\n",
            "\n",
            "K =  11\n",
            "Scores : \n",
            "[0.95652174 0.95652174 0.91304348 0.91304348 0.89130435 0.97777778\n",
            " 0.97777778 0.86666667 0.93333333 0.93333333]\n",
            "Mean Score =  0.9319323671497586\n",
            "\n",
            "K =  13\n",
            "Scores : \n",
            "[0.95652174 0.95652174 0.89130435 0.91304348 0.89130435 0.97777778\n",
            " 0.97777778 0.86666667 0.95555556 0.93333333]\n",
            "Mean Score =  0.9319806763285025\n",
            "\n",
            "K =  15\n",
            "Scores : \n",
            "[0.95652174 0.93478261 0.86956522 0.91304348 0.89130435 0.97777778\n",
            " 0.97777778 0.88888889 0.93333333 0.91111111]\n",
            "Mean Score =  0.9254106280193237\n",
            "\n",
            "K =  17\n",
            "Scores : \n",
            "[0.95652174 0.93478261 0.86956522 0.93478261 0.89130435 0.97777778\n",
            " 0.97777778 0.88888889 0.93333333 0.91111111]\n",
            "Mean Score =  0.9275845410628019\n",
            "\n",
            "K =  19\n",
            "Scores : \n",
            "[0.95652174 0.93478261 0.86956522 0.91304348 0.86956522 0.97777778\n",
            " 0.97777778 0.88888889 0.93333333 0.91111111]\n",
            "Mean Score =  0.9232367149758455\n",
            "\n",
            "K =  21\n",
            "Scores : \n",
            "[0.95652174 0.93478261 0.86956522 0.91304348 0.86956522 0.97777778\n",
            " 0.97777778 0.86666667 0.93333333 0.91111111]\n",
            "Mean Score =  0.9210144927536232\n",
            "\n",
            "K =  23\n",
            "Scores : \n",
            "[0.95652174 0.93478261 0.86956522 0.91304348 0.86956522 0.97777778\n",
            " 0.97777778 0.84444444 0.93333333 0.91111111]\n",
            "Mean Score =  0.918792270531401\n",
            "\n",
            "K =  25\n",
            "Scores : \n",
            "[0.95652174 0.93478261 0.86956522 0.91304348 0.84782609 0.97777778\n",
            " 0.97777778 0.84444444 0.93333333 0.91111111]\n",
            "Mean Score =  0.9166183574879228\n",
            "\n",
            "K =  27\n",
            "Scores : \n",
            "[0.95652174 0.93478261 0.89130435 0.91304348 0.84782609 0.95555556\n",
            " 0.97777778 0.84444444 0.93333333 0.91111111]\n",
            "Mean Score =  0.9165700483091788\n",
            "\n",
            "K =  29\n",
            "Scores : \n",
            "[0.95652174 0.93478261 0.89130435 0.91304348 0.84782609 0.95555556\n",
            " 0.97777778 0.84444444 0.93333333 0.91111111]\n",
            "Mean Score =  0.9165700483091788\n",
            "\n",
            "K =  31\n",
            "Scores : \n",
            "[0.93478261 0.93478261 0.89130435 0.91304348 0.84782609 0.95555556\n",
            " 0.97777778 0.84444444 0.93333333 0.91111111]\n",
            "Mean Score =  0.9143961352657005\n",
            "\n",
            "K =  33\n",
            "Scores : \n",
            "[0.93478261 0.93478261 0.89130435 0.91304348 0.84782609 0.95555556\n",
            " 0.97777778 0.84444444 0.93333333 0.91111111]\n",
            "Mean Score =  0.9143961352657005\n",
            "\n",
            "K =  35\n",
            "Scores : \n",
            "[0.95652174 0.93478261 0.89130435 0.91304348 0.84782609 0.95555556\n",
            " 0.97777778 0.86666667 0.93333333 0.91111111]\n",
            "Mean Score =  0.918792270531401\n",
            "\n",
            "K =  37\n",
            "Scores : \n",
            "[0.93478261 0.93478261 0.91304348 0.91304348 0.84782609 0.95555556\n",
            " 0.95555556 0.84444444 0.93333333 0.91111111]\n",
            "Mean Score =  0.9143478260869566\n",
            "\n",
            "K =  39\n",
            "Scores : \n",
            "[0.93478261 0.93478261 0.89130435 0.89130435 0.84782609 0.95555556\n",
            " 0.95555556 0.86666667 0.93333333 0.91111111]\n",
            "Mean Score =  0.9122222222222224\n",
            "\n",
            "K =  41\n",
            "Scores : \n",
            "[0.93478261 0.91304348 0.91304348 0.86956522 0.86956522 0.95555556\n",
            " 0.95555556 0.86666667 0.93333333 0.91111111]\n",
            "Mean Score =  0.9122222222222222\n",
            "\n",
            "K =  43\n",
            "Scores : \n",
            "[0.93478261 0.91304348 0.91304348 0.86956522 0.84782609 0.95555556\n",
            " 0.95555556 0.86666667 0.93333333 0.91111111]\n",
            "Mean Score =  0.910048309178744\n",
            "\n",
            "K =  45\n",
            "Scores : \n",
            "[0.91304348 0.91304348 0.91304348 0.86956522 0.84782609 0.95555556\n",
            " 0.95555556 0.86666667 0.93333333 0.91111111]\n",
            "Mean Score =  0.9078743961352658\n",
            "\n",
            "K =  47\n",
            "Scores : \n",
            "[0.91304348 0.91304348 0.93478261 0.89130435 0.84782609 0.95555556\n",
            " 0.95555556 0.86666667 0.93333333 0.91111111]\n",
            "Mean Score =  0.9122222222222224\n",
            "\n",
            "K =  49\n",
            "Scores : \n",
            "[0.91304348 0.93478261 0.93478261 0.89130435 0.84782609 0.95555556\n",
            " 0.95555556 0.86666667 0.93333333 0.91111111]\n",
            "Mean Score =  0.9143961352657005\n",
            "\n"
          ],
          "name": "stdout"
        }
      ]
    },
    {
      "cell_type": "markdown",
      "metadata": {
        "id": "LtmiuHL7nRyD"
      },
      "source": [
        "When the cv argument is an integer, cross_val_score uses the K-Fold or Stratified K-Fold strategies by default. "
      ]
    },
    {
      "cell_type": "code",
      "metadata": {
        "colab": {
          "base_uri": "https://localhost:8080/",
          "height": 265
        },
        "id": "eQM95fBkmieq",
        "outputId": "2e1c1182-7d44-493b-9987-a46f4693516e"
      },
      "source": [
        "plt.plot(x_axis, k_scores)\r\n",
        "plt.show()"
      ],
      "execution_count": null,
      "outputs": [
        {
          "output_type": "display_data",
          "data": {
            "image/png": "[encoded data removed]",
            "text/plain": [
              "<Figure size 432x288 with 1 Axes>"
            ]
          },
          "metadata": {
            "tags": [],
            "needs_background": "light"
          }
        }
      ]
    },
    {
      "cell_type": "code",
      "metadata": {
        "colab": {
          "base_uri": "https://localhost:8080/"
        },
        "id": "k2TUvomnn3XU",
        "outputId": "3b8ee23e-0dfc-4634-aca4-bade7edd7812"
      },
      "source": [
        "optimal_k = x_axis[k_scores.index(max(k_scores))]\r\n",
        "optimal_k"
      ],
      "execution_count": null,
      "outputs": [
        {
          "output_type": "execute_result",
          "data": {
            "text/plain": [
              "9"
            ]
          },
          "metadata": {
            "tags": []
          },
          "execution_count": 10
        }
      ]
    },
    {
      "cell_type": "markdown",
      "metadata": {
        "id": "KhGGf76sxaoB"
      },
      "source": [
        "**K-Fold and  Stratified K-Fold**"
      ]
    },
    {
      "cell_type": "markdown",
      "metadata": {
        "id": "1ndjt_0moTHt"
      },
      "source": [
        "K-Fold divides all the samples in $k$ groups of samples, called folds. The prediction function is learned using $k-1$ folds, and the fold left out is used for test. \r\n",
        "For More Details , refer to the documentation : \r\n",
        "\r\n",
        "https://scikit-learn.org/stable/modules/generated/sklearn.model_selection.KFold.html?highlight=kfold#sklearn.model_selection.KFold\r\n",
        "\r\n",
        "Stratified K-Fold is a variation of k-fold which returns stratified folds: each set contains approximately the same percentage of samples of each target class as the complete set.\r\n",
        "\r\n",
        "https://scikit-learn.org/stable/modules/generated/sklearn.model_selection.StratifiedKFold.html#sklearn.model_selection.StratifiedKFold\r\n"
      ]
    },
    {
      "cell_type": "code",
      "metadata": {
        "colab": {
          "base_uri": "https://localhost:8080/"
        },
        "id": "1HNPGgHaoT1Q",
        "outputId": "bd33b885-119d-4f16-bb4f-5a5ff8a5b389"
      },
      "source": [
        "from sklearn.model_selection import KFold\r\n",
        "x_axis = []\r\n",
        "k_scores = []\r\n",
        "for k in range(1,50, 2):\r\n",
        "    x_axis.append(k)\r\n",
        "    clf = KNeighborsClassifier(n_neighbors=k)\r\n",
        "    scores = cross_val_score(clf, x_train, y_train, cv=KFold(10), scoring='accuracy')\r\n",
        "    k_scores.append(scores.mean())\r\n",
        "    \r\n",
        "    #Printing values\r\n",
        "    print(\"K = \",k)\r\n",
        "    print(\"Scores : \")\r\n",
        "    print(scores)\r\n",
        "    print(\"Mean Score = \",scores.mean())\r\n",
        "    print()"
      ],
      "execution_count": null,
      "outputs": [
        {
          "output_type": "stream",
          "text": [
            "K =  1\n",
            "Scores : \n",
            "[0.91304348 0.97826087 0.93478261 0.84782609 0.82608696 0.86666667\n",
            " 0.95555556 0.93333333 0.93333333 0.93333333]\n",
            "Mean Score =  0.9122222222222222\n",
            "\n",
            "K =  3\n",
            "Scores : \n",
            "[0.91304348 0.97826087 0.89130435 0.93478261 0.84782609 0.91111111\n",
            " 0.93333333 0.93333333 0.95555556 0.95555556]\n",
            "Mean Score =  0.9254106280193237\n",
            "\n",
            "K =  5\n",
            "Scores : \n",
            "[0.95652174 0.97826087 0.89130435 0.91304348 0.89130435 0.91111111\n",
            " 0.95555556 0.88888889 0.95555556 0.91111111]\n",
            "Mean Score =  0.9252657004830919\n",
            "\n",
            "K =  7\n",
            "Scores : \n",
            "[0.95652174 0.97826087 0.89130435 0.91304348 0.86956522 0.95555556\n",
            " 0.95555556 0.88888889 0.95555556 0.93333333]\n",
            "Mean Score =  0.9297584541062802\n",
            "\n",
            "K =  9\n",
            "Scores : \n",
            "[0.95652174 0.97826087 0.89130435 0.91304348 0.86956522 0.95555556\n",
            " 0.95555556 0.88888889 0.95555556 0.95555556]\n",
            "Mean Score =  0.9319806763285025\n",
            "\n",
            "K =  11\n",
            "Scores : \n",
            "[0.95652174 0.97826087 0.91304348 0.91304348 0.84782609 0.95555556\n",
            " 0.95555556 0.88888889 0.93333333 0.93333333]\n",
            "Mean Score =  0.927536231884058\n",
            "\n",
            "K =  13\n",
            "Scores : \n",
            "[0.95652174 0.97826087 0.89130435 0.93478261 0.86956522 0.95555556\n",
            " 0.95555556 0.88888889 0.95555556 0.93333333]\n",
            "Mean Score =  0.9319323671497586\n",
            "\n",
            "K =  15\n",
            "Scores : \n",
            "[0.95652174 0.97826087 0.86956522 0.93478261 0.89130435 0.95555556\n",
            " 0.95555556 0.91111111 0.93333333 0.91111111]\n",
            "Mean Score =  0.9297101449275363\n",
            "\n",
            "K =  17\n",
            "Scores : \n",
            "[0.95652174 0.95652174 0.86956522 0.93478261 0.89130435 0.95555556\n",
            " 0.95555556 0.91111111 0.93333333 0.91111111]\n",
            "Mean Score =  0.927536231884058\n",
            "\n",
            "K =  19\n",
            "Scores : \n",
            "[0.95652174 0.95652174 0.86956522 0.93478261 0.86956522 0.93333333\n",
            " 0.95555556 0.91111111 0.93333333 0.91111111]\n",
            "Mean Score =  0.9231400966183575\n",
            "\n",
            "K =  21\n",
            "Scores : \n",
            "[0.95652174 0.95652174 0.86956522 0.93478261 0.86956522 0.91111111\n",
            " 0.95555556 0.86666667 0.93333333 0.91111111]\n",
            "Mean Score =  0.9164734299516908\n",
            "\n",
            "K =  23\n",
            "Scores : \n",
            "[0.95652174 0.95652174 0.86956522 0.93478261 0.86956522 0.91111111\n",
            " 0.95555556 0.86666667 0.93333333 0.91111111]\n",
            "Mean Score =  0.9164734299516908\n",
            "\n",
            "K =  25\n",
            "Scores : \n",
            "[0.95652174 0.95652174 0.86956522 0.93478261 0.86956522 0.91111111\n",
            " 0.95555556 0.86666667 0.93333333 0.91111111]\n",
            "Mean Score =  0.9164734299516908\n",
            "\n",
            "K =  27\n",
            "Scores : \n",
            "[0.95652174 0.95652174 0.89130435 0.93478261 0.84782609 0.91111111\n",
            " 0.95555556 0.86666667 0.93333333 0.91111111]\n",
            "Mean Score =  0.9164734299516908\n",
            "\n",
            "K =  29\n",
            "Scores : \n",
            "[0.95652174 0.95652174 0.89130435 0.93478261 0.84782609 0.91111111\n",
            " 0.95555556 0.86666667 0.93333333 0.91111111]\n",
            "Mean Score =  0.9164734299516908\n",
            "\n",
            "K =  31\n",
            "Scores : \n",
            "[0.95652174 0.95652174 0.89130435 0.93478261 0.84782609 0.91111111\n",
            " 0.95555556 0.86666667 0.93333333 0.91111111]\n",
            "Mean Score =  0.9164734299516908\n",
            "\n",
            "K =  33\n",
            "Scores : \n",
            "[0.95652174 0.95652174 0.89130435 0.93478261 0.84782609 0.91111111\n",
            " 0.95555556 0.86666667 0.93333333 0.91111111]\n",
            "Mean Score =  0.9164734299516908\n",
            "\n",
            "K =  35\n",
            "Scores : \n",
            "[0.95652174 0.95652174 0.89130435 0.93478261 0.84782609 0.91111111\n",
            " 0.95555556 0.86666667 0.93333333 0.91111111]\n",
            "Mean Score =  0.9164734299516908\n",
            "\n",
            "K =  37\n",
            "Scores : \n",
            "[0.95652174 0.95652174 0.89130435 0.91304348 0.84782609 0.91111111\n",
            " 0.93333333 0.86666667 0.93333333 0.91111111]\n",
            "Mean Score =  0.9120772946859903\n",
            "\n",
            "K =  39\n",
            "Scores : \n",
            "[0.95652174 0.95652174 0.91304348 0.91304348 0.84782609 0.91111111\n",
            " 0.93333333 0.86666667 0.93333333 0.91111111]\n",
            "Mean Score =  0.9142512077294687\n",
            "\n",
            "K =  41\n",
            "Scores : \n",
            "[0.93478261 0.93478261 0.91304348 0.91304348 0.84782609 0.91111111\n",
            " 0.93333333 0.86666667 0.93333333 0.91111111]\n",
            "Mean Score =  0.9099033816425122\n",
            "\n",
            "K =  43\n",
            "Scores : \n",
            "[0.93478261 0.93478261 0.93478261 0.89130435 0.84782609 0.91111111\n",
            " 0.93333333 0.86666667 0.93333333 0.91111111]\n",
            "Mean Score =  0.9099033816425122\n",
            "\n",
            "K =  45\n",
            "Scores : \n",
            "[0.93478261 0.93478261 0.91304348 0.89130435 0.84782609 0.91111111\n",
            " 0.93333333 0.88888889 0.93333333 0.91111111]\n",
            "Mean Score =  0.909951690821256\n",
            "\n",
            "K =  47\n",
            "Scores : \n",
            "[0.93478261 0.95652174 0.91304348 0.89130435 0.84782609 0.91111111\n",
            " 0.93333333 0.88888889 0.93333333 0.91111111]\n",
            "Mean Score =  0.9121256038647344\n",
            "\n",
            "K =  49\n",
            "Scores : \n",
            "[0.93478261 0.95652174 0.93478261 0.89130435 0.84782609 0.91111111\n",
            " 0.93333333 0.86666667 0.93333333 0.91111111]\n",
            "Mean Score =  0.9120772946859903\n",
            "\n"
          ],
          "name": "stdout"
        }
      ]
    },
    {
      "cell_type": "code",
      "metadata": {
        "colab": {
          "base_uri": "https://localhost:8080/",
          "height": 265
        },
        "id": "awCt4JUeozdm",
        "outputId": "bbffba30-ce30-4573-a82f-7399c3a0d704"
      },
      "source": [
        "plt.plot(x_axis, k_scores)\r\n",
        "plt.show()"
      ],
      "execution_count": null,
      "outputs": [
        {
          "output_type": "display_data",
          "data": {
            "image/png": "[encoded data removed]",
            "text/plain": [
              "<Figure size 432x288 with 1 Axes>"
            ]
          },
          "metadata": {
            "tags": [],
            "needs_background": "light"
          }
        }
      ]
    },
    {
      "cell_type": "code",
      "metadata": {
        "colab": {
          "base_uri": "https://localhost:8080/"
        },
        "id": "UL0I5m0Go2Fy",
        "outputId": "eeb5c346-e515-4fa5-d56f-c48105995a63"
      },
      "source": [
        "optimal_k = x_axis[k_scores.index(max(k_scores))]\r\n",
        "optimal_k"
      ],
      "execution_count": null,
      "outputs": [
        {
          "output_type": "execute_result",
          "data": {
            "text/plain": [
              "9"
            ]
          },
          "metadata": {
            "tags": []
          },
          "execution_count": 13
        }
      ]
    },
    {
      "cell_type": "markdown",
      "metadata": {
        "id": "RJzxUthEpDS_"
      },
      "source": [
        "Using this way, we can choose the optimal value of K using cross validation. If the value of K is very less, for eg, say 1, it will lead to overfitting and will result in formation of complex decision boundaries. On the the hand, if the value of K is very high, we are basically underfitting and not actually taking class of neighbours into consideration. In this case, we predict the class of the testing sample from the majority class of the overall training data rather than from the majority class given by the neighbors.\r\n",
        "\r\n",
        "Lower values of K corresponds to low bias but high variance and result in jagged and complex decision boundaries, while higher value of K corresponds to lower variance but increased bias and leads to formation of smoother decision boundaries."
      ]
    },
    {
      "cell_type": "markdown",
      "metadata": {
        "id": "KJoSC0DYpDRK"
      },
      "source": [
        "![picture](https://files.codingninjas.in/knn_dec1-7476.png)  ![picture](https://files.codingninjas.in/knn_dec20-7477.png)"
      ]
    },
    {
      "cell_type": "markdown",
      "metadata": {
        "id": "vklZtroxpDMq"
      },
      "source": [
        "##**Self Implementation of KNN**"
      ]
    },
    {
      "cell_type": "code",
      "metadata": {
        "id": "RjF6_d7Sp8NG"
      },
      "source": [
        "from sklearn import datasets\r\n",
        "from sklearn.neighbors import KNeighborsClassifier\r\n",
        "from sklearn.model_selection import train_test_split\r\n",
        "from collections import Counter\r\n",
        "from sklearn.metrics import accuracy_score"
      ],
      "execution_count": null,
      "outputs": []
    },
    {
      "cell_type": "code",
      "metadata": {
        "id": "bibCRul3p8LJ"
      },
      "source": [
        "cancer = datasets.load_breast_cancer()"
      ],
      "execution_count": null,
      "outputs": []
    },
    {
      "cell_type": "code",
      "metadata": {
        "id": "BRE7lg5Dp8IK"
      },
      "source": [
        "X_train, X_test, Y_train, Y_test = train_test_split(cancer.data, cancer.target, test_size = 0.2, random_state = 0)"
      ],
      "execution_count": null,
      "outputs": []
    },
    {
      "cell_type": "code",
      "metadata": {
        "colab": {
          "base_uri": "https://localhost:8080/"
        },
        "id": "kbZ5JaDGp8Gs",
        "outputId": "52e6c269-f142-45ea-d844-15f2dcdb58d7"
      },
      "source": [
        "clf = KNeighborsClassifier(n_neighbors = 7)\r\n",
        "clf.fit(X_train, Y_train)"
      ],
      "execution_count": null,
      "outputs": [
        {
          "output_type": "execute_result",
          "data": {
            "text/plain": [
              "KNeighborsClassifier(algorithm='auto', leaf_size=30, metric='minkowski',\n",
              "                     metric_params=None, n_jobs=None, n_neighbors=7, p=2,\n",
              "                     weights='uniform')"
            ]
          },
          "metadata": {
            "tags": []
          },
          "execution_count": 17
        }
      ]
    },
    {
      "cell_type": "code",
      "metadata": {
        "colab": {
          "base_uri": "https://localhost:8080/"
        },
        "id": "PINZ6b1CqDt1",
        "outputId": "ca244839-c70f-4163-ebb4-60cc87779224"
      },
      "source": [
        "clf.score(X_test,Y_test)"
      ],
      "execution_count": null,
      "outputs": [
        {
          "output_type": "execute_result",
          "data": {
            "text/plain": [
              "0.9473684210526315"
            ]
          },
          "metadata": {
            "tags": []
          },
          "execution_count": 18
        }
      ]
    },
    {
      "cell_type": "code",
      "metadata": {
        "id": "wu0gHp4JqD0_"
      },
      "source": [
        "def train(x,y):\r\n",
        "    return\r\n",
        "\r\n",
        "def predict_one(x_train, y_train, x_test, k):\r\n",
        "    distances = []\r\n",
        "    for i in range(len(x_train)):\r\n",
        "        distance = ((x_train[i,:] - x_test)**2).sum()\r\n",
        "        distances.append([distance,i])\r\n",
        "    distances = sorted(distances)\r\n",
        "    targets = []\r\n",
        "    for i in range(k):\r\n",
        "        index_of_training_data = distances[i][1]\r\n",
        "        targets.append(y_train[index_of_training_data])\r\n",
        "    return Counter(targets).most_common(1)[0][0]\r\n",
        "    \r\n",
        "def predict(x_train, y_train, x_test_data, k):\r\n",
        "    predictions = []\r\n",
        "    for x_test in x_test_data:\r\n",
        "        predictions.append(predict_one(x_train, y_train, x_test, k))\r\n",
        "    return predictions"
      ],
      "execution_count": null,
      "outputs": []
    },
    {
      "cell_type": "code",
      "metadata": {
        "colab": {
          "base_uri": "https://localhost:8080/"
        },
        "id": "2b5oovW4qD2x",
        "outputId": "86469df9-ffc1-437a-c9b2-784ad0657ec0"
      },
      "source": [
        "y_pred = predict(X_train, Y_train, X_test, 7)\r\n",
        "accuracy_score(Y_test, y_pred)"
      ],
      "execution_count": null,
      "outputs": [
        {
          "output_type": "execute_result",
          "data": {
            "text/plain": [
              "0.9473684210526315"
            ]
          },
          "metadata": {
            "tags": []
          },
          "execution_count": 20
        }
      ]
    },
    {
      "cell_type": "markdown",
      "metadata": {
        "id": "_ZfaCDGZNAWl"
      },
      "source": [
        "##**Prepare Data For KNN**"
      ]
    },
    {
      "cell_type": "markdown",
      "metadata": {
        "id": "w-vkAPbGNASw"
      },
      "source": [
        "\r\n",
        "\r\n",
        "*   **Rescale Data**: KNN performs much better if all of the data has the same scale. Normalizing your data to the range [0, 1] is a good idea. It may also be a good idea to standardize your data if it has a Gaussian distribution \r\n",
        "*   **Address Missing Data**: Missing data will mean that the distance between samples can not be calculated. These samples could be excluded or the missing values could be imputed\r\n",
        "* **Lower Dimensionality**: KNN is suited for lower dimensional data. You can try it on high dimensional data (hundreds or thousands of input variables) but be aware that it may not perform as well as other techniques. KNN can benefit from feature selection that reduces the dimensionality of the input feature space\r\n",
        "\r\n"
      ]
    },
    {
      "cell_type": "markdown",
      "metadata": {
        "id": "m0dH8X2BpDId"
      },
      "source": [
        "##**Curse of Dimensionality**"
      ]
    },
    {
      "cell_type": "markdown",
      "metadata": {
        "id": "9QS-kiqIpDGx"
      },
      "source": [
        "In case of KNN, if our data has more irrelevant features, then it will lead to bad results. Also, if we have two correlated features, then both of these take part in the calculations and net effect due to addition of these becomes double, and we might up getting wrong results.\r\n",
        "\r\n",
        "We can do following things to solve this problem :\r\n",
        "1. **Assign weights to features**\r\n",
        "$$\\sum_{i=1}^n W_i * (X_1^i- X_2^i)^2$$\r\n",
        "This can be used as the distance metric, to calculate distance between $X_1$ and $X_2$, where $W_i$ is the weight assigned to the $i^{th}$ feature. These weights can be choosen randomly or can be calculated using Gradient Descent and deciding upon the cost function which is to be minimised and hence, obtain these weights.\r\n",
        "\r\n",
        "   This proves to be benificial in the cases where two features are highly correlated, in that case either both these features are going to get high weights or one is going to get high weight and other is going to get the lower weight. And, therefore, we can obtain better results using this technique.\r\n",
        "\r\n",
        "2. **Feature Selection**\r\n",
        "\r\n",
        "   We will apply feature selection before using KNN Classifier. Backward Elimination is the technique used for doing feature selection, using which we will keep few features and get rid of other features from all the features intially in the dataset. In this technique, we will traverse over all the features and obtain the accuracy score by keeping this feature and next time, by removing this feature. If the accuracy of the model improves on removing this feature, then we will exclude this feature, otherwise we will keep this feature and likewise do the same thing for all the features."
      ]
    },
    {
      "cell_type": "markdown",
      "metadata": {
        "id": "6gwvUruepDDh"
      },
      "source": [
        "##**Other Algorithms for KNN**"
      ]
    },
    {
      "cell_type": "markdown",
      "metadata": {
        "id": "vW8mitEcpDBg"
      },
      "source": [
        "KDTree and BallTree can be used to improve the performance the model. The basic intuition behind these is to build something like Binary Search Tree using the training data and then for the testing data traverse through the whole tree and on reaching the leaf node, obtain the K Nearest Neighbors from all the nodes traversed by the testing sample point.\r\n",
        "\r\n",
        "For more details about these algorithms, refer to the documentation link http://scikit-learn.org/stable/modules/generated/sklearn.neighbors.KNeighborsClassifier.html.\r\n",
        "\r\n",
        "KDTree, BallTree, brute force method and other algorithms can be used depending upon the data. Applying various of these methods, we can see the results and compare their performance with different algorithms"
      ]
    },
    {
      "cell_type": "markdown",
      "metadata": {
        "id": "2ApInR1GpC-m"
      },
      "source": [
        "##**Advantages and Disadvatages of KNN**"
      ]
    },
    {
      "cell_type": "markdown",
      "metadata": {
        "id": "ezObKHP7pC8w"
      },
      "source": [
        "###**Advantages**"
      ]
    },
    {
      "cell_type": "markdown",
      "metadata": {
        "id": "lunr8lbGs03c"
      },
      "source": [
        "1. Easy to understand and code.\r\n",
        "2. Works well for multi-class classification.\r\n",
        "3. Insensitive to outliers for optimal choice for value of K, but accuracy can be affected from noise and irrelevant features.\r\n",
        "4. Versatile i.e. can work for both classification and regression."
      ]
    },
    {
      "cell_type": "markdown",
      "metadata": {
        "id": "kMnFNXe0s742"
      },
      "source": [
        "###**Disadvantages**"
      ]
    },
    {
      "cell_type": "markdown",
      "metadata": {
        "id": "t6JPZg-5s-6J"
      },
      "source": [
        "1. Computationally expensive, because the algorithm stores all the training data\r\n",
        "2. Testing time is huge.\r\n",
        "3. Sensitive to irrelevant features and scaling.\r\n",
        "4. If training data split is biased i.e. majority of data points belong to particular class, then KNN also gets biased."
      ]
    }
  ]
}