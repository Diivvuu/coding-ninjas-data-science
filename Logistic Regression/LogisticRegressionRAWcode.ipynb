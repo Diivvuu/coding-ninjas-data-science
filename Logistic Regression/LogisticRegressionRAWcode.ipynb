{
 "cells": [
  {
   "cell_type": "code",
   "execution_count": 27,
   "metadata": {},
   "outputs": [],
   "source": [
    "from sklearn.datasets import load_breast_cancer\n",
    "from sklearn import model_selection\n",
    "import numpy as np\n",
    "import math\n",
    "from sklearn import preprocessing\n",
    "data = load_breast_cancer()\n",
    "x_data = data.data\n",
    "y_data = data.target"
   ]
  },
  {
   "cell_type": "code",
   "execution_count": 28,
   "metadata": {},
   "outputs": [],
   "source": [
    "x_train, x_test, y_train, y_test = model_selection.train_test_split(x_data, y_data)"
   ]
  },
  {
   "cell_type": "code",
   "execution_count": 29,
   "metadata": {},
   "outputs": [],
   "source": [
    "def step_gradient(X, Y, learning_rate, m):\n",
    "    m_slope = np.zeros(len(X[0]))\n",
    "    for i in range(len(X)):\n",
    "        x = X[i]\n",
    "        y = Y[i]\n",
    "        for j in range(len(x)):\n",
    "            m_slope+=(-1/len(X))*(y-(1/(1+math.exp(-sum(m*x)))))*x[j]\n",
    "    new_m = m - learning_rate*m_slope\n",
    "    return new_m\n",
    "def cost(x, y, m):\n",
    "    cost = 0\n",
    "    for i in range(len(x)):\n",
    "        cost+=math.log(1+(math.exp(sum(m*x[i]))))-y[i]*sum(m*x[i])\n",
    "    print(cost)\n",
    "def gradient_descent(x, y, learning_rate, iterations):\n",
    "    m = np.zeros(len(x[0]))\n",
    "    for i in range(iterations):\n",
    "        m  = step_gradient(x, y, learning_rate, m)\n",
    "        print(\"itr =\", i, \"cost =\", end = ' ')\n",
    "        cost(x, y, m)\n",
    "    return m\n",
    "def logistic_regression(x, y):\n",
    "    iterations = 50\n",
    "    learning_rate = 0.1\n",
    "    m = gradient_descent(x, y, learning_rate, iterations)\n",
    "    return m"
   ]
  },
  {
   "cell_type": "code",
   "execution_count": 30,
   "metadata": {},
   "outputs": [
    {
     "name": "stdout",
     "output_type": "stream",
     "text": [
      "itr = 0 cost = 268.75207459808496\n",
      "itr = 1 cost = 240.10435967457116\n",
      "itr = 2 cost = 212.95904672430922\n",
      "itr = 3 cost = 188.0208169260901\n",
      "itr = 4 cost = 166.37467324913425\n",
      "itr = 5 cost = 149.55051387740954\n",
      "itr = 6 cost = 139.0733427822989\n",
      "itr = 7 cost = 134.83266996446736\n",
      "itr = 8 cost = 134.01359117219155\n",
      "itr = 9 cost = 133.95548313996136\n",
      "itr = 10 cost = 133.953735334675\n",
      "itr = 11 cost = 133.95369800181996\n",
      "itr = 12 cost = 133.9536972566185\n",
      "itr = 13 cost = 133.95369724189368\n",
      "itr = 14 cost = 133.95369724160315\n",
      "itr = 15 cost = 133.9536972415974\n",
      "itr = 16 cost = 133.95369724159724\n",
      "itr = 17 cost = 133.9536972415972\n",
      "itr = 18 cost = 133.95369724159733\n",
      "itr = 19 cost = 133.95369724159715\n",
      "itr = 20 cost = 133.95369724159715\n",
      "itr = 21 cost = 133.95369724159724\n",
      "itr = 22 cost = 133.95369724159733\n",
      "itr = 23 cost = 133.95369724159718\n",
      "itr = 24 cost = 133.95369724159718\n",
      "itr = 25 cost = 133.95369724159718\n",
      "itr = 26 cost = 133.95369724159718\n",
      "itr = 27 cost = 133.95369724159718\n",
      "itr = 28 cost = 133.95369724159718\n",
      "itr = 29 cost = 133.95369724159718\n",
      "itr = 30 cost = 133.95369724159718\n",
      "itr = 31 cost = 133.95369724159718\n",
      "itr = 32 cost = 133.95369724159718\n",
      "itr = 33 cost = 133.95369724159718\n",
      "itr = 34 cost = 133.95369724159718\n",
      "itr = 35 cost = 133.95369724159718\n",
      "itr = 36 cost = 133.95369724159718\n",
      "itr = 37 cost = 133.95369724159718\n",
      "itr = 38 cost = 133.95369724159718\n",
      "itr = 39 cost = 133.95369724159718\n",
      "itr = 40 cost = 133.95369724159718\n",
      "itr = 41 cost = 133.95369724159718\n",
      "itr = 42 cost = 133.95369724159718\n",
      "itr = 43 cost = 133.95369724159718\n",
      "itr = 44 cost = 133.95369724159718\n",
      "itr = 45 cost = 133.95369724159718\n",
      "itr = 46 cost = 133.95369724159718\n",
      "itr = 47 cost = 133.95369724159718\n",
      "itr = 48 cost = 133.95369724159718\n",
      "itr = 49 cost = 133.95369724159718\n"
     ]
    }
   ],
   "source": [
    "scaler = preprocessing.StandardScaler()\n",
    "scaler.fit(x_train)\n",
    "x_train = scaler.transform(x_train)\n",
    "m = logistic_regression(x_train, y_train)"
   ]
  },
  {
   "cell_type": "code",
   "execution_count": 31,
   "metadata": {},
   "outputs": [],
   "source": [
    "testing=x_test\n",
    "testing=scaler.transform(testing)\n",
    "pred=[]\n",
    "for i in testing:\n",
    "    if 1/(1+math.exp(-sum(m*i)))>0.5:\n",
    "        pred.append(1)\n",
    "    else:\n",
    "        pred.append(0)"
   ]
  },
  {
   "cell_type": "code",
   "execution_count": 32,
   "metadata": {},
   "outputs": [
    {
     "name": "stdout",
     "output_type": "stream",
     "text": [
      "Score = 0.8881118881118881\n"
     ]
    }
   ],
   "source": [
    "total = 0\n",
    "correct = 0\n",
    "for i, j in zip(pred, y_test):\n",
    "    total+=1\n",
    "    if i==j:\n",
    "        correct+=1\n",
    "print(\"Score =\", correct/total)"
   ]
  },
  {
   "cell_type": "code",
   "execution_count": null,
   "metadata": {},
   "outputs": [],
   "source": []
  }
 ],
 "metadata": {
  "kernelspec": {
   "display_name": "Python 3",
   "language": "python",
   "name": "python3"
  },
  "language_info": {
   "codemirror_mode": {
    "name": "ipython",
    "version": 3
   },
   "file_extension": ".py",
   "mimetype": "text/x-python",
   "name": "python",
   "nbconvert_exporter": "python",
   "pygments_lexer": "ipython3",
   "version": "3.10.5"
  },
  "orig_nbformat": 4
 },
 "nbformat": 4,
 "nbformat_minor": 2
}
