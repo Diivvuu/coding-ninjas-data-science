{
 "cells": [
  {
   "attachments": {},
   "cell_type": "markdown",
   "metadata": {},
   "source": [
    "#  Importing Libraries"
   ]
  },
  {
   "cell_type": "code",
   "execution_count": 1,
   "metadata": {},
   "outputs": [],
   "source": [
    "import time\n",
    "from selenium import webdriver\n",
    "from webdriver_manager.chrome import ChromeDriverManager\n",
    "from bs4 import BeautifulSoup\n",
    "from selenium.webdriver.common.by import By\n",
    "from selenium.webdriver.support.ui import WebDriverWait\n",
    "from selenium.webdriver.support import expected_conditions as EC\n",
    "from selenium.webdriver.chrome.service import Service"
   ]
  },
  {
   "cell_type": "code",
   "execution_count": 2,
   "metadata": {},
   "outputs": [
    {
     "name": "stderr",
     "output_type": "stream",
     "text": [
      "[WDM] - Downloading: 100%|██████████| 6.58M/6.58M [00:17<00:00, 391kB/s] \n",
      "C:\\Users\\WELCOME\\AppData\\Local\\Temp\\ipykernel_11204\\365059496.py:1: DeprecationWarning: executable_path has been deprecated, please pass in a Service object\n",
      "  driver=webdriver.Chrome(ChromeDriverManager().install())\n"
     ]
    }
   ],
   "source": [
    "driver=webdriver.Chrome(ChromeDriverManager().install())"
   ]
  },
  {
   "attachments": {},
   "cell_type": "markdown",
   "metadata": {},
   "source": [
    "## Login to your Instagram Handle\n",
    "#### Submit with sample username and password"
   ]
  },
  {
   "cell_type": "code",
   "execution_count": 3,
   "metadata": {},
   "outputs": [],
   "source": [
    "driver.get('https://www.instagram.com/')\n",
    "driver.maximize_window()\n",
    "driver.implicitly_wait(5)\n",
    "# waiter=WebDriverWait(driver, 10).until(EC.presence_of_element_located((By.LINK_TEXT, \"Log in\")))"
   ]
  },
  {
   "attachments": {},
   "cell_type": "markdown",
   "metadata": {},
   "source": [
    "#### Logging in instagram"
   ]
  },
  {
   "cell_type": "code",
   "execution_count": 4,
   "metadata": {},
   "outputs": [],
   "source": [
    "SAMPLE_USERNAME = 'divyanshu_bawa_' #testAccountselenium\n",
    "SAMPLE_PASSWORD = 'B@w@zz786' #selenium123\n",
    "username = driver.find_element(By.NAME, 'username')\n",
    "username.send_keys(SAMPLE_USERNAME)\n",
    "password = driver.find_element(By.NAME, 'password')\n",
    "password.send_keys(SAMPLE_PASSWORD)\n",
    "driver.implicitly_wait(5)"
   ]
  },
  {
   "cell_type": "code",
   "execution_count": 5,
   "metadata": {},
   "outputs": [
    {
     "data": {
      "text/plain": [
       "<selenium.webdriver.remote.webelement.WebElement (session=\"a99ac20887ac4e2532c2c8f545a77bdb\", element=\"e2706441-dd92-4c3b-b7df-32c548ff702a\")>"
      ]
     },
     "execution_count": 5,
     "metadata": {},
     "output_type": "execute_result"
    }
   ],
   "source": [
    "login_btn = driver.find_element(By.XPATH, '//button[contains(@class, \"_acap\")]/div')\n",
    "login_btn.click()\n",
    "\n",
    "WebDriverWait(driver, 5).until(EC.presence_of_element_located((By.CLASS_NAME, '_ac8f')))"
   ]
  },
  {
   "attachments": {},
   "cell_type": "markdown",
   "metadata": {},
   "source": [
    "##### Clicking on save info button(for saving username and password)"
   ]
  },
  {
   "cell_type": "code",
   "execution_count": 6,
   "metadata": {},
   "outputs": [
    {
     "data": {
      "text/plain": [
       "<selenium.webdriver.remote.webelement.WebElement (session=\"a99ac20887ac4e2532c2c8f545a77bdb\", element=\"cab8a9e6-893c-4546-a60b-8f0e327b97ff\")>"
      ]
     },
     "execution_count": 6,
     "metadata": {},
     "output_type": "execute_result"
    }
   ],
   "source": [
    "save_info = driver.find_element(By.CLASS_NAME, \"_ac8f\")\n",
    "save_info.click()\n",
    "WebDriverWait(driver, 5).until(EC.presence_of_element_located((By.CLASS_NAME, '_a9-z')))"
   ]
  },
  {
   "attachments": {},
   "cell_type": "markdown",
   "metadata": {},
   "source": [
    "#### Clicking on turn on notifications"
   ]
  },
  {
   "cell_type": "code",
   "execution_count": 7,
   "metadata": {},
   "outputs": [],
   "source": [
    "notif=driver.find_element(By.CLASS_NAME, '_a9-z').click()"
   ]
  },
  {
   "attachments": {},
   "cell_type": "markdown",
   "metadata": {},
   "source": [
    "#### Type for “food” in search bar and print all the names of the Instagram Handles that are displayed in list after typing “food”\n",
    "##### Note : Make sure to avoid printing hashtags"
   ]
  },
  {
   "cell_type": "code",
   "execution_count": 8,
   "metadata": {},
   "outputs": [],
   "source": [
    "search_box = driver.find_element(By.XPATH, '//div[starts-with(@class, \"xh8yej3 x1iyjqo2\")]/div[2]')\n",
    "search_box.click()\n",
    "wait = WebDriverWait(driver, 10).until(EC.presence_of_element_located((By.CLASS_NAME, '_aauy')))"
   ]
  },
  {
   "cell_type": "code",
   "execution_count": 9,
   "metadata": {},
   "outputs": [],
   "source": [
    "search_text = driver.find_element(By.CLASS_NAME, '_aauy')\n",
    "search_text.send_keys('food')\n",
    "# food_list = driver.find_elements(By.XPATH, '//div[starts-with(@class, \"_aac1\")]/div/div')\n",
    "food_list = driver.find_elements(By.XPATH, '//div[starts-with(@class, \"_abm4\")]/a/div/div[2]/div/div/div/div')"
   ]
  },
  {
   "cell_type": "code",
   "execution_count": 10,
   "metadata": {},
   "outputs": [
    {
     "name": "stdout",
     "output_type": "stream",
     "text": [
      "foodies.on.hunt\n",
      "foodiewe\n",
      "dilsefoodie\n",
      "\n",
      "amdavadfoodcrush\n",
      "invinciblesgourmetfoodstore\n",
      "foodinvadodara\n",
      "food\n",
      "foodexplorerpb08\n",
      "food_founder_\n",
      "foodzeee\n",
      "food.yatra\n",
      "pune_food_blogger\n",
      "streetclubpatiala\n",
      "\n",
      "for.the.love.food\n",
      "the_cocoon_project_\n",
      "rgfoodgarden\n",
      "foodie_incarnate\n",
      "\n",
      "zack.chug\n",
      "foodpandits\n",
      "foodieemedicos\n",
      "foodrush.recipe\n",
      "foodies_hood\n",
      "foodsanyasi\n",
      "thespicesof.life_\n",
      "jalandharfoodiess\n",
      "foodsbible\n",
      "sour__secrets\n",
      "depot.food\n",
      "mywhole_foodlife\n",
      "gurwindersinghvlogs\n",
      "insiderfood\n",
      "\n",
      "foodtechsimplified\n",
      "foodromancetravel\n",
      "theglobalvegetarian\n",
      "delhifoodwalks\n",
      "\n",
      "punefoodiesoul\n",
      "burger.roots\n",
      "foodaddiicted\n",
      "amritsarfood\n",
      "amritsar.food.diaries\n",
      "food.for.india\n",
      "fauji_fast_food\n",
      "foodbible\n",
      "\n",
      "foodyvid\n",
      "mr.mrs.foodexpress\n",
      "_hungryhelpers._\n",
      "foodhunt_with_shubham\n",
      "foodoniac\n"
     ]
    }
   ],
   "source": [
    "for i in food_list:\n",
    "    print(i.text)"
   ]
  },
  {
   "cell_type": "markdown",
   "metadata": {},
   "source": [
    "#### Clearing search bar"
   ]
  },
  {
   "cell_type": "code",
   "execution_count": 11,
   "metadata": {},
   "outputs": [],
   "source": [
    "# search_text.clear()\n",
    "cross = driver.find_element(By.XPATH, '//div[contains(@class, \"_aexm\")]/div[2]').click()\n",
    "search_text.send_keys('So Delhi')\n",
    "# WebDriverWait.until(EC.presence_of_element_located(()))"
   ]
  },
  {
   "attachments": {},
   "cell_type": "markdown",
   "metadata": {},
   "source": [
    "### Searching and Opening a profile using \n",
    "#### Open profile of “So Delhi” "
   ]
  },
  {
   "cell_type": "code",
   "execution_count": 12,
   "metadata": {},
   "outputs": [
    {
     "data": {
      "text/plain": [
       "<selenium.webdriver.remote.webelement.WebElement (session=\"a99ac20887ac4e2532c2c8f545a77bdb\", element=\"9547ba2c-9d00-4798-bbfa-4be53f4fc84f\")>"
      ]
     },
     "execution_count": 12,
     "metadata": {},
     "output_type": "execute_result"
    }
   ],
   "source": [
    "So_Delhi = driver.find_element(By.CLASS_NAME, '_abm4')\n",
    "So_Delhi.click()\n",
    "WebDriverWait(driver, 10).until(EC.presence_of_element_located((By.XPATH, '//div[contains(@class, \"_aa_y\")]')))"
   ]
  },
  {
   "attachments": {},
   "cell_type": "markdown",
   "metadata": {},
   "source": [
    "### Follow/Unfollow given handle - \n",
    "#### Open the Instagram Handle of “So Delhi”\n",
    "#### Start following it. Print a message if you are already following\n"
   ]
  },
  {
   "cell_type": "code",
   "execution_count": 13,
   "metadata": {},
   "outputs": [],
   "source": [
    "if driver.find_element(By.XPATH, '//div[contains(@class, \"_aacw\")]').text == \"Following\":\n",
    "    print(\"Already following it.\")\n",
    "else:\n",
    "    follow_btn = driver.find_element(By.XPATH, '//button[starts-with(@class, \"_acan\")]')\n",
    "    follow_btn.click()\n",
    "time.sleep(5)"
   ]
  },
  {
   "attachments": {},
   "cell_type": "markdown",
   "metadata": {},
   "source": [
    "#### After following, unfollow the instagram handle. Print a message if you have already unfollowed."
   ]
  },
  {
   "cell_type": "code",
   "execution_count": 14,
   "metadata": {},
   "outputs": [],
   "source": [
    "if driver.find_element(By.XPATH, '//div[contains(@class, \"_aacw\")]').text == \"Following\":\n",
    "    driver.find_element(By.XPATH, '//button[starts-with(@class, \"_acan\")]').click()\n",
    "    WebDriverWait(driver, 5).until(EC.presence_of_element_located((By.XPATH, '/html/body/div[2]/div/div/div/div[2]/div/div/div[1]/div/div[2]/div/div/div/div/div[2]/div/div/div/div[7]/div/div/div/div/div/div')))\n",
    "    driver.find_element(By.XPATH, '/html/body/div[2]/div/div/div/div[2]/div/div/div[1]/div/div[2]/div/div/div/div/div[2]/div/div/div/div[7]/div/div/div/div/div/div').click()\n",
    "time.sleep(3)"
   ]
  },
  {
   "attachments": {},
   "cell_type": "markdown",
   "metadata": {},
   "source": [
    "### Like/Unlike posts\n",
    "Unliking the top 30 posts of the ‘dilsefoodie’. Print message if you have already unliked it.\n"
   ]
  },
  {
   "cell_type": "code",
   "execution_count": 15,
   "metadata": {},
   "outputs": [],
   "source": [
    "search = driver.find_element(By.XPATH, \"/html/body/div[2]/div/div/div/div[1]/div/div/div/div[1]/div[1]/div[1]/div/div/div/div/div[2]/div[2]/div/a/div/div[2]/div/div\")\n",
    "search.click()\n",
    "WebDriverWait(driver, 5).until(EC.presence_of_element_located((By.XPATH, \"/html/body/div[2]/div/div/div/div[1]/div/div/div/div[1]/div[1]/div[1]/div/div/div[2]/div/div/div[2]/div[1]/div/input\")))\n",
    "driver.find_element(By.XPATH, \"/html/body/div[2]/div/div/div/div[1]/div/div/div/div[1]/div[1]/div[1]/div/div/div[2]/div/div/div[2]/div[1]/div/input\").send_keys(\"dilsefoodie\")\n",
    "WebDriverWait(driver, 5).until(EC.presence_of_element_located((By.XPATH, '/html/body/div[2]/div/div/div/div[1]/div/div/div/div[1]/div[1]/div[1]/div/div/div[2]/div/div/div[2]/div[2]/div/div[1]/div/a/div/div[2]/div[2]/div')))\n",
    "driver.find_element(By.XPATH, '/html/body/div[2]/div/div/div/div[1]/div/div/div/div[1]/div[1]/div[1]/div/div/div[2]/div/div/div[2]/div[2]/div/div[1]/div/a/div/div[2]/div[2]/div').click()"
   ]
  },
  {
   "attachments": {},
   "cell_type": "markdown",
   "metadata": {},
   "source": [
    "#### Liking the top 30 posts of the ‘dilsefoodie'. Print message if you have already liked it."
   ]
  },
  {
   "cell_type": "code",
   "execution_count": 16,
   "metadata": {},
   "outputs": [
    {
     "name": "stdout",
     "output_type": "stream",
     "text": [
      "1 Liked\n",
      "2 Liked\n",
      "3 Liked\n",
      "4 Liked\n",
      "5 Liked\n",
      "6 Liked\n",
      "7 Liked\n",
      "8 Liked\n",
      "9 Liked\n",
      "10 Liked\n",
      "11 Liked\n",
      "12 Liked\n",
      "13 Liked\n",
      "14 Liked\n",
      "15 Liked\n",
      "16 Liked\n",
      "17 Liked\n",
      "18 Liked\n",
      "19 Liked\n",
      "20 Liked\n",
      "21 Liked\n",
      "22 Liked\n",
      "23 Liked\n",
      "24 Liked\n",
      "25 Liked\n",
      "26 Liked\n",
      "27 Liked\n",
      "28 Liked\n",
      "29 Liked\n",
      "30 Liked\n"
     ]
    }
   ],
   "source": [
    "driver.execute_script('window.scrollTo(0, 6000);')\n",
    "time.sleep(3)\n",
    "driver.execute_script('window.scrollTo(0,-6000);')\n",
    "time.sleep(3)\n",
    "driver.find_element(By.XPATH, '/html/body/div[2]/div/div/div/div[1]/div/div/div/div[1]/div[1]/div[2]/section/main/div/div[3]/article/div[1]/div/div[1]/div[1]').click()\n",
    "if BeautifulSoup(driver.find_element(By.XPATH,'//span[(@class = \"_aamw\")]').get_attribute('outerHTML'),'html.parser').svg['aria-label'] == 'Like':  \n",
    "    driver.find_element(By.XPATH, '/html/body/div[2]/div/div/div/div[2]/div/div/div[1]/div/div[3]/div/div/div/div/div[2]/div/article/div/div[2]/div/div/div[2]/section[1]/span[1]/button').click()\n",
    "    print('1 Liked')\n",
    "else:\n",
    "    print('1 Already Liked')\n",
    "time.sleep(1)\n",
    "driver.find_element(By.XPATH, '/html/body/div[2]/div/div/div/div[2]/div/div/div[1]/div/div[3]/div/div/div/div/div[1]/div/div/div/button').click()\n",
    "\n",
    "for i in range(29):\n",
    "    if BeautifulSoup(driver.find_element(By.XPATH,'//span[(@class = \"_aamw\")]').get_attribute('outerHTML'),'html.parser').svg['aria-label'] == 'Like':  \n",
    "        driver.find_element(By.XPATH, '/html/body/div[2]/div/div/div/div[2]/div/div/div[1]/div/div[3]/div/div/div/div/div[2]/div/article/div/div[2]/div/div/div[2]/section[1]/span[1]/button').click()\n",
    "        print(i+2, 'Liked')\n",
    "    else:\n",
    "        print(i+2, 'Already Liked')\n",
    "        time.sleep(1)\n",
    "    driver.find_element(By.XPATH, '/html/body/div[2]/div/div/div/div[2]/div/div/div[1]/div/div[3]/div/div/div/div/div[1]/div/div/div[2]/button').click()\n",
    "driver.find_element(By.XPATH, '/html/body/div[2]/div/div/div/div[2]/div/div/div[1]/div/div[2]').click()"
   ]
  },
  {
   "attachments": {},
   "cell_type": "markdown",
   "metadata": {},
   "source": [
    "#### Unliking the top 30 posts of the ‘dilsefoodie’. Print message if you have already unliked it."
   ]
  },
  {
   "cell_type": "code",
   "execution_count": 17,
   "metadata": {},
   "outputs": [
    {
     "name": "stdout",
     "output_type": "stream",
     "text": [
      "1 UnLiked\n",
      "2 UnLiked\n",
      "3 UnLiked\n",
      "4 UnLiked\n",
      "5 UnLiked\n",
      "6 UnLiked\n",
      "7 UnLiked\n",
      "8 UnLiked\n",
      "9 UnLiked\n",
      "10 UnLiked\n",
      "11 UnLiked\n",
      "12 UnLiked\n",
      "13 UnLiked\n",
      "14 UnLiked\n",
      "15 UnLiked\n",
      "16 UnLiked\n",
      "17 UnLiked\n",
      "18 UnLiked\n",
      "19 UnLiked\n",
      "20 UnLiked\n",
      "21 UnLiked\n",
      "22 UnLiked\n",
      "23 UnLiked\n",
      "24 UnLiked\n",
      "25 UnLiked\n",
      "26 UnLiked\n",
      "27 UnLiked\n",
      "28 UnLiked\n",
      "29 UnLiked\n",
      "30 UnLiked\n"
     ]
    }
   ],
   "source": [
    "driver.execute_script('window.scrollTo(0, 6000);')\n",
    "time.sleep(3)\n",
    "driver.execute_script('window.scrollTo(0,-6000);')\n",
    "time.sleep(3)\n",
    "driver.find_element(By.XPATH, '/html/body/div[2]/div/div/div/div[1]/div/div/div/div[1]/div[1]/div[2]/section/main/div/div[3]/article/div[1]/div/div[1]/div[1]').click()\n",
    "if BeautifulSoup(driver.find_element(By.XPATH,'//span[(@class = \"_aamw\")]').get_attribute('outerHTML'),'html.parser').svg['aria-label'] == 'Unlike':  \n",
    "    driver.find_element(By.XPATH, '/html/body/div[2]/div/div/div/div[2]/div/div/div[1]/div/div[3]/div/div/div/div/div[2]/div/article/div/div[2]/div/div/div[2]/section[1]/span[1]/button').click()\n",
    "    print('1 UnLiked')\n",
    "else:\n",
    "    print('1 Already UnLiked')\n",
    "time.sleep(1)\n",
    "driver.find_element(By.XPATH, '/html/body/div[2]/div/div/div/div[2]/div/div/div[1]/div/div[3]/div/div/div/div/div[1]/div/div/div/button').click()\n",
    "\n",
    "for i in range(29):\n",
    "    if BeautifulSoup(driver.find_element(By.XPATH,'//span[(@class = \"_aamw\")]').get_attribute('outerHTML'),'html.parser').svg['aria-label'] == 'Unlike':  \n",
    "        driver.find_element(By.XPATH, '/html/body/div[2]/div/div/div/div[2]/div/div/div[1]/div/div[3]/div/div/div/div/div[2]/div/article/div/div[2]/div/div/div[2]/section[1]/span[1]/button').click()\n",
    "        print(i+2, 'UnLiked')\n",
    "    else:\n",
    "        print(i+2, 'Already UnLiked')\n",
    "    time.sleep(1)\n",
    "    driver.find_element(By.XPATH, '/html/body/div[2]/div/div/div/div[2]/div/div/div[1]/div/div[3]/div/div/div/div/div[1]/div/div/div[2]/button').click()\n",
    "driver.find_element(By.XPATH, '/html/body/div[2]/div/div/div/div[2]/div/div/div[1]/div/div[2]').click()"
   ]
  },
  {
   "attachments": {},
   "cell_type": "markdown",
   "metadata": {},
   "source": [
    "### Extract list of followers\n",
    "#### Extract the usernames of the first 500 followers of ‘foodtalkindia’ and ‘sodelhi’.\n",
    "#### Now print all the followers of “foodtalkindia” that you are following but those who don’t follow you."
   ]
  },
  {
   "attachments": {},
   "cell_type": "markdown",
   "metadata": {},
   "source": [
    "###### as asked in the question we have to extract first 500 followers of foodtalkindia, but i am afraid it is not possible because its written on the top of followers list that 'Only foodtalkindia can see all followers.'\n",
    "###### So, here i have extracted all the followers which were visible to us."
   ]
  },
  {
   "cell_type": "code",
   "execution_count": 18,
   "metadata": {},
   "outputs": [
    {
     "data": {
      "text/plain": [
       "<selenium.webdriver.remote.webelement.WebElement (session=\"a99ac20887ac4e2532c2c8f545a77bdb\", element=\"e3714cad-2575-4bb7-b573-9734902aba3a\")>"
      ]
     },
     "execution_count": 18,
     "metadata": {},
     "output_type": "execute_result"
    }
   ],
   "source": [
    "searchBox = driver.find_element(By.XPATH, '/html/body/div[2]/div/div/div/div[1]/div/div/div/div[1]/div[1]/div[1]/div/div/div/div/div[2]/div[2]/div')\n",
    "searchBox.click()\n",
    "WebDriverWait(driver, 5).until(EC.presence_of_element_located((By.XPATH, '/html/body/div[2]/div/div/div/div[1]/div/div/div/div[1]/div[1]/div[1]/div/div/div[2]/div/div/div[2]/div[1]/div')))"
   ]
  },
  {
   "cell_type": "code",
   "execution_count": 19,
   "metadata": {},
   "outputs": [],
   "source": [
    "searchText = driver.find_element(By.XPATH, '/html/body/div[2]/div/div/div/div[1]/div/div/div/div[1]/div[1]/div[1]/div/div/div[2]/div/div/div[2]/div[1]/div/input')\n",
    "searchText.send_keys('foodtalkindia')\n",
    "WebDriverWait(driver, 5).until(EC.presence_of_element_located((By.XPATH, '/html/body/div[2]/div/div/div/div[1]/div/div/div/div[1]/div[1]/div[1]/div/div/div[2]/div/div/div[2]/div[2]/div/div[1]/div/a/div/div[2]/div[1]/div/div/div[1]')))\n",
    "driver.find_element(By.XPATH, '/html/body/div[2]/div/div/div/div[1]/div/div/div/div[1]/div[1]/div[1]/div/div/div[2]/div/div/div[2]/div[2]/div/div[1]/div/a/div/div[2]/div[1]/div/div/div[1]').click()\n",
    "searchBox.click()"
   ]
  },
  {
   "cell_type": "code",
   "execution_count": 20,
   "metadata": {},
   "outputs": [],
   "source": [
    "driver.find_element(By.XPATH, '/html/body/div[2]/div/div/div/div[1]/div/div/div/div[1]/div[1]/div[2]/section/main/div/header/section/ul/li[2]/a/div').click()\n",
    "time.sleep(3)"
   ]
  },
  {
   "cell_type": "code",
   "execution_count": 21,
   "metadata": {},
   "outputs": [],
   "source": [
    "height = driver.execute_script('return arguments[0].scrollHeight;', driver.find_element(By.XPATH, '/html/body/div[2]/div/div/div/div[2]/div/div/div[1]/div/div[2]/div/div/div/div/div[2]/div/div/div[2]'))\n",
    "# print(height)\n",
    "driver.execute_script(\"arguments[0].scrollTo(0, arguments[1]);\", driver.find_element(By.XPATH, '/html/body/div[2]/div/div/div/div[2]/div/div/div[1]/div/div[2]/div/div/div/div/div[2]/div/div/div[2]'), height)\n",
    "driver.implicitly_wait(4)"
   ]
  },
  {
   "cell_type": "code",
   "execution_count": 22,
   "metadata": {},
   "outputs": [],
   "source": [
    "followers_list = driver.find_elements(By.XPATH, '//div[contains(@class, \"_ab8y\")]')"
   ]
  },
  {
   "cell_type": "code",
   "execution_count": 23,
   "metadata": {},
   "outputs": [
    {
     "name": "stdout",
     "output_type": "stream",
     "text": [
      "50 followers\n",
      "zoomfire02\n",
      "at.aaliya\n",
      "pvt._.ana\n",
      "ayasha_memone\n",
      "i_rafil_2\n",
      "bean_and\n",
      "bijoysboro07\n",
      "cakeeatofficial\n",
      "dhrutimilan\n",
      "thedipakmahajan\n",
      "gulatidisha\n",
      "dishaaj2023\n",
      "erikajeng\n",
      "fetaltechnologies_\n",
      "eatsbyshally\n",
      "foodie_pixel_02\n",
      "himanshukumar1610\n",
      "homcook_\n",
      "swagat596\n",
      "shaitan_bachi78\n",
      "kashmiri_ghumakkad\n",
      "kartikeyya.goell\n",
      "betterlucknexttime8673\n",
      "leela_cakery\n",
      "mallikabhushan06\n",
      "nsansanwal\n",
      "kundanpatel20062018\n",
      "k_a_lvi\n",
      "pratikmishra1221\n",
      "pruthviraj_8581_\n",
      "i.rk__0728\n",
      "sanjaygulati13\n",
      "saturdaypantrysaturday\n",
      "sehajpreet6888\n",
      "sidhant_t\n",
      "snacks_wala\n",
      "savan.prajapati.756859\n",
      "its_all_i_ate\n",
      "alwayssunnyin_nyc\n",
      "swan_solar_services\n",
      "chaubeyswati98\n",
      "tripti_restaurant_\n",
      "azeemtuba29\n",
      "tusharpukale\n",
      "hey.its_tusharr\n",
      "priqween\n",
      "tyronheredia\n",
      "wedding101_\n",
      "_shreyash_s_kapalay_\n",
      "mr_stark_offi_\n"
     ]
    }
   ],
   "source": [
    "print(len(followers_list), \"followers\")\n",
    "for i in followers_list:\n",
    "    print(i.text)"
   ]
  },
  {
   "cell_type": "code",
   "execution_count": 24,
   "metadata": {},
   "outputs": [],
   "source": [
    "driver.find_element(By.XPATH, '/html/body/div[2]/div/div/div/div[2]/div/div/div[1]/div/div[2]/div/div/div/div/div[2]/div/div/div[1]/div/div[3]/div/button').click()\n",
    "    # count+=1"
   ]
  },
  {
   "cell_type": "code",
   "execution_count": 25,
   "metadata": {},
   "outputs": [],
   "source": [
    "searchBox.click()\n",
    "driver.find_element(By.XPATH, '/html/body/div[2]/div/div/div/div[1]/div/div/div/div[1]/div[1]/div[1]/div/div/div[2]/div/div/div[2]/div[1]/div/input').send_keys('sodelhi')\n",
    "WebDriverWait(driver, 5).until(EC.presence_of_element_located((By.XPATH, '/html/body/div[2]/div/div/div/div[1]/div/div/div/div[1]/div[1]/div[1]/div/div/div[2]/div/div/div[2]/div[2]/div/div[1]/div/a/div/div[2]/div[1]/div/div')))\n",
    "driver.find_element(By.XPATH, '/html/body/div[2]/div/div/div/div[1]/div/div/div/div[1]/div[1]/div[1]/div/div/div[2]/div/div/div[2]/div[2]/div/div[1]/div/a/div/div[2]/div[1]/div/div').click()\n",
    "searchBox.click()\n",
    "WebDriverWait(driver, 5).until(EC.presence_of_element_located((By.XPATH, '/html/body/div[2]/div/div/div/div[1]/div/div/div/div[1]/div[1]/div[2]/section/main/div/header/section/ul/li[2]/a/div')))\n",
    "driver.find_element(By.XPATH, '/html/body/div[2]/div/div/div/div[1]/div/div/div/div[1]/div[1]/div[2]/section/main/div/header/section/ul/li[2]/a/div').click()"
   ]
  },
  {
   "cell_type": "code",
   "execution_count": 26,
   "metadata": {},
   "outputs": [],
   "source": [
    "driver.refresh()"
   ]
  },
  {
   "cell_type": "code",
   "execution_count": 27,
   "metadata": {},
   "outputs": [],
   "source": [
    "sodelhi=[]\n",
    "while len(sodelhi) < 499:\n",
    "    # sodelhi=[]\n",
    "    sodelhi = driver.find_elements(By.XPATH, '//div[contains(@class, \"_ab8y\")]')\n",
    "    len(sodelhi)\n",
    "    new_height = driver.execute_script('return arguments[0].scrollHeight', driver.find_element(By.XPATH, '/html/body/div[2]/div/div/div/div[2]/div/div/div[1]/div/div[2]/div/div/div/div/div[2]/div/div/div[2]'))\n",
    "    # print(new_height)\n",
    "    # print(height)\n",
    "    driver.execute_script(\"arguments[0].scrollTo(0, arguments[1]);\", driver.find_element(By.XPATH, '/html/body/div[2]/div/div/div/div[2]/div/div/div[1]/div/div[2]/div/div/div/div/div[2]/div/div/div[2]'), new_height)"
   ]
  },
  {
   "cell_type": "code",
   "execution_count": 28,
   "metadata": {},
   "outputs": [
    {
     "name": "stdout",
     "output_type": "stream",
     "text": [
      "500 followers\n"
     ]
    }
   ],
   "source": [
    "while len(sodelhi)!=500 and len(sodelhi)>500:\n",
    "    sodelhi.pop()\n",
    "print(len(sodelhi), \"followers\")\n"
   ]
  },
  {
   "cell_type": "code",
   "execution_count": 29,
   "metadata": {},
   "outputs": [
    {
     "name": "stdout",
     "output_type": "stream",
     "text": [
      "1 _miss_kayra134\n",
      "2 commercevalley\n",
      "3 prishu_1808\n",
      "4 rahul_tutejaa\n",
      "5 yashi9720\n",
      "6 rupali__.zzz\n",
      "7 krsnashital\n",
      "8 anoushkazaveri\n",
      "9 aman_2022_sample_testing\n",
      "10 kaifffffffff777\n",
      "11 ashishgoel1980\n",
      "12 shivin_agarwal_\n",
      "13 suvrat93\n",
      "14 __vaidehiii\n",
      "15 therationalbeing\n",
      "16 beinghuman_neha\n",
      "17 deeepalliii__85\n",
      "18 the.creative_soul\n",
      "19 rahul_vishwakarma_mind_gamer\n",
      "20 _prernagarg_0509\n",
      "21 lavish_bhitanwal\n",
      "22 tisha23_._\n",
      "23 rajiv_oberoi_n\n",
      "24 saini.varun1650\n",
      "25 biswas013\n",
      "26 sumitbhattachar.jee\n",
      "27 salman_sayed612\n",
      "28 yash.2.8\n",
      "29 shrutika_yadav_17\n",
      "30 aradhanachhikara\n",
      "31 virgogirl0908\n",
      "32 visi_bleflavors\n",
      "33 asmitanidhi_singh\n",
      "34 sharmaanushka05\n",
      "35 klevenwears\n",
      "36 the.akshaydeshmukh\n",
      "37 harshj_0013\n",
      "38 aesthetic_consumables\n",
      "39 alabhya._.vaibhav\n",
      "40 theintuitivelibra_\n",
      "41 himanshuagarwala\n",
      "42 bhuvii.31\n",
      "43 sammygoswami8535\n",
      "44 mudfactory.india\n",
      "45 mohityadav_2001\n",
      "46 kyayarrr.adi\n",
      "47 luvkush8953\n",
      "48 strawberriescigarettes74\n",
      "49 btwitspvt_15\n",
      "50 anjaliidahiyaa\n",
      "51 __iamneeraj__\n",
      "52 manishagrawal8713\n",
      "53 nerdnabeeeel\n",
      "54 fareedkhnn_fk\n",
      "55 the_mystical_clicks\n",
      "56 winternight_2206\n",
      "57 jyotisharanjan\n",
      "58 pratham_shakya_1234\n",
      "59 shreya.jadhav23\n",
      "60 riyaaaaaaaaaaaaa78\n",
      "61 __siimuuu__\n",
      "62 aasthakumar_18\n",
      "63 deadonesss\n",
      "64 its__vanshika_modi\n",
      "65 kailashkumar90944\n",
      "66 viipiinkumar\n",
      "67 ankit_rathore_27\n",
      "68 flawedhands\n",
      "69 banot.siddharth\n",
      "70 asif58145\n",
      "71 305vnad\n",
      "72 nxvee_92\n",
      "73 i.monikarajput\n",
      "74 prettyxniie\n",
      "75 shivahi9990362023\n",
      "76 _tishasharmaa_\n",
      "77 lacky7456\n",
      "78 vij_arjun\n",
      "79 true.living.1514\n",
      "80 delhi.so\n",
      "81 therayraw\n",
      "82 hamidul3409\n",
      "83 radhahupta1432\n",
      "84 sunnykhatana\n",
      "85 rose_berry.614\n",
      "86 vikas_kr.rai\n",
      "87 shahijee_ki_ladaki\n",
      "88 kashmiri_ghumakkad\n",
      "89 sexy__boy1569\n",
      "90 fran.mu.8\n",
      "91 kamalhasanarfi110\n",
      "92 vineetd55\n",
      "93 garimaa25_30\n",
      "94 arsharora_26\n",
      "95 phalswal\n",
      "96 shaleen_gupta91\n",
      "97 krishna_7_pvttt\n",
      "98 nidhiivig\n",
      "99 alphaw90s\n",
      "100 javeriyaqureshii\n",
      "101 abacus17_\n",
      "102 tfatharv\n",
      "103 sanyam_pahuja\n",
      "104 aarohiaggarwal\n",
      "105 __sieana__\n",
      "106 saurav.mishra.54\n",
      "107 rupawahi\n",
      "108 oyegoolu\n",
      "109 mom_osking\n",
      "110 picarp_3\n",
      "111 gilpixphotography\n",
      "112 tushar.dhingra1\n",
      "113 abdulwahab.0o0\n",
      "114 sarthak_garg28\n",
      "115 ekansh6646\n",
      "116 nsansanwal\n",
      "117 shruti5630\n",
      "118 cravingandtraveling\n",
      "119 praveenkumar0895\n",
      "120 purrvaaaa._\n",
      "121 saroopsinghdham\n",
      "122 _siddhigarg\n",
      "123 raju.simpp\n",
      "124 rahila_jeewa\n",
      "125 yogagirl_urvashi\n",
      "126 shivangi_prashar_\n",
      "127 tebawihi_______\n",
      "128 preetamrb\n",
      "129 mysh_medunica\n",
      "130 dr_momos_pandey\n",
      "131 _x__gaurav_meerut___xx\n",
      "132 leafybat3\n",
      "133 saifalikhan1912\n",
      "134 dflavorexplorer\n",
      "135 syed_ramsha__\n",
      "136 _mmanyaaa_\n",
      "137 utkarshmalhotra43\n",
      "138 cut_girl_ty\n",
      "139 nisha__.khan\n",
      "140 isudhakarkumar\n",
      "141 manssinainwal\n",
      "142 puneetphotography3008\n",
      "143 prarthanaa.pvt\n",
      "144 cherry_san10\n",
      "145 rishabh_rishi07\n",
      "146 balajan93\n",
      "147 anika_gazn\n",
      "148 sumedhchoudhary\n",
      "149 ranjitkmrrj\n",
      "150 tejwani5481\n",
      "151 harsh__.019\n",
      "152 _.sapna_.rajput\n",
      "153 urmikasethi\n",
      "154 aradhyarohatgi\n",
      "155 mallika__kapoor\n",
      "156 purnanandkalra\n",
      "157 janiya_janiya._\n",
      "158 faten_mannat93\n",
      "159 muskan9nov\n",
      "160 dollysolanki21\n",
      "161 _saksham_pandey\n",
      "162 theakulvarshney\n",
      "163 bhusankumarrr\n",
      "164 luxmi_golap\n",
      "165 tanya.chaudhary_20\n",
      "166 aishwaryasri\n",
      "167 bhargava_rishabh\n",
      "168 arjun_1021\n",
      "169 khushi_chaudhary6898\n",
      "170 ahuja470\n",
      "171 vrinda.144\n",
      "172 shikh_a_singh\n",
      "173 prashant.chand.97\n",
      "174 crown_creamy\n",
      "175 rajpoot_hinaa\n",
      "176 shreetamforya\n",
      "177 prince45095\n",
      "178 chhavimaurya\n",
      "179 photopedia_2.0\n",
      "180 rupali9978\n",
      "181 samthapa0761\n",
      "182 im.aditijhaa\n",
      "183 tarun.khurana.1232\n",
      "184 masaimara9\n",
      "185 motepalli_kaveri\n",
      "186 ahir_sachin_lammardar_94_01\n",
      "187 foreverthelolita\n",
      "188 gaurii.paul\n",
      "189 asmitafardinahaq\n",
      "190 rhythm_soni1\n",
      "191 sonjibpramanik129\n",
      "192 debanjanmondalphysio\n",
      "193 ggigol_plybou100\n",
      "194 vrinda_01_0\n",
      "195 dhiraj_kasta\n",
      "196 kumarlavkush4539\n",
      "197 kanakasv\n",
      "198 riyachhatwal496\n",
      "199 bharti_0521\n",
      "200 ganesh.vechalapu\n",
      "201 firdos_hanin\n",
      "202 vishu_arora87\n",
      "203 hi.12950\n",
      "204 isha_singh.08\n",
      "205 unhea1thy.ins0mni4c\n",
      "206 choudhary_ritika_maan\n",
      "207 amayarajput0098\n",
      "208 _peace._1\n",
      "209 vinnu_badlani\n",
      "210 mussu_94\n",
      "211 arn_av.saighal\n",
      "212 _anushya__\n",
      "213 arpana_singh__\n",
      "214 gupta2004__\n",
      "215 anaayasharma18\n",
      "216 shivam_61094\n",
      "217 wonderful_bharat\n",
      "218 shubhashish_chowdhury\n",
      "219 tfraghav_\n",
      "220 justinbieber.mystery\n",
      "221 apna_meerut_up_15\n",
      "222 prata_nehalshah\n",
      "223 azmina_aaaa\n",
      "224 li____ger\n",
      "225 ftrfyfvfsyxzrx\n",
      "226 npneetus52\n",
      "227 whoismitali\n",
      "228 epicureans_duo\n",
      "229 naughty_sravya\n",
      "230 aarryyaa_11\n",
      "231 infinitywheelsindia\n",
      "232 corerealty2023\n",
      "233 shyam.hub\n",
      "234 thejas.tj\n",
      "235 dhr_uv2924\n",
      "236 aditi_0130\n",
      "237 yuoto.jasmine\n",
      "238 aarushi_srvastava\n",
      "239 usama_087\n",
      "240 meebhumiiikaa\n",
      "241 saini.riya\n",
      "242 rajangupta1451\n",
      "243 arjunduggal14\n",
      "244 sarmaya.store\n",
      "245 _alagaasmaan\n",
      "246 aesthetics_vijay\n",
      "247 ultimatesuhail\n",
      "248 khanshaji24\n",
      "249 conscious_strayed\n",
      "250 manu_bajwa\n",
      "251 shivanimehta0905\n",
      "252 teddy_girl20\n",
      "253 real_thugwa\n",
      "254 aestheticsboyy\n",
      "255 monuhorus\n",
      "256 _teeeeeeeh_\n",
      "257 jasleenkaur_1602\n",
      "258 itutorpitampura\n",
      "259 asthaadxt\n",
      "260 kavya_jpg\n",
      "261 aboukarimneji\n",
      "262 ashutosh_4676\n",
      "263 bhumikashishoo\n",
      "264 ashikajain94\n",
      "265 optimistic_raghav\n",
      "266 preetika_rolston_masih\n",
      "267 paraag.jain\n",
      "268 mridul._.jindal\n",
      "269 gaurav_ku_mar1111\n",
      "270 _cdedha_\n",
      "271 officialrohitbisht\n",
      "272 naintaladventurezone_nakuchiya\n",
      "273 karan.kushwaha_kk\n",
      "274 apoorvabmalhan\n",
      "275 the_bihari_writer\n",
      "276 neeraj29pandey\n",
      "277 abhaytiwari.23\n",
      "278 abhilashasingh\n",
      "279 rishi_heartking\n",
      "280 _niyatirawat\n",
      "281 dushyant_i_am\n",
      "282 hrhap_ple888\n",
      "283 suhaanighai\n",
      "284 akash.kadyan.7\n",
      "285 ankita1404\n",
      "286 soundousse_zr\n",
      "287 shamikjnu\n",
      "288 paaru16\n",
      "289 avi.malik.94\n",
      "290 mudhitanagpal\n",
      "291 shubham.sr4\n",
      "292 riagxrg\n",
      "293 mauvelash\n",
      "294 1hammad7\n",
      "295 flickernflames95\n",
      "296 shit.visuals\n",
      "297 bangladeshstreetstyle_\n",
      "298 stuteacoffee\n",
      "299 mihikakhandelwal\n",
      "300 broitspriyansh\n",
      "301 pushpin93\n",
      "302 hiiitsmenya\n",
      "303 vyoms2025\n",
      "304 anaghaz_08\n",
      "305 officialritujain\n",
      "306 garimasharmaaa_\n",
      "307 factornotes\n",
      "308 karansinghchouhan08\n",
      "309 bekica___1313\n",
      "310 snehal.marathe\n",
      "311 clairemethews\n",
      "312 gurpreetbajaj\n",
      "313 vicky2abhi\n",
      "314 divi2421\n",
      "315 harshitapacherwal\n",
      "316 utkarshh711\n",
      "317 poohwrites_\n",
      "318 pooja.kataria.10004\n",
      "319 kadamimm\n",
      "320 neelesh_svt\n",
      "321 shantanu_0_0_mann\n",
      "322 its_chatur_45\n",
      "323 asapoxyy\n",
      "324 nidhi_as_i_am\n",
      "325 i_dream_of_unicorns._\n",
      "326 khushiqueen38912023_\n",
      "327 rahulsingh.rss1527\n",
      "328 khushboo_industries\n",
      "329 ll_.fizzaa._ll\n",
      "330 hab_suits\n",
      "331 divya_hasija\n",
      "332 suhasini_sharma081\n",
      "333 jatin_bohat48\n",
      "334 kritikhanna301\n",
      "335 say.hushhh\n",
      "336 sidhatesinsta_\n",
      "337 akash_rana9990\n",
      "338 trilok_gahla_\n",
      "339 yaseenali0786\n",
      "340 garx.b_\n",
      "341 pawanbasist\n",
      "342 navdha__24\n",
      "343 hey_iamvishal_chill\n",
      "344 nidhi.bansal.334\n",
      "345 79.03472353\n",
      "346 talwar_komal_2216\n",
      "347 prakhar__bindal\n",
      "348 varunaggarwal656\n",
      "349 lavanyakalakonda\n",
      "350 vishall._sharma\n",
      "351 akanshakhare12\n",
      "352 naturelove504\n",
      "353 itsgaurav.singh\n",
      "354 ohdeardough.delhi\n",
      "355 where_drish_goes\n",
      "356 riyamm1122\n",
      "357 oye_jaini_\n",
      "358 shrey5901\n",
      "359 mommyrangi\n",
      "360 rratanm\n",
      "361 saloni2413\n",
      "362 vamsireddy_y_\n",
      "363 prettyy_eyeess\n",
      "364 shivambkj\n",
      "365 ikalpana_chaudhry\n",
      "366 arushiikapoor\n",
      "367 tammy._98\n",
      "368 vlog_net_\n",
      "369 sharmasurbhi798\n",
      "370 ivipinbhardwaj\n",
      "371 bravesoul1372\n",
      "372 eshu_bhardwaj_\n",
      "373 tuhiacharya\n",
      "374 amaankhan0010\n",
      "375 yashika__sethi\n",
      "376 toochilly_04\n",
      "377 meharjavedhussainkhan\n",
      "378 himanshisingharora\n",
      "379 snehamm.29\n",
      "380 boringshitposting\n",
      "381 hayat.noor77\n",
      "382 _.priyanshumadenegi._\n",
      "383 praveen_maurya_vanshi\n",
      "384 kunall.11\n",
      "385 shreyansh.96\n",
      "386 ahmad_faizan18\n",
      "387 harshitaatripathii\n",
      "388 tushar.1jan\n",
      "389 garg4kg\n",
      "390 lilaclilly12\n",
      "391 sriiishh_su\n",
      "392 thearjunps\n",
      "393 felix.evie28\n",
      "394 justasima_\n",
      "395 sanket_guddu\n",
      "396 bholapooja\n",
      "397 masoodshahreen\n",
      "398 vishal_.707\n",
      "399 wearreva.in\n",
      "400 ayeshasal.pvt\n",
      "401 vishal46665\n",
      "402 poonamgupta9185\n",
      "403 reez1998\n",
      "404 veracious_voice\n",
      "405 its_sumit_765\n",
      "406 ibthefearofbeingaverage\n",
      "407 poojasharma60606060\n",
      "408 sjb901\n",
      "409 instabot.project\n",
      "410 ashish1234k\n",
      "411 kanika_gulati04\n",
      "412 thematic_window\n",
      "413 manrajsahotapvt\n",
      "414 itz_the_panda_riddhi\n",
      "415 anuwui\n",
      "416 agrim_2809\n",
      "417 _rizxx.___\n",
      "418 ankujaiswal188\n",
      "419 mansi.shrma0\n",
      "420 yahsika_333504\n",
      "421 ayazzia01\n",
      "422 wahalaashima\n",
      "423 prachirahuljoshi\n",
      "424 _khushii.arora_\n",
      "425 mohitttkumarrr\n",
      "426 anku.jaiswal188\n",
      "427 vi.shakha_\n",
      "428 beingnayan_777\n",
      "429 _vshaiphalika\n",
      "430 manika_aggarwal9\n",
      "431 kartik_07_\n",
      "432 suruchi.jain2\n",
      "433 tayalvishesh\n",
      "434 arunimabal\n",
      "435 kavipriyan07\n",
      "436 itsmeaaliya___\n",
      "437 rajesh_awana\n",
      "438 mansigarg294\n",
      "439 thezahidakhtar\n",
      "440 radhe74banwadiya2022\n",
      "441 enchantingsoul_\n",
      "442 badtameez_110\n",
      "443 zareen1056\n",
      "444 preetika_arya\n",
      "445 aditya.shah.20\n",
      "446 axel_bg\n",
      "447 devendryaadv345\n",
      "448 hangerthefabricstudio\n",
      "449 lux__mee__chong_\n",
      "450 _mellow_04\n",
      "451 chourasia6216\n",
      "452 nikitasharma_11\n",
      "453 steria_wee\n",
      "454 chaitanya08_\n",
      "455 salma_idrisi_2\n",
      "456 keshu_jamdagni\n",
      "457 manni_1111_\n",
      "458 poorva_arora_\n",
      "459 bakedwithlovebyanjana\n",
      "460 abheest1d\n",
      "461 kayenatshaikh2022\n",
      "462 esperer_._\n",
      "463 thechineseboxasianfood\n",
      "464 iicdelhi\n",
      "465 upliftict\n",
      "466 caroline_taui\n",
      "467 ydvkrishna__\n",
      "468 ritikadimri16\n",
      "469 vinay.shaddy\n",
      "470 rasshi04\n",
      "471 its_rimmi_27\n",
      "472 sad__love___ssss\n",
      "473 chef_prerana_gawas\n",
      "474 riyabansal8099\n",
      "475 staycool105\n",
      "476 shivanigoilsarin\n",
      "477 deepashaguptaa\n",
      "478 i_aditi55\n",
      "479 malhotranoushka\n",
      "480 kushh.211\n",
      "481 shrashti_1411\n",
      "482 abhisekdatta7\n",
      "483 komalthakur96\n",
      "484 thekapilmehra\n",
      "485 mansibhandari1998\n",
      "486 aar.ohibansal\n",
      "487 nischldahiya\n",
      "488 _.dream._upsc\n",
      "489 himanshuy677\n",
      "490 the_sassy_grihni\n",
      "491 hardikmehta317\n",
      "492 _ishaan.16\n",
      "493 mannat_khurana1212\n",
      "494 doubledekar\n",
      "495 lavanyayaaa\n",
      "496 __aayushraj___\n",
      "497 manyya.singhal\n",
      "498 cchawla57\n",
      "499 hairypiya\n",
      "500 saksham_groverr\n"
     ]
    }
   ],
   "source": [
    "count=1\n",
    "for i in sodelhi:\n",
    "    print(count, i.text)\n",
    "    count+=1"
   ]
  },
  {
   "cell_type": "code",
   "execution_count": 30,
   "metadata": {},
   "outputs": [],
   "source": [
    "driver.find_element(By.XPATH, '/html/body/div[2]/div/div/div/div[2]/div/div/div[1]/div/div[2]/div/div/div/div/div[2]/div/div/div[1]/div/div[3]/div/button').click()"
   ]
  },
  {
   "attachments": {},
   "cell_type": "markdown",
   "metadata": {},
   "source": [
    "## Check the story of ‘coding.ninjas’. Consider the following\n",
    "#### Scenarios and print error messages accordingly -\n",
    "##### If You have already seen the story.\n",
    "##### Or The user has no story.\n",
    "##### Or View the story if not yet seen."
   ]
  },
  {
   "cell_type": "code",
   "execution_count": 31,
   "metadata": {},
   "outputs": [],
   "source": [
    "driver.find_element(By.XPATH, '/html/body/div[2]/div/div/div/div[1]/div/div/div/div[1]/div[1]/div[1]/div/div/div/div/div[2]/div[2]/div').click()\n",
    "WebDriverWait(driver, 5).until(EC.presence_of_element_located((By.XPATH, '/html/body/div[2]/div/div/div/div[1]/div/div/div/div[1]/div[1]/div[1]/div/div/div[2]/div/div/div[2]/div[1]/div/input')))\n",
    "driver.find_element(By.XPATH, '/html/body/div[2]/div/div/div/div[1]/div/div/div/div[1]/div[1]/div[1]/div/div/div[2]/div/div/div[2]/div[1]/div/input').send_keys('coding.ninjas')\n",
    "WebDriverWait(driver, 5).until(EC.presence_of_element_located((By.XPATH, '/html/body/div[2]/div/div/div/div[1]/div/div/div/div[1]/div[1]/div[1]/div/div/div[2]/div/div/div[2]/div[2]/div/div[1]/div/a/div/div[2]/div[1]/div/div')))\n",
    "driver.find_element(By.XPATH, '/html/body/div[2]/div/div/div/div[1]/div/div/div/div[1]/div[1]/div[1]/div/div/div[2]/div/div/div[2]/div[2]/div/div[1]/div/a/div/div[2]/div[1]/div/div').click()\n",
    "time.sleep(3)"
   ]
  },
  {
   "cell_type": "code",
   "execution_count": 32,
   "metadata": {},
   "outputs": [],
   "source": [
    "driver.find_element(By.XPATH, '/html/body/div[2]/div/div/div/div[1]/div/div/div/div[1]/div[1]/div[1]/div/div/div/div/div[2]/div[2]/div').click()\n",
    "s = driver.find_element(By.XPATH, '/html/body/div[2]/div/div/div/div[1]/div/div/div/div[1]/div[1]/div[2]/section/main/div/header/div/div/canvas')"
   ]
  },
  {
   "cell_type": "code",
   "execution_count": 33,
   "metadata": {},
   "outputs": [
    {
     "name": "stdout",
     "output_type": "stream",
     "text": [
      "You have not seen the story, Now the story is being shown to you check in driver.\n"
     ]
    }
   ],
   "source": [
    "if s.get_attribute('height') == '166':\n",
    "    print(\"You have already seen the story\")\n",
    "elif s.get_attribute('height')  == '168':\n",
    "    print(\"You have not seen the story, Now the story is being shown to you check in driver.\")\n",
    "    driver.find_element(By.XPATH, '/html/body/div[2]/div/div/div/div[1]/div/div/div/div[1]/div[1]/div[2]/section/main/div/header/div/div').click()\n",
    "else:\n",
    "    print(\"User has not posted any story\")\n"
   ]
  },
  {
   "cell_type": "code",
   "execution_count": null,
   "metadata": {},
   "outputs": [],
   "source": []
  },
  {
   "cell_type": "code",
   "execution_count": null,
   "metadata": {},
   "outputs": [],
   "source": []
  }
 ],
 "metadata": {
  "kernelspec": {
   "display_name": "Python 3",
   "language": "python",
   "name": "python3"
  },
  "language_info": {
   "codemirror_mode": {
    "name": "ipython",
    "version": 3
   },
   "file_extension": ".py",
   "mimetype": "text/x-python",
   "name": "python",
   "nbconvert_exporter": "python",
   "pygments_lexer": "ipython3",
   "version": "3.10.5 (tags/v3.10.5:f377153, Jun  6 2022, 16:14:13) [MSC v.1929 64 bit (AMD64)]"
  },
  "orig_nbformat": 4,
  "vscode": {
   "interpreter": {
    "hash": "26de051ba29f2982a8de78e945f0abaf191376122a1563185a90213a26c5da77"
   }
  }
 },
 "nbformat": 4,
 "nbformat_minor": 2
}
