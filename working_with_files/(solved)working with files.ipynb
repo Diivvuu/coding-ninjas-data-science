{
 "cells": [
  {
   "cell_type": "markdown",
   "id": "c133efbb",
   "metadata": {},
   "source": [
    "# Print 100 bytes\n"
   ]
  },
  {
   "cell_type": "code",
   "execution_count": 1,
   "id": "a6f81097",
   "metadata": {},
   "outputs": [
    {
     "name": "stdout",
     "output_type": "stream",
     "text": [
      "Lorem ipsum dolor sit amet, consectetur adipiscing elit. Vivamus condimentum sagittis lacus, laoreet\n"
     ]
    }
   ],
   "source": [
    "obj_file = open('Sample.txt', \"r\")\n",
    "file_data = obj_file.read(100)\n",
    "print(file_data)\n"
   ]
  },
  {
   "cell_type": "markdown",
   "id": "fefb97d6",
   "metadata": {},
   "source": [
    "# Print 5 lines\n"
   ]
  },
  {
   "cell_type": "code",
   "execution_count": 2,
   "id": "7e5ae701",
   "metadata": {},
   "outputs": [
    {
     "name": "stdout",
     "output_type": "stream",
     "text": [
      " luctus ligula laoreet ut. Vestibulum ullamcorper accumsan velit vel vehicula. Proin tempor lacus arcu. Nunc at elit condimentum, semper nisi et, condimentum mi. In venenatis blandit nibh at sollicitudin. Vestibulum dapibus mauris at orci maximus pellentesque. Nullam id elementum ipsum. Suspendisse cursus lobortis viverra. Proin et erat at mauris tincidunt porttitor vitae ac dui.\n",
      "\n",
      "Donec vulputate lorem tortor, nec fermentum nibh bibendum vel. Lorem ipsum dolor sit amet, consectetur adipiscing elit. Praesent dictum luctus massa, non euismod lacus. Pellentesque condimentum dolor est, ut dapibus lectus luctus ac. Ut sagittis commodo arcu. Integer nisi nulla, facilisis sit amet nulla quis, eleifend suscipit purus. Class aptent taciti sociosqu ad litora torquent per conubia nostra, per inceptos himenaeos. Aliquam euismod ultrices lorem, sit amet imperdiet est tincidunt vel. Phasellus dictum justo sit amet ligula varius aliquet auctor et metus. Fusce vitae tortor et nisi pulvinar vestibulum eget in risus. Donec ante ex, placerat a lorem eget, ultricies bibendum purus. Nam sit amet neque non ante laoreet rutrum. Nullam aliquet commodo urna, sed ullamcorper odio feugiat id. Mauris nisi sapien, porttitor in condimentum nec, venenatis eu urna. Pellentesque feugiat diam est, at rhoncus orci porttitor non.\n",
      "\n",
      "Nulla luctus sem sit amet nisi consequat, id ornare ipsum dignissim. Sed elementum elit nibh, eu condimentum orci viverra quis. Aenean suscipit vitae felis non suscipit. Suspendisse pharetra turpis non eros semper dictum. Etiam tincidunt venenatis venenatis. Praesent eget gravida lorem, ut congue diam. Etiam facilisis elit at porttitor egestas. Praesent consequat, velit non vulputate convallis, ligula diam sagittis urna, in venenatis nisi justo ut mauris. Vestibulum posuere sollicitudin mi, et vulputate nisl fringilla non. Nulla ornare pretium velit a euismod. Nunc sagittis venenatis vestibulum. Nunc sodales libero a est ornare ultricies. Sed sed leo sed orci pellentesque ultrices. Mauris sollicitudin, sem quis placerat ornare, velit arcu convallis ligula, pretium finibus nisl sapien vel sem. Vivamus sit amet tortor id lorem consequat hendrerit. Nullam at dui risus.\n",
      "\n",
      "Vestibulum ante ipsum primis in faucibus orci luctus et ultrices posuere cubilia Curae; Lorem ipsum dolor sit amet, consectetur adipiscing elit. Sed feugiat semper velit consequat facilisis. Etiam facilisis justo non iaculis dictum. Fusce turpis neque, pharetra ut odio eu, hendrerit rhoncus lacus. Nunc orci felis, imperdiet vel interdum quis, porta eu ipsum. Pellentesque dictum sem lacinia, auctor dui in, malesuada nunc. Maecenas sit amet mollis eros. Proin fringilla viverra ligula, sollicitudin viverra ante sollicitudin congue. Donec mollis felis eu libero malesuada, et lacinia risus interdum.\n",
      "\n",
      "Etiam vitae accumsan augue. Ut urna orci, malesuada ut nisi a, condimentum gravida magna. Nulla bibendum ex in vulputate sagittis. Nulla facilisi. Nullam faucibus et metus ac consequat. Quisque tempor eros velit, id mattis nibh aliquet a. Aenean tempor elit ut finibus auctor. Sed at imperdiet mauris. Vestibulum pharetra non lacus sed pulvinar. Sed pellentesque magna a eros volutpat ullamcorper. In hac habitasse platea dictumst. Donec ipsum mi, feugiat in eros sed, varius lacinia turpis. Donec vulputate tincidunt dui ac laoreet. Sed in eros dui. Pellentesque placerat tristique ligula eu finibus. Proin nec faucibus felis, eu commodo ipsum.\n",
      "\n"
     ]
    }
   ],
   "source": [
    "for i in range(5):\n",
    "    line = obj_file.readline()\n",
    "    print(line)\n"
   ]
  },
  {
   "cell_type": "code",
   "execution_count": 3,
   "id": "70793651",
   "metadata": {},
   "outputs": [
    {
     "name": "stdout",
     "output_type": "stream",
     "text": [
      "Lorem ipsum dolor sit amet, consectetur adipiscing elit. Vivamus condimentum sagittis lacus, laoreet luctus ligula laoreet ut. Vestibulum ullamcorper accumsan velit vel vehicula. Proin tempor lacus arcu. Nunc at elit condimentum, semper nisi et, condimentum mi. In venenatis blandit nibh at sollicitudin. Vestibulum dapibus mauris at orci maximus pellentesque. Nullam id elementum ipsum. Suspendisse cursus lobortis viverra. Proin et erat at mauris tincidunt porttitor vitae ac dui.\n",
      "\n",
      "Donec vulputate lorem tortor, nec fermentum nibh bibendum vel. Lorem ipsum dolor sit amet, consectetur adipiscing elit. Praesent dictum luctus massa, non euismod lacus. Pellentesque condimentum dolor est, ut dapibus lectus luctus ac. Ut sagittis commodo arcu. Integer nisi nulla, facilisis sit amet nulla quis, eleifend suscipit purus. Class aptent taciti sociosqu ad litora torquent per conubia nostra, per inceptos himenaeos. Aliquam euismod ultrices lorem, sit amet imperdiet est tincidunt vel. Phasellus dictum justo sit amet ligula varius aliquet auctor et metus. Fusce vitae tortor et nisi pulvinar vestibulum eget in risus. Donec ante ex, placerat a lorem eget, ultricies bibendum purus. Nam sit amet neque non ante laoreet rutrum. Nullam aliquet commodo urna, sed ullamcorper odio feugiat id. Mauris nisi sapien, porttitor in condimentum nec, venenatis eu urna. Pellentesque feugiat diam est, at rhoncus orci porttitor non.\n",
      "\n",
      "Nulla luctus sem sit amet nisi consequat, id ornare ipsum dignissim. Sed elementum elit nibh, eu condimentum orci viverra quis. Aenean suscipit vitae felis non suscipit. Suspendisse pharetra turpis non eros semper dictum. Etiam tincidunt venenatis venenatis. Praesent eget gravida lorem, ut congue diam. Etiam facilisis elit at porttitor egestas. Praesent consequat, velit non vulputate convallis, ligula diam sagittis urna, in venenatis nisi justo ut mauris. Vestibulum posuere sollicitudin mi, et vulputate nisl fringilla non. Nulla ornare pretium velit a euismod. Nunc sagittis venenatis vestibulum. Nunc sodales libero a est ornare ultricies. Sed sed leo sed orci pellentesque ultrices. Mauris sollicitudin, sem quis placerat ornare, velit arcu convallis ligula, pretium finibus nisl sapien vel sem. Vivamus sit amet tortor id lorem consequat hendrerit. Nullam at dui risus.\n",
      "\n",
      "Vestibulum ante ipsum primis in faucibus orci luctus et ultrices posuere cubilia Curae; Lorem ipsum dolor sit amet, consectetur adipiscing elit. Sed feugiat semper velit consequat facilisis. Etiam facilisis justo non iaculis dictum. Fusce turpis neque, pharetra ut odio eu, hendrerit rhoncus lacus. Nunc orci felis, imperdiet vel interdum quis, porta eu ipsum. Pellentesque dictum sem lacinia, auctor dui in, malesuada nunc. Maecenas sit amet mollis eros. Proin fringilla viverra ligula, sollicitudin viverra ante sollicitudin congue. Donec mollis felis eu libero malesuada, et lacinia risus interdum.\n",
      "\n",
      "Etiam vitae accumsan augue. Ut urna orci, malesuada ut nisi a, condimentum gravida magna. Nulla bibendum ex in vulputate sagittis. Nulla facilisi. Nullam faucibus et metus ac consequat. Quisque tempor eros velit, id mattis nibh aliquet a. Aenean tempor elit ut finibus auctor. Sed at imperdiet mauris. Vestibulum pharetra non lacus sed pulvinar. Sed pellentesque magna a eros volutpat ullamcorper. In hac habitasse platea dictumst. Donec ipsum mi, feugiat in eros sed, varius lacinia turpis. Donec vulputate tincidunt dui ac laoreet. Sed in eros dui. Pellentesque placerat tristique ligula eu finibus. Proin nec faucibus felis, eu commodo ipsum.\n",
      "\n"
     ]
    }
   ],
   "source": [
    "with open('Sample.txt','r') as obj_file:\n",
    "    data = obj_file.readlines()\n",
    "for i in range(0,5):\n",
    "    print(data[i])"
   ]
  },
  {
   "cell_type": "markdown",
   "id": "d6009dd3",
   "metadata": {},
   "source": [
    "# Print 3 lines\n"
   ]
  },
  {
   "cell_type": "code",
   "execution_count": 33,
   "id": "b0ea1ef2",
   "metadata": {},
   "outputs": [
    {
     "name": "stdout",
     "output_type": "stream",
     "text": [
      "2017  1  2  Afghanistan  South Asia  Takhta Pul  31.320556  65.961111  Hostage Taking (Kidnapping)  0.0  0.0  Construction Workers  Taliban  Business  Firearms  0.0 \n",
      "2017  1  3  Sudan  Sub-Saharan Africa  Fantaga  12.921007000000001  24.318324  Armed Assault  2.0  0.0  \"Civilians: Haroun Yousif   Hamid Ibrahim\"  Unknown  Private Citizens & Property  Firearms  2.0 \n",
      "2017  1  1  Democratic Republic of the Congo  Sub-Saharan Africa  Saboko  1.452372  29.875162  Armed Assault  7.0  0.0  Village  Allied Democratic Forces (ADF)  Private Citizens & Property  Melee  7.0 \n"
     ]
    }
   ],
   "source": [
    "import csv\n",
    "with open('year2017.csv', 'r') as csv_file:\n",
    "    csv_data = csv.reader(csv_file)\n",
    "    l=list(csv_data)\n",
    "\n",
    "for row in range(1,4):\n",
    "    for j in l[row]:\n",
    "        print(j, end=\" \")\n",
    "    print()\n",
    "\n",
    "    "
   ]
  },
  {
   "cell_type": "markdown",
   "id": "c795f150",
   "metadata": {},
   "source": [
    "# Print all column names\n"
   ]
  },
  {
   "cell_type": "code",
   "execution_count": 5,
   "id": "e49013d1",
   "metadata": {},
   "outputs": [
    {
     "name": "stdout",
     "output_type": "stream",
     "text": [
      "Year\n",
      " Month\n",
      " Day\n",
      " Country\n",
      " Region\n",
      " city\n",
      " latitude\n",
      " longitude\n",
      " AttackType\n",
      " Killed\n",
      " Wounded\n",
      " Target\n",
      " Group\n",
      " Target_type\n",
      " Weapon_type\n",
      " casualities\n"
     ]
    }
   ],
   "source": [
    "for row in l[0]:\n",
    "    print(row)\n"
   ]
  },
  {
   "cell_type": "markdown",
   "id": "01918fa5",
   "metadata": {},
   "source": [
    "# Print all country names\n"
   ]
  },
  {
   "cell_type": "code",
   "execution_count": 6,
   "id": "bf2ef4f7",
   "metadata": {},
   "outputs": [
    {
     "name": "stdout",
     "output_type": "stream",
     "text": [
      " Afghanistan\n",
      " Sudan\n",
      " Democratic Republic of the Congo\n",
      " Democratic Republic of the Congo\n",
      " Turkey\n",
      " Syria\n",
      " Pakistan\n",
      " Italy\n",
      " Turkey\n",
      " Turkey\n"
     ]
    }
   ],
   "source": [
    "for row in l[1:11]:\n",
    "    print(row[3])\n"
   ]
  },
  {
   "cell_type": "markdown",
   "id": "c477584f",
   "metadata": {},
   "source": [
    "# Print total wounded\n"
   ]
  },
  {
   "cell_type": "code",
   "execution_count": 7,
   "id": "5dc91730",
   "metadata": {},
   "outputs": [
    {
     "name": "stdout",
     "output_type": "stream",
     "text": [
      "24927\n"
     ]
    }
   ],
   "source": [
    "wounded_sum=[]\n",
    "for row in l[1:]:\n",
    "    val = row[10]\n",
    "    if val != ' ':\n",
    "        wounded_sum.append(float(val))\n",
    "print(int(sum(wounded_sum)))\n",
    "\n",
    "\n"
   ]
  },
  {
   "cell_type": "markdown",
   "id": "5795846a",
   "metadata": {},
   "source": [
    "# Print india's wounded\n"
   ]
  },
  {
   "cell_type": "code",
   "execution_count": 8,
   "id": "bbbe58d0",
   "metadata": {},
   "outputs": [
    {
     "name": "stdout",
     "output_type": "stream",
     "text": [
      "702\n"
     ]
    }
   ],
   "source": [
    "wounded_india_sum=[]\n",
    "for row in l[1:]:\n",
    "    val = row[10]\n",
    "    if row[3] == \" India\" and val !=' ':\n",
    "        wounded_india_sum.append(float(val))\n",
    "print(int(sum(wounded_india_sum)))\n"
   ]
  },
  {
   "cell_type": "markdown",
   "id": "74cae5be",
   "metadata": {},
   "source": [
    "# Casualities form explosives\n"
   ]
  },
  {
   "cell_type": "code",
   "execution_count": 9,
   "id": "7315d60b",
   "metadata": {},
   "outputs": [
    {
     "name": "stdout",
     "output_type": "stream",
     "text": [
      "29280\n"
     ]
    }
   ],
   "source": [
    "with open('year2017.csv', 'r') as csv_file:\n",
    "    csv_data2 = csv.DictReader(csv_file, skipinitialspace=True)\n",
    "    casuality_sums=[]\n",
    "    for row in csv_data2:\n",
    "        if row['Weapon_type'] == 'Explosives':\n",
    "            if row['casualities'] != '' :\n",
    "                casuality_sums.append(float(row['casualities']))\n",
    "print(int(sum(casuality_sums)))\n",
    "\n",
    "\n"
   ]
  },
  {
   "cell_type": "markdown",
   "id": "74f19f0b",
   "metadata": {},
   "source": [
    "# Country wise killed"
   ]
  },
  {
   "cell_type": "code",
   "execution_count": 10,
   "id": "079a278b",
   "metadata": {},
   "outputs": [
    {
     "data": {
      "text/plain": [
       "{'Afghanistan': 6092,\n",
       " 'Sudan': 82,\n",
       " 'Democratic Republic of the Congo': 596,\n",
       " 'Turkey': 222,\n",
       " 'Syria': 2026,\n",
       " 'Pakistan': 1076,\n",
       " 'Italy': 0,\n",
       " 'Somalia': 1912,\n",
       " 'Yemen': 762,\n",
       " 'Bahrain': 6,\n",
       " 'Myanmar': 218,\n",
       " 'Burundi': 20,\n",
       " 'Iraq': 6476,\n",
       " 'Egypt': 877,\n",
       " 'Burkina Faso': 53,\n",
       " 'India': 465,\n",
       " 'Algeria': 12,\n",
       " 'United States': 95,\n",
       " 'Philippines': 496,\n",
       " 'Greece': 0,\n",
       " 'Mali': 361,\n",
       " 'Libya': 289,\n",
       " 'Central African Republic': 601,\n",
       " 'Nigeria': 1805,\n",
       " 'Lebanon': 17,\n",
       " 'Mexico': 23,\n",
       " 'Cameroon': 228,\n",
       " 'Ethiopia': 67,\n",
       " 'Kyrgyzstan': 0,\n",
       " 'Serbia': 0,\n",
       " 'Sweden': 5,\n",
       " 'Thailand': 72,\n",
       " 'Iran': 39,\n",
       " 'France': 7,\n",
       " 'United Kingdom': 42,\n",
       " 'West Bank and Gaza Strip': 50,\n",
       " 'Ukraine': 40,\n",
       " 'Paraguay': 4,\n",
       " 'Colombia': 84,\n",
       " 'Malaysia': 4,\n",
       " 'Russia': 61,\n",
       " 'Kosovo': 0,\n",
       " 'South Africa': 21,\n",
       " 'Chile': 0,\n",
       " 'Kenya': 126,\n",
       " 'Israel': 3,\n",
       " 'Saudi Arabia': 31,\n",
       " 'China': 16,\n",
       " 'Nepal': 4,\n",
       " 'Ecuador': 0,\n",
       " 'Niger': 148,\n",
       " 'Venezuela': 5,\n",
       " 'South Sudan': 581,\n",
       " 'Canada': 6,\n",
       " 'Bangladesh': 25,\n",
       " 'Tajikistan': 1,\n",
       " 'Angola': 7,\n",
       " 'Ireland': 0,\n",
       " 'Peru': 8,\n",
       " 'Dominican Republic': 2,\n",
       " 'Poland': 0,\n",
       " 'Jordan': 4,\n",
       " 'Azerbaijan': 5,\n",
       " 'Mozambique': 22,\n",
       " 'Indonesia': 20,\n",
       " 'Germany': 1,\n",
       " 'Brazil': 0,\n",
       " 'Macedonia': 0,\n",
       " 'Tunisia': 5,\n",
       " 'Uganda': 7,\n",
       " 'Chad': 62,\n",
       " 'Finland': 2,\n",
       " 'Australia': 4,\n",
       " 'Norway': 0,\n",
       " 'Vietnam': 0,\n",
       " 'Tanzania': 8,\n",
       " 'Sierra Leone': 0,\n",
       " 'Sri Lanka': 1,\n",
       " 'Maldives': 1,\n",
       " 'Belgium': 2,\n",
       " 'Rwanda': 2,\n",
       " 'Honduras': 2,\n",
       " 'Czech Republic': 0,\n",
       " 'Malta': 1,\n",
       " 'Gabon': 0,\n",
       " 'Laos': 1,\n",
       " 'Djibouti': 0,\n",
       " 'Austria': 2,\n",
       " 'Zambia': 0,\n",
       " 'Argentina': 0,\n",
       " 'Papua New Guinea': 0,\n",
       " 'Zimbabwe': 0,\n",
       " 'Ivory Coast': 3,\n",
       " 'Spain': 21,\n",
       " 'Taiwan': 0,\n",
       " 'Jamaica': 0,\n",
       " 'Albania': 0,\n",
       " 'Liberia': 0,\n",
       " 'Georgia': 0,\n",
       " 'Malawi': 0,\n",
       " 'Netherlands': 0,\n",
       " 'Latvia': 0}"
      ]
     },
     "execution_count": 10,
     "metadata": {},
     "output_type": "execute_result"
    }
   ],
   "source": [
    "with open('year2017.csv' ,'r') as file_obj:\n",
    "    csv_data2 = csv.DictReader(file_obj, skipinitialspace=True)\n",
    "    country_killed={}\n",
    "    for row in csv_data2:\n",
    "        key = row['Country']\n",
    "        value = row['Killed']\n",
    "\n",
    "        if  value != '':\n",
    "            value =  int(float(value))\n",
    "        else:\n",
    "            value = 0\n",
    "\n",
    "\n",
    "\n",
    "        if key in country_killed:\n",
    "            country_killed[key] += value\n",
    "        else:\n",
    "            country_killed[key]=value\n",
    "country_killed"
   ]
  },
  {
   "cell_type": "markdown",
   "id": "16d59485",
   "metadata": {},
   "source": [
    "# Month vs Killed"
   ]
  },
  {
   "cell_type": "code",
   "execution_count": 21,
   "id": "6557f935",
   "metadata": {},
   "outputs": [
    {
     "name": "stdout",
     "output_type": "stream",
     "text": [
      "1 2275\n",
      "2 2027\n",
      "3 2463\n",
      "4 2142\n",
      "5 2936\n",
      "6 2506\n",
      "7 2228\n",
      "8 2145\n",
      "9 1764\n",
      "10 2580\n",
      "11 2014\n",
      "12 1365\n"
     ]
    }
   ],
   "source": [
    "import csv\n",
    "with open('year2017.csv' ,'r') as file_obj:\n",
    "    csv_data2 = csv.DictReader(file_obj, skipinitialspace = True)\n",
    "    month_killed={}\n",
    "    for row in csv_data2:\n",
    "        key = row['Month']\n",
    "        value = row['Killed']\n",
    "\n",
    "        if  value != '':\n",
    "            value =  int(float(value))\n",
    "        else:\n",
    "            value = 0\n",
    "\n",
    "\n",
    "\n",
    "        if key in month_killed:\n",
    "            month_killed[key] += value\n",
    "        else:\n",
    "            month_killed[key]=value\n",
    "for keys, values in month_killed.items():\n",
    "    print(keys, values)"
   ]
  },
  {
   "cell_type": "markdown",
   "id": "dce9267a",
   "metadata": {},
   "source": [
    "# Country vs casualities"
   ]
  },
  {
   "cell_type": "code",
   "execution_count": 37,
   "id": "47ef47a0",
   "metadata": {},
   "outputs": [
    {
     "name": "stdout",
     "output_type": "stream",
     "text": [
      "Afghanistan 11698\n",
      "Sudan 255\n",
      "Democratic Republic of the Congo 636\n",
      "Turkey 548\n",
      "Syria 2731\n",
      "Pakistan 3153\n",
      "Italy 8\n",
      "Somalia 3038\n",
      "Yemen 1446\n",
      "Bahrain 32\n",
      "Myanmar 85\n",
      "Burundi 147\n",
      "Iraq 10999\n",
      "Egypt 1499\n",
      "Burkina Faso 98\n",
      "India 1157\n",
      "Algeria 31\n",
      "United States 1027\n",
      "Philippines 1148\n",
      "Greece 7\n",
      "Mali 657\n",
      "Libya 316\n",
      "Central African Republic 569\n",
      "Nigeria 2300\n",
      "Lebanon 66\n",
      "Mexico 29\n",
      "Cameroon 448\n",
      "Ethiopia 80\n",
      "Kyrgyzstan 0\n",
      "Serbia 1\n",
      "Sweden 37\n",
      "Thailand 342\n",
      "Iran 106\n",
      "France 35\n",
      "United Kingdom 343\n",
      "West Bank and Gaza Strip 125\n",
      "Ukraine 104\n",
      "Paraguay 5\n",
      "Colombia 188\n",
      "Malaysia 6\n",
      "Russia 175\n",
      "Kosovo 4\n",
      "South Africa 28\n",
      "Chile 2\n",
      "Kenya 204\n",
      "Israel 18\n",
      "Saudi Arabia 100\n",
      "China 92\n",
      "Nepal 97\n",
      "Ecuador 0\n",
      "Niger 210\n",
      "Venezuela 37\n",
      "South Sudan 836\n",
      "Canada 31\n",
      "Bangladesh 97\n",
      "Tajikistan 1\n",
      "Angola 416\n",
      "Ireland 0\n",
      "Peru 12\n",
      "Dominican Republic 3\n",
      "Poland 0\n",
      "Jordan 5\n",
      "Azerbaijan 7\n",
      "Mozambique 33\n",
      "Indonesia 47\n",
      "Germany 11\n",
      "Brazil 0\n",
      "Macedonia 0\n",
      "Tunisia 10\n",
      "Uganda 9\n",
      "Chad 2\n",
      "Finland 12\n",
      "Australia 25\n",
      "Norway 0\n",
      "Vietnam 0\n",
      "Tanzania 10\n",
      "Sierra Leone 0\n",
      "Sri Lanka 4\n",
      "Maldives 1\n",
      "Belgium 4\n",
      "Rwanda 10\n",
      "Honduras 2\n",
      "Czech Republic 0\n",
      "Malta 1\n",
      "Gabon 2\n",
      "Laos 1\n",
      "Djibouti 0\n",
      "Austria 2\n",
      "Zambia 0\n",
      "Argentina 0\n",
      "Papua New Guinea 3\n",
      "Zimbabwe 1\n",
      "Ivory Coast 5\n",
      "Spain 132\n",
      "Taiwan 1\n",
      "Jamaica 0\n",
      "Albania 0\n",
      "Liberia 0\n",
      "Georgia 5\n",
      "Malawi 0\n",
      "Netherlands 0\n",
      "Latvia 0\n"
     ]
    }
   ],
   "source": [
    "with open('year2017.csv', 'r') as file_obj:\n",
    "    csv_dict = csv.DictReader(file_obj, skipinitialspace=True)\n",
    "    \n",
    "    country_casualities = {}\n",
    "    for row in csv_dict:\n",
    "        key = row['Country']\n",
    "        value = row['casualities']\n",
    "        if value != '':\n",
    "            value = int(float(value))\n",
    "        else:\n",
    "            value = 0\n",
    "        if key in country_casualities:\n",
    "            country_casualities[key] += value\n",
    "        else:\n",
    "            country_casualities[key] = value\n",
    "\n",
    "for keys, values in country_casualities.items():\n",
    "    print(keys, values)"
   ]
  },
  {
   "cell_type": "markdown",
   "id": "71394a06",
   "metadata": {},
   "source": [
    "# Job Location"
   ]
  },
  {
   "cell_type": "code",
   "execution_count": 41,
   "id": "e425dea3",
   "metadata": {},
   "outputs": [
    {
     "name": "stdout",
     "output_type": "stream",
     "text": [
      "66 1856\n"
     ]
    }
   ],
   "source": [
    "import csv\n",
    "with open('amazon_jobs_dataset.csv', encoding= \"UTF-8\") as file_obj:\n",
    "    file_data = csv.reader(file_obj)\n",
    "    l=list(file_data)\n",
    "    count_Seattle = 0\n",
    "    count_Bangalore=0\n",
    "    for i in l[1:]:\n",
    "        if i[2] == \"US, WA, Seattle \":\n",
    "            count_Seattle+=1\n",
    "        if i[2] == \"IN, KA, Bangalore \":\n",
    "            count_Bangalore+=1\n",
    "    print(count_Bangalore,count_Seattle)"
   ]
  },
  {
   "cell_type": "markdown",
   "id": "f781eeac",
   "metadata": {},
   "source": [
    "# Job Computer Vision"
   ]
  },
  {
   "cell_type": "code",
   "execution_count": 61,
   "metadata": {},
   "outputs": [
    {
     "name": "stdout",
     "output_type": "stream",
     "text": [
      "14\n"
     ]
    }
   ],
   "source": [
    "import csv\n",
    "with open('amazon_jobs_dataset.csv', 'r', encoding=\"UTF-8\") as file_obj:\n",
    "    file_dict = csv.DictReader(file_obj)\n",
    "    l = list(file_dict)\n",
    "    count=0\n",
    "    for row in l[1:]:\n",
    "        if 'Computer Vision' in row['Title']:\n",
    "            count+=1\n",
    "    print(count)"
   ]
  },
  {
   "cell_type": "markdown",
   "id": "085ac004",
   "metadata": {},
   "source": [
    "# Job Canada"
   ]
  },
  {
   "cell_type": "code",
   "execution_count": 75,
   "id": "14fac09f",
   "metadata": {},
   "outputs": [
    {
     "name": "stdout",
     "output_type": "stream",
     "text": [
      "156\n"
     ]
    }
   ],
   "source": [
    "import csv\n",
    "with open('amazon_jobs_dataset.csv', 'r', encoding=\"UTF-8\") as file_obj:\n",
    "    file_dict = csv.DictReader(file_obj)\n",
    "    l = list(file_dict)\n",
    "    count=0\n",
    "    for row in l[1:]:\n",
    "        if row['location'].split(',')[0] == 'CA':\n",
    "            count+=1\n",
    "    print(count)"
   ]
  },
  {
   "cell_type": "markdown",
   "id": "0db3e9d0",
   "metadata": {},
   "source": [
    "# Job Month Year"
   ]
  },
  {
   "cell_type": "code",
   "execution_count": 103,
   "id": "00869a27",
   "metadata": {},
   "outputs": [
    {
     "name": "stdout",
     "output_type": "stream",
     "text": [
      "January 907\n"
     ]
    }
   ],
   "source": [
    "import csv\n",
    "with open('amazon_jobs_dataset.csv', 'r', encoding=\"UTF-8\") as file_obj:\n",
    "    file_dict = csv.DictReader(file_obj, skipinitialspace=True)\n",
    "    l = list(file_dict)\n",
    "    count=0\n",
    "    month_dict={}\n",
    "    for row in l[1:]:\n",
    "        # print(row['Posting_date'])\n",
    "        year = row['Posting_date'].split(',')[-1]\n",
    "        month = row['Posting_date'].split(' ')[0]\n",
    "        if year == ' 2018':\n",
    "            if month in month_dict:\n",
    "                month_dict[month] += 1\n",
    "            else:\n",
    "                month_dict[month] = 1\n",
    "            \n",
    "max_openings = 0\n",
    "for keys, values in month_dict.items():\n",
    "    if values > max_openings:\n",
    "        max_openings = values\n",
    "        max_openings_month = keys\n",
    "print(max_openings_month, max_openings)"
   ]
  },
  {
   "cell_type": "markdown",
   "id": "b6723c93",
   "metadata": {},
   "source": [
    "# Job Degree"
   ]
  },
  {
   "cell_type": "code",
   "execution_count": 111,
   "id": "f199d8a1",
   "metadata": {},
   "outputs": [
    {
     "name": "stdout",
     "output_type": "stream",
     "text": [
      "2961\n"
     ]
    }
   ],
   "source": [
    "import csv\n",
    "with open('amazon_jobs_dataset.csv', 'r', encoding=\"UTF-8\") as file:\n",
    "    csv_dict = csv.DictReader(file, skipinitialspace=True)\n",
    "    l = list(csv_dict)\n",
    "    count=0\n",
    "    for row in l:\n",
    "        key = row['BASIC QUALIFICATIONS']\n",
    "        if 'Bachelor' in key or 'BA' in key or 'BS' in key:\n",
    "            count+=1\n",
    "    print(count)"
   ]
  },
  {
   "cell_type": "markdown",
   "id": "22483968",
   "metadata": {},
   "source": [
    "# Job Language"
   ]
  },
  {
   "cell_type": "code",
   "execution_count": 128,
   "id": "3a4d2f96",
   "metadata": {},
   "outputs": [
    {
     "name": "stdout",
     "output_type": "stream",
     "text": [
      "Java 103\n"
     ]
    }
   ],
   "source": [
    "import csv\n",
    "with open('amazon_jobs_dataset.csv', 'r', encoding=\"UTF-8\") as file:\n",
    "    csv_dict = csv.DictReader(file, skipinitialspace=True)\n",
    "    l = list(csv_dict)\n",
    "    count={'Java':0, 'C++':0,'Python':0}\n",
    "    # In INDIA   \n",
    "    for row in l:\n",
    "        country = row['location'].split(',')[0]\n",
    "        if country == 'IN': \n",
    "            key = row['BASIC QUALIFICATIONS']\n",
    "            if ('Bachelor' in key or 'BA' in key or 'BS' in key) and 'Java' in key:\n",
    "                count['Java']+=1\n",
    "            if ('Bachelor' in key or 'BA' in key or 'BS' in key) and 'C++' in key:\n",
    "                count['C++']+=1\n",
    "            if ('Bachelor' in key or 'BA' in key or 'BS' in key) and 'Python' in key:\n",
    "                count['Python']+=1    \n",
    "    maximum=0\n",
    "    for keys, values in count.items():\n",
    "        if maximum < values:\n",
    "            maximum = values\n",
    "            ans = keys\n",
    "    print(ans, maximum)\n"
   ]
  },
  {
   "cell_type": "markdown",
   "id": "0b820cb7",
   "metadata": {},
   "source": [
    "# Job JAVA"
   ]
  },
  {
   "cell_type": "code",
   "execution_count": 136,
   "id": "e0d2c6a7",
   "metadata": {},
   "outputs": [
    {
     "name": "stdout",
     "output_type": "stream",
     "text": [
      "US 2009\n"
     ]
    }
   ],
   "source": [
    "import csv\n",
    "with open('amazon_jobs_dataset.csv', 'r', encoding=\"UTF-8\") as file:\n",
    "    csv_dict = csv.DictReader(file, skipinitialspace=True)\n",
    "    l = list(csv_dict)\n",
    "    country_job_count={}\n",
    "    for row in l:\n",
    "        key = row['BASIC QUALIFICATIONS']\n",
    "        if 'Java' in key:\n",
    "            country = row['location'].split(',')[0]\n",
    "            if country in country_job_count:\n",
    "                country_job_count[country]+=1\n",
    "            else:\n",
    "                country_job_count[country]=1\n",
    "            \n",
    "\n",
    "    maximum=0\n",
    "    for keys, values in country_job_count.items():\n",
    "        if maximum < values:\n",
    "            maximum = values\n",
    "            ans = keys\n",
    "    print(ans, maximum)"
   ]
  }
 ],
 "metadata": {
  "kernelspec": {
   "display_name": "Python 3.10.5 64-bit",
   "language": "python",
   "name": "python3"
  },
  "language_info": {
   "codemirror_mode": {
    "name": "ipython",
    "version": 3
   },
   "file_extension": ".py",
   "mimetype": "text/x-python",
   "name": "python",
   "nbconvert_exporter": "python",
   "pygments_lexer": "ipython3",
   "version": "3.10.5"
  },
  "vscode": {
   "interpreter": {
    "hash": "26de051ba29f2982a8de78e945f0abaf191376122a1563185a90213a26c5da77"
   }
  }
 },
 "nbformat": 4,
 "nbformat_minor": 5
}
