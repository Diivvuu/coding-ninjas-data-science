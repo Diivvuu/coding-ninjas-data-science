{
 "cells": [
  {
   "cell_type": "markdown",
   "metadata": {},
   "source": [
    "# Count of flower"
   ]
  },
  {
   "cell_type": "code",
   "execution_count": 1,
   "metadata": {},
   "outputs": [
    {
     "name": "stdout",
     "output_type": "stream",
     "text": [
      "50 50 50 "
     ]
    }
   ],
   "source": [
    "import pandas as pd\n",
    "iris = pd.read_csv(\"https://gist.githubusercontent.com/netj/8836201/raw/6f9306ad21398ea43cba4f7d537619d0e07d5ae3/iris.csv\")\n",
    "for i in iris['variety'].value_counts():\n",
    "    print(i, end = \" \")"
   ]
  },
  {
   "cell_type": "markdown",
   "metadata": {},
   "source": [
    "# Iris Virginica\n"
   ]
  },
  {
   "cell_type": "code",
   "execution_count": 8,
   "metadata": {},
   "outputs": [
    {
     "name": "stdout",
     "output_type": "stream",
     "text": [
      "6.3 3.3 6.0 2.5 Iris-virginica \n",
      "5.8 2.7 5.1 1.9 Iris-virginica \n",
      "7.1 3.0 5.9 2.1 Iris-virginica \n",
      "6.3 2.9 5.6 1.8 Iris-virginica \n",
      "6.5 3.0 5.8 2.2 Iris-virginica \n",
      "7.6 3.0 6.6 2.1 Iris-virginica \n",
      "4.9 2.5 4.5 1.7 Iris-virginica \n",
      "7.3 2.9 6.3 1.8 Iris-virginica \n",
      "6.7 2.5 5.8 1.8 Iris-virginica \n",
      "7.2 3.6 6.1 2.5 Iris-virginica \n",
      "6.5 3.2 5.1 2.0 Iris-virginica \n",
      "6.4 2.7 5.3 1.9 Iris-virginica \n",
      "6.8 3.0 5.5 2.1 Iris-virginica \n",
      "5.7 2.5 5.0 2.0 Iris-virginica \n",
      "5.8 2.8 5.1 2.4 Iris-virginica \n",
      "6.4 3.2 5.3 2.3 Iris-virginica \n",
      "6.5 3.0 5.5 1.8 Iris-virginica \n",
      "7.7 3.8 6.7 2.2 Iris-virginica \n",
      "7.7 2.6 6.9 2.3 Iris-virginica \n",
      "6.0 2.2 5.0 1.5 Iris-virginica \n",
      "6.9 3.2 5.7 2.3 Iris-virginica \n",
      "5.6 2.8 4.9 2.0 Iris-virginica \n",
      "7.7 2.8 6.7 2.0 Iris-virginica \n",
      "6.3 2.7 4.9 1.8 Iris-virginica \n",
      "6.7 3.3 5.7 2.1 Iris-virginica \n",
      "7.2 3.2 6.0 1.8 Iris-virginica \n",
      "6.2 2.8 4.8 1.8 Iris-virginica \n",
      "6.1 3.0 4.9 1.8 Iris-virginica \n",
      "6.4 2.8 5.6 2.1 Iris-virginica \n",
      "7.2 3.0 5.8 1.6 Iris-virginica \n",
      "7.4 2.8 6.1 1.9 Iris-virginica \n",
      "7.9 3.8 6.4 2.0 Iris-virginica \n",
      "6.4 2.8 5.6 2.2 Iris-virginica \n",
      "6.3 2.8 5.1 1.5 Iris-virginica \n",
      "6.1 2.6 5.6 1.4 Iris-virginica \n",
      "7.7 3.0 6.1 2.3 Iris-virginica \n",
      "6.3 3.4 5.6 2.4 Iris-virginica \n",
      "6.4 3.1 5.5 1.8 Iris-virginica \n",
      "6.0 3.0 4.8 1.8 Iris-virginica \n",
      "6.9 3.1 5.4 2.1 Iris-virginica \n",
      "6.7 3.1 5.6 2.4 Iris-virginica \n",
      "6.9 3.1 5.1 2.3 Iris-virginica \n",
      "5.8 2.7 5.1 1.9 Iris-virginica \n",
      "6.8 3.2 5.9 2.3 Iris-virginica \n",
      "6.7 3.3 5.7 2.5 Iris-virginica \n",
      "6.7 3.0 5.2 2.3 Iris-virginica \n",
      "6.3 2.5 5.0 1.9 Iris-virginica \n",
      "6.5 3.0 5.2 2.0 Iris-virginica \n",
      "6.2 3.4 5.4 2.3 Iris-virginica \n",
      "5.9 3.0 5.1 1.8 Iris-virginica \n"
     ]
    }
   ],
   "source": [
    "import pandas as pd\n",
    "column_name=['SeapalLength','SepalWidth','PetalLength','PetalWidth','Species']\n",
    "iris=pd.read_csv('https://archive.ics.uci.edu/ml/machine-learning-databases/iris/iris.data',names=column_name)\n",
    "iris.columns\n",
    "iris=iris[iris['Species']=='Iris-virginica']\n",
    "iris=iris[iris['PetalLength']>1.5]\n",
    "X=iris.values\n",
    "for i in range(iris.shape[0]):\n",
    "    for j in range(iris.shape[1]):\n",
    "        print(X[i][j],end=\" \")\n",
    "    print()"
   ]
  },
  {
   "cell_type": "markdown",
   "metadata": {},
   "source": [
    "# Iris Values"
   ]
  },
  {
   "cell_type": "code",
   "execution_count": 22,
   "metadata": {},
   "outputs": [
    {
     "name": "stdout",
     "output_type": "stream",
     "text": [
      "4.30 2.30 1.00 0.10 Iris-setosa\n",
      "5.80 4.40 1.90 0.60 Iris-setosa\n",
      "5.01 3.42 1.46 0.24 Iris-setosa\n",
      "4.90 2.00 3.00 1.00 Iris-versicolor\n",
      "7.00 3.40 5.10 1.80 Iris-versicolor\n",
      "5.94 2.77 4.26 1.33 Iris-versicolor\n",
      "4.90 2.20 4.50 1.40 Iris-virginica\n",
      "7.90 3.80 6.90 2.50 Iris-virginica\n",
      "6.59 2.97 5.55 2.03 Iris-virginica\n"
     ]
    }
   ],
   "source": [
    "import pandas as pd\n",
    "iris = pd.read_csv(\"https://archive.ics.uci.edu/ml/machine-learning-databases/iris/iris.data\", header=None)\n",
    "# print(iris[iris['variety'] == 'Iris-setosa'].describe())\n",
    "setosa = iris[iris[4] == 'Iris-setosa'].describe()\n",
    "versicolor = iris[iris[4] == 'Iris-versicolor'].describe()\n",
    "virginica = iris[iris[4] == 'Iris-virginica'].describe()\n",
    "for i in setosa.iloc[[3]].values[0]:\n",
    "    print(format(i, '.2f'), end = \" \")\n",
    "print('Iris-setosa')\n",
    "for i in setosa.iloc[[7]].values[0]:\n",
    "    print(format(i, '.2f'), end = \" \")\n",
    "print('Iris-setosa')\n",
    "for i in setosa.iloc[[1]].values[0]:\n",
    "    print(format(i, '.2f'), end = \" \")\n",
    "print('Iris-setosa')\n",
    "for i in versicolor.iloc[[3]].values[0]:\n",
    "    print(format(i, '.2f'), end = \" \")\n",
    "print('Iris-versicolor')\n",
    "for i in versicolor.iloc[[7]].values[0]:\n",
    "    print(format(i, '.2f'), end = \" \")\n",
    "print('Iris-versicolor')\n",
    "for i in versicolor.iloc[[1]].values[0]:\n",
    "    print(format(i, '.2f'), end = \" \")\n",
    "print('Iris-versicolor')\n",
    "for i in virginica.iloc[[3]].values[0]:\n",
    "    print(format(i, '.2f'), end = \" \")\n",
    "print('Iris-virginica')\n",
    "for i in virginica.iloc[[7]].values[0]:\n",
    "    print(format(i, '.2f'), end = \" \")\n",
    "print('Iris-virginica')\n",
    "for i in virginica.iloc[[1]].values[0]:\n",
    "    print(format(i, '.2f'), end = \" \")\n",
    "print('Iris-virginica')"
   ]
  },
  {
   "cell_type": "markdown",
   "metadata": {},
   "source": [
    "# Iris Attack city"
   ]
  },
  {
   "cell_type": "code",
   "execution_count": null,
   "metadata": {},
   "outputs": [],
   "source": []
  },
  {
   "cell_type": "code",
   "execution_count": 20,
   "metadata": {},
   "outputs": [
    {
     "name": "stdout",
     "output_type": "stream",
     "text": [
      "Srinagar 657 Muslim Separatists\n"
     ]
    }
   ],
   "source": [
    "import pandas as pd\n",
    "data = pd.read_csv(\"terrorismData.csv\")\n",
    "data = data[data['State'] == 'Jammu and Kashmir']\n",
    "City = data['City'].value_counts().index[0]\n",
    "attack = data['City'].value_counts().values[0]\n",
    "data = data[data['City'] == City]\n",
    "group = data['Group'].value_counts().index[1]\n",
    "print(City, attack, group)"
   ]
  },
  {
   "cell_type": "markdown",
   "metadata": {},
   "source": [
    "# Terror government"
   ]
  },
  {
   "cell_type": "code",
   "execution_count": 78,
   "metadata": {},
   "outputs": [
    {
     "name": "stdout",
     "output_type": "stream",
     "text": [
      "3336 Maoists\n"
     ]
    }
   ],
   "source": [
    "import pandas as pd\n",
    "data = pd.read_csv(\"terrorismData.csv\")\n",
    "a = data[data['Year'] == 2014]\n",
    "b = a[a['Day'] >= 26]\n",
    "c = b[b['Country'] == 'India']\n",
    "ans1 = c[c.Month == 5]\n",
    "d = data[data['Year'] == 2014]\n",
    "e = d[d['Month'] > 5]\n",
    "ans2 = e[e['Country'] == 'India']\n",
    "f = data[data['Year'] > 2014]\n",
    "ans3 = f[f['Country'] == 'India']\n",
    "count = ans1.shape[0] + ans2.shape[0] + ans3.shape[0]\n",
    "print(count, end=\" \")\n",
    "ans3 = ans3[ans3['Group'] != 'Unknown']\n",
    "print(ans3['Group'].value_counts().index[0])\n"
   ]
  },
  {
   "cell_type": "markdown",
   "metadata": {},
   "source": [
    "# Terror Frequency"
   ]
  },
  {
   "cell_type": "code",
   "execution_count": 47,
   "metadata": {},
   "outputs": [
    {
     "name": "stdout",
     "output_type": "stream",
     "text": [
      "115 261\n"
     ]
    },
    {
     "name": "stderr",
     "output_type": "stream",
     "text": [
      "C:\\Users\\WELCOME\\AppData\\Local\\Temp\\ipykernel_20692\\2599266094.py:6: UserWarning: Pandas doesn't allow columns to be created via a new attribute name - see https://pandas.pydata.org/pandas-docs/stable/indexing.html#attribute-access\n",
      "  jdata.Casualty = jdata.Killed + jdata.Wounded\n",
      "C:\\Users\\WELCOME\\AppData\\Local\\Temp\\ipykernel_20692\\2599266094.py:8: UserWarning: Pandas doesn't allow columns to be created via a new attribute name - see https://pandas.pydata.org/pandas-docs/stable/indexing.html#attribute-access\n",
      "  rdata.Casualty = rdata.Killed + rdata.Wounded\n"
     ]
    }
   ],
   "source": [
    "import pandas as pd\n",
    "import numpy as np\n",
    "data = pd.read_csv(\"terrorismData.csv\")\n",
    "year = len(set(data.Year))\n",
    "jdata = data[data.State == 'Jammu and Kashmir']\n",
    "jdata.Casualty = jdata.Killed + jdata.Wounded\n",
    "rdata = data[(data.State == 'Jharkhand') | (data.State == 'Odisha') | (data.State == 'Andhra Pradesh') | (data.State == 'Chhattisgarh')]\n",
    "rdata.Casualty = rdata.Killed + rdata.Wounded\n",
    "freq1 = int(np.sum(rdata.Casualty) // year)\n",
    "freq2 = int(np.sum(jdata.Casualty) // year)\n",
    "print(freq1, freq2)\n"
   ]
  },
  {
   "cell_type": "markdown",
   "metadata": {},
   "source": [
    "# Terror DeadliestAttack"
   ]
  },
  {
   "cell_type": "code",
   "execution_count": 78,
   "metadata": {},
   "outputs": [
    {
     "name": "stdout",
     "output_type": "stream",
     "text": [
      "1570 Iraq Islamic State of Iraq and the Levant (ISIL)\n"
     ]
    }
   ],
   "source": [
    "import pandas as pd\n",
    "data = pd.read_csv(\"terrorismData.csv\")\n",
    "f = data[data.Killed == data.Killed.max()]\n",
    "print(int(f.Killed), f.Country.iloc[0], f.Group.iloc[0])\n",
    "\n"
   ]
  },
  {
   "cell_type": "markdown",
   "metadata": {},
   "source": [
    "##### Alternate code"
   ]
  },
  {
   "cell_type": "code",
   "execution_count": 77,
   "metadata": {},
   "outputs": [
    {
     "name": "stdout",
     "output_type": "stream",
     "text": [
      "1570 Iraq Islamic State of Iraq and the Levant (ISIL)\n"
     ]
    }
   ],
   "source": [
    "import pandas as pd\n",
    "data = pd.read_csv(\"terrorismData.csv\")\n",
    "max_Killed = data.Killed.max()\n",
    "Country = data[data.Killed == max_Killed].Country.values[0]\n",
    "group = data[data.Killed == max_Killed].Group.values[0]\n",
    "print(int(max_Killed), Country, group)"
   ]
  },
  {
   "cell_type": "markdown",
   "metadata": {},
   "source": [
    "# Terror Attack"
   ]
  },
  {
   "cell_type": "code",
   "execution_count": 99,
   "metadata": {},
   "outputs": [
    {
     "name": "stdout",
     "output_type": "stream",
     "text": [
      "Iraq 24636 2014\n"
     ]
    }
   ],
   "source": [
    "import pandas as pd\n",
    "data = pd.read_csv(\"terrorismData.csv\")\n",
    "Country = data.Country.describe().top\n",
    "attacks = data.Country.describe().freq\n",
    "data = data[data.Country == Country]\n",
    "year = data.Year.value_counts().index[0]\n",
    "print(Country, attacks, year)\n"
   ]
  },
  {
   "cell_type": "code",
   "execution_count": null,
   "metadata": {},
   "outputs": [],
   "source": []
  }
 ],
 "metadata": {
  "kernelspec": {
   "display_name": "Python 3.10.5 64-bit",
   "language": "python",
   "name": "python3"
  },
  "language_info": {
   "codemirror_mode": {
    "name": "ipython",
    "version": 3
   },
   "file_extension": ".py",
   "mimetype": "text/x-python",
   "name": "python",
   "nbconvert_exporter": "python",
   "pygments_lexer": "ipython3",
   "version": "3.10.5"
  },
  "orig_nbformat": 4,
  "vscode": {
   "interpreter": {
    "hash": "26de051ba29f2982a8de78e945f0abaf191376122a1563185a90213a26c5da77"
   }
  }
 },
 "nbformat": 4,
 "nbformat_minor": 2
}
