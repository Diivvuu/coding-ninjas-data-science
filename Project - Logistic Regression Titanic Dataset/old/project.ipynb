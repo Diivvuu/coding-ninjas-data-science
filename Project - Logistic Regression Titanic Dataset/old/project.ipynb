{
 "cells": [
  {
   "cell_type": "code",
   "execution_count": 19,
   "metadata": {},
   "outputs": [],
   "source": [
    "import pandas as pd\n",
    "from sklearn import model_selection\n",
    "import numpy as np\n",
    "from sklearn.linear_model import LogisticRegression"
   ]
  },
  {
   "cell_type": "code",
   "execution_count": 20,
   "metadata": {},
   "outputs": [],
   "source": [
    "training = pd.read_csv(\"train.csv\")\n",
    "testing = pd.read_csv(\"test.csv\")"
   ]
  },
  {
   "cell_type": "code",
   "execution_count": 21,
   "metadata": {},
   "outputs": [
    {
     "data": {
      "text/plain": [
       "1601                6\n",
       "347082              6\n",
       "3101295             6\n",
       "CA. 2343            5\n",
       "S.O.C. 14879        5\n",
       "                   ..\n",
       "368323              1\n",
       "364512              1\n",
       "347466              1\n",
       "STON/O2. 3101271    1\n",
       "367230              1\n",
       "Name: Ticket, Length: 524, dtype: int64"
      ]
     },
     "execution_count": 21,
     "metadata": {},
     "output_type": "execute_result"
    }
   ],
   "source": [
    "training['Ticket'].value_counts()"
   ]
  },
  {
   "cell_type": "code",
   "execution_count": 22,
   "metadata": {},
   "outputs": [
    {
     "data": {
      "text/plain": [
       "array([3, 2, 2, 3, 2, 2, 3, 2, 2, 2, 1, 2, 2, 2, 1, 2, 2, 2, 2, 1, 4, 3,\n",
       "       3, 2, 3, 1, 2, 2, 2, 2, 3, 2, 2, 1, 4, 2, 0, 0, 2, 2, 2, 2, 3, 1,\n",
       "       2, 2, 2, 2, 3, 2, 1, 0, 2, 3, 2, 1, 2, 2, 2, 3, 2, 2, 2, 3, 1, 3,\n",
       "       2, 2, 2, 2, 3, 2, 2, 2, 2, 1, 1, 4, 3, 3, 3, 2, 3, 2, 1, 2, 2, 2,\n",
       "       2, 2, 3, 3, 1, 2, 2, 2, 1, 2, 2, 1, 2, 2, 2, 2, 1, 2, 2, 2, 1, 2,\n",
       "       1, 3, 2, 1, 2, 2, 2, 2, 1, 1, 3, 4, 1, 1, 1, 2, 2, 2, 2, 3, 2, 1,\n",
       "       2, 2, 2, 3, 2, 2, 2, 4, 2, 3, 2, 2, 2, 2, 3, 2, 1, 1, 3, 2, 3, 1,\n",
       "       3, 2, 3, 2, 1, 3, 3, 1, 2, 2, 2, 4, 2, 2, 2, 0, 2, 4, 3, 2, 4, 1,\n",
       "       3, 2, 2, 2, 2, 1, 3, 2, 3, 0, 2, 1, 3, 2, 2, 1, 1, 2, 2, 2, 2, 2,\n",
       "       2, 2, 1, 4, 1, 2, 1, 2, 3, 2, 2, 0, 3, 3, 1, 2, 1, 2, 2, 0, 1, 1,\n",
       "       1, 2, 3, 2, 2, 2, 3, 2, 3, 2, 2, 0, 3, 2, 2, 2, 2, 3, 2, 1, 2, 2,\n",
       "       2, 3, 2, 2, 1, 3, 1, 2, 2, 2, 1, 2, 2, 1, 2, 2, 2, 2, 3, 2, 2, 4,\n",
       "       2, 2, 3, 2, 2, 2, 0, 0, 2, 3, 1, 2, 2, 0, 2, 2, 2, 3, 1, 2, 2, 1,\n",
       "       1, 2, 2, 2, 1, 2, 2, 1, 3, 1, 0, 2, 2, 1, 2, 2, 0, 3, 2, 2, 2, 3,\n",
       "       2, 1, 1, 2, 3, 2, 2, 2, 3, 2, 2, 2, 3, 2, 2, 0, 1, 2, 1, 3, 2, 3,\n",
       "       3, 2, 4, 2, 1, 3, 1, 2, 2, 2, 2, 1, 2, 2, 4, 3, 1, 1, 2, 1, 2, 2,\n",
       "       2, 2, 1, 2, 2, 2, 3, 2, 1, 2, 2, 2, 2, 2, 2, 2, 2, 2, 2, 2, 2, 2,\n",
       "       2, 2, 1, 3, 3, 2, 2, 2, 2, 1, 2, 2, 1, 1, 1, 2, 1, 4, 1, 2, 2, 2,\n",
       "       2, 1, 2, 3, 2, 0, 2, 2, 1, 1, 4, 1, 0, 3, 2, 2, 3, 2, 0, 1, 0, 3,\n",
       "       2, 1, 2, 2, 2, 2, 2, 2, 3, 2, 3, 3, 2, 2, 3, 2, 1, 2, 0, 3, 1, 3,\n",
       "       2, 2, 1, 2, 2, 3, 2, 2, 1, 1, 3, 1, 1, 2, 2, 3, 3, 2, 0, 2, 2, 2,\n",
       "       3, 1, 2, 2, 1, 2, 2, 0, 2, 1, 2, 2, 2, 2, 2, 2, 2, 2, 3, 2, 2, 2,\n",
       "       2, 2, 2, 2, 3, 0, 2, 2, 1, 2, 2, 2, 3, 0, 2, 2, 2, 2, 2, 2, 2, 2,\n",
       "       3, 2, 2, 2, 2, 2, 1, 1, 1, 2, 2, 2, 2, 2, 2, 2, 2, 2, 2, 3, 2, 3,\n",
       "       1, 3, 0, 2, 3, 2, 1, 1, 2, 1, 2, 2, 3, 2, 3, 2, 2, 0, 2, 1, 1, 2,\n",
       "       2, 0, 2, 1, 3, 2, 1, 2, 3, 2, 2, 1, 2, 1, 2, 2, 3, 1, 2, 2, 2, 1,\n",
       "       1, 2, 2, 2, 2, 1, 1, 3, 2, 2, 1, 2, 2, 1, 1, 1, 2, 0, 1, 3, 3, 1,\n",
       "       2, 2, 2, 3, 4, 2, 2, 2, 2, 1, 2, 2, 1, 2, 1, 3, 2, 2, 2, 2, 3, 2,\n",
       "       0, 2, 1, 2, 1, 2, 3, 3, 2, 4, 1, 1, 2, 2, 2, 2, 2, 2, 2, 1, 2, 1,\n",
       "       2, 3, 1, 2, 2, 2, 2, 0, 1, 2, 4, 2, 2, 2, 3, 3, 2, 2, 2, 2, 3, 2,\n",
       "       0, 3, 2, 1, 2, 2, 1, 1])"
      ]
     },
     "execution_count": 22,
     "metadata": {},
     "output_type": "execute_result"
    }
   ],
   "source": [
    "title_training = []\n",
    "for i in training['Name']:\n",
    "    title_training.append(i.split(',')[1].split('.')[0].strip())\n",
    "title_training = np.array(title_training)\n",
    "title_training[title_training == 'Master']=0\n",
    "title_training[title_training == 'Miss']=1\n",
    "title_training[title_training == 'Mr']=2\n",
    "title_training[title_training == 'Mrs']=3\n",
    "title_training[(title_training!='0')&(title_training!='1')&(title_training!='2')&(title_training!='3')]=4\n",
    "title_training=np.array(title_training, dtype = 'int')\n",
    "title_training"
   ]
  },
  {
   "cell_type": "code",
   "execution_count": 23,
   "metadata": {},
   "outputs": [
    {
     "data": {
      "text/html": [
       "<div>\n",
       "<style scoped>\n",
       "    .dataframe tbody tr th:only-of-type {\n",
       "        vertical-align: middle;\n",
       "    }\n",
       "\n",
       "    .dataframe tbody tr th {\n",
       "        vertical-align: top;\n",
       "    }\n",
       "\n",
       "    .dataframe thead th {\n",
       "        text-align: right;\n",
       "    }\n",
       "</style>\n",
       "<table border=\"1\" class=\"dataframe\">\n",
       "  <thead>\n",
       "    <tr style=\"text-align: right;\">\n",
       "      <th></th>\n",
       "      <th>Pclass</th>\n",
       "      <th>Name</th>\n",
       "      <th>Sex</th>\n",
       "      <th>Age</th>\n",
       "      <th>SibSp</th>\n",
       "      <th>Parch</th>\n",
       "      <th>Ticket</th>\n",
       "      <th>Fare</th>\n",
       "      <th>Cabin</th>\n",
       "      <th>Embarked</th>\n",
       "    </tr>\n",
       "  </thead>\n",
       "  <tbody>\n",
       "    <tr>\n",
       "      <th>0</th>\n",
       "      <td>2</td>\n",
       "      <td>Davies, Master. John Morgan Jr</td>\n",
       "      <td>male</td>\n",
       "      <td>8.0</td>\n",
       "      <td>1</td>\n",
       "      <td>1</td>\n",
       "      <td>C.A. 33112</td>\n",
       "      <td>36.7500</td>\n",
       "      <td>NaN</td>\n",
       "      <td>S</td>\n",
       "    </tr>\n",
       "    <tr>\n",
       "      <th>1</th>\n",
       "      <td>1</td>\n",
       "      <td>Leader, Dr. Alice (Farnham)</td>\n",
       "      <td>female</td>\n",
       "      <td>49.0</td>\n",
       "      <td>0</td>\n",
       "      <td>0</td>\n",
       "      <td>17465</td>\n",
       "      <td>25.9292</td>\n",
       "      <td>D17</td>\n",
       "      <td>S</td>\n",
       "    </tr>\n",
       "    <tr>\n",
       "      <th>2</th>\n",
       "      <td>3</td>\n",
       "      <td>Kilgannon, Mr. Thomas J</td>\n",
       "      <td>male</td>\n",
       "      <td>NaN</td>\n",
       "      <td>0</td>\n",
       "      <td>0</td>\n",
       "      <td>36865</td>\n",
       "      <td>7.7375</td>\n",
       "      <td>NaN</td>\n",
       "      <td>Q</td>\n",
       "    </tr>\n",
       "    <tr>\n",
       "      <th>3</th>\n",
       "      <td>2</td>\n",
       "      <td>Jacobsohn, Mrs. Sidney Samuel (Amy Frances Chr...</td>\n",
       "      <td>female</td>\n",
       "      <td>24.0</td>\n",
       "      <td>2</td>\n",
       "      <td>1</td>\n",
       "      <td>243847</td>\n",
       "      <td>27.0000</td>\n",
       "      <td>NaN</td>\n",
       "      <td>S</td>\n",
       "    </tr>\n",
       "    <tr>\n",
       "      <th>4</th>\n",
       "      <td>1</td>\n",
       "      <td>McGough, Mr. James Robert</td>\n",
       "      <td>male</td>\n",
       "      <td>36.0</td>\n",
       "      <td>0</td>\n",
       "      <td>0</td>\n",
       "      <td>PC 17473</td>\n",
       "      <td>26.2875</td>\n",
       "      <td>E25</td>\n",
       "      <td>S</td>\n",
       "    </tr>\n",
       "    <tr>\n",
       "      <th>...</th>\n",
       "      <td>...</td>\n",
       "      <td>...</td>\n",
       "      <td>...</td>\n",
       "      <td>...</td>\n",
       "      <td>...</td>\n",
       "      <td>...</td>\n",
       "      <td>...</td>\n",
       "      <td>...</td>\n",
       "      <td>...</td>\n",
       "      <td>...</td>\n",
       "    </tr>\n",
       "    <tr>\n",
       "      <th>218</th>\n",
       "      <td>3</td>\n",
       "      <td>Lindqvist, Mr. Eino William</td>\n",
       "      <td>male</td>\n",
       "      <td>20.0</td>\n",
       "      <td>1</td>\n",
       "      <td>0</td>\n",
       "      <td>STON/O 2. 3101285</td>\n",
       "      <td>7.9250</td>\n",
       "      <td>NaN</td>\n",
       "      <td>S</td>\n",
       "    </tr>\n",
       "    <tr>\n",
       "      <th>219</th>\n",
       "      <td>1</td>\n",
       "      <td>Butt, Major. Archibald Willingham</td>\n",
       "      <td>male</td>\n",
       "      <td>45.0</td>\n",
       "      <td>0</td>\n",
       "      <td>0</td>\n",
       "      <td>113050</td>\n",
       "      <td>26.5500</td>\n",
       "      <td>B38</td>\n",
       "      <td>S</td>\n",
       "    </tr>\n",
       "    <tr>\n",
       "      <th>220</th>\n",
       "      <td>1</td>\n",
       "      <td>Penasco y Castellana, Mrs. Victor de Satode (M...</td>\n",
       "      <td>female</td>\n",
       "      <td>17.0</td>\n",
       "      <td>1</td>\n",
       "      <td>0</td>\n",
       "      <td>PC 17758</td>\n",
       "      <td>108.9000</td>\n",
       "      <td>C65</td>\n",
       "      <td>C</td>\n",
       "    </tr>\n",
       "    <tr>\n",
       "      <th>221</th>\n",
       "      <td>3</td>\n",
       "      <td>Holm, Mr. John Fredrik Alexander</td>\n",
       "      <td>male</td>\n",
       "      <td>43.0</td>\n",
       "      <td>0</td>\n",
       "      <td>0</td>\n",
       "      <td>C 7075</td>\n",
       "      <td>6.4500</td>\n",
       "      <td>NaN</td>\n",
       "      <td>S</td>\n",
       "    </tr>\n",
       "    <tr>\n",
       "      <th>222</th>\n",
       "      <td>2</td>\n",
       "      <td>Navratil, Mr. Michel (\"Louis M Hoffman\")</td>\n",
       "      <td>male</td>\n",
       "      <td>36.5</td>\n",
       "      <td>0</td>\n",
       "      <td>2</td>\n",
       "      <td>230080</td>\n",
       "      <td>26.0000</td>\n",
       "      <td>F2</td>\n",
       "      <td>S</td>\n",
       "    </tr>\n",
       "  </tbody>\n",
       "</table>\n",
       "<p>223 rows × 10 columns</p>\n",
       "</div>"
      ],
      "text/plain": [
       "     Pclass                                               Name     Sex   Age  \\\n",
       "0         2                     Davies, Master. John Morgan Jr    male   8.0   \n",
       "1         1                        Leader, Dr. Alice (Farnham)  female  49.0   \n",
       "2         3                            Kilgannon, Mr. Thomas J    male   NaN   \n",
       "3         2  Jacobsohn, Mrs. Sidney Samuel (Amy Frances Chr...  female  24.0   \n",
       "4         1                          McGough, Mr. James Robert    male  36.0   \n",
       "..      ...                                                ...     ...   ...   \n",
       "218       3                        Lindqvist, Mr. Eino William    male  20.0   \n",
       "219       1                  Butt, Major. Archibald Willingham    male  45.0   \n",
       "220       1  Penasco y Castellana, Mrs. Victor de Satode (M...  female  17.0   \n",
       "221       3                   Holm, Mr. John Fredrik Alexander    male  43.0   \n",
       "222       2           Navratil, Mr. Michel (\"Louis M Hoffman\")    male  36.5   \n",
       "\n",
       "     SibSp  Parch             Ticket      Fare Cabin Embarked  \n",
       "0        1      1         C.A. 33112   36.7500   NaN        S  \n",
       "1        0      0              17465   25.9292   D17        S  \n",
       "2        0      0              36865    7.7375   NaN        Q  \n",
       "3        2      1             243847   27.0000   NaN        S  \n",
       "4        0      0           PC 17473   26.2875   E25        S  \n",
       "..     ...    ...                ...       ...   ...      ...  \n",
       "218      1      0  STON/O 2. 3101285    7.9250   NaN        S  \n",
       "219      0      0             113050   26.5500   B38        S  \n",
       "220      1      0           PC 17758  108.9000   C65        C  \n",
       "221      0      0             C 7075    6.4500   NaN        S  \n",
       "222      0      2             230080   26.0000    F2        S  \n",
       "\n",
       "[223 rows x 10 columns]"
      ]
     },
     "execution_count": 23,
     "metadata": {},
     "output_type": "execute_result"
    }
   ],
   "source": [
    "testing"
   ]
  },
  {
   "cell_type": "code",
   "execution_count": 24,
   "metadata": {},
   "outputs": [
    {
     "data": {
      "text/plain": [
       "array([0, 4, 2, 3, 2, 2, 2, 2, 1, 2, 1, 2, 1, 1, 2, 2, 2, 0, 2, 1, 1, 2,\n",
       "       1, 1, 2, 2, 2, 2, 1, 1, 2, 2, 2, 2, 2, 3, 1, 2, 2, 2, 1, 2, 4, 2,\n",
       "       1, 0, 2, 1, 2, 2, 2, 1, 3, 1, 2, 2, 0, 2, 2, 2, 2, 4, 3, 1, 3, 2,\n",
       "       2, 4, 1, 4, 2, 2, 2, 2, 2, 3, 1, 2, 2, 2, 2, 2, 2, 2, 2, 2, 2, 1,\n",
       "       2, 2, 1, 2, 2, 1, 2, 2, 2, 2, 0, 1, 1, 2, 1, 0, 1, 1, 4, 4, 2, 2,\n",
       "       2, 3, 3, 2, 3, 2, 2, 1, 2, 2, 2, 2, 2, 2, 2, 0, 0, 2, 2, 2, 2, 2,\n",
       "       2, 2, 2, 2, 1, 2, 1, 2, 2, 2, 2, 2, 2, 2, 2, 2, 1, 3, 1, 2, 1, 2,\n",
       "       1, 2, 2, 1, 2, 0, 2, 1, 3, 1, 1, 2, 2, 2, 3, 1, 3, 1, 1, 2, 1, 2,\n",
       "       2, 2, 2, 1, 2, 2, 0, 1, 3, 2, 3, 2, 1, 2, 2, 2, 3, 2, 2, 1, 1, 1,\n",
       "       3, 4, 2, 4, 2, 2, 2, 2, 2, 2, 3, 1, 2, 1, 2, 2, 1, 1, 2, 2, 2, 4,\n",
       "       3, 2, 2])"
      ]
     },
     "execution_count": 24,
     "metadata": {},
     "output_type": "execute_result"
    }
   ],
   "source": [
    "title_testing = []\n",
    "for i in testing['Name']:\n",
    "    title_testing.append(i.split(',')[1].split('.')[0].strip())\n",
    "title_testing = np.array(title_testing)\n",
    "title_testing[title_testing == 'Master'] = 0\n",
    "title_testing[title_testing == 'Miss'] = 1\n",
    "title_testing[title_testing == 'Mr'] = 2\n",
    "title_testing[title_testing == 'Mrs'] = 3\n",
    "title_testing[(title_testing != '0') & (title_testing != '1') & (title_testing != '2') & (title_testing != '3')]=4\n",
    "title_testing = np.array(title_testing, dtype='int')\n",
    "title_testing"
   ]
  },
  {
   "cell_type": "code",
   "execution_count": 35,
   "metadata": {},
   "outputs": [
    {
     "data": {
      "text/plain": [
       "(668, 9)"
      ]
     },
     "execution_count": 35,
     "metadata": {},
     "output_type": "execute_result"
    }
   ],
   "source": [
    "tr = training \n",
    "tr = tr.drop('Name', axis=1)\n",
    "tr.loc[tr['Sex'] == 'female', 'Sex']=0\n",
    "tr.loc[tr['Sex'] == 'male', 'Sex'] = 1\n",
    "tr.loc[tr['Age'].isnull(), 'Age']=tr.loc[tr['Age'].notnull(), 'Age'].median()\n",
    "tr.loc[tr['Embarked'].isnull(), 'Embarked']='S'\n",
    "tr.loc[tr['Embarked'] == 'S', 'Embarked'] = 1\n",
    "tr.loc[tr['Embarked'] == 'C', 'Embarked'] = 2\n",
    "tr.loc[tr['Embarked'] == 'Q', 'Embarked'] = 3\n",
    "tr.loc[tr['Cabin'].isnull(), 'Cabin'] = 0\n",
    "tr.loc[tr['Cabin'] != 0, 'Cabin'] = 1\n",
    "tr = tr.drop('Ticket', axis = 1)\n",
    "training_data = tr.values\n",
    "x = training_data[:, :-1]\n",
    "y = training_data[:, -1]\n",
    "x = x.astype('int')\n",
    "y = y.astype('int')\n",
    "x = np.append(x, title_training.reshape(-1, 1), axis=1)\n",
    "x.shape"
   ]
  },
  {
   "cell_type": "code",
   "execution_count": 36,
   "metadata": {},
   "outputs": [
    {
     "data": {
      "text/plain": [
       "(223, 9)"
      ]
     },
     "execution_count": 36,
     "metadata": {},
     "output_type": "execute_result"
    }
   ],
   "source": [
    "ts = testing\n",
    "ts = ts.drop('Name', axis=1)\n",
    "ts.loc[ts['Sex'] == 'female', 'Sex'] = 0\n",
    "ts.loc[ts['Sex'] == 'male', 'Sex'] = 1\n",
    "ts.loc[ts['Age'].isnull(), 'Age'] = ts.loc[ts['Age'].notnull(), 'Age'].median()\n",
    "ts.loc[ts['Embarked'].isnull(), 'Embarked'] = 'S'\n",
    "ts.loc[ts['Embarked'] == 'S', 'Embarked'] = 1\n",
    "ts.loc[ts['Embarked'] == 'C', 'Embarked'] = 2\n",
    "ts.loc[ts['Embarked'] == 'Q', 'Embarked'] = 3\n",
    "ts.loc[ts['Cabin'].isnull(), 'Cabin'] = 0\n",
    "ts.loc[ts['Cabin']!=0, 'Cabin'] = 1\n",
    "ts = ts.drop('Ticket', axis = 1)\n",
    "testing_data = ts.values\n",
    "testing_data = np.append(testing_data, title_testing.reshape(-1, 1), axis = 1)\n",
    "testing_data.shape\n"
   ]
  },
  {
   "cell_type": "code",
   "execution_count": 37,
   "metadata": {},
   "outputs": [
    {
     "data": {
      "text/plain": [
       "array([[2, 1, 8.0, ..., 0, 1, 0],\n",
       "       [1, 0, 49.0, ..., 1, 1, 4],\n",
       "       [3, 1, 27.0, ..., 0, 3, 2],\n",
       "       ...,\n",
       "       [1, 0, 17.0, ..., 1, 2, 3],\n",
       "       [3, 1, 43.0, ..., 0, 1, 2],\n",
       "       [2, 1, 36.5, ..., 1, 1, 2]], dtype=object)"
      ]
     },
     "execution_count": 37,
     "metadata": {},
     "output_type": "execute_result"
    }
   ],
   "source": [
    "testing_data"
   ]
  },
  {
   "cell_type": "code",
   "execution_count": 38,
   "metadata": {},
   "outputs": [
    {
     "data": {
      "text/plain": [
       "array([[2, 0, 29.0, ..., 0, 1, 1],\n",
       "       [3, 1, 29.0, ..., 0, 1, 0],\n",
       "       [2, 1, 39.0, ..., 0, 1, 0],\n",
       "       ...,\n",
       "       [3, 1, 32.0, ..., 0, 1, 1],\n",
       "       [3, 0, 22.0, ..., 0, 1, 0],\n",
       "       [3, 0, 29.0, ..., 0, 3, 1]], dtype=object)"
      ]
     },
     "execution_count": 38,
     "metadata": {},
     "output_type": "execute_result"
    }
   ],
   "source": [
    "training_data"
   ]
  },
  {
   "cell_type": "code",
   "execution_count": 39,
   "metadata": {},
   "outputs": [
    {
     "data": {
      "text/html": [
       "<style>#sk-container-id-1 {color: black;background-color: white;}#sk-container-id-1 pre{padding: 0;}#sk-container-id-1 div.sk-toggleable {background-color: white;}#sk-container-id-1 label.sk-toggleable__label {cursor: pointer;display: block;width: 100%;margin-bottom: 0;padding: 0.3em;box-sizing: border-box;text-align: center;}#sk-container-id-1 label.sk-toggleable__label-arrow:before {content: \"▸\";float: left;margin-right: 0.25em;color: #696969;}#sk-container-id-1 label.sk-toggleable__label-arrow:hover:before {color: black;}#sk-container-id-1 div.sk-estimator:hover label.sk-toggleable__label-arrow:before {color: black;}#sk-container-id-1 div.sk-toggleable__content {max-height: 0;max-width: 0;overflow: hidden;text-align: left;background-color: #f0f8ff;}#sk-container-id-1 div.sk-toggleable__content pre {margin: 0.2em;color: black;border-radius: 0.25em;background-color: #f0f8ff;}#sk-container-id-1 input.sk-toggleable__control:checked~div.sk-toggleable__content {max-height: 200px;max-width: 100%;overflow: auto;}#sk-container-id-1 input.sk-toggleable__control:checked~label.sk-toggleable__label-arrow:before {content: \"▾\";}#sk-container-id-1 div.sk-estimator input.sk-toggleable__control:checked~label.sk-toggleable__label {background-color: #d4ebff;}#sk-container-id-1 div.sk-label input.sk-toggleable__control:checked~label.sk-toggleable__label {background-color: #d4ebff;}#sk-container-id-1 input.sk-hidden--visually {border: 0;clip: rect(1px 1px 1px 1px);clip: rect(1px, 1px, 1px, 1px);height: 1px;margin: -1px;overflow: hidden;padding: 0;position: absolute;width: 1px;}#sk-container-id-1 div.sk-estimator {font-family: monospace;background-color: #f0f8ff;border: 1px dotted black;border-radius: 0.25em;box-sizing: border-box;margin-bottom: 0.5em;}#sk-container-id-1 div.sk-estimator:hover {background-color: #d4ebff;}#sk-container-id-1 div.sk-parallel-item::after {content: \"\";width: 100%;border-bottom: 1px solid gray;flex-grow: 1;}#sk-container-id-1 div.sk-label:hover label.sk-toggleable__label {background-color: #d4ebff;}#sk-container-id-1 div.sk-serial::before {content: \"\";position: absolute;border-left: 1px solid gray;box-sizing: border-box;top: 0;bottom: 0;left: 50%;z-index: 0;}#sk-container-id-1 div.sk-serial {display: flex;flex-direction: column;align-items: center;background-color: white;padding-right: 0.2em;padding-left: 0.2em;position: relative;}#sk-container-id-1 div.sk-item {position: relative;z-index: 1;}#sk-container-id-1 div.sk-parallel {display: flex;align-items: stretch;justify-content: center;background-color: white;position: relative;}#sk-container-id-1 div.sk-item::before, #sk-container-id-1 div.sk-parallel-item::before {content: \"\";position: absolute;border-left: 1px solid gray;box-sizing: border-box;top: 0;bottom: 0;left: 50%;z-index: -1;}#sk-container-id-1 div.sk-parallel-item {display: flex;flex-direction: column;z-index: 1;position: relative;background-color: white;}#sk-container-id-1 div.sk-parallel-item:first-child::after {align-self: flex-end;width: 50%;}#sk-container-id-1 div.sk-parallel-item:last-child::after {align-self: flex-start;width: 50%;}#sk-container-id-1 div.sk-parallel-item:only-child::after {width: 0;}#sk-container-id-1 div.sk-dashed-wrapped {border: 1px dashed gray;margin: 0 0.4em 0.5em 0.4em;box-sizing: border-box;padding-bottom: 0.4em;background-color: white;}#sk-container-id-1 div.sk-label label {font-family: monospace;font-weight: bold;display: inline-block;line-height: 1.2em;}#sk-container-id-1 div.sk-label-container {text-align: center;}#sk-container-id-1 div.sk-container {/* jupyter's `normalize.less` sets `[hidden] { display: none; }` but bootstrap.min.css set `[hidden] { display: none !important; }` so we also need the `!important` here to be able to override the default hidden behavior on the sphinx rendered scikit-learn.org. See: https://github.com/scikit-learn/scikit-learn/issues/21755 */display: inline-block !important;position: relative;}#sk-container-id-1 div.sk-text-repr-fallback {display: none;}</style><div id=\"sk-container-id-1\" class=\"sk-top-container\"><div class=\"sk-text-repr-fallback\"><pre>LogisticRegression(max_iter=100000, solver=&#x27;saga&#x27;, tol=1e-05)</pre><b>In a Jupyter environment, please rerun this cell to show the HTML representation or trust the notebook. <br />On GitHub, the HTML representation is unable to render, please try loading this page with nbviewer.org.</b></div><div class=\"sk-container\" hidden><div class=\"sk-item\"><div class=\"sk-estimator sk-toggleable\"><input class=\"sk-toggleable__control sk-hidden--visually\" id=\"sk-estimator-id-1\" type=\"checkbox\" checked><label for=\"sk-estimator-id-1\" class=\"sk-toggleable__label sk-toggleable__label-arrow\">LogisticRegression</label><div class=\"sk-toggleable__content\"><pre>LogisticRegression(max_iter=100000, solver=&#x27;saga&#x27;, tol=1e-05)</pre></div></div></div></div></div>"
      ],
      "text/plain": [
       "LogisticRegression(max_iter=100000, solver='saga', tol=1e-05)"
      ]
     },
     "execution_count": 39,
     "metadata": {},
     "output_type": "execute_result"
    }
   ],
   "source": [
    "clf = LogisticRegression(solver = 'saga', max_iter = 100000, tol = 0.00001)\n",
    "clf.fit(x, y)"
   ]
  },
  {
   "cell_type": "code",
   "execution_count": 40,
   "metadata": {},
   "outputs": [],
   "source": [
    "predicted = clf.predict(testing_data)"
   ]
  },
  {
   "cell_type": "code",
   "execution_count": 41,
   "metadata": {},
   "outputs": [],
   "source": [
    "np.savetxt(X=predicted, delimiter=',', fname = 'titanic predicted.csv', fmt = '%.0f')"
   ]
  },
  {
   "cell_type": "code",
   "execution_count": null,
   "metadata": {},
   "outputs": [],
   "source": []
  }
 ],
 "metadata": {
  "kernelspec": {
   "display_name": "Python 3",
   "language": "python",
   "name": "python3"
  },
  "language_info": {
   "codemirror_mode": {
    "name": "ipython",
    "version": 3
   },
   "file_extension": ".py",
   "mimetype": "text/x-python",
   "name": "python",
   "nbconvert_exporter": "python",
   "pygments_lexer": "ipython3",
   "version": "3.10.5"
  },
  "orig_nbformat": 4
 },
 "nbformat": 4,
 "nbformat_minor": 2
}
