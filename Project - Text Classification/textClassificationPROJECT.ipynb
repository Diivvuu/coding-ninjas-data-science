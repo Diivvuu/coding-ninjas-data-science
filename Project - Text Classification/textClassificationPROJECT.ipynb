{
 "cells": [
  {
   "cell_type": "markdown",
   "metadata": {},
   "source": [
    "Project - Text Classification\n",
    "\n",
    "<ul>\n",
    "    <li> I have imported the stopwords from ntlk and copied more of them from the internet\n",
    "    <li>Instead of manually downloading the data from the internet, I have downloaded it using sklearn.datasets.fetch_20newsgroups\n",
    "    <li> Insteadof split() function, I am using the tokenizer which makes the job much easier\n",
    "</ul>"
   ]
  },
  {
   "cell_type": "code",
   "execution_count": 1,
   "metadata": {},
   "outputs": [],
   "source": [
    "from sklearn.datasets import fetch_20newsgroups\n",
    "import string\n",
    "from nltk.corpus import stopwords\n",
    "from nltk.tokenize import word_tokenize\n",
    "from sklearn.model_selection import train_test_split\n",
    "import numpy as np\n",
    "from sklearn.naive_bayes import MultinomialNB"
   ]
  },
  {
   "cell_type": "code",
   "execution_count": 2,
   "metadata": {},
   "outputs": [
    {
     "data": {
      "text/plain": [
       "dict_keys(['data', 'filenames', 'target_names', 'target', 'DESCR'])"
      ]
     },
     "execution_count": 2,
     "metadata": {},
     "output_type": "execute_result"
    }
   ],
   "source": [
    "newsgroups = fetch_20newsgroups()\n",
    "# instead of link, fetched data through sklearn itself to reduce the unnecessary work\n",
    "stops = set(stopwords.words('english'))\n",
    "# words which we don't want to include in our vocabulary\n",
    "punctuations = list(string.punctuation)\n",
    "#punctuations marks also should be removed from our vocabulary\n",
    "stops.update(punctuations)\n",
    "# we created the set of stopwords named stops and now updated it with the punctuation marks\n",
    "newsgroups.keys()\n",
    "# now every unnecessary word and punctuation mark is in our set \"stops\"\n",
    "# let's check what keys do we have in our data"
   ]
  },
  {
   "cell_type": "code",
   "execution_count": 3,
   "metadata": {},
   "outputs": [
    {
     "data": {
      "text/plain": [
       "905"
      ]
     },
     "execution_count": 3,
     "metadata": {},
     "output_type": "execute_result"
    }
   ],
   "source": [
    "#imported more stop wprds from internet using numpy.loadtxt() and updated my set of stop words\n",
    "more_stops = np.loadtxt(\"datasets/stop_words_english.txt\", dtype=str, delimiter=\" \", encoding='utf-8')\n",
    "stops.update(more_stops)\n",
    "len(stops)"
   ]
  },
  {
   "cell_type": "code",
   "execution_count": 4,
   "metadata": {},
   "outputs": [
    {
     "data": {
      "text/plain": [
       "11314"
      ]
     },
     "execution_count": 4,
     "metadata": {},
     "output_type": "execute_result"
    }
   ],
   "source": [
    "len(newsgroups.data)\n",
    "# We have these many documents, thats why our algorithm is taking considerable amount of time"
   ]
  },
  {
   "cell_type": "code",
   "execution_count": 6,
   "metadata": {},
   "outputs": [],
   "source": [
    "all_documents = newsgroups.data\n",
    "# all_documents contains all the \"X\" data in un-tokenized form.\n",
    "all_categories = newsgroups.target\n",
    "# all_categories contain all the \"Y\" data.\n",
    "all_documents_modified = [word_tokenize(doc) for doc in all_documents]\n",
    "# i have modified the all_documents to a form in which we have list of list of words(tokenized data for each document)"
   ]
  },
  {
   "cell_type": "code",
   "execution_count": 7,
   "metadata": {},
   "outputs": [],
   "source": [
    "# splitting these documents in train and test data\n",
    "X_train, X_test, Y_train, Y_test = train_test_split(all_documents_modified, all_categories, random_state = 1)"
   ]
  },
  {
   "cell_type": "code",
   "execution_count": null,
   "metadata": {},
   "outputs": [],
   "source": [
    "all_words = []\n",
    "#this variable is going to contain all the words from all our tokenized documents\n",
    "for doc in X_train:\n",
    "    for word in doc:\n",
    "        if(word.lower() not in stops) and len(word)!=1 and len(word)!=2 and word[0]!=\"'\" and word!=\"n't\" and word[0]!=\".\":\n",
    "            # I don't want to include words with length 1 and 2 in my vocabulary because these \n",
    "            all_words.append(word)"
   ]
  }
 ],
 "metadata": {
  "kernelspec": {
   "display_name": "Python 3",
   "language": "python",
   "name": "python3"
  },
  "language_info": {
   "codemirror_mode": {
    "name": "ipython",
    "version": 3
   },
   "file_extension": ".py",
   "mimetype": "text/x-python",
   "name": "python",
   "nbconvert_exporter": "python",
   "pygments_lexer": "ipython3",
   "version": "3.10.5"
  },
  "orig_nbformat": 4
 },
 "nbformat": 4,
 "nbformat_minor": 2
}
