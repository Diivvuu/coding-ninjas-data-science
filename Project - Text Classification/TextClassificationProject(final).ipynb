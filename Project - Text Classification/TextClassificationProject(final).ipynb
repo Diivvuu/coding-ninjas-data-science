{
 "cells": [
  {
   "cell_type": "markdown",
   "metadata": {},
   "source": [
    "### Project - Text Classification\n"
   ]
  },
  {
   "cell_type": "markdown",
   "metadata": {},
   "source": [
    "- This file may need 5-6 minutes ( tested on intel core i7 processor) to finish running. So you should run it first and read the code later to save your time. The reason why it will take a lot of time to finish running is that it has a lot of computaion to do to create a 2D matrix suitable for text classification and a lot of feature to iterate through\n",
    "\n",
    "- It will take majority of time for naive bayes classifier, don't make any changes in code before letting it run for once.\n"
   ]
  },
  {
   "cell_type": "markdown",
   "metadata": {},
   "source": [
    "# Importing Important Libraries\n",
    "\n",
    "- I have imported the stopwords from nltk and copied more of them from internet.\n",
    "- Instead of split() function, I am using the tokenizer which makes the job much easier.\n",
    "- Instead of manually downloading the data from the internet, I have downloaded it using sklearn.datasets.fetch_20newsgroups\n"
   ]
  },
  {
   "cell_type": "code",
   "execution_count": 4,
   "metadata": {},
   "outputs": [],
   "source": [
    "from sklearn.datasets import fetch_20newsgroups\n",
    "import string\n",
    "from nltk.corpus import stopwords\n",
    "from nltk.tokenize import word_tokenize\n",
    "from sklearn.model_selection import train_test_split\n",
    "import numpy as np\n",
    "from sklearn.naive_bayes import MultinomialNB"
   ]
  },
  {
   "cell_type": "code",
   "execution_count": 5,
   "metadata": {},
   "outputs": [],
   "source": [
    "newsgroups = fetch_20newsgroups()\n",
    "# Instead of the link, I have fetched the data through sklearn itself just to reduce the amount of unnecessary work.\n",
    "stops = set(stopwords.words('english'))\n",
    "# these are the stop words that we don't want to include in our dictionary\n",
    "punctuations = list(string.punctuation)\n",
    "# punctution marks also should be removed from our vocabulary\n",
    "stops.update(punctuations)\n",
    "#vffddd vfdv njfd  vfdvnfdkmvfldkvmfdkvmfdkvmkldfmvlkfdmvklfdmvkldfmvkfd vf"
   ]
  },
  {
   "cell_type": "code",
   "execution_count": null,
   "metadata": {},
   "outputs": [],
   "source": []
  }
 ],
 "metadata": {
  "kernelspec": {
   "display_name": "Python 3",
   "language": "python",
   "name": "python3"
  },
  "language_info": {
   "codemirror_mode": {
    "name": "ipython",
    "version": 3
   },
   "file_extension": ".py",
   "mimetype": "text/x-python",
   "name": "python",
   "nbconvert_exporter": "python",
   "pygments_lexer": "ipython3",
   "version": "3.10.5"
  },
  "orig_nbformat": 4
 },
 "nbformat": 4,
 "nbformat_minor": 2
}
