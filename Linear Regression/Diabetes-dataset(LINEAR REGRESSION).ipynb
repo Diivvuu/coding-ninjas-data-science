{
 "cells": [
  {
   "cell_type": "code",
   "execution_count": 26,
   "metadata": {},
   "outputs": [],
   "source": [
    "import numpy as np\n",
    "import pandas as pd\n",
    "from sklearn import datasets"
   ]
  },
  {
   "cell_type": "code",
   "execution_count": 29,
   "metadata": {},
   "outputs": [],
   "source": [
    "data = datasets.load_diabetes()\n",
    "X = np.loadtxt(\"0000000000002329_training_diabetes_x_y_train.csv\", delimiter=\",\")\n",
    "Y = np.loadtxt(\"0000000000002329_test_diabetes_x_test.csv\", delimiter=\",\")"
   ]
  },
  {
   "cell_type": "code",
   "execution_count": 34,
   "metadata": {},
   "outputs": [
    {
     "name": "stdout",
     "output_type": "stream",
     "text": [
      "(331, 10)\n",
      "(111, 10)\n",
      "(331, 1)\n"
     ]
    }
   ],
   "source": [
    "# from sklearn import model_selection\n",
    "# X_train, X_test, Y_train, Y_test = model_selection.train_test_split(X, Y)\n",
    "X_train = X[:, :10]\n",
    "X_test = Y\n",
    "Y_train = X[:, 10:]\n",
    "print(X_train.shape)\n",
    "print(X_test.shape)\n",
    "print(Y_train.shape)\n",
    "# print(Y_test.shape)"
   ]
  },
  {
   "cell_type": "code",
   "execution_count": 35,
   "metadata": {},
   "outputs": [],
   "source": [
    "from sklearn.linear_model import LinearRegression\n",
    "alg = LinearRegression()\n",
    "alg.fit(X_train, Y_train)\n",
    "Y_pred = alg.predict(X_test)\n",
    "np.savetxt(\"predicted_Data.csv\", Y_pred, delimiter=\",\", fmt = \"%1.5f\")"
   ]
  },
  {
   "cell_type": "code",
   "execution_count": 25,
   "metadata": {},
   "outputs": [],
   "source": [
    "import numpy as np\n",
    "np.savetxt(\"predicted_data.csv\", Y_preds, delimiter= \",\", fmt = '%1.5f')"
   ]
  }
 ],
 "metadata": {
  "kernelspec": {
   "display_name": "Python 3",
   "language": "python",
   "name": "python3"
  },
  "language_info": {
   "codemirror_mode": {
    "name": "ipython",
    "version": 3
   },
   "file_extension": ".py",
   "mimetype": "text/x-python",
   "name": "python",
   "nbconvert_exporter": "python",
   "pygments_lexer": "ipython3",
   "version": "3.10.5"
  },
  "orig_nbformat": 4
 },
 "nbformat": 4,
 "nbformat_minor": 2
}
