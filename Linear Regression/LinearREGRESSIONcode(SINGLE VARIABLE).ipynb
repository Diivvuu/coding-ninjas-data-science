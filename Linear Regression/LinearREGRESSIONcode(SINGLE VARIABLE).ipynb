{
 "cells": [
  {
   "cell_type": "code",
   "execution_count": 1,
   "metadata": {},
   "outputs": [],
   "source": [
    "import numpy as np"
   ]
  },
  {
   "cell_type": "code",
   "execution_count": 2,
   "metadata": {},
   "outputs": [],
   "source": [
    "data = np.loadtxt(\"data.csv\", delimiter=\",\")"
   ]
  },
  {
   "cell_type": "code",
   "execution_count": 3,
   "metadata": {},
   "outputs": [],
   "source": [
    "x = data[:, 0]\n",
    "y = data[:, 1]"
   ]
  },
  {
   "cell_type": "code",
   "execution_count": 4,
   "metadata": {},
   "outputs": [
    {
     "data": {
      "text/plain": [
       "(100,)"
      ]
     },
     "execution_count": 4,
     "metadata": {},
     "output_type": "execute_result"
    }
   ],
   "source": [
    "x.shape"
   ]
  },
  {
   "cell_type": "code",
   "execution_count": 5,
   "metadata": {},
   "outputs": [
    {
     "data": {
      "text/plain": [
       "(75,)"
      ]
     },
     "execution_count": 5,
     "metadata": {},
     "output_type": "execute_result"
    }
   ],
   "source": [
    "from sklearn import model_selection\n",
    "X_train, X_test, Y_train, Y_test = model_selection.train_test_split(x, y)\n",
    "X_train.shape"
   ]
  },
  {
   "cell_type": "code",
   "execution_count": 6,
   "metadata": {},
   "outputs": [],
   "source": [
    "def fit(X_train, Y_train):\n",
    "    num = (X_train*Y_train).mean() - X_train.mean()*Y_train.mean()\n",
    "    den = (X_train**2).mean() - X_train.mean()**2\n",
    "    m = num/den\n",
    "    c = Y_train.mean() - m*X_train.mean()\n",
    "    return m, c\n",
    "def predict(m, x, c) : \n",
    "    return m*x + c\n",
    "\n",
    "def score(Y_truth, y_pred) : \n",
    "    u = ((Y_truth - y_pred)**2).sum()\n",
    "    v = ((Y_truth - Y_truth.mean())**2).sum()\n",
    "    return 1  - u/v\n",
    "\n",
    "def cost(x, y, m, c) : \n",
    "    return ((y - m*x -c)**2).mean()"
   ]
  },
  {
   "cell_type": "code",
   "execution_count": 7,
   "metadata": {},
   "outputs": [
    {
     "name": "stdout",
     "output_type": "stream",
     "text": [
      "Test Score :  0.7067713162977883\n",
      "Train Score :  0.5540829924327559\n",
      "M, C :  1.3718288945811392 4.883469070835773\n",
      "Cost on training Data :  118.85964644124894\n"
     ]
    }
   ],
   "source": [
    "m, c = fit(X_train, Y_train)\n",
    "\n",
    "y_test_pred = predict(X_test, m, c)\n",
    "\n",
    "print(\"Test Score : \", score(Y_test, y_test_pred))\n",
    "\n",
    "y_train_pred = predict(X_train, m, c)\n",
    "print(\"Train Score : \", score(Y_train, y_train_pred))\n",
    "print(\"M, C : \", m, c)\n",
    "print(\"Cost on training Data : \", cost(X_train, Y_train, m, c))"
   ]
  },
  {
   "cell_type": "code",
   "execution_count": null,
   "metadata": {},
   "outputs": [],
   "source": []
  }
 ],
 "metadata": {
  "kernelspec": {
   "display_name": "Python 3",
   "language": "python",
   "name": "python3"
  },
  "language_info": {
   "codemirror_mode": {
    "name": "ipython",
    "version": 3
   },
   "file_extension": ".py",
   "mimetype": "text/x-python",
   "name": "python",
   "nbconvert_exporter": "python",
   "pygments_lexer": "ipython3",
   "version": "3.10.5"
  },
  "orig_nbformat": 4
 },
 "nbformat": 4,
 "nbformat_minor": 2
}
