{
  "nbformat": 4,
  "nbformat_minor": 0,
  "metadata": {
    "colab": {
      "name": "Unsupervised Learning 1.ipynb",
      "provenance": [],
      "collapsed_sections": []
    },
    "kernelspec": {
      "name": "python3",
      "display_name": "Python 3"
    }
  },
  "cells": [
    {
      "cell_type": "markdown",
      "metadata": {
        "id": "lF-T-YCPBpaN"
      },
      "source": [
        "#**Unsupervised Learning**"
      ]
    },
    {
      "cell_type": "markdown",
      "metadata": {
        "id": "Fs9RlcetCZqW"
      },
      "source": [
        "**What will you learn?**\r\n",
        "1. **Introduction**\r\n",
        "2. **Problems** : Issues with Unsupervised Learning\r\n",
        "3. **Types of Unsupervised Learning** : Parametric, Non-Parametric\r\n",
        "4. **Clustering**\r\n",
        "5. **Types of Clustering** : Flat, Heirarchical\r\n",
        "6. **K-Means for Clustering**\r\n",
        "7. **Sklearn's K-Means**\r\n",
        "8. **Self Implemented K-Means**"
      ]
    },
    {
      "cell_type": "markdown",
      "metadata": {
        "id": "n4czjGy8_xrm"
      },
      "source": [
        "In some pattern recognition problems, the training data consists of a set of input vectors x without any corresponding target values. The goal in such unsupervised learning problems may be to discover groups of similar examples within the data, where it is called clustering, or to determine how the data is distributed in the space, known as density estimation. To put forward in simpler terms, for a n-sampled space x1 to xn, true class labels are not provided for each sample, hence known as learning without teacher."
      ]
    },
    {
      "cell_type": "markdown",
      "metadata": {
        "id": "DGoVrLYs_xpT"
      },
      "source": [
        "## **Problems with Unsupervised Learning**\r\n",
        "1. Unsupervised Learning is harder as compared to Supervised Learning tasks.\r\n",
        "2. How do we know if results are meaningful since no answer labels are available?\r\n"
      ]
    },
    {
      "cell_type": "markdown",
      "metadata": {
        "id": "V-6KjAwg_xm-"
      },
      "source": [
        "## **Why Unsupervised Learning is needed despite of these problems?**\r\n",
        "1. Annotating large datasets is very costly and hence we can label only a few examples manually. Example: Speech Recognition\r\n",
        "2. There may be cases where we don’t know how many/what classes is the data divided into. Example: Data Mining\r\n",
        "3. We may want to use clustering to gain some insight into the structure of the data before designing a classifier.\r\n",
        "\r\n"
      ]
    },
    {
      "cell_type": "markdown",
      "metadata": {
        "id": "-mGLN45n_xk9"
      },
      "source": [
        "## **Types of Unsupervised Learning**"
      ]
    },
    {
      "cell_type": "markdown",
      "metadata": {
        "id": "SefgYJX-Bx-n"
      },
      "source": [
        "###**Parametric Unsupervised Learning**\r\n"
      ]
    },
    {
      "cell_type": "markdown",
      "metadata": {
        "id": "MqDOAs0cBx1R"
      },
      "source": [
        "In this case, we assume a parametric distribution of data. It assumes that sample data comes from a population that follows a probability distribution based on a fixed set of parameters. Theoretically, in a normal family of distributions, all members have the same shape and are parameterized by mean and standard deviation. That means if you know the mean and standard deviation, and that the distribution is normal, you know the probability of any future observation. Parametric Unsupervised Learning involves construction of Gaussian Mixture Models and using Expectation-Maximization algorithm to predict the class of the sample in question. This case is much harder than the standard supervised learning because there are no answer labels available and hence there is no correct measure of accuracy available to check the result."
      ]
    },
    {
      "cell_type": "markdown",
      "metadata": {
        "id": "aqbEFnWpB2-F"
      },
      "source": [
        "###**Non-parametric Unsupervised Learning**"
      ]
    },
    {
      "cell_type": "markdown",
      "metadata": {
        "id": "RGWrRCER_xiv"
      },
      "source": [
        "In non-parameterized version of unsupervised learning, the data is grouped into clusters, where each cluster(hopefully) says something about categories and classes present in the data. This method is commonly used to model and analyze data with small sample sizes. Unlike parametric models, nonparametric models do not require the modeler to make any assumptions about the distribution of the population, and so are sometimes referred to as a distribution-free method."
      ]
    },
    {
      "cell_type": "markdown",
      "metadata": {
        "id": "4YxejJf6_xgq"
      },
      "source": [
        "##**Clustering**"
      ]
    },
    {
      "cell_type": "markdown",
      "metadata": {
        "id": "jy4Ey5a-_xeb"
      },
      "source": [
        "Clustering can be considered the most important unsupervised learning problem; so, as every other problem of this kind, it deals with finding a structure in a collection of unlabeled data. A loose definition of clustering could be “the process of organizing objects into groups whose members are similar in some way”. A cluster is therefore a collection of objects which are “similar” between them and are “dissimilar” to the objects belonging to other clusters.\r\n",
        "\r\n",
        "<img src = \"https://files.codingninjas.in/0_9ksfyh14c-aretav_-8051.png\" width = 500>"
      ]
    },
    {
      "cell_type": "markdown",
      "metadata": {
        "id": "TAGwuL-L_xcT"
      },
      "source": [
        "###**Types of Clustering**"
      ]
    },
    {
      "cell_type": "markdown",
      "metadata": {
        "id": "hNbBT8hN_xZ7"
      },
      "source": [
        "There are two types of clustering :\r\n",
        "1. Flat Clustering\r\n",
        "2. Hierarchical Clustering"
      ]
    },
    {
      "cell_type": "markdown",
      "metadata": {
        "id": "5nCsKpQy_xYE"
      },
      "source": [
        "####**Flat Clustering**\r\n",
        "\r\n",
        "\r\n"
      ]
    },
    {
      "cell_type": "markdown",
      "metadata": {
        "id": "hfFZCOseRYak"
      },
      "source": [
        "Flat clustering is where we tell the model how many categories to cluster the data into. \r\n",
        "\r\n"
      ]
    },
    {
      "cell_type": "markdown",
      "metadata": {
        "id": "-33UIMDsRZ5d"
      },
      "source": [
        "#### **Hierarchical Clustering**\r\n"
      ]
    },
    {
      "cell_type": "markdown",
      "metadata": {
        "id": "ViL85_UpRde9"
      },
      "source": [
        "Hierarchical clustering, as the name suggests is an algorithm that builds hierarchy of clusters. This algorithm starts with all the data points assigned to a cluster of their own. Then two nearest clusters are merged into the same cluster. In the end, this algorithm terminates when there is only a single cluster left.\r\n",
        "\r\n",
        "Two important things that you should know about hierarchical clustering are:\r\n",
        "1. This algorithm has been implemented above using bottom up approach. It is also possible to follow top-down approach starting with all data points assigned in the same cluster and recursively performing splits till each data point is assigned a separate cluster.\r\n",
        "2. The decision of merging two clusters is taken on the basis of closeness of these clusters. There are multiple metrics for deciding the closeness of two clusters such as Euclidean distance, Squared Euclidean distance , Manhattan distance, etc. "
      ]
    },
    {
      "cell_type": "markdown",
      "metadata": {
        "id": "xKU3LgDk_xV3"
      },
      "source": [
        "##**K-Means Clustering**"
      ]
    },
    {
      "cell_type": "markdown",
      "metadata": {
        "id": "Al3b0HOM_xTr"
      },
      "source": [
        "The k-means clustering method is an unsupervised machine learning technique used to identify clusters of data objects in a dataset. \r\n",
        "\r\n",
        "The basic idea is to define k centres, one for each cluster.The centroids are placed as much as possible far away from each other. The next step is to take each point belonging to a given data set and associate it to the nearest centroid. When no point is pending, the first step is completed and an early groupage is done. At this point we need to re-calculate k new centroids as barycenters of the clusters resulting from the previous step. After we have these k new centroids, a new binding has to be done between the same data set points and the nearest new centroid. A loop has been generated. As a result of this loop we may notice that the k centroids change their location step by step until no more changes are done.\r\n",
        "\r\n",
        "Finally, this algorithm aims at minimizing an objective function, in this case a squared error function. The objective function\r\n",
        "$$\\sum_{j=1}^{k}\\sum_{i=1}^{k}||x_i^j - c_j||^2$$\r\n",
        "where $$||x_i^j - c_j||$$\r\n",
        "\r\n",
        "chosen distance measure between a data point xi and the cluster centre cj, is an indicator of the distance of the n data points from their respective cluster centres"
      ]
    },
    {
      "cell_type": "markdown",
      "metadata": {
        "id": "pQTeOo0v_xRc"
      },
      "source": [
        "**Algorithm:**\r\n",
        "1. Specify the number of clusters k to assign.\r\n",
        "2. Randomly initialize k centroids.\r\n",
        "3. **repeat**\r\n",
        "4. **expectation**: Assign each point to its closest centroid.\r\n",
        "5. **maximization**: Compute the centroid of each cluster.\r\n",
        "6. **until** the centroid position does not change."
      ]
    },
    {
      "cell_type": "markdown",
      "metadata": {
        "id": "UsCkU3_H_xPO"
      },
      "source": [
        "##**K-Means using Sklearn**"
      ]
    },
    {
      "cell_type": "code",
      "metadata": {
        "id": "9XB8lTQZNptS"
      },
      "source": [
        "import numpy as np\r\n",
        "import matplotlib.pyplot as plt"
      ],
      "execution_count": null,
      "outputs": []
    },
    {
      "cell_type": "code",
      "metadata": {
        "id": "n-AF5Nv7Nsu5"
      },
      "source": [
        "X = np.array([[1,2], [1.5,1.8], [5,8], [8,8], [1,0.6], [9,11]])"
      ],
      "execution_count": null,
      "outputs": []
    },
    {
      "cell_type": "code",
      "metadata": {
        "colab": {
          "base_uri": "https://localhost:8080/",
          "height": 265
        },
        "id": "ytBxeENnNstL",
        "outputId": "84694fc6-cf54-42de-dc7b-cd0cd294d9f9"
      },
      "source": [
        "plt.scatter(X[:,0], X[:,1])\r\n",
        "plt.show()"
      ],
      "execution_count": null,
      "outputs": [
        {
          "output_type": "display_data",
          "data": {
            "image/png": "[encoded data removed]",
            "text/plain": [
              "<Figure size 432x288 with 1 Axes>"
            ]
          },
          "metadata": {
            "tags": [],
            "needs_background": "light"
          }
        }
      ]
    },
    {
      "cell_type": "code",
      "metadata": {
        "id": "6tPzaUpWNsp7"
      },
      "source": [
        "from sklearn.cluster import KMeans"
      ],
      "execution_count": null,
      "outputs": []
    },
    {
      "cell_type": "code",
      "metadata": {
        "id": "wqNGXLe-NsoO"
      },
      "source": [
        "k_means = KMeans(n_clusters = 2)"
      ],
      "execution_count": null,
      "outputs": []
    },
    {
      "cell_type": "code",
      "metadata": {
        "colab": {
          "base_uri": "https://localhost:8080/"
        },
        "id": "bxkSles1Nsd5",
        "outputId": "4fa964f6-65e6-4b2f-cb85-27b190c57cb8"
      },
      "source": [
        "k_means.fit(X)"
      ],
      "execution_count": null,
      "outputs": [
        {
          "output_type": "execute_result",
          "data": {
            "text/plain": [
              "KMeans(algorithm='auto', copy_x=True, init='k-means++', max_iter=300,\n",
              "       n_clusters=2, n_init=10, n_jobs=None, precompute_distances='auto',\n",
              "       random_state=None, tol=0.0001, verbose=0)"
            ]
          },
          "metadata": {
            "tags": []
          },
          "execution_count": 21
        }
      ]
    },
    {
      "cell_type": "code",
      "metadata": {
        "colab": {
          "base_uri": "https://localhost:8080/"
        },
        "id": "lvoIPZfZN3x_",
        "outputId": "f10a55c8-2ee1-4a61-fbab-fa33f9745f4f"
      },
      "source": [
        "k_means.labels_"
      ],
      "execution_count": null,
      "outputs": [
        {
          "output_type": "execute_result",
          "data": {
            "text/plain": [
              "array([0, 0, 1, 1, 0, 1], dtype=int32)"
            ]
          },
          "metadata": {
            "tags": []
          },
          "execution_count": 22
        }
      ]
    },
    {
      "cell_type": "code",
      "metadata": {
        "colab": {
          "base_uri": "https://localhost:8080/"
        },
        "id": "wLIzLoChN4oA",
        "outputId": "4945bc23-b83f-4cde-94b8-97a4dafa5271"
      },
      "source": [
        "k_means.cluster_centers_"
      ],
      "execution_count": null,
      "outputs": [
        {
          "output_type": "execute_result",
          "data": {
            "text/plain": [
              "array([[1.16666667, 1.46666667],\n",
              "       [7.33333333, 9.        ]])"
            ]
          },
          "metadata": {
            "tags": []
          },
          "execution_count": 23
        }
      ]
    },
    {
      "cell_type": "code",
      "metadata": {
        "colab": {
          "base_uri": "https://localhost:8080/",
          "height": 265
        },
        "id": "6QQSdOqDN9Rp",
        "outputId": "10ccdfbb-e42e-4e75-bb8b-c98c31c08379"
      },
      "source": [
        "plt.scatter(X[:,0], X[:,1], c=k_means.labels_)\r\n",
        "plt.scatter(k_means.cluster_centers_[:,0],k_means.cluster_centers_[:,1])\r\n",
        "plt.show()"
      ],
      "execution_count": null,
      "outputs": [
        {
          "output_type": "display_data",
          "data": {
            "image/png": "[encoded data removed]",
            "text/plain": [
              "<Figure size 432x288 with 1 Axes>"
            ]
          },
          "metadata": {
            "tags": [],
            "needs_background": "light"
          }
        }
      ]
    },
    {
      "cell_type": "markdown",
      "metadata": {
        "id": "RWVp3WarNsCA"
      },
      "source": [
        "##**Self-Implementation of K-Means**"
      ]
    },
    {
      "cell_type": "markdown",
      "metadata": {
        "id": "_tp2qTDE_xM7"
      },
      "source": [
        "Here we will code our own K-means algorithm usinf Fit and Predict functions.\r\n"
      ]
    },
    {
      "cell_type": "code",
      "metadata": {
        "id": "KyUal6YuPBFz"
      },
      "source": [
        "import numpy as np\r\n",
        "import matplotlib.pyplot as plt"
      ],
      "execution_count": null,
      "outputs": []
    },
    {
      "cell_type": "code",
      "metadata": {
        "id": "IHUuRQyvPA7x"
      },
      "source": [
        "X = np.array([[1,2], [1.5,1.8], [5,8], [8,8], [1,0.6], [9,11]])"
      ],
      "execution_count": null,
      "outputs": []
    },
    {
      "cell_type": "code",
      "metadata": {
        "colab": {
          "base_uri": "https://localhost:8080/",
          "height": 265
        },
        "id": "R_bmhHGQPAwz",
        "outputId": "873db455-65bb-4492-a175-1e46ea6a04d9"
      },
      "source": [
        "plt.scatter(X[:,0], X[:,1])\r\n",
        "plt.show()"
      ],
      "execution_count": null,
      "outputs": [
        {
          "output_type": "display_data",
          "data": {
            "image/png": "[encoded data removed]",
            "text/plain": [
              "<Figure size 432x288 with 1 Axes>"
            ]
          },
          "metadata": {
            "tags": [],
            "needs_background": "light"
          }
        }
      ]
    },
    {
      "cell_type": "markdown",
      "metadata": {
        "id": "0qfy61f2RoN9"
      },
      "source": [
        "####**Class of K-Means**"
      ]
    },
    {
      "cell_type": "code",
      "metadata": {
        "id": "ObHfdMb1PAlV"
      },
      "source": [
        "class K_Means:\r\n",
        "    def __init__(self, k = 2, max_iter = 100):\r\n",
        "        print(\"constructor\")\r\n",
        "        self.k = k\r\n",
        "        self.max_iter = max_iter\r\n",
        "        \r\n",
        "        \r\n",
        "    def fit (self, data):\r\n",
        "        self.means = []\r\n",
        "        # randomly initialize the means\r\n",
        "        for i in range(self.k):\r\n",
        "            self.means.append(data[i])\r\n",
        "        for i in range(self.max_iter):\r\n",
        "            # assign the data points to the cluster that they belong to\r\n",
        "            # create empty clusters        \r\n",
        "            clusters = []\r\n",
        "            for j in range(self.k):\r\n",
        "                clusters.append([])\r\n",
        "            for point in data:\r\n",
        "                # find distance to all the mean values\r\n",
        "                distances = [((point - m)**2).sum() for m in self.means]\r\n",
        "                # find the min distance\r\n",
        "                minDistance = min(distances)\r\n",
        "                # find the mean for which we got the minimum distance --> l\r\n",
        "                l = distances.index(minDistance)\r\n",
        "                # add this point to cluster l\r\n",
        "                clusters[l].append(point)\r\n",
        "\r\n",
        "            # calculate the new mean values\r\n",
        "            change = False\r\n",
        "            for j in range(self.k):\r\n",
        "                new_mean = np.average(clusters[j], axis=0)\r\n",
        "                if not np.array_equal(self.means[j], new_mean):\r\n",
        "                    change = True\r\n",
        "                self.means[j] = new_mean\r\n",
        "            if not change:\r\n",
        "                break\r\n",
        "    \r\n",
        "    def predict(self, test_data):\r\n",
        "        predictions = []\r\n",
        "        for point in test_data:\r\n",
        "           # find distance to all the mean values\r\n",
        "            distances = [((point - m)**2).sum() for m in self.means]\r\n",
        "            # find the min distance\r\n",
        "            minDistance = min(distances)\r\n",
        "            # find the mean for which we got the minimum distance --> l\r\n",
        "            l = distances.index(minDistance)\r\n",
        "            # add this point to cluster l\r\n",
        "            predictions.append(l)\r\n",
        "        return predictions"
      ],
      "execution_count": null,
      "outputs": []
    },
    {
      "cell_type": "code",
      "metadata": {
        "colab": {
          "base_uri": "https://localhost:8080/"
        },
        "id": "Xhve9R3jPOl5",
        "outputId": "f86a47ca-c1f2-4b1a-f861-f2fb47ab6f00"
      },
      "source": [
        "kmeans = K_Means(2, 10)"
      ],
      "execution_count": null,
      "outputs": [
        {
          "output_type": "stream",
          "text": [
            "constructor\n"
          ],
          "name": "stdout"
        }
      ]
    },
    {
      "cell_type": "code",
      "metadata": {
        "id": "dsrRmTycPOkO"
      },
      "source": [
        "kmeans.fit(X)"
      ],
      "execution_count": null,
      "outputs": []
    },
    {
      "cell_type": "code",
      "metadata": {
        "colab": {
          "base_uri": "https://localhost:8080/"
        },
        "id": "dxZdafTMPObp",
        "outputId": "a7acf549-d612-42e3-df63-6abd803b231d"
      },
      "source": [
        "kmeans.predict(X)"
      ],
      "execution_count": null,
      "outputs": [
        {
          "output_type": "execute_result",
          "data": {
            "text/plain": [
              "[0, 0, 1, 1, 0, 1]"
            ]
          },
          "metadata": {
            "tags": []
          },
          "execution_count": 18
        }
      ]
    },
    {
      "cell_type": "code",
      "metadata": {
        "colab": {
          "base_uri": "https://localhost:8080/"
        },
        "id": "SxGxVlW_PYx0",
        "outputId": "e637e8cd-edc0-49a5-927d-2bf2e9d98a1e"
      },
      "source": [
        "kmeans.means"
      ],
      "execution_count": null,
      "outputs": [
        {
          "output_type": "execute_result",
          "data": {
            "text/plain": [
              "[array([1.16666667, 1.46666667]), array([7.33333333, 9.        ])]"
            ]
          },
          "metadata": {
            "tags": []
          },
          "execution_count": 19
        }
      ]
    },
    {
      "cell_type": "markdown",
      "metadata": {
        "id": "kBaD14wX_xK1"
      },
      "source": [
        "##**Applications of Clustering**"
      ]
    },
    {
      "cell_type": "markdown",
      "metadata": {
        "id": "eGYOaiep_xIg"
      },
      "source": [
        "Clustering has a large no. of applications spread across various domains. Some of the most popular applications of clustering are:\r\n",
        "1. Recommendation engines\r\n",
        "2. Market segmentation\r\n",
        "3. Social network analysis\r\n",
        "4. Search result grouping\r\n",
        "5. Medical imaging\r\n",
        "6. Image segmentation\r\n",
        "7. Anomaly detection"
      ]
    }
  ]
}