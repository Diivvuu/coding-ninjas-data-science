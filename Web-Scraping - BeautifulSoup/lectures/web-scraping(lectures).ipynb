{
 "cells": [
  {
   "cell_type": "code",
   "execution_count": 3,
   "metadata": {},
   "outputs": [],
   "source": [
    "from bs4 import BeautifulSoup\n",
    "import requests"
   ]
  },
  {
   "cell_type": "code",
   "execution_count": 4,
   "metadata": {},
   "outputs": [
    {
     "data": {
      "text/plain": [
       "<Response [200]>"
      ]
     },
     "execution_count": 4,
     "metadata": {},
     "output_type": "execute_result"
    }
   ],
   "source": [
    "response = requests.get('http://info.cern.ch/hypertext/WWW/TheProject.html')\n",
    "response"
   ]
  },
  {
   "cell_type": "code",
   "execution_count": 5,
   "metadata": {},
   "outputs": [
    {
     "data": {
      "text/plain": [
       "{'Date': 'Mon, 21 Nov 2022 11:25:48 GMT', 'Server': 'Apache', 'Last-Modified': 'Thu, 03 Dec 1992 08:37:20 GMT', 'ETag': '\"8a9-291e721905000\"', 'Accept-Ranges': 'bytes', 'Content-Length': '2217', 'Connection': 'close', 'Content-Type': 'text/html'}"
      ]
     },
     "execution_count": 5,
     "metadata": {},
     "output_type": "execute_result"
    }
   ],
   "source": [
    "response.headers"
   ]
  },
  {
   "cell_type": "code",
   "execution_count": 6,
   "metadata": {},
   "outputs": [],
   "source": [
    "html_data = response.text"
   ]
  },
  {
   "cell_type": "code",
   "execution_count": 7,
   "metadata": {},
   "outputs": [
    {
     "name": "stdout",
     "output_type": "stream",
     "text": [
      "<header>\n",
      " <title>\n",
      "  The World Wide Web project\n",
      " </title>\n",
      " <nextid n=\"55\"/>\n",
      "</header>\n",
      "<body>\n",
      " <h1>\n",
      "  World Wide Web\n",
      " </h1>\n",
      " The WorldWideWeb (W3) is a wide-area\n",
      " <a href=\"WhatIs.html\" name=\"0\">\n",
      "  hypermedia\n",
      " </a>\n",
      " information retrieval\n",
      "initiative aiming to give universal\n",
      "access to a large universe of documents.\n",
      " <p>\n",
      "  Everything there is online about\n",
      "W3 is linked directly or indirectly\n",
      "to this document, including an\n",
      "  <a href=\"Summary.html\" name=\"24\">\n",
      "   executive\n",
      "summary\n",
      "  </a>\n",
      "  of the project,\n",
      "  <a href=\"Administration/Mailing/Overview.html\" name=\"29\">\n",
      "   Mailing lists\n",
      "  </a>\n",
      "  ,\n",
      "  <a href=\"Policy.html\" name=\"30\">\n",
      "   Policy\n",
      "  </a>\n",
      "  , November's\n",
      "  <a href=\"News/9211.html\" name=\"34\">\n",
      "   W3  news\n",
      "  </a>\n",
      "  ,\n",
      "  <a href=\"FAQ/List.html\" name=\"41\">\n",
      "   Frequently Asked Questions\n",
      "  </a>\n",
      "  .\n",
      "  <dl>\n",
      "   <dt>\n",
      "    <a href=\"../DataSources/Top.html\" name=\"44\">\n",
      "     What's out there?\n",
      "    </a>\n",
      "    <dd>\n",
      "     Pointers to the\n",
      "world's online information,\n",
      "     <a href=\"../DataSources/bySubject/Overview.html\" name=\"45\">\n",
      "      subjects\n",
      "     </a>\n",
      "     ,\n",
      "     <a href=\"../DataSources/WWW/Servers.html\" name=\"z54\">\n",
      "      W3 servers\n",
      "     </a>\n",
      "     , etc.\n",
      "     <dt>\n",
      "      <a href=\"Help.html\" name=\"46\">\n",
      "       Help\n",
      "      </a>\n",
      "      <dd>\n",
      "       on the browser you are using\n",
      "       <dt>\n",
      "        <a href=\"Status.html\" name=\"13\">\n",
      "         Software Products\n",
      "        </a>\n",
      "        <dd>\n",
      "         A list of W3 project\n",
      "components and their current state.\n",
      "(e.g.\n",
      "         <a href=\"LineMode/Browser.html\" name=\"27\">\n",
      "          Line Mode\n",
      "         </a>\n",
      "         ,X11\n",
      "         <a href=\"Status.html#35\" name=\"35\">\n",
      "          Viola\n",
      "         </a>\n",
      "         ,\n",
      "         <a href=\"NeXT/WorldWideWeb.html\" name=\"26\">\n",
      "          NeXTStep\n",
      "         </a>\n",
      "         ,\n",
      "         <a href=\"Daemon/Overview.html\" name=\"25\">\n",
      "          Servers\n",
      "         </a>\n",
      "         ,\n",
      "         <a href=\"Tools/Overview.html\" name=\"51\">\n",
      "          Tools\n",
      "         </a>\n",
      "         ,\n",
      "         <a href=\"MailRobot/Overview.html\" name=\"53\">\n",
      "          Mail robot\n",
      "         </a>\n",
      "         ,\n",
      "         <a href=\"Status.html#57\" name=\"52\">\n",
      "          Library\n",
      "         </a>\n",
      "         )\n",
      "         <dt>\n",
      "          <a href=\"Technical.html\" name=\"47\">\n",
      "           Technical\n",
      "          </a>\n",
      "          <dd>\n",
      "           Details of protocols, formats,\n",
      "program internals etc\n",
      "           <dt>\n",
      "            <a href=\"Bibliography.html\" name=\"40\">\n",
      "             Bibliography\n",
      "            </a>\n",
      "            <dd>\n",
      "             Paper documentation\n",
      "on  W3 and references.\n",
      "             <dt>\n",
      "              <a href=\"People.html\" name=\"14\">\n",
      "               People\n",
      "              </a>\n",
      "              <dd>\n",
      "               A list of some people involved\n",
      "in the project.\n",
      "               <dt>\n",
      "                <a href=\"History.html\" name=\"15\">\n",
      "                 History\n",
      "                </a>\n",
      "                <dd>\n",
      "                 A summary of the history\n",
      "of the project.\n",
      "                 <dt>\n",
      "                  <a href=\"Helping.html\" name=\"37\">\n",
      "                   How can I help\n",
      "                  </a>\n",
      "                  ?\n",
      "                  <dd>\n",
      "                   If you would like\n",
      "to support the web..\n",
      "                   <dt>\n",
      "                    <a href=\"../README.html\" name=\"48\">\n",
      "                     Getting code\n",
      "                    </a>\n",
      "                    <dd>\n",
      "                     Getting the code by\n",
      "                     <a href=\"LineMode/Defaults/Distribution.html\" name=\"49\">\n",
      "                      anonymous FTP\n",
      "                     </a>\n",
      "                     , etc.\n",
      "                    </dd>\n",
      "                   </dt>\n",
      "                  </dd>\n",
      "                 </dt>\n",
      "                </dd>\n",
      "               </dt>\n",
      "              </dd>\n",
      "             </dt>\n",
      "            </dd>\n",
      "           </dt>\n",
      "          </dd>\n",
      "         </dt>\n",
      "        </dd>\n",
      "       </dt>\n",
      "      </dd>\n",
      "     </dt>\n",
      "    </dd>\n",
      "   </dt>\n",
      "  </dl>\n",
      " </p>\n",
      "</body>\n",
      "\n"
     ]
    }
   ],
   "source": [
    "data = BeautifulSoup(html_data, 'html.parser')\n",
    "print(data.prettify())"
   ]
  },
  {
   "cell_type": "markdown",
   "metadata": {},
   "source": [
    "# Title"
   ]
  },
  {
   "cell_type": "code",
   "execution_count": 8,
   "metadata": {},
   "outputs": [
    {
     "data": {
      "text/plain": [
       "'World Wide Web'"
      ]
     },
     "execution_count": 8,
     "metadata": {},
     "output_type": "execute_result"
    }
   ],
   "source": [
    "data.h1.string"
   ]
  },
  {
   "cell_type": "code",
   "execution_count": 9,
   "metadata": {},
   "outputs": [
    {
     "name": "stdout",
     "output_type": "stream",
     "text": [
      "\n",
      "The World Wide Web project\n",
      "\n",
      "\n",
      "\n",
      "World Wide WebThe WorldWideWeb (W3) is a wide-area\n",
      "hypermedia information retrieval\n",
      "initiative aiming to give universal\n",
      "access to a large universe of documents.\n",
      "Everything there is online about\n",
      "W3 is linked directly or indirectly\n",
      "to this document, including an executive\n",
      "summary of the project, Mailing lists\n",
      ", Policy , November's  W3  news ,\n",
      "Frequently Asked Questions .\n",
      "\n",
      "What's out there?\n",
      " Pointers to the\n",
      "world's online information, subjects\n",
      ", W3 servers, etc.\n",
      "Help\n",
      " on the browser you are using\n",
      "Software Products\n",
      " A list of W3 project\n",
      "components and their current state.\n",
      "(e.g. Line Mode ,X11 Viola ,  NeXTStep\n",
      ", Servers , Tools , Mail robot ,\n",
      "Library )\n",
      "Technical\n",
      " Details of protocols, formats,\n",
      "program internals etc\n",
      "Bibliography\n",
      " Paper documentation\n",
      "on  W3 and references.\n",
      "People\n",
      " A list of some people involved\n",
      "in the project.\n",
      "History\n",
      " A summary of the history\n",
      "of the project.\n",
      "How can I help ?\n",
      " If you would like\n",
      "to support the web..\n",
      "Getting code\n",
      " Getting the code by\n",
      "anonymous FTP , etc.\n",
      "\n",
      "\n",
      "\n"
     ]
    }
   ],
   "source": [
    "print(data.get_text())"
   ]
  },
  {
   "cell_type": "code",
   "execution_count": 10,
   "metadata": {},
   "outputs": [
    {
     "data": {
      "text/plain": [
       "<a href=\"WhatIs.html\" name=\"0\">\n",
       "hypermedia</a>"
      ]
     },
     "execution_count": 10,
     "metadata": {},
     "output_type": "execute_result"
    }
   ],
   "source": [
    "data.a"
   ]
  },
  {
   "cell_type": "code",
   "execution_count": 11,
   "metadata": {},
   "outputs": [
    {
     "data": {
      "text/plain": [
       "'WhatIs.html'"
      ]
     },
     "execution_count": 11,
     "metadata": {},
     "output_type": "execute_result"
    }
   ],
   "source": [
    "data.a['href']"
   ]
  },
  {
   "cell_type": "code",
   "execution_count": 12,
   "metadata": {},
   "outputs": [],
   "source": [
    "list = data.find_all('a')"
   ]
  },
  {
   "cell_type": "code",
   "execution_count": 13,
   "metadata": {},
   "outputs": [
    {
     "name": "stdout",
     "output_type": "stream",
     "text": [
      "\n",
      "hypermedia\n",
      "executive\n",
      "summary\n",
      "Mailing lists\n",
      "Policy\n",
      "W3  news\n",
      "Frequently Asked Questions\n",
      "What's out there?\n",
      " subjects\n",
      "W3 servers\n",
      "Help\n",
      "Software Products\n",
      "Line Mode\n",
      "Viola\n",
      "NeXTStep\n",
      "Servers\n",
      "Tools\n",
      " Mail robot\n",
      "\n",
      "Library\n",
      "Technical\n",
      "Bibliography\n",
      "People\n",
      "History\n",
      "How can I help\n",
      "Getting code\n",
      "\n",
      "anonymous FTP\n"
     ]
    },
    {
     "data": {
      "text/plain": [
       "25"
      ]
     },
     "execution_count": 13,
     "metadata": {},
     "output_type": "execute_result"
    }
   ],
   "source": [
    "for i in list:\n",
    "    print(i.string)\n",
    "len(list)"
   ]
  },
  {
   "cell_type": "code",
   "execution_count": 17,
   "metadata": {},
   "outputs": [
    {
     "name": "stdout",
     "output_type": "stream",
     "text": [
      "19\n"
     ]
    }
   ],
   "source": [
    "list2 = data.dl.find_all('a')\n",
    "print(len(list2))"
   ]
  },
  {
   "cell_type": "code",
   "execution_count": 20,
   "metadata": {},
   "outputs": [
    {
     "name": "stdout",
     "output_type": "stream",
     "text": [
      "What's out there?\n",
      " subjects\n",
      "W3 servers\n",
      "Help\n",
      "Software Products\n",
      "Line Mode\n",
      "Viola\n",
      "NeXTStep\n",
      "Servers\n",
      "Tools\n",
      " Mail robot\n",
      "\n",
      "Library\n",
      "Technical\n",
      "Bibliography\n",
      "People\n",
      "History\n",
      "How can I help\n",
      "Getting code\n",
      "\n",
      "anonymous FTP\n"
     ]
    }
   ],
   "source": [
    "for i in list2:\n",
    "    print(i.string)"
   ]
  },
  {
   "cell_type": "code",
   "execution_count": 27,
   "metadata": {},
   "outputs": [
    {
     "name": "stdout",
     "output_type": "stream",
     "text": [
      "Help\n",
      "Software Products\n",
      "Technical\n",
      "Bibliography\n",
      "People\n",
      "History\n",
      "How can I help\n",
      "Getting code\n"
     ]
    }
   ],
   "source": [
    "list3 = data.dt.find_all('dt')\n",
    "for i in list3:\n",
    "    print(i.a.string)"
   ]
  },
  {
   "cell_type": "code",
   "execution_count": null,
   "metadata": {},
   "outputs": [],
   "source": []
  }
 ],
 "metadata": {
  "kernelspec": {
   "display_name": "Python 3.10.5 64-bit",
   "language": "python",
   "name": "python3"
  },
  "language_info": {
   "codemirror_mode": {
    "name": "ipython",
    "version": 3
   },
   "file_extension": ".py",
   "mimetype": "text/x-python",
   "name": "python",
   "nbconvert_exporter": "python",
   "pygments_lexer": "ipython3",
   "version": "3.10.5"
  },
  "orig_nbformat": 4,
  "vscode": {
   "interpreter": {
    "hash": "26de051ba29f2982a8de78e945f0abaf191376122a1563185a90213a26c5da77"
   }
  }
 },
 "nbformat": 4,
 "nbformat_minor": 2
}
