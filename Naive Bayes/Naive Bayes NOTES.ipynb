{
  "nbformat": 4,
  "nbformat_minor": 0,
  "metadata": {
    "colab": {
      "name": "Copy of Naive Bayes Notes.ipynb",
      "provenance": [],
      "collapsed_sections": []
    },
    "kernelspec": {
      "name": "python3",
      "display_name": "Python 3"
    }
  },
  "cells": [
    {
      "cell_type": "markdown",
      "metadata": {
        "id": "Bgcmt6DCTUhB"
      },
      "source": [
        "#**Naive Bayes**"
      ]
    },
    {
      "cell_type": "markdown",
      "metadata": {
        "id": "5wz7q9ZATUe2"
      },
      "source": [
        "A Naive Bayes classifier is a probabilistic machine learning model that’s used for classification task. The crux of the classifier is based on the Bayes theorem."
      ]
    },
    {
      "cell_type": "markdown",
      "metadata": {
        "id": "g6me44JUWf-2"
      },
      "source": [
        "**What will you learn?**\r\n",
        "\r\n",
        "1. **Bayes Theorem**: An introduction\r\n",
        "2. **Naive Assumption**: Calculation of probability for Naive Bayes Algo.\r\n",
        "3. **Implementation with Discrete Data**: Theory and code structure.\r\n",
        "4. **Laplace Correction**: Handling zero probabilities.\r\n",
        "5. **Self Implementation**: Code for Categorical Input.\r\n",
        "6. **Scikit Learn Implementation**: GaussianNB, MultinomialNB, CategoricalNB and BernoulliNB.\r\n",
        "7. **Applications of Naive Bayes**: When to use which type of Naive algorithm.\r\n",
        "8. **Tips to Improve your Model**: How to process data\r\n",
        "9. **Advantages and Disadvantages**: Pros and cons of using naive bayes classifier"
      ]
    },
    {
      "cell_type": "markdown",
      "metadata": {
        "id": "jd5mREPNTUcb"
      },
      "source": [
        "##**Introduction to Bayes Theorem**"
      ]
    },
    {
      "cell_type": "markdown",
      "metadata": {
        "id": "SPQPp7QETUaL"
      },
      "source": [
        "Bayes Theorem defines probability of an event based on the prior knowledge of factors that might be related to an event.\r\n",
        "\r\n",
        "$$ P(A\\;|\\;B) = \\frac{P(B \\;|\\;A) \\; * P(A)}{P(B)} $$\r\n",
        "\r\n",
        "where $A$ and $B$ are events and $P(B) \\neq 0$\r\n",
        "\r\n",
        "Here, a few points to note are :\r\n",
        "\r\n",
        "$\\qquad P(A\\;|\\;B)$ is a conditional probability: the likelihood of event $A$ occuring given that event $B$ has occurred.\r\n",
        "\r\n",
        "$\\qquad P(B\\;|\\;A)$ is also a conditional probability: the likelihood of event B occuring given that event $A$ has occurred.\r\n",
        "\r\n",
        "$\\qquad P(A)$ and $P(B)$ are the probabilities of observing A and B independently of each other.\r\n",
        "\r\n"
      ]
    },
    {
      "cell_type": "markdown",
      "metadata": {
        "id": "6beXq1iuYgty"
      },
      "source": [
        "###**How Naive Bayes Works?**"
      ]
    },
    {
      "cell_type": "markdown",
      "metadata": {
        "id": "bWNGf3SWYkDm"
      },
      "source": [
        "Let’s understand it by using an example. Below we have a training data set of weather and corresponding target variable ‘Play’ (suggesting possibilities of playing). Now, we need to classify whether players will play or not based on weather. Let’s follow the following steps to perform it.\r\n",
        "\r\n",
        "**Step 1:** Convert the data set into a frequency table\r\n",
        "\r\n",
        "**Step 2:** Create a Likelihood table by finding the probabilities like Overcast probability = 0.29 and probability of playing = 0.64.\r\n",
        "\r\n",
        "<img src = \"https://files.codingninjas.in/bayes_41-7363.png\">\r\n",
        "(In this image, a blank cell represents '0')\r\n",
        "\r\n",
        "**Step 3:** Now, use Naive Bayesian equation to calculate the posterior probability for each class. The class with the highest posterior probability is the outcome of prediction.\r\n",
        "\r\n",
        "**Problem:** Players will play if weather is sunny. Is this statement is correct?\r\n",
        "\r\n",
        "We can solve it using above discussed method of posterior probability.\r\n",
        "\r\n",
        "$$P(Yes \\;| \\;Sunny) = \\frac{P( Sunny\\; | \\;Yes) * P(Yes)}{P (Sunny)}$$\r\n",
        "\r\n",
        "Here we have $P (Sunny |Yes) = 3/9 = 0.33$, $P(Sunny) = 5/14 = 0.36$, $P( Yes)= 9/14 = 0.64$\r\n",
        "\r\n",
        "Now, \r\n",
        "\r\n",
        "$$P (Yes \\;|\\; Sunny) = \\frac{0.33 * 0.64} { 0.36 }= 0.59$$\r\n",
        "which is a high probability.\r\n",
        "\r\n",
        "Naive Bayes uses a similar method to predict the probability of different class based on various attributes. This algorithm is mostly used in text classification and with problems having multiple classes."
      ]
    },
    {
      "cell_type": "markdown",
      "metadata": {
        "id": "N9vgE-5HTUXt"
      },
      "source": [
        "Now, basically for a data point $x_i$, we have to predict the class that the current output $y$ belongs to. Assume, there are total $j$ number of classes for output.\r\n",
        "Then,\r\n",
        "\r\n",
        "$P(y=c_1 \\;| \\; x=x_i)$ : tells us that for given input $x_i$ what is the probability that $y$ is $c_1$.\r\n",
        "\r\n",
        "$P(y=c_2 \\;| \\; x=x_i)$ : tells us that for given input $x_i$ what is the probability that $y$ is $c_2$.\r\n",
        "\r\n",
        "and so on till $c_j$.\r\n",
        "\r\n",
        "\r\n",
        "Out of all these probabilities calculations, $y$ belongs to that particular class which has maximum probability.\r\n",
        "\r\n",
        "We will be using Bayes theorem for doing these probability calculations. The formula is given as:\r\n",
        "\r\n",
        "$$P(y = c_j \\; | \\; x = x_i) = \\frac{P(x = x_i \\; | \\; y = c_j) * P(y = c_j)}{P(x = x_i)} $$"
      ]
    },
    {
      "cell_type": "markdown",
      "metadata": {
        "id": "Wjl5eOBbTUVV"
      },
      "source": [
        "This gives us the probability that the output belongs to $j^{th}$ class for the current values of data point $(x_i)$.\r\n",
        "\r\n",
        "\r\n",
        "Since for all the classes 1, 2,..., j the denominator will have the same value, so we can ignore this while doing comparison (ultimately, we have to find the max). Hence, we obtain the given formula to calculate probabilities.\r\n",
        "\r\n",
        "$$P'(y = c_j \\; | \\; x = x_i) = P(x = x_i \\; | \\; y = c_j) * P(y = c_j) $$"
      ]
    },
    {
      "cell_type": "markdown",
      "metadata": {
        "id": "BsouMKZUTUQW"
      },
      "source": [
        "##**Naive Assumption**"
      ]
    },
    {
      "cell_type": "markdown",
      "metadata": {
        "id": "6JkcoJBjTUOO"
      },
      "source": [
        "The estimate for probability $P(y=c_j)$, can be done directly from the number of training points. <br/>\r\n",
        "Suppose there are 100 training points and 3 output classes, 10 belong to class $C_1$, 30 belong to class $C_2$ and remaining 60 belong to class $C_3$. <br/>\r\n",
        "The estimate values of class probabilities will be: <br/>\r\n",
        "$P(y = C_1) = 10/100 = 0.1$ <br/>\r\n",
        "$P(y = C_2) = 30/100 = 0.3$ <br/>\r\n",
        "$P(y = C_3) = 60/100 = 0.6$ <br/>"
      ]
    },
    {
      "cell_type": "markdown",
      "metadata": {
        "id": "ThAJoaseTULu"
      },
      "source": [
        "To make the probability estimate for $P(x=x_i \\; | \\; y=c_j)$, naive bayes classification algorithm assumes <b>all the features to be independent</b>. \r\n",
        "\r\n",
        "So, we can calculate this by individually multiplying the probabilities obtained for all these features (assuming features to be independent), for the output of $j^{th}$ class.\r\n",
        "\r\n",
        "$$P(x=x_i|y=c_j) = P(x=x_i^1 \\; | \\; y=c_j) * P(x=x_i^2 \\; | \\; y=c_j) * .... * P(x=x_i^n \\; | \\; y=c_j)$$\r\n",
        "\r\n",
        "Here, $x_i^1$ denotes the value of 1st feature of $i^{th}$ data point and $x=x_i^n$ denotes the value $n^{th}$ feature of the $i^{th}$ data point.\r\n",
        "\r\n",
        "\r\n",
        "After taking up the naive assumption, we can easily calculate the individual probabilites and then by simply multiplying the result calculate the final probability $P'$.\r\n",
        "\r\n",
        "$$ P'(y = c_j \\; | \\; x = x_i) = \\prod_k P(x = x_i^k \\; | \\; y = c_j) * P(y = c_j) $$"
      ]
    },
    {
      "cell_type": "markdown",
      "metadata": {
        "id": "1KLrv2nbE_3P"
      },
      "source": [
        "Finding the second term in the above formula is pretty straight forward, we shall simply divide the total training data belonging to class $c_j$, with total training data. Let's have a look at the first term."
      ]
    },
    {
      "cell_type": "markdown",
      "metadata": {
        "id": "ipSGRXKuGZY3"
      },
      "source": [
        "##**Implementation with Discrete Data**"
      ]
    },
    {
      "cell_type": "markdown",
      "metadata": {
        "id": "DXHdEKzQTUJX"
      },
      "source": [
        "Now, let's see how we can find $P(x = x_i^k \\; | \\; y = c_j)$ for any one class.\r\n",
        "\r\n",
        "Let's assume our selected class to be $c$, and the value of the input feature to be $x^j$, so the probability $P(x = x^j \\; | \\; y = c)$ is given by\r\n",
        "\r\n",
        "$$ P(x = x^j \\; | \\; y = c) = \\frac{Count \\; of \\; Training \\; Data(x = x^j \\; and \\; y = c)}{Count \\; of \\; Training \\; Data(y = c)}$$\r\n",
        "\r\n",
        "\r\n",
        "Let's look at the previous example.\r\n",
        "\r\n",
        "<img src = \"https://files.codingninjas.in/bayes_41-7363.png\">\r\n",
        "\r\n",
        "Here, let's find the probability $P(x = Sunny \\; | \\; y = No)$\r\n",
        "\r\n",
        "$$P(x = Sunny \\; | \\; y = No) = \\frac{Count \\; of \\; Training \\; Data(x = Sunny \\; and \\; y = c)}{Count \\; of \\; Training \\; Data(y = No)}$$\r\n",
        "\r\n",
        "$$= \\frac{2}{5}$$"
      ]
    },
    {
      "cell_type": "markdown",
      "metadata": {
        "id": "4fFk9PHoBmA7"
      },
      "source": [
        "The above example considers only one feature for our input. To maintain computations for multi featured input, we shall use dictionaries while we write the code. Let us look at the dictionary structure.\r\n",
        "\r\n",
        "We will implement a multi level dictionary. At the first level, we will store the classes $(c_1, c_2, c_3, ...., c_j)$ as keys, to which the data belongs to.\r\n",
        "\r\n",
        "For each class key we will store another dictionary (second level), where the keys will be the features, ($x_j^1, x_j^2, x_j^3, ...., x_j^n$), where n is the number of features.\r\n",
        "\r\n",
        "For each feature, we will store another dictionary (third level), where the keys will be all the possible values that feature can take. The keys of this dictionary will store the corresponding count.\r\n",
        "\r\n",
        "**Note:** Apart from storing the feature dictionaries, the top level dictionary of each class will store one extra key, where the value would be the frequency  of occurance (total count) of that particular class.\r\n",
        "\r\n",
        "Below is the diagramatic structue of the same.\r\n",
        "\r\n",
        "<img src = \"https://files.codingninjas.in/dict-7460.jpg\" width = \"650\">\r\n",
        "\r\n",
        "where $c_1, c_2, ...., c_j$ represent the classes, $x^1, x^2, x^3...., x^n$ represent the features and $l_1, l_2, l_3, ...., l_i$ represent the possible labels of each feature.\r\n",
        "\r\n"
      ]
    },
    {
      "cell_type": "markdown",
      "metadata": {
        "id": "8ym8cHAnKQyu"
      },
      "source": [
        "##**Laplace Correction**"
      ]
    },
    {
      "cell_type": "markdown",
      "metadata": {
        "id": "jmreGfuGKf50"
      },
      "source": [
        "Let’s consider the following situation: you’ve trained a Naive Bayes algorithm to differentiate between spam and not spam mails. What happens if the word “Casino” doesn’t show up in your training data set, but appears in a test sample?\r\n",
        "\r\n",
        "Well, your algorithm has never seen it before, so it sets the probability that <b>\"Casino\" appears in a spam document</b> to <b>0</b>; So every time this word appears in the test data , you will try hard (it has P = 0) to mark it as not spam just because you have not seen that word in the spam part of training data.This will make the model very less efficient and thus we want to minimise it. We want to keep in mind the possibility of any word we have not seen (or for that matter seen in the not-spam part of training data), may have a above-zero probability of being a word used in spam mails. The same is true for each word to be a part of not-spam mails. \r\n",
        "\r\n",
        "To avoid such issues with unseen values for features, as well as to combat overfitting to the data set, we pretend as if we’ve seen each word 1 (or k, if you’re smoothing by k) time more than we’ve actually seen it, and adjust the denominator of our frequency divisions by the size of the overall vocabulary to account for the “pretence”, which actually works well in practice.\r\n",
        "\r\n",
        "If you take smoothing factor k equal to 1, it becomes Laplace correction.\r\n",
        "The equations below show Laplace correction for the example taken.\r\n",
        "\r\n",
        "Without correction : \r\n",
        "\r\n",
        "$$ P(w_i \\; | \\; c_j) = \\frac{count(w_i, c_j)}{\\sum_w count(w, c_j)}$$\r\n",
        "\r\n",
        "This is the fraction of times the word $w_i$ appears among all words in documents of topic $c_j$.\r\n",
        "\r\n",
        "With correction :\r\n",
        "\r\n",
        "$$ P(w_i \\; | \\; c) = \\frac{count(w_i, c_j) + 1}{(\\sum_w count(w, c_j)) + |V|} $$\r\n",
        "\r\n",
        "where $|V|$ is the number of all possible words in mails with topic $c_j$."
      ]
    },
    {
      "cell_type": "markdown",
      "metadata": {
        "id": "ElGXmAy3GmeW"
      },
      "source": [
        "##**Self Implementation of Naive Bayes**"
      ]
    },
    {
      "cell_type": "markdown",
      "metadata": {
        "id": "CJHYXYV2GmJh"
      },
      "source": [
        "We will work with the Iris Dataset for this example. It is a continuous data, we shall convert it into categorigal(discrete) data."
      ]
    },
    {
      "cell_type": "code",
      "metadata": {
        "id": "bAS7WmW_IUl1"
      },
      "source": [
        "import numpy as np"
      ],
      "execution_count": null,
      "outputs": []
    },
    {
      "cell_type": "code",
      "metadata": {
        "id": "znwEnFlAIVJI"
      },
      "source": [
        "# This function creates the dictionary as discussed in implementation theory.\r\n",
        "def fit(X_train, Y_train):\r\n",
        "    result = {}\r\n",
        "    class_values = set(Y_train)\r\n",
        "    for current_class in class_values:\r\n",
        "        result[current_class] = {}\r\n",
        "        result[\"total_data\"] = len(Y_train)\r\n",
        "        current_class_rows = (Y_train == current_class)\r\n",
        "        X_train_current = X_train[current_class_rows]\r\n",
        "        Y_train_current = Y_train[current_class_rows]\r\n",
        "        num_features = X_train.shape[1]\r\n",
        "        result[current_class][\"total_count\"] = len(Y_train_current)\r\n",
        "        for j in range(1, num_features + 1):\r\n",
        "            result[current_class][j] = {}\r\n",
        "            all_possible_values = set(X_train[:, j - 1])\r\n",
        "            for current_value in all_possible_values:\r\n",
        "                result[current_class][j][current_value] = (X_train_current[:, j - 1] == current_value).sum()\r\n",
        "                \r\n",
        "    return result"
      ],
      "execution_count": null,
      "outputs": []
    },
    {
      "cell_type": "code",
      "metadata": {
        "id": "H9HFHeNFKhMc"
      },
      "source": [
        "# Function to find probability of current class\r\n",
        "def probability(dictionary, x, current_class):\r\n",
        "    output = np.log(dictionary[current_class][\"total_count\"]) - np.log(dictionary[\"total_data\"])\r\n",
        "    num_features = len(dictionary[current_class].keys()) - 1;\r\n",
        "    for j in range(1, num_features + 1):\r\n",
        "        xj = x[j - 1]\r\n",
        "        count_current_class_with_value_xj = dictionary[current_class][j][xj] + 1\r\n",
        "        count_current_class = dictionary[current_class][\"total_count\"] + len(dictionary[current_class][j].keys())\r\n",
        "        current_xj_probablity = np.log(count_current_class_with_value_xj) - np.log(count_current_class)           # By taking log values, we prevent multiplication with a 0 probability\r\n",
        "        output = output + current_xj_probablity\r\n",
        "    return output"
      ],
      "execution_count": null,
      "outputs": []
    },
    {
      "cell_type": "code",
      "metadata": {
        "id": "S9HqtuykKjkL"
      },
      "source": [
        "# This function predicts what class a single point belongs to\r\n",
        "def predictSinglePoint(dictionary, x):\r\n",
        "    classes = dictionary.keys()\r\n",
        "    best_p = -1000\r\n",
        "    best_class = -1\r\n",
        "    first_run = True\r\n",
        "    for current_class in classes:\r\n",
        "        if (current_class == \"total_data\"):\r\n",
        "            continue\r\n",
        "        p_current_class = probability(dictionary, x, current_class)\r\n",
        "        if (first_run or p_current_class > best_p):             # Obtaining the class with higher probability\r\n",
        "            best_p = p_current_class\r\n",
        "            best_class = current_class\r\n",
        "        first_run = False\r\n",
        "    return best_class"
      ],
      "execution_count": null,
      "outputs": []
    },
    {
      "cell_type": "code",
      "metadata": {
        "id": "6BIKM0T7Klsl"
      },
      "source": [
        "def predict(dictionary, X_test):\r\n",
        "    y_pred = []\r\n",
        "    for x in X_test:\r\n",
        "        x_class = predictSinglePoint(dictionary, x)\r\n",
        "        y_pred.append(x_class)\r\n",
        "    return y_pred"
      ],
      "execution_count": null,
      "outputs": []
    },
    {
      "cell_type": "code",
      "metadata": {
        "id": "4gZs8oqHMf2s"
      },
      "source": [
        "# Converting Iris Data into Labelled data\r\n",
        "def makeLabelled(column):\r\n",
        "    second_limit = column.mean()\r\n",
        "    first_limit = 0.5 * second_limit\r\n",
        "    third_limit = 1.5 * second_limit\r\n",
        "    for i in range (0,len(column)):\r\n",
        "        if (column[i] < first_limit):\r\n",
        "            column[i] = 0\r\n",
        "        elif (column[i] < second_limit):\r\n",
        "            column[i] = 1\r\n",
        "        elif(column[i] < third_limit):\r\n",
        "            column[i] = 2\r\n",
        "        else:\r\n",
        "            column[i] = 3\r\n",
        "    return column"
      ],
      "execution_count": null,
      "outputs": []
    },
    {
      "cell_type": "code",
      "metadata": {
        "id": "ErDh_TpZMf0V"
      },
      "source": [
        "# Importing Iris\r\n",
        "from sklearn import datasets\r\n",
        "iris = datasets.load_iris()\r\n",
        "X = iris.data\r\n",
        "Y = iris.target"
      ],
      "execution_count": null,
      "outputs": []
    },
    {
      "cell_type": "code",
      "metadata": {
        "id": "2SX3ak3TMfsJ"
      },
      "source": [
        "for i in range(0,X.shape[-1]):\r\n",
        "    X[:,i] = makeLabelled(X[:,i])"
      ],
      "execution_count": null,
      "outputs": []
    },
    {
      "cell_type": "code",
      "metadata": {
        "id": "veu2aJuiMfqD"
      },
      "source": [
        "from sklearn import model_selection\r\n",
        "X_train, X_test, Y_train, Y_test = model_selection.train_test_split(X, Y,test_size=0.25, random_state=0)"
      ],
      "execution_count": null,
      "outputs": []
    },
    {
      "cell_type": "code",
      "metadata": {
        "id": "DhJzRyH5MtZ1"
      },
      "source": [
        "dictionary = fit(X_train, Y_train)"
      ],
      "execution_count": null,
      "outputs": []
    },
    {
      "cell_type": "code",
      "metadata": {
        "id": "MwJOYaPAMtXY"
      },
      "source": [
        "Y_pred = predict(dictionary, X_test)"
      ],
      "execution_count": null,
      "outputs": []
    },
    {
      "cell_type": "code",
      "metadata": {
        "colab": {
          "base_uri": "https://localhost:8080/"
        },
        "id": "HUUsRwDbMtPl",
        "outputId": "f0816b7e-a615-4258-848a-c4a9c49d369e"
      },
      "source": [
        "# Various metrics for understanding how well our model has performed.\r\n",
        "from sklearn.metrics import classification_report, confusion_matrix, accuracy_score\r\n",
        "\r\n",
        "print(\"Classification Report\")\r\n",
        "print(classification_report(Y_test, Y_pred))\r\n",
        "print(\"Confusion Matrix\")\r\n",
        "print(confusion_matrix(Y_test, Y_pred))\r\n",
        "print()\r\n",
        "print(\"Accuracy Score\")\r\n",
        "print(accuracy_score(Y_test, Y_pred) * 100, \"%\", sep=\"\")"
      ],
      "execution_count": null,
      "outputs": [
        {
          "output_type": "stream",
          "text": [
            "Classification Report\n",
            "              precision    recall  f1-score   support\n",
            "\n",
            "           0       1.00      1.00      1.00        13\n",
            "           1       0.94      1.00      0.97        16\n",
            "           2       1.00      0.89      0.94         9\n",
            "\n",
            "    accuracy                           0.97        38\n",
            "   macro avg       0.98      0.96      0.97        38\n",
            "weighted avg       0.98      0.97      0.97        38\n",
            "\n",
            "Confusion Matrix\n",
            "[[13  0  0]\n",
            " [ 0 16  0]\n",
            " [ 0  1  8]]\n",
            "\n",
            "Accuracy Score\n",
            "97.36842105263158%\n"
          ],
          "name": "stdout"
        }
      ]
    },
    {
      "cell_type": "markdown",
      "metadata": {
        "id": "nnBemRt8QT4C"
      },
      "source": [
        "##**Implementation with Continous Data**"
      ]
    },
    {
      "cell_type": "markdown",
      "metadata": {
        "id": "sSMTga2qQT0o"
      },
      "source": [
        "For continous data, we need a **probability distribution**. For most of the cases, **Gaussian Distribution** is used.\r\n",
        "\r\n",
        "$$ f(x \\; | \\; \\mu, \\sigma^2) = \\frac{1}{ \\sqrt {2 \\pi \\sigma^2}} * e^{- \\frac{(x - \\mu)^2}{2\\sigma^2}} $$\r\n",
        "\r\n",
        "where \r\n",
        "\r\n",
        "$\\quad \\mu$ is the mean of the distribution\r\n",
        "\r\n",
        "$\\quad \\sigma$ is the standard deviation, and \r\n",
        "\r\n",
        "$\\quad \\mu^2$ is the variance."
      ]
    },
    {
      "cell_type": "markdown",
      "metadata": {
        "id": "CINT034CQTxP"
      },
      "source": [
        "Other types of classifiers are **Bernoulli, Multinomial**, etc."
      ]
    },
    {
      "cell_type": "markdown",
      "metadata": {
        "id": "AKZVv-vNQTt3"
      },
      "source": [
        "##**Implementation of Naive Bayes using Scikit Learn**"
      ]
    },
    {
      "cell_type": "markdown",
      "metadata": {
        "id": "_QX15uh6U1DJ"
      },
      "source": [
        "There are three types of Naive Bayes models under the scikit-learn library:\r\n",
        "\r\n",
        "**Gaussian:** It is used in classification and it assumes that features follow a normal distribution.\r\n",
        "\r\n",
        "**Multinomial:** It is used for discrete counts. For example, let’s say,  we have a text classification problem. Here we can consider Bernoulli trials which is one step further and instead of “word occurring in the document”, we have “count how often word occurs in the document”, you can think of it as “number of times outcome number $x_i$ is observed over the n trials”.\r\n",
        "\r\n",
        "**Bernoulli:** The binomial model is useful if your feature vectors are binary (i.e. zeros and ones). One application would be text classification with ‘bag of words’ model where the 1s & 0s are “word occurs in the document” and “word does not occur in the document” respectively."
      ]
    },
    {
      "cell_type": "markdown",
      "metadata": {
        "id": "pjy4_TgBhSOw"
      },
      "source": [
        "###**Iris Dataset**"
      ]
    },
    {
      "cell_type": "markdown",
      "metadata": {
        "id": "CXnH1bN9U0_l"
      },
      "source": [
        "If you remember, for the model we implemented ourselves, we converted our data to labelled data.\r\n",
        "\r\n",
        "For such data, the best model present in Sklearn is **CategoricalNB**. Lets have a look at it."
      ]
    },
    {
      "cell_type": "code",
      "metadata": {
        "id": "UuUuJCBugP1h"
      },
      "source": [
        "from sklearn import naive_bayes\r\n",
        "iris = datasets.load_iris()\r\n",
        "X = iris.data\r\n",
        "Y = iris.target"
      ],
      "execution_count": null,
      "outputs": []
    },
    {
      "cell_type": "code",
      "metadata": {
        "id": "sok_eAn8gPzI"
      },
      "source": [
        "for i in range(0,X.shape[-1]):\r\n",
        "    X[:,i] = makeLabelled(X[:,i])"
      ],
      "execution_count": null,
      "outputs": []
    },
    {
      "cell_type": "code",
      "metadata": {
        "id": "mWDURqO_gPxG"
      },
      "source": [
        "X_train, X_test, Y_train, Y_test = model_selection.train_test_split(X, Y, test_size=0.25, random_state=0)"
      ],
      "execution_count": null,
      "outputs": []
    },
    {
      "cell_type": "code",
      "metadata": {
        "colab": {
          "base_uri": "https://localhost:8080/"
        },
        "id": "W8bEV4SegPuo",
        "outputId": "1d164695-4936-4d8b-d27c-878dbd3c9ecf"
      },
      "source": [
        "from sklearn.naive_bayes import CategoricalNB\r\n",
        "clf = CategoricalNB()\r\n",
        "clf.fit(X_train, Y_train)"
      ],
      "execution_count": null,
      "outputs": [
        {
          "output_type": "execute_result",
          "data": {
            "text/plain": [
              "CategoricalNB(alpha=1.0, class_prior=None, fit_prior=True)"
            ]
          },
          "metadata": {
            "tags": []
          },
          "execution_count": 30
        }
      ]
    },
    {
      "cell_type": "code",
      "metadata": {
        "id": "fBcQvxShgPsR"
      },
      "source": [
        "Y_pred_CategoricalNB = clf.predict(X_test)"
      ],
      "execution_count": null,
      "outputs": []
    },
    {
      "cell_type": "code",
      "metadata": {
        "colab": {
          "base_uri": "https://localhost:8080/"
        },
        "id": "6fpplpC-gPqB",
        "outputId": "1082517e-d6bb-4084-ca80-85b35b61a379"
      },
      "source": [
        "# Various metrics for understanding how well our model has performed.\r\n",
        "from sklearn.metrics import classification_report, confusion_matrix, accuracy_score\r\n",
        "\r\n",
        "print(\"Classification Report\")\r\n",
        "print(classification_report(Y_test, Y_pred_CategoricalNB))\r\n",
        "print(\"Confusion Matrix\")\r\n",
        "print(confusion_matrix(Y_test, Y_pred_CategoricalNB))\r\n",
        "print()\r\n",
        "print(\"Accuracy Score\")\r\n",
        "print(accuracy_score(Y_test, Y_pred_CategoricalNB) * 100, \"%\", sep=\"\")"
      ],
      "execution_count": null,
      "outputs": [
        {
          "output_type": "stream",
          "text": [
            "Classification Report\n",
            "              precision    recall  f1-score   support\n",
            "\n",
            "           0       1.00      1.00      1.00        13\n",
            "           1       0.94      1.00      0.97        16\n",
            "           2       1.00      0.89      0.94         9\n",
            "\n",
            "    accuracy                           0.97        38\n",
            "   macro avg       0.98      0.96      0.97        38\n",
            "weighted avg       0.98      0.97      0.97        38\n",
            "\n",
            "Confusion Matrix\n",
            "[[13  0  0]\n",
            " [ 0 16  0]\n",
            " [ 0  1  8]]\n",
            "\n",
            "Accuracy Score\n",
            "97.36842105263158%\n"
          ],
          "name": "stdout"
        }
      ]
    },
    {
      "cell_type": "markdown",
      "metadata": {
        "id": "rsb0k6cngtuL"
      },
      "source": [
        "It is observed that our implementation for Categorical data gives us a similar result to sklearn's CategoricalNB."
      ]
    },
    {
      "cell_type": "markdown",
      "metadata": {
        "id": "S5yfX0PlgaJO"
      },
      "source": [
        "Now, let's have a look at the **GaussianNB**. Here, we shall use the **original values (continuous)** of the Iris Dataset, instead of using the labelled data we created."
      ]
    },
    {
      "cell_type": "code",
      "metadata": {
        "id": "YijQLl0CVELh"
      },
      "source": [
        "from sklearn import naive_bayes\r\n",
        "iris = datasets.load_iris()\r\n",
        "X = iris.data\r\n",
        "Y = iris.target"
      ],
      "execution_count": null,
      "outputs": []
    },
    {
      "cell_type": "code",
      "metadata": {
        "id": "waKAo4vdWBxy"
      },
      "source": [
        "X_train, X_test, Y_train, Y_test = model_selection.train_test_split(X, Y, test_size=0.25, random_state=0)"
      ],
      "execution_count": null,
      "outputs": []
    },
    {
      "cell_type": "code",
      "metadata": {
        "colab": {
          "base_uri": "https://localhost:8080/"
        },
        "id": "NG59U0jtVEGf",
        "outputId": "aacdb54a-1416-415a-bb67-c57dc9567e0c"
      },
      "source": [
        "gnb = naive_bayes.GaussianNB() # GAUSSIAN NAIVE BAYES CLASSIFIER\r\n",
        "gnb.fit(X_train, Y_train)"
      ],
      "execution_count": null,
      "outputs": [
        {
          "output_type": "execute_result",
          "data": {
            "text/plain": [
              "GaussianNB(priors=None, var_smoothing=1e-09)"
            ]
          },
          "metadata": {
            "tags": []
          },
          "execution_count": 37
        }
      ]
    },
    {
      "cell_type": "code",
      "metadata": {
        "id": "XgGu8U19VEB8"
      },
      "source": [
        "y_pred = gnb.predict(X_test)"
      ],
      "execution_count": null,
      "outputs": []
    },
    {
      "cell_type": "code",
      "metadata": {
        "colab": {
          "base_uri": "https://localhost:8080/"
        },
        "id": "oyEQX92qVD_b",
        "outputId": "36081749-3a6b-4ca3-9148-7f6793ed58a3"
      },
      "source": [
        "# Various metrics for understanding how well the model has performed.\r\n",
        "from sklearn.metrics import classification_report, confusion_matrix, accuracy_score\r\n",
        "\r\n",
        "print(\"Classification Report\")\r\n",
        "print(classification_report(Y_test,y_pred))\r\n",
        "print(\"Confusion Matrix\")\r\n",
        "print(confusion_matrix(Y_test,y_pred))\r\n",
        "print()\r\n",
        "print(\"Accuracy Score\")\r\n",
        "print(accuracy_score(Y_test,y_pred) * 100, \"%\", sep=\"\")"
      ],
      "execution_count": null,
      "outputs": [
        {
          "output_type": "stream",
          "text": [
            "Classification Report\n",
            "              precision    recall  f1-score   support\n",
            "\n",
            "           0       1.00      1.00      1.00        13\n",
            "           1       1.00      1.00      1.00        16\n",
            "           2       1.00      1.00      1.00         9\n",
            "\n",
            "    accuracy                           1.00        38\n",
            "   macro avg       1.00      1.00      1.00        38\n",
            "weighted avg       1.00      1.00      1.00        38\n",
            "\n",
            "Confusion Matrix\n",
            "[[13  0  0]\n",
            " [ 0 16  0]\n",
            " [ 0  0  9]]\n",
            "\n",
            "Accuracy Score\n",
            "100.0%\n"
          ],
          "name": "stdout"
        }
      ]
    },
    {
      "cell_type": "markdown",
      "metadata": {
        "id": "pBR40_57bx0s"
      },
      "source": [
        "Lets take another dataset, **Wine Dataset**"
      ]
    },
    {
      "cell_type": "code",
      "metadata": {
        "id": "lJvgEmHQc5jt"
      },
      "source": [
        "wine = datasets.load_wine()"
      ],
      "execution_count": null,
      "outputs": []
    },
    {
      "cell_type": "code",
      "metadata": {
        "id": "1NZ7Yjn_c6kj"
      },
      "source": [
        "# Split dataset into training set and test set\r\n",
        "X_train, X_test, y_train, y_test = model_selection.train_test_split(wine.data, wine.target, test_size=0.3, random_state=0)"
      ],
      "execution_count": null,
      "outputs": []
    },
    {
      "cell_type": "code",
      "metadata": {
        "colab": {
          "base_uri": "https://localhost:8080/"
        },
        "id": "iLu6PveJdEf9",
        "outputId": "2de3c93c-3a07-47b5-8222-427949096af1"
      },
      "source": [
        "#Import Gaussian Naive Bayes model\r\n",
        "from sklearn.naive_bayes import GaussianNB\r\n",
        "gnb = GaussianNB()\r\n",
        "gnb.fit(X_train, y_train)"
      ],
      "execution_count": null,
      "outputs": [
        {
          "output_type": "execute_result",
          "data": {
            "text/plain": [
              "GaussianNB(priors=None, var_smoothing=1e-09)"
            ]
          },
          "metadata": {
            "tags": []
          },
          "execution_count": 42
        }
      ]
    },
    {
      "cell_type": "code",
      "metadata": {
        "id": "WeB-UlTUdHKJ"
      },
      "source": [
        "y_pred = gnb.predict(X_test)"
      ],
      "execution_count": null,
      "outputs": []
    },
    {
      "cell_type": "code",
      "metadata": {
        "colab": {
          "base_uri": "https://localhost:8080/"
        },
        "id": "is6DZ2judWgc",
        "outputId": "a5cdd048-2d46-49d2-9f25-216b06675ec3"
      },
      "source": [
        "print(\"Classification Report\")\r\n",
        "print(classification_report(y_test, y_pred))\r\n",
        "print(\"Confusion Matrix\")\r\n",
        "print(confusion_matrix(y_test, y_pred))\r\n",
        "print()\r\n",
        "print(\"Accuracy Score\")\r\n",
        "print(accuracy_score(y_test, y_pred) * 100, \"%\", sep=\"\")"
      ],
      "execution_count": null,
      "outputs": [
        {
          "output_type": "stream",
          "text": [
            "Classification Report\n",
            "              precision    recall  f1-score   support\n",
            "\n",
            "           0       0.90      1.00      0.95        19\n",
            "           1       1.00      0.86      0.93        22\n",
            "           2       0.93      1.00      0.96        13\n",
            "\n",
            "    accuracy                           0.94        54\n",
            "   macro avg       0.94      0.95      0.95        54\n",
            "weighted avg       0.95      0.94      0.94        54\n",
            "\n",
            "Confusion Matrix\n",
            "[[19  0  0]\n",
            " [ 2 19  1]\n",
            " [ 0  0 13]]\n",
            "\n",
            "Accuracy Score\n",
            "94.44444444444444%\n"
          ],
          "name": "stdout"
        }
      ]
    },
    {
      "cell_type": "markdown",
      "metadata": {
        "id": "jyG5Gg96l5Vg"
      },
      "source": [
        "##**Some Applications**"
      ]
    },
    {
      "cell_type": "markdown",
      "metadata": {
        "id": "i6VzaPEYl5K2"
      },
      "source": [
        "**Real time Prediction:** Naive Bayes is an eager learning classifier and it is sure fast. Thus, it can be used for making predictions in real time.\r\n",
        "Multi class Prediction: This algorithm is also well known for multi class prediction feature. Here we can predict the probability of multiple classes of target variable.\r\n",
        "\r\n",
        "**Text Classification / Spam Filtering / Sentiment Analysis:** Naive Bayes classifiers mostly used in text classification (due to better result in multi class problems and independence rule) have higher success rate as compared to other algorithms. As a result, it is widely used in Spam filtering (identify spam e-mail) and Sentiment Analysis (in social media analysis, to identify positive and negative customer sentiments)\r\n",
        "\r\n",
        "**Recommendation System:** Naive Bayes Classifier and Collaborative Filtering together builds a Recommendation System that uses machine learning and data mining techniques to filter unseen information and predict whether a user would like a given resource or not"
      ]
    },
    {
      "cell_type": "markdown",
      "metadata": {
        "id": "AAUTVVxZVNDt"
      },
      "source": [
        "## **Tips to improve the power of Naive Bayes Model**"
      ]
    },
    {
      "cell_type": "markdown",
      "metadata": {
        "id": "HOXq4MX6VM4X"
      },
      "source": [
        "1. If continuous features do not have normal distribution, we should use transformation or different methods to convert it in normal distribution.\r\n",
        "2. If test data set has zero frequency issue, apply smoothing techniques “Laplace Correction” to predict the class of test data set.\r\n",
        "3. Remove correlated features, as the highly correlated features are voted twice in the model and it can lead to over inflating importance.\r\n",
        "4. You might think to apply some classifier combination technique like ensembling, bagging and boosting but these methods would not help. Actually, “ensembling, boosting, bagging” won’t help since their purpose is to reduce variance. Naive Bayes has no variance to minimize."
      ]
    },
    {
      "cell_type": "markdown",
      "metadata": {
        "id": "6W5gEYyfTTnq"
      },
      "source": [
        "##**Advantages of Naive Bayes**"
      ]
    },
    {
      "cell_type": "markdown",
      "metadata": {
        "id": "74N9NmwMlhH6"
      },
      "source": [
        "1. It is easy and fast to predict class of test data set. It also perform well in multi class prediction\r\n",
        "2. When assumption of independence holds, a Naive Bayes classifier performs better compare to other models like logistic regression and you need less training data.\r\n",
        "3. It perform well in case of categorical input variables compared to numerical variable(s). For numerical variable, normal distribution is assumed (bell curve, which is a strong assumption).\r\n",
        "\r\n",
        "\r\n"
      ]
    },
    {
      "cell_type": "markdown",
      "metadata": {
        "id": "OpSlMNHMlnTw"
      },
      "source": [
        "##**Disadvantages of Naive Bayes**"
      ]
    },
    {
      "cell_type": "markdown",
      "metadata": {
        "id": "ahDk6mEOln0I"
      },
      "source": [
        "1. If categorical variable has a category (in test data set), which was not observed in training data set, then model will assign a 0 (zero) probability and will be unable to make a prediction. This is often known as “Zero Frequency”. To solve this, we can use the smoothing technique. One of the simplest smoothing techniques is called Laplace correction.\r\n",
        "2. Naive Bayes is also known as a bad estimator, so the probability outputs from predict probability are not to be taken too seriously.\r\n",
        "3. Another limitation of Naive Bayes is the assumption of independent predictors. In real life, it is almost impossible that we get a set of predictors which are completely independent."
      ]
    },
    {
      "cell_type": "markdown",
      "metadata": {
        "id": "AuDFsDR7WnNi"
      },
      "source": [
        "## **Your Next Step**"
      ]
    },
    {
      "cell_type": "markdown",
      "metadata": {
        "id": "JWBGtjSTWqiR"
      },
      "source": [
        "We have implemented Naive Bayes for discrete data. We have also seen the implementation of Sklearn to predict continuos data.\r\n",
        "\r\n",
        "Try and write a code to implement Naive Bayes to predict continous data on your own. You may use Gaussian Naive Bayes, or Multinomial Naive Bayes"
      ]
    }
  ]
}