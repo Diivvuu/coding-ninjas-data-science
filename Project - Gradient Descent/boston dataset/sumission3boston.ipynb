{
 "cells": [
  {
   "cell_type": "code",
   "execution_count": 2,
   "metadata": {},
   "outputs": [],
   "source": [
    "import numpy as np\n",
    "train_data = np.loadtxt('0000000000002417_training_boston_x_y_train.csv', delimiter=',')\n",
    "test_data = np.loadtxt('0000000000002417_test_boston_x_test.csv', delimiter=',')"
   ]
  },
  {
   "cell_type": "code",
   "execution_count": 3,
   "metadata": {},
   "outputs": [
    {
     "data": {
      "text/plain": [
       "(379,)"
      ]
     },
     "execution_count": 3,
     "metadata": {},
     "output_type": "execute_result"
    }
   ],
   "source": [
    "Y_train = train_data[:,13]\n",
    "Y_train.shape"
   ]
  },
  {
   "cell_type": "code",
   "execution_count": 4,
   "metadata": {},
   "outputs": [],
   "source": [
    "from sklearn import preprocessing"
   ]
  },
  {
   "cell_type": "code",
   "execution_count": 5,
   "metadata": {},
   "outputs": [
    {
     "data": {
      "text/plain": [
       "(379, 14)"
      ]
     },
     "execution_count": 5,
     "metadata": {},
     "output_type": "execute_result"
    }
   ],
   "source": [
    "t = preprocessing.minmax_scale(train_data)\n",
    "t.shape"
   ]
  },
  {
   "cell_type": "code",
   "execution_count": 6,
   "metadata": {},
   "outputs": [],
   "source": [
    "def step_gradient(points,l_rate,M):\n",
    "    cols = points.shape[1]\n",
    "    new_M = np.zeros(cols)\n",
    "    N = points.shape[0]\n",
    "    for i in range(N):\n",
    "        x = points[i,0:cols-1]\n",
    "        x = np.append(x,1)\n",
    "        y = points[i,cols-1]\n",
    "        for j in range(cols):\n",
    "            new_M[j] += (-2/N) * (y - (M*x).sum())*x[j]\n",
    "        M = M - (l_rate*new_M)\n",
    "    return M"
   ]
  },
  {
   "cell_type": "code",
   "execution_count": 7,
   "metadata": {},
   "outputs": [],
   "source": [
    "def gd(points,l_rate,num_iter):\n",
    "    cols = points.shape[1]\n",
    "    M = np.zeros(cols)\n",
    "    for i in range(num_iter):\n",
    "        M = step_gradient(points,l_rate,M)\n",
    "        print(i,'Cost: ',cost(points,M))\n",
    "    return M"
   ]
  },
  {
   "cell_type": "code",
   "execution_count": 8,
   "metadata": {},
   "outputs": [],
   "source": [
    "def cost(points,M):\n",
    "    total_cost = 0\n",
    "    cols = points.shape[1]\n",
    "    N = points.shape[0]\n",
    "    for i in range(N):\n",
    "        x = points[i,0:cols-1]\n",
    "        x = np.append(x,1)\n",
    "        y = points[i,cols-1]\n",
    "        total_cost += (1/N)*(y - (M * x).sum()) ** 2\n",
    "    # total_cost = (1/N) * total_cost\n",
    "    return total_cost"
   ]
  },
  {
   "cell_type": "code",
   "execution_count": 9,
   "metadata": {},
   "outputs": [],
   "source": [
    "def run():\n",
    "    l_rate = 0.001\n",
    "    num_iter = 100\n",
    "    m = gd(t,l_rate,num_iter)\n",
    "    return m[:13],m[13]"
   ]
  },
  {
   "cell_type": "code",
   "execution_count": 10,
   "metadata": {},
   "outputs": [
    {
     "name": "stdout",
     "output_type": "stream",
     "text": [
      "0 Cost:  0.05401442171036725\n",
      "1 Cost:  0.04596025284826124\n",
      "2 Cost:  0.04152753871207158\n",
      "3 Cost:  0.038199080645064006\n",
      "4 Cost:  0.03560107219260544\n",
      "5 Cost:  0.03356163187841713\n",
      "6 Cost:  0.031942518354235484\n",
      "7 Cost:  0.03064121378108658\n",
      "8 Cost:  0.029580421810008188\n",
      "9 Cost:  0.028702064961495518\n",
      "10 Cost:  0.027962488207648427\n",
      "11 Cost:  0.02732888747583701\n",
      "12 Cost:  0.026776614994586303\n",
      "13 Cost:  0.026287151988831022\n",
      "14 Cost:  0.025846583110556914\n",
      "15 Cost:  0.02544444890685583\n",
      "16 Cost:  0.025072882941406686\n",
      "17 Cost:  0.024725963225554735\n",
      "18 Cost:  0.02439922495602521\n",
      "19 Cost:  0.0240892946312206\n",
      "20 Cost:  0.023793615472078773\n",
      "21 Cost:  0.023510241499863752\n",
      "22 Cost:  0.023237683219420432\n",
      "23 Cost:  0.022974792072899382\n",
      "24 Cost:  0.022720674005462713\n",
      "25 Cost:  0.022474624877128067\n",
      "26 Cost:  0.022236082256810515\n",
      "27 Cost:  0.02200458949134835\n",
      "28 Cost:  0.021779768963594872\n",
      "29 Cost:  0.02156130222224909\n",
      "30 Cost:  0.021348915244330288\n",
      "31 Cost:  0.02114236752607269\n",
      "32 Cost:  0.020941444024936768\n",
      "33 Cost:  0.02074594922108618\n",
      "34 Cost:  0.020555702751172977\n",
      "35 Cost:  0.02037053620574629\n",
      "36 Cost:  0.020190290785462868\n",
      "37 Cost:  0.020014815589116927\n",
      "38 Cost:  0.019843966364792263\n",
      "39 Cost:  0.019677604599032266\n",
      "40 Cost:  0.019515596851494107\n",
      "41 Cost:  0.019357814266847833\n",
      "42 Cost:  0.019204132213777467\n",
      "43 Cost:  0.019054430014393196\n",
      "44 Cost:  0.01890859073734047\n",
      "45 Cost:  0.018766501035273844\n",
      "46 Cost:  0.018628051012806412\n",
      "47 Cost:  0.018493134115047098\n",
      "48 Cost:  0.018361647029763353\n",
      "49 Cost:  0.018233489598339085\n",
      "50 Cost:  0.018108564732236744\n",
      "51 Cost:  0.017986778332779257\n",
      "52 Cost:  0.017868039212853265\n",
      "53 Cost:  0.017752259019686495\n",
      "54 Cost:  0.017639352158233403\n",
      "55 Cost:  0.017529235714961292\n",
      "56 Cost:  0.017421829381997492\n",
      "57 Cost:  0.01731705538170475\n",
      "58 Cost:  0.017214838391812995\n",
      "59 Cost:  0.017115105471267714\n",
      "60 Cost:  0.017017785986964098\n",
      "61 Cost:  0.016922811541534157\n",
      "62 Cost:  0.01683011590234154\n",
      "63 Cost:  0.016739634931822175\n",
      "64 Cost:  0.01665130651928996\n",
      "65 Cost:  0.0165650705143069\n",
      "66 Cost:  0.016480868661697214\n",
      "67 Cost:  0.016398644538266942\n",
      "68 Cost:  0.016318343491272844\n",
      "69 Cost:  0.016239912578670614\n",
      "70 Cost:  0.01616330051115657\n",
      "71 Cost:  0.01608845759600743\n",
      "72 Cost:  0.016015335682710748\n",
      "73 Cost:  0.015943888110371375\n",
      "74 Cost:  0.015874069656870524\n",
      "75 Cost:  0.015805836489749876\n",
      "76 Cost:  0.015739146118785716\n",
      "77 Cost:  0.015673957350217267\n",
      "78 Cost:  0.01561023024258743\n",
      "79 Cost:  0.01554792606415367\n",
      "80 Cost:  0.015487007251824574\n",
      "81 Cost:  0.015427437371576324\n",
      "82 Cost:  0.015369181080302751\n",
      "83 Cost:  0.015312204089052902\n",
      "84 Cost:  0.015256473127609135\n",
      "85 Cost:  0.015201955910360103\n",
      "86 Cost:  0.015148621103422855\n",
      "87 Cost:  0.015096438292969432\n",
      "88 Cost:  0.015045377954714166\n",
      "89 Cost:  0.014995411424518518\n",
      "90 Cost:  0.014946510870072182\n",
      "91 Cost:  0.014898649263609422\n",
      "92 Cost:  0.014851800355621593\n",
      "93 Cost:  0.01480593864952747\n",
      "94 Cost:  0.014761039377264657\n",
      "95 Cost:  0.01471707847576642\n",
      "96 Cost:  0.014674032564289532\n",
      "97 Cost:  0.014631878922559927\n",
      "98 Cost:  0.014590595469704547\n",
      "99 Cost:  0.01455016074393844\n",
      "[-0.06488694  0.06369399 -0.08303522  0.07592849 -0.03092336  0.39820744\n",
      "  0.03076843 -0.04346865  0.05957816 -0.05850228 -0.12705739  0.14170361\n",
      " -0.29416917] 0.24870955270549275\n"
     ]
    }
   ],
   "source": [
    "m,c = run()\n",
    "print(m,c)"
   ]
  },
  {
   "cell_type": "code",
   "execution_count": 11,
   "metadata": {},
   "outputs": [
    {
     "data": {
      "text/plain": [
       "array([-1.27465837,  0.83163238,  0.20468731,  0.45530629,  0.09498307,\n",
       "       -1.61582332,  0.89084278,  0.37803601, -0.09842602,  0.21464549,\n",
       "        0.49680716, -0.04995862,  0.16003384,  0.18040147,  2.26896371,\n",
       "        0.43658203,  0.33967235,  0.67028257,  0.11734947,  1.16403724,\n",
       "        0.29161065,  0.12552232,  1.07804541,  1.44649244,  1.39632333,\n",
       "       -0.68362386,  0.05848901,  1.10368662,  0.32829602,  1.27465147,\n",
       "       -0.09216195,  0.40956162,  0.42867218,  0.61241839, -0.42157453,\n",
       "        0.76260614,  0.62082669,  0.08208567,  0.52145941, -1.15149395,\n",
       "       -1.6866897 ,  0.79392352,  0.99778493,  0.09147592, -0.02943382,\n",
       "       -2.0091385 ,  2.16905924,  0.62498829,  1.47463994, -0.17804093,\n",
       "       -0.33656372,  2.11409557, -0.10137576, -0.05525805, -0.1741444 ,\n",
       "        0.20296799, -0.11809856,  0.20769756, -0.51943464, -0.22132439,\n",
       "       -0.86886575,  0.86059622,  0.42052649,  0.58280438, -0.42445278,\n",
       "       -0.92130027,  1.42899325, -0.2676091 ,  0.42256019,  0.13968083,\n",
       "        0.81045865,  0.33837397, -0.3131075 , -1.6020514 ,  1.77764729,\n",
       "        0.54495547,  0.8374144 ,  0.58028777, -0.3889547 ,  1.44101037,\n",
       "       -0.04825669,  0.33977785,  0.22855239, -0.85170558, -0.28617445,\n",
       "        1.15611206,  0.92209019, -1.53297193, -0.11560895, -0.08117215,\n",
       "        0.09435017,  0.0559426 ,  0.06944881, -0.79727814,  0.05741336,\n",
       "        0.6508793 ,  2.14252185, -0.27851955,  1.40960136,  0.73587984,\n",
       "        0.44095309,  0.34515516,  0.45879095,  0.9166299 , -0.47729753,\n",
       "        0.46964575,  0.21575863,  1.88350597,  0.43701312, -0.58440269,\n",
       "        0.91503707, -2.23329972, -0.60038298, -0.82617037,  1.68236692,\n",
       "       -0.15520596,  0.40153825,  0.4350154 ,  0.22700629, -0.25165952,\n",
       "       -0.37346409,  1.28346237,  0.11756654,  0.3038722 ,  0.34153941,\n",
       "        0.04951565, -0.85424989])"
      ]
     },
     "execution_count": 11,
     "metadata": {},
     "output_type": "execute_result"
    }
   ],
   "source": [
    "def predict(x,m,c):\n",
    "    N = x.shape[0]\n",
    "    y = np.zeros(N)\n",
    "    for i in range(N):\n",
    "        X = x[i,:]\n",
    "        y[i] = (m*X).sum() + c\n",
    "    return y\n",
    "\n",
    "x_test = test_data\n",
    "y_pred = predict(x_test,m,c)\n",
    "y_pred"
   ]
  },
  {
   "cell_type": "code",
   "execution_count": 12,
   "metadata": {},
   "outputs": [],
   "source": [
    "np.savetxt('BostonPredictions.csv',y_pred,delimiter=',')"
   ]
  },
  {
   "cell_type": "code",
   "execution_count": 13,
   "metadata": {},
   "outputs": [],
   "source": [
    "from sklearn.ensemble import GradientBoostingRegressor\n",
    "from sklearn import preprocessing\n",
    "x = train_data[:,:-1]\n",
    "y = train_data[:,-1]"
   ]
  },
  {
   "cell_type": "code",
   "execution_count": 14,
   "metadata": {},
   "outputs": [],
   "source": [
    "regressor = GradientBoostingRegressor()\n",
    "regressor.fit(x,y)\n",
    "y_pred = regressor.predict(test_data)\n",
    "np.savetxt('BostonPredictions.csv',y_pred,delimiter=',')"
   ]
  },
  {
   "cell_type": "code",
   "execution_count": null,
   "metadata": {},
   "outputs": [],
   "source": []
  }
 ],
 "metadata": {
  "kernelspec": {
   "display_name": "Python 3",
   "language": "python",
   "name": "python3"
  },
  "language_info": {
   "codemirror_mode": {
    "name": "ipython",
    "version": 3
   },
   "file_extension": ".py",
   "mimetype": "text/x-python",
   "name": "python",
   "nbconvert_exporter": "python",
   "pygments_lexer": "ipython3",
   "version": "3.10.5"
  },
  "orig_nbformat": 4
 },
 "nbformat": 4,
 "nbformat_minor": 2
}
